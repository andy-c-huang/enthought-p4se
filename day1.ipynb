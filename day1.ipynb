{
 "cells": [
  {
   "cell_type": "code",
   "execution_count": 1,
   "metadata": {
    "collapsed": true,
    "deletable": true,
    "editable": true
   },
   "outputs": [],
   "source": [
    "# FYI: python has a lot of bindings to other languages\n",
    "# matlab to python: mlabwrap\n",
    "# fortran to python: f2py\n",
    "# idl to python: pyidl\n",
    "\n",
    "# course website\n",
    "# https://public.enthought.com/~mmkerns/p4se/"
   ]
  },
  {
   "cell_type": "code",
   "execution_count": 2,
   "metadata": {
    "collapsed": true,
    "deletable": true,
    "editable": true
   },
   "outputs": [],
   "source": [
    "# python is built in C; it's high level C. C is OO, hence python is OO"
   ]
  },
  {
   "cell_type": "code",
   "execution_count": 3,
   "metadata": {
    "collapsed": false,
    "deletable": true,
    "editable": true
   },
   "outputs": [
    {
     "data": {
      "text/plain": [
       "object"
      ]
     },
     "execution_count": 3,
     "metadata": {},
     "output_type": "execute_result"
    }
   ],
   "source": [
    "object"
   ]
  },
  {
   "cell_type": "code",
   "execution_count": 4,
   "metadata": {
    "collapsed": true,
    "deletable": true,
    "editable": true
   },
   "outputs": [],
   "source": [
    "# this is THE base class in python! every other class in python is derived from 'object' class\n",
    "# in C, you can include python.h and essentially work in python at the lower level\n",
    "# this base class object is called PyObject in C"
   ]
  },
  {
   "cell_type": "code",
   "execution_count": 5,
   "metadata": {
    "collapsed": false,
    "deletable": true,
    "editable": true
   },
   "outputs": [
    {
     "data": {
      "text/plain": [
       "<object at 0x4800490>"
      ]
     },
     "execution_count": 5,
     "metadata": {},
     "output_type": "execute_result"
    }
   ],
   "source": [
    "o = object()\n",
    "o"
   ]
  },
  {
   "cell_type": "code",
   "execution_count": 264,
   "metadata": {
    "collapsed": false,
    "deletable": true,
    "editable": true
   },
   "outputs": [],
   "source": [
    "s = 'hello world'"
   ]
  },
  {
   "cell_type": "code",
   "execution_count": 7,
   "metadata": {
    "collapsed": false,
    "deletable": true,
    "editable": true
   },
   "outputs": [
    {
     "data": {
      "text/plain": [
       "str"
      ]
     },
     "execution_count": 7,
     "metadata": {},
     "output_type": "execute_result"
    }
   ],
   "source": [
    "type(s)"
   ]
  },
  {
   "cell_type": "code",
   "execution_count": 8,
   "metadata": {
    "collapsed": false,
    "deletable": true,
    "editable": true
   },
   "outputs": [
    {
     "data": {
      "text/plain": [
       "str"
      ]
     },
     "execution_count": 8,
     "metadata": {},
     "output_type": "execute_result"
    }
   ],
   "source": [
    "s.__class__"
   ]
  },
  {
   "cell_type": "code",
   "execution_count": 9,
   "metadata": {
    "collapsed": false,
    "deletable": true,
    "editable": true
   },
   "outputs": [
    {
     "data": {
      "text/plain": [
       "True"
      ]
     },
     "execution_count": 9,
     "metadata": {},
     "output_type": "execute_result"
    }
   ],
   "source": [
    "s.__class__ == type(s)"
   ]
  },
  {
   "cell_type": "code",
   "execution_count": 10,
   "metadata": {
    "collapsed": true,
    "deletable": true,
    "editable": true
   },
   "outputs": [],
   "source": [
    "# s is an instance of a string, and has a method __class__, which returns the type"
   ]
  },
  {
   "cell_type": "code",
   "execution_count": 11,
   "metadata": {
    "collapsed": false,
    "deletable": true,
    "editable": true
   },
   "outputs": [
    {
     "data": {
      "text/plain": [
       "object"
      ]
     },
     "execution_count": 11,
     "metadata": {},
     "output_type": "execute_result"
    }
   ],
   "source": [
    "o.__class__"
   ]
  },
  {
   "cell_type": "code",
   "execution_count": 12,
   "metadata": {
    "collapsed": false,
    "deletable": true,
    "editable": true
   },
   "outputs": [
    {
     "data": {
      "text/plain": [
       "['__add__',\n",
       " '__class__',\n",
       " '__contains__',\n",
       " '__delattr__',\n",
       " '__doc__',\n",
       " '__eq__',\n",
       " '__format__',\n",
       " '__ge__',\n",
       " '__getattribute__',\n",
       " '__getitem__',\n",
       " '__getnewargs__',\n",
       " '__getslice__',\n",
       " '__gt__',\n",
       " '__hash__',\n",
       " '__init__',\n",
       " '__le__',\n",
       " '__len__',\n",
       " '__lt__',\n",
       " '__mod__',\n",
       " '__mul__',\n",
       " '__ne__',\n",
       " '__new__',\n",
       " '__reduce__',\n",
       " '__reduce_ex__',\n",
       " '__repr__',\n",
       " '__rmod__',\n",
       " '__rmul__',\n",
       " '__setattr__',\n",
       " '__sizeof__',\n",
       " '__str__',\n",
       " '__subclasshook__',\n",
       " '_formatter_field_name_split',\n",
       " '_formatter_parser',\n",
       " 'capitalize',\n",
       " 'center',\n",
       " 'count',\n",
       " 'decode',\n",
       " 'encode',\n",
       " 'endswith',\n",
       " 'expandtabs',\n",
       " 'find',\n",
       " 'format',\n",
       " 'index',\n",
       " 'isalnum',\n",
       " 'isalpha',\n",
       " 'isdigit',\n",
       " 'islower',\n",
       " 'isspace',\n",
       " 'istitle',\n",
       " 'isupper',\n",
       " 'join',\n",
       " 'ljust',\n",
       " 'lower',\n",
       " 'lstrip',\n",
       " 'partition',\n",
       " 'replace',\n",
       " 'rfind',\n",
       " 'rindex',\n",
       " 'rjust',\n",
       " 'rpartition',\n",
       " 'rsplit',\n",
       " 'rstrip',\n",
       " 'split',\n",
       " 'splitlines',\n",
       " 'startswith',\n",
       " 'strip',\n",
       " 'swapcase',\n",
       " 'title',\n",
       " 'translate',\n",
       " 'upper',\n",
       " 'zfill']"
      ]
     },
     "execution_count": 12,
     "metadata": {},
     "output_type": "execute_result"
    }
   ],
   "source": [
    "dir(s) # provides all the attributes of string; note: EVERYTHING IN PYTHON IS AN object"
   ]
  },
  {
   "cell_type": "code",
   "execution_count": 13,
   "metadata": {
    "collapsed": false,
    "deletable": true,
    "editable": true
   },
   "outputs": [
    {
     "data": {
      "text/plain": [
       "['__class__',\n",
       " '__delattr__',\n",
       " '__doc__',\n",
       " '__format__',\n",
       " '__getattribute__',\n",
       " '__hash__',\n",
       " '__init__',\n",
       " '__new__',\n",
       " '__reduce__',\n",
       " '__reduce_ex__',\n",
       " '__repr__',\n",
       " '__setattr__',\n",
       " '__sizeof__',\n",
       " '__str__',\n",
       " '__subclasshook__']"
      ]
     },
     "execution_count": 13,
     "metadata": {},
     "output_type": "execute_result"
    }
   ],
   "source": [
    "dir(o)"
   ]
  },
  {
   "cell_type": "code",
   "execution_count": 14,
   "metadata": {
    "collapsed": false,
    "deletable": true,
    "editable": true
   },
   "outputs": [
    {
     "data": {
      "text/plain": [
       "type"
      ]
     },
     "execution_count": 14,
     "metadata": {},
     "output_type": "execute_result"
    }
   ],
   "source": [
    "s.__class__.__class__ # even s.__class__ is an object!"
   ]
  },
  {
   "cell_type": "code",
   "execution_count": 15,
   "metadata": {
    "collapsed": false,
    "deletable": true,
    "editable": true
   },
   "outputs": [
    {
     "data": {
      "text/plain": [
       "''"
      ]
     },
     "execution_count": 15,
     "metadata": {},
     "output_type": "execute_result"
    }
   ],
   "source": [
    "s.__class__()"
   ]
  },
  {
   "cell_type": "code",
   "execution_count": 16,
   "metadata": {
    "collapsed": false,
    "deletable": true,
    "editable": true
   },
   "outputs": [
    {
     "data": {
      "text/plain": [
       "int"
      ]
     },
     "execution_count": 16,
     "metadata": {},
     "output_type": "execute_result"
    }
   ],
   "source": [
    "i = 0\n",
    "i.__class__"
   ]
  },
  {
   "cell_type": "code",
   "execution_count": 17,
   "metadata": {
    "collapsed": false,
    "deletable": true,
    "editable": true
   },
   "outputs": [
    {
     "data": {
      "text/plain": [
       "0"
      ]
     },
     "execution_count": 17,
     "metadata": {},
     "output_type": "execute_result"
    }
   ],
   "source": [
    "i.__class__()"
   ]
  },
  {
   "cell_type": "code",
   "execution_count": 18,
   "metadata": {
    "collapsed": false,
    "deletable": true,
    "editable": true
   },
   "outputs": [
    {
     "data": {
      "text/plain": [
       "int"
      ]
     },
     "execution_count": 18,
     "metadata": {},
     "output_type": "execute_result"
    }
   ],
   "source": [
    "int # int is actually a class!"
   ]
  },
  {
   "cell_type": "code",
   "execution_count": 19,
   "metadata": {
    "collapsed": false,
    "deletable": true,
    "editable": true
   },
   "outputs": [
    {
     "data": {
      "text/plain": [
       "4"
      ]
     },
     "execution_count": 19,
     "metadata": {},
     "output_type": "execute_result"
    }
   ],
   "source": [
    "int(4.56) # observe that the constructor for int creates an object "
   ]
  },
  {
   "cell_type": "code",
   "execution_count": 20,
   "metadata": {
    "collapsed": false,
    "deletable": true,
    "editable": true
   },
   "outputs": [
    {
     "data": {
      "text/plain": [
       "type"
      ]
     },
     "execution_count": 20,
     "metadata": {},
     "output_type": "execute_result"
    }
   ],
   "source": [
    "int.__class__"
   ]
  },
  {
   "cell_type": "code",
   "execution_count": 21,
   "metadata": {
    "collapsed": true,
    "deletable": true,
    "editable": true
   },
   "outputs": [],
   "source": [
    "# the thing that turns a class instance into a \n",
    "# __init__ is the constructor\n",
    "# __call__"
   ]
  },
  {
   "cell_type": "code",
   "execution_count": 22,
   "metadata": {
    "collapsed": true,
    "deletable": true,
    "editable": true
   },
   "outputs": [],
   "source": [
    "class Quadratic(object): # object is the parent class of Quadratic\n",
    "    def __init__(self, a=1, b=1, c=0): # 'self' is the equivalent of 'this' in C\n",
    "        self.a = a # 'self' refers to the instance\n",
    "        self.b = b\n",
    "        self.c = c\n",
    "        return\n",
    "    def __call__(self, x):\n",
    "        return self.a * x**2 + self.b * x + self.c"
   ]
  },
  {
   "cell_type": "code",
   "execution_count": 23,
   "metadata": {
    "collapsed": false,
    "deletable": true,
    "editable": true
   },
   "outputs": [
    {
     "data": {
      "text/plain": [
       "12"
      ]
     },
     "execution_count": 23,
     "metadata": {},
     "output_type": "execute_result"
    }
   ],
   "source": [
    "q = Quadratic()\n",
    "q.__call__(3)"
   ]
  },
  {
   "cell_type": "code",
   "execution_count": 24,
   "metadata": {
    "collapsed": false,
    "deletable": true,
    "editable": true
   },
   "outputs": [
    {
     "data": {
      "text/plain": [
       "True"
      ]
     },
     "execution_count": 24,
     "metadata": {},
     "output_type": "execute_result"
    }
   ],
   "source": [
    "q.__call__(3) == 1 * 3**2 + 1 * 3 + 0"
   ]
  },
  {
   "cell_type": "code",
   "execution_count": 25,
   "metadata": {
    "collapsed": false,
    "deletable": true,
    "editable": true
   },
   "outputs": [],
   "source": [
    "result = Quadratic(a=0,b=2)"
   ]
  },
  {
   "cell_type": "code",
   "execution_count": 26,
   "metadata": {
    "collapsed": false,
    "deletable": true,
    "editable": true
   },
   "outputs": [
    {
     "data": {
      "text/plain": [
       "__main__.Quadratic"
      ]
     },
     "execution_count": 26,
     "metadata": {},
     "output_type": "execute_result"
    }
   ],
   "source": [
    "result.__class__"
   ]
  },
  {
   "cell_type": "code",
   "execution_count": 31,
   "metadata": {
    "collapsed": false,
    "deletable": true,
    "editable": true
   },
   "outputs": [
    {
     "data": {
      "text/plain": [
       "['__call__',\n",
       " '__class__',\n",
       " '__delattr__',\n",
       " '__dict__',\n",
       " '__doc__',\n",
       " '__format__',\n",
       " '__getattribute__',\n",
       " '__hash__',\n",
       " '__init__',\n",
       " '__module__',\n",
       " '__new__',\n",
       " '__reduce__',\n",
       " '__reduce_ex__',\n",
       " '__repr__',\n",
       " '__setattr__',\n",
       " '__sizeof__',\n",
       " '__str__',\n",
       " '__subclasshook__',\n",
       " '__weakref__',\n",
       " 'a',\n",
       " 'b',\n",
       " 'c']"
      ]
     },
     "execution_count": 31,
     "metadata": {},
     "output_type": "execute_result"
    }
   ],
   "source": [
    "dir(result) # returns strings of the attributes which are looked up in the dictionary of result"
   ]
  },
  {
   "cell_type": "code",
   "execution_count": 32,
   "metadata": {
    "collapsed": false,
    "deletable": true,
    "editable": true
   },
   "outputs": [
    {
     "data": {
      "text/plain": [
       "[__main__.Quadratic, object]"
      ]
     },
     "execution_count": 32,
     "metadata": {},
     "output_type": "execute_result"
    }
   ],
   "source": [
    "result.__class__.mro() # method resolution order - "
   ]
  },
  {
   "cell_type": "code",
   "execution_count": 33,
   "metadata": {
    "collapsed": false,
    "deletable": true,
    "editable": true
   },
   "outputs": [
    {
     "data": {
      "text/plain": [
       "[str, basestring, object]"
      ]
     },
     "execution_count": 33,
     "metadata": {},
     "output_type": "execute_result"
    }
   ],
   "source": [
    "s.__class__.mro()"
   ]
  },
  {
   "cell_type": "code",
   "execution_count": 34,
   "metadata": {
    "collapsed": false,
    "deletable": true,
    "editable": true
   },
   "outputs": [
    {
     "ename": "ImportError",
     "evalue": "No module named dill",
     "output_type": "error",
     "traceback": [
      "\u001b[1;31m\u001b[0m",
      "\u001b[1;31mImportError\u001b[0mTraceback (most recent call last)",
      "\u001b[1;32m<ipython-input-34-cc137b51f27a>\u001b[0m in \u001b[0;36m<module>\u001b[1;34m()\u001b[0m\n\u001b[1;32m----> 1\u001b[1;33m \u001b[1;32mimport\u001b[0m \u001b[0mdill\u001b[0m\u001b[1;33m\u001b[0m\u001b[0m\n\u001b[0m\u001b[0;32m      2\u001b[0m \u001b[1;32mprint\u001b[0m\u001b[1;33m(\u001b[0m\u001b[0mdill\u001b[0m\u001b[1;33m.\u001b[0m\u001b[0msource\u001b[0m\u001b[1;33m.\u001b[0m\u001b[0mgetsource\u001b[0m\u001b[1;33m(\u001b[0m\u001b[0mQuadratic\u001b[0m\u001b[1;33m)\u001b[0m\u001b[1;33m)\u001b[0m\u001b[1;33m\u001b[0m\u001b[0m\n",
      "\u001b[1;31mImportError\u001b[0m: No module named dill"
     ]
    }
   ],
   "source": [
    "import dill\n",
    "print(dill.source.getsource(Quadratic))"
   ]
  },
  {
   "cell_type": "code",
   "execution_count": 35,
   "metadata": {
    "collapsed": false,
    "deletable": true,
    "editable": true
   },
   "outputs": [
    {
     "data": {
      "text/plain": [
       "dict_proxy({'__call__': <function __main__.__call__>,\n",
       "            '__dict__': <attribute '__dict__' of 'Quadratic' objects>,\n",
       "            '__doc__': None,\n",
       "            '__init__': <function __main__.__init__>,\n",
       "            '__module__': '__main__',\n",
       "            '__weakref__': <attribute '__weakref__' of 'Quadratic' objects>})"
      ]
     },
     "execution_count": 35,
     "metadata": {},
     "output_type": "execute_result"
    }
   ],
   "source": [
    "Quadratic.__dict__ # the namespace dictionary, the mapping of the names to objects"
   ]
  },
  {
   "cell_type": "code",
   "execution_count": 36,
   "metadata": {
    "collapsed": false,
    "deletable": true,
    "editable": true
   },
   "outputs": [
    {
     "data": {
      "text/plain": [
       "['__module__', '__dict__', '__call__', '__weakref__', '__doc__', '__init__']"
      ]
     },
     "execution_count": 36,
     "metadata": {},
     "output_type": "execute_result"
    }
   ],
   "source": [
    "Quadratic.__dict__.keys()"
   ]
  },
  {
   "cell_type": "code",
   "execution_count": 37,
   "metadata": {
    "collapsed": false,
    "deletable": true,
    "editable": true
   },
   "outputs": [
    {
     "data": {
      "text/plain": [
       "['__module__', '__dict__', '__call__', '__weakref__', '__doc__', '__init__']"
      ]
     },
     "execution_count": 37,
     "metadata": {},
     "output_type": "execute_result"
    }
   ],
   "source": [
    "list(Quadratic.__dict__.keys())"
   ]
  },
  {
   "cell_type": "code",
   "execution_count": 38,
   "metadata": {
    "collapsed": false,
    "deletable": true,
    "editable": true,
    "scrolled": true
   },
   "outputs": [
    {
     "data": {
      "text/plain": [
       "['__call__',\n",
       " '__class__',\n",
       " '__delattr__',\n",
       " '__dict__',\n",
       " '__doc__',\n",
       " '__format__',\n",
       " '__getattribute__',\n",
       " '__hash__',\n",
       " '__init__',\n",
       " '__module__',\n",
       " '__new__',\n",
       " '__reduce__',\n",
       " '__reduce_ex__',\n",
       " '__repr__',\n",
       " '__setattr__',\n",
       " '__sizeof__',\n",
       " '__str__',\n",
       " '__subclasshook__',\n",
       " '__weakref__']"
      ]
     },
     "execution_count": 38,
     "metadata": {},
     "output_type": "execute_result"
    }
   ],
   "source": [
    "dir(Quadratic)"
   ]
  },
  {
   "cell_type": "code",
   "execution_count": 39,
   "metadata": {
    "collapsed": false,
    "deletable": true,
    "editable": true
   },
   "outputs": [
    {
     "data": {
      "text/plain": [
       "8"
      ]
     },
     "execution_count": 39,
     "metadata": {},
     "output_type": "execute_result"
    }
   ],
   "source": [
    "result(4) # what is this?..."
   ]
  },
  {
   "cell_type": "code",
   "execution_count": 40,
   "metadata": {
    "collapsed": false,
    "deletable": true,
    "editable": true
   },
   "outputs": [
    {
     "data": {
      "text/plain": [
       "8"
      ]
     },
     "execution_count": 40,
     "metadata": {},
     "output_type": "execute_result"
    }
   ],
   "source": [
    "result.__call__(4) # it actually performs the __call__ attribute"
   ]
  },
  {
   "cell_type": "code",
   "execution_count": 361,
   "metadata": {
    "collapsed": true,
    "deletable": true,
    "editable": true
   },
   "outputs": [],
   "source": [
    "def squared(x):\n",
    "    return x**2"
   ]
  },
  {
   "cell_type": "code",
   "execution_count": 42,
   "metadata": {
    "collapsed": false,
    "deletable": true,
    "editable": true
   },
   "outputs": [
    {
     "data": {
      "text/plain": [
       "16"
      ]
     },
     "execution_count": 42,
     "metadata": {},
     "output_type": "execute_result"
    }
   ],
   "source": [
    "squared(4)"
   ]
  },
  {
   "cell_type": "code",
   "execution_count": 43,
   "metadata": {
    "collapsed": false,
    "deletable": true,
    "editable": true
   },
   "outputs": [
    {
     "data": {
      "text/plain": [
       "function"
      ]
     },
     "execution_count": 43,
     "metadata": {},
     "output_type": "execute_result"
    }
   ],
   "source": [
    "squared.__class__"
   ]
  },
  {
   "cell_type": "code",
   "execution_count": 44,
   "metadata": {
    "collapsed": false,
    "deletable": true,
    "editable": true
   },
   "outputs": [
    {
     "data": {
      "text/plain": [
       "['__call__',\n",
       " '__class__',\n",
       " '__closure__',\n",
       " '__code__',\n",
       " '__defaults__',\n",
       " '__delattr__',\n",
       " '__dict__',\n",
       " '__doc__',\n",
       " '__format__',\n",
       " '__get__',\n",
       " '__getattribute__',\n",
       " '__globals__',\n",
       " '__hash__',\n",
       " '__init__',\n",
       " '__module__',\n",
       " '__name__',\n",
       " '__new__',\n",
       " '__reduce__',\n",
       " '__reduce_ex__',\n",
       " '__repr__',\n",
       " '__setattr__',\n",
       " '__sizeof__',\n",
       " '__str__',\n",
       " '__subclasshook__',\n",
       " 'func_closure',\n",
       " 'func_code',\n",
       " 'func_defaults',\n",
       " 'func_dict',\n",
       " 'func_doc',\n",
       " 'func_globals',\n",
       " 'func_name']"
      ]
     },
     "execution_count": 44,
     "metadata": {},
     "output_type": "execute_result"
    }
   ],
   "source": [
    "dir(squared)"
   ]
  },
  {
   "cell_type": "code",
   "execution_count": 45,
   "metadata": {
    "collapsed": false,
    "deletable": true,
    "editable": true
   },
   "outputs": [
    {
     "data": {
      "text/plain": [
       "'hello world'"
      ]
     },
     "execution_count": 45,
     "metadata": {},
     "output_type": "execute_result"
    }
   ],
   "source": [
    "'hello world' # the python parser actually creates an instance of a string"
   ]
  },
  {
   "cell_type": "code",
   "execution_count": 46,
   "metadata": {
    "collapsed": false,
    "deletable": true,
    "editable": true
   },
   "outputs": [
    {
     "data": {
      "text/plain": [
       "{'a': 0, 'b': 2, 'c': 0}"
      ]
     },
     "execution_count": 46,
     "metadata": {},
     "output_type": "execute_result"
    }
   ],
   "source": [
    "result.__dict__ # these are the first order class attributes"
   ]
  },
  {
   "cell_type": "code",
   "execution_count": 140,
   "metadata": {
    "collapsed": false,
    "deletable": true,
    "editable": true
   },
   "outputs": [],
   "source": [
    "class Foo(object): # note that there is no __init__ ...\n",
    "    x=1\n",
    "    def bar(self, y):\n",
    "        return self.x + y\n",
    "    def baz(self, x):\n",
    "        self.x = x"
   ]
  },
  {
   "cell_type": "code",
   "execution_count": 141,
   "metadata": {
    "collapsed": false,
    "deletable": true,
    "editable": true
   },
   "outputs": [
    {
     "data": {
      "text/plain": [
       "<slot wrapper '__init__' of 'object' objects>"
      ]
     },
     "execution_count": 141,
     "metadata": {},
     "output_type": "execute_result"
    }
   ],
   "source": [
    "Foo.__init__ # ... so its instantiation will use the inherited constructor of object"
   ]
  },
  {
   "cell_type": "code",
   "execution_count": 49,
   "metadata": {
    "collapsed": false,
    "deletable": true,
    "editable": true
   },
   "outputs": [
    {
     "data": {
      "text/plain": [
       "dict_proxy({'__dict__': <attribute '__dict__' of 'Foo' objects>,\n",
       "            '__doc__': None,\n",
       "            '__module__': '__main__',\n",
       "            '__weakref__': <attribute '__weakref__' of 'Foo' objects>,\n",
       "            'bar': <function __main__.bar>,\n",
       "            'baz': <function __main__.baz>,\n",
       "            'x': 1})"
      ]
     },
     "execution_count": 49,
     "metadata": {},
     "output_type": "execute_result"
    }
   ],
   "source": [
    "Foo.__dict__"
   ]
  },
  {
   "cell_type": "code",
   "execution_count": 50,
   "metadata": {
    "collapsed": false,
    "deletable": true,
    "editable": true
   },
   "outputs": [],
   "source": [
    "n = NameError()"
   ]
  },
  {
   "cell_type": "code",
   "execution_count": 51,
   "metadata": {
    "collapsed": false,
    "deletable": true,
    "editable": true
   },
   "outputs": [
    {
     "data": {
      "text/plain": [
       "NameError"
      ]
     },
     "execution_count": 51,
     "metadata": {},
     "output_type": "execute_result"
    }
   ],
   "source": [
    "n.__class__"
   ]
  },
  {
   "cell_type": "code",
   "execution_count": 52,
   "metadata": {
    "collapsed": false,
    "deletable": true,
    "editable": true
   },
   "outputs": [
    {
     "data": {
      "text/plain": [
       "[NameError, StandardError, Exception, BaseException, object]"
      ]
     },
     "execution_count": 52,
     "metadata": {},
     "output_type": "execute_result"
    }
   ],
   "source": [
    "n.__class__.mro()"
   ]
  },
  {
   "cell_type": "code",
   "execution_count": 53,
   "metadata": {
    "collapsed": true,
    "deletable": true,
    "editable": true
   },
   "outputs": [],
   "source": [
    "b = True"
   ]
  },
  {
   "cell_type": "code",
   "execution_count": 54,
   "metadata": {
    "collapsed": false,
    "deletable": true,
    "editable": true
   },
   "outputs": [
    {
     "data": {
      "text/plain": [
       "bool"
      ]
     },
     "execution_count": 54,
     "metadata": {},
     "output_type": "execute_result"
    }
   ],
   "source": [
    "b.__class__"
   ]
  },
  {
   "cell_type": "code",
   "execution_count": 55,
   "metadata": {
    "collapsed": false,
    "deletable": true,
    "editable": true
   },
   "outputs": [
    {
     "data": {
      "text/plain": [
       "[bool, int, object]"
      ]
     },
     "execution_count": 55,
     "metadata": {},
     "output_type": "execute_result"
    }
   ],
   "source": [
    "type(b).mro()"
   ]
  },
  {
   "cell_type": "code",
   "execution_count": 56,
   "metadata": {
    "collapsed": false,
    "deletable": true,
    "editable": true
   },
   "outputs": [
    {
     "data": {
      "text/plain": [
       "[bool, int, object]"
      ]
     },
     "execution_count": 56,
     "metadata": {},
     "output_type": "execute_result"
    }
   ],
   "source": [
    "bool.mro()"
   ]
  },
  {
   "cell_type": "code",
   "execution_count": 57,
   "metadata": {
    "collapsed": true,
    "deletable": true,
    "editable": true
   },
   "outputs": [],
   "source": [
    "a = 1 # sets 1 to a"
   ]
  },
  {
   "cell_type": "code",
   "execution_count": 58,
   "metadata": {
    "collapsed": false,
    "deletable": true,
    "editable": true
   },
   "outputs": [
    {
     "data": {
      "text/plain": [
       "1"
      ]
     },
     "execution_count": 58,
     "metadata": {},
     "output_type": "execute_result"
    }
   ],
   "source": [
    "a # this returns the thing that a points to"
   ]
  },
  {
   "cell_type": "code",
   "execution_count": 59,
   "metadata": {
    "collapsed": false,
    "deletable": true,
    "editable": true
   },
   "outputs": [
    {
     "data": {
      "text/plain": [
       "{'Foo': __main__.Foo,\n",
       " 'In': ['',\n",
       "  u'# FYI: python has a lot of bindings to other languages\\n# matlab to python: mlabwrap\\n# fortran to python: f2py\\n# idl to python: pyidl\\n\\n# course website\\n# https://public.enthought.com/~mmkerns/p4se/',\n",
       "  u\"# python is built in C; it's high level C. C is OO, hence python is OO\",\n",
       "  u'object',\n",
       "  u\"# this is THE base class in python! every other class in python is derived from 'object' class\\n# in C, you can include python.h and essentially work in python at the lower level\\n# this base class object is called PyObject in C\",\n",
       "  u'o = object()\\no',\n",
       "  u\"s = 'hello world'\",\n",
       "  u'type(s)',\n",
       "  u's.__class__',\n",
       "  u's.__class__ == type(s)',\n",
       "  u'# s is an instance of a string, and has a method __class__, which returns the type',\n",
       "  u'o.__class__',\n",
       "  u'dir(s) # provides all the attributes of string; note: EVERYTHING IN PYTHON IS AN object',\n",
       "  u'dir(o)',\n",
       "  u's.__class__.__class__ # even s.__class__ is an object!',\n",
       "  u's.__class__()',\n",
       "  u'i = 0\\ni.__class__',\n",
       "  u'i.__class__()',\n",
       "  u'int # int is actually a class!',\n",
       "  u'int(4.56) # observe that the constructor for int creates an object ',\n",
       "  u'int.__class__',\n",
       "  u'# the thing that turns a class instance into a \\n# __init__ is the constructor\\n# __call__',\n",
       "  u\"class Quadratic(object): # object is the parent class of Quadratic\\n    def __init__(self, a=1, b=1, c=0): # 'self' is the equivalent of 'this' in C\\n        self.a = a # 'self' refers to the instance\\n        self.b = b\\n        self.c = c\\n        return\\n    def __call__(self, x):\\n        return self.a * x**2 + self.b * x + self.c\",\n",
       "  u'q = Quadratic()\\nq.__call__(3)',\n",
       "  u'q.__call__(3) == 1 * 3**2 + 1 * 3 + 0',\n",
       "  u'result = Quadratic(a=0,b=2)',\n",
       "  u'result.__class__',\n",
       "  u'dir(result) # returns strings of the attributes which are looked up in the dictionary of result',\n",
       "  u'result.__class__.mro() # method resolution order - ',\n",
       "  u's.__class__.mro()',\n",
       "  u'import dill\\nprint(dill.source.getsource(Quadratic))',\n",
       "  u'dir(result) # returns strings of the attributes which are looked up in the dictionary of result',\n",
       "  u'result.__class__.mro() # method resolution order - ',\n",
       "  u's.__class__.mro()',\n",
       "  u'import dill\\nprint(dill.source.getsource(Quadratic))',\n",
       "  u'Quadratic.__dict__ # the namespace dictionary, the mapping of the names to objects',\n",
       "  u'Quadratic.__dict__.keys()',\n",
       "  u'list(Quadratic.__dict__.keys())',\n",
       "  u'dir(Quadratic)',\n",
       "  u'result(4) # what is this?...',\n",
       "  u'result.__call__(4) # it actually performs the __call__ attribute',\n",
       "  u'def squared(x):\\n    return x**2',\n",
       "  u'squared(4)',\n",
       "  u'squared.__class__',\n",
       "  u'dir(squared)',\n",
       "  u\"'hello world' # the python parser actually creates an instance of a string\",\n",
       "  u'result.__dict__ # these are the first order class attributes',\n",
       "  u'class Foo(object): # note that there is no __init__ ...\\n    x=1\\n    def bar(self, y):\\n        return self.x + y\\n    def baz(self, x):\\n        self.x = x',\n",
       "  u'Foo.__init__ # ... so its instantiation will use the inherited constructor of object',\n",
       "  u'Foo.__dict__',\n",
       "  u'n = NameError()',\n",
       "  u'n.__class__',\n",
       "  u'n.__class__.mro()',\n",
       "  u'b = True',\n",
       "  u'b.__class__',\n",
       "  u'type(b).mro()',\n",
       "  u'bool.mro()',\n",
       "  u'a = 1 # sets 1 to a',\n",
       "  u'a # this returns the thing that a points to',\n",
       "  u'globals()'],\n",
       " 'Out': {3: object,\n",
       "  5: <object at 0x4800490>,\n",
       "  7: str,\n",
       "  8: str,\n",
       "  9: True,\n",
       "  11: object,\n",
       "  12: ['__add__',\n",
       "   '__class__',\n",
       "   '__contains__',\n",
       "   '__delattr__',\n",
       "   '__doc__',\n",
       "   '__eq__',\n",
       "   '__format__',\n",
       "   '__ge__',\n",
       "   '__getattribute__',\n",
       "   '__getitem__',\n",
       "   '__getnewargs__',\n",
       "   '__getslice__',\n",
       "   '__gt__',\n",
       "   '__hash__',\n",
       "   '__init__',\n",
       "   '__le__',\n",
       "   '__len__',\n",
       "   '__lt__',\n",
       "   '__mod__',\n",
       "   '__mul__',\n",
       "   '__ne__',\n",
       "   '__new__',\n",
       "   '__reduce__',\n",
       "   '__reduce_ex__',\n",
       "   '__repr__',\n",
       "   '__rmod__',\n",
       "   '__rmul__',\n",
       "   '__setattr__',\n",
       "   '__sizeof__',\n",
       "   '__str__',\n",
       "   '__subclasshook__',\n",
       "   '_formatter_field_name_split',\n",
       "   '_formatter_parser',\n",
       "   'capitalize',\n",
       "   'center',\n",
       "   'count',\n",
       "   'decode',\n",
       "   'encode',\n",
       "   'endswith',\n",
       "   'expandtabs',\n",
       "   'find',\n",
       "   'format',\n",
       "   'index',\n",
       "   'isalnum',\n",
       "   'isalpha',\n",
       "   'isdigit',\n",
       "   'islower',\n",
       "   'isspace',\n",
       "   'istitle',\n",
       "   'isupper',\n",
       "   'join',\n",
       "   'ljust',\n",
       "   'lower',\n",
       "   'lstrip',\n",
       "   'partition',\n",
       "   'replace',\n",
       "   'rfind',\n",
       "   'rindex',\n",
       "   'rjust',\n",
       "   'rpartition',\n",
       "   'rsplit',\n",
       "   'rstrip',\n",
       "   'split',\n",
       "   'splitlines',\n",
       "   'startswith',\n",
       "   'strip',\n",
       "   'swapcase',\n",
       "   'title',\n",
       "   'translate',\n",
       "   'upper',\n",
       "   'zfill'],\n",
       "  13: ['__class__',\n",
       "   '__delattr__',\n",
       "   '__doc__',\n",
       "   '__format__',\n",
       "   '__getattribute__',\n",
       "   '__hash__',\n",
       "   '__init__',\n",
       "   '__new__',\n",
       "   '__reduce__',\n",
       "   '__reduce_ex__',\n",
       "   '__repr__',\n",
       "   '__setattr__',\n",
       "   '__sizeof__',\n",
       "   '__str__',\n",
       "   '__subclasshook__'],\n",
       "  14: type,\n",
       "  15: '',\n",
       "  16: int,\n",
       "  17: 0,\n",
       "  18: int,\n",
       "  19: 4,\n",
       "  20: type,\n",
       "  23: 12,\n",
       "  24: True,\n",
       "  26: __main__.Quadratic,\n",
       "  27: ['__call__',\n",
       "   '__class__',\n",
       "   '__delattr__',\n",
       "   '__dict__',\n",
       "   '__doc__',\n",
       "   '__format__',\n",
       "   '__getattribute__',\n",
       "   '__hash__',\n",
       "   '__init__',\n",
       "   '__module__',\n",
       "   '__new__',\n",
       "   '__reduce__',\n",
       "   '__reduce_ex__',\n",
       "   '__repr__',\n",
       "   '__setattr__',\n",
       "   '__sizeof__',\n",
       "   '__str__',\n",
       "   '__subclasshook__',\n",
       "   '__weakref__',\n",
       "   'a',\n",
       "   'b',\n",
       "   'c'],\n",
       "  28: [__main__.Quadratic, object],\n",
       "  29: [str, basestring, object],\n",
       "  31: ['__call__',\n",
       "   '__class__',\n",
       "   '__delattr__',\n",
       "   '__dict__',\n",
       "   '__doc__',\n",
       "   '__format__',\n",
       "   '__getattribute__',\n",
       "   '__hash__',\n",
       "   '__init__',\n",
       "   '__module__',\n",
       "   '__new__',\n",
       "   '__reduce__',\n",
       "   '__reduce_ex__',\n",
       "   '__repr__',\n",
       "   '__setattr__',\n",
       "   '__sizeof__',\n",
       "   '__str__',\n",
       "   '__subclasshook__',\n",
       "   '__weakref__',\n",
       "   'a',\n",
       "   'b',\n",
       "   'c'],\n",
       "  32: [__main__.Quadratic, object],\n",
       "  33: [str, basestring, object],\n",
       "  35: dict_proxy({'__call__': <function __main__.__call__>,\n",
       "              '__dict__': <attribute '__dict__' of 'Quadratic' objects>,\n",
       "              '__doc__': None,\n",
       "              '__init__': <function __main__.__init__>,\n",
       "              '__module__': '__main__',\n",
       "              '__weakref__': <attribute '__weakref__' of 'Quadratic' objects>}),\n",
       "  36: ['__module__',\n",
       "   '__dict__',\n",
       "   '__call__',\n",
       "   '__weakref__',\n",
       "   '__doc__',\n",
       "   '__init__'],\n",
       "  37: ['__module__',\n",
       "   '__dict__',\n",
       "   '__call__',\n",
       "   '__weakref__',\n",
       "   '__doc__',\n",
       "   '__init__'],\n",
       "  38: ['__call__',\n",
       "   '__class__',\n",
       "   '__delattr__',\n",
       "   '__dict__',\n",
       "   '__doc__',\n",
       "   '__format__',\n",
       "   '__getattribute__',\n",
       "   '__hash__',\n",
       "   '__init__',\n",
       "   '__module__',\n",
       "   '__new__',\n",
       "   '__reduce__',\n",
       "   '__reduce_ex__',\n",
       "   '__repr__',\n",
       "   '__setattr__',\n",
       "   '__sizeof__',\n",
       "   '__str__',\n",
       "   '__subclasshook__',\n",
       "   '__weakref__'],\n",
       "  39: 8,\n",
       "  40: 8,\n",
       "  42: 16,\n",
       "  43: function,\n",
       "  44: ['__call__',\n",
       "   '__class__',\n",
       "   '__closure__',\n",
       "   '__code__',\n",
       "   '__defaults__',\n",
       "   '__delattr__',\n",
       "   '__dict__',\n",
       "   '__doc__',\n",
       "   '__format__',\n",
       "   '__get__',\n",
       "   '__getattribute__',\n",
       "   '__globals__',\n",
       "   '__hash__',\n",
       "   '__init__',\n",
       "   '__module__',\n",
       "   '__name__',\n",
       "   '__new__',\n",
       "   '__reduce__',\n",
       "   '__reduce_ex__',\n",
       "   '__repr__',\n",
       "   '__setattr__',\n",
       "   '__sizeof__',\n",
       "   '__str__',\n",
       "   '__subclasshook__',\n",
       "   'func_closure',\n",
       "   'func_code',\n",
       "   'func_defaults',\n",
       "   'func_dict',\n",
       "   'func_doc',\n",
       "   'func_globals',\n",
       "   'func_name'],\n",
       "  45: 'hello world',\n",
       "  46: {'a': 0, 'b': 2, 'c': 0},\n",
       "  48: <slot wrapper '__init__' of 'object' objects>,\n",
       "  49: dict_proxy({'__dict__': <attribute '__dict__' of 'Foo' objects>,\n",
       "              '__doc__': None,\n",
       "              '__module__': '__main__',\n",
       "              '__weakref__': <attribute '__weakref__' of 'Foo' objects>,\n",
       "              'bar': <function __main__.bar>,\n",
       "              'baz': <function __main__.baz>,\n",
       "              'x': 1}),\n",
       "  51: NameError,\n",
       "  52: [NameError, StandardError, Exception, BaseException, object],\n",
       "  54: bool,\n",
       "  55: [bool, int, object],\n",
       "  56: [bool, int, object],\n",
       "  58: 1},\n",
       " 'Quadratic': __main__.Quadratic,\n",
       " '_': 1,\n",
       " '_11': object,\n",
       " '_12': ['__add__',\n",
       "  '__class__',\n",
       "  '__contains__',\n",
       "  '__delattr__',\n",
       "  '__doc__',\n",
       "  '__eq__',\n",
       "  '__format__',\n",
       "  '__ge__',\n",
       "  '__getattribute__',\n",
       "  '__getitem__',\n",
       "  '__getnewargs__',\n",
       "  '__getslice__',\n",
       "  '__gt__',\n",
       "  '__hash__',\n",
       "  '__init__',\n",
       "  '__le__',\n",
       "  '__len__',\n",
       "  '__lt__',\n",
       "  '__mod__',\n",
       "  '__mul__',\n",
       "  '__ne__',\n",
       "  '__new__',\n",
       "  '__reduce__',\n",
       "  '__reduce_ex__',\n",
       "  '__repr__',\n",
       "  '__rmod__',\n",
       "  '__rmul__',\n",
       "  '__setattr__',\n",
       "  '__sizeof__',\n",
       "  '__str__',\n",
       "  '__subclasshook__',\n",
       "  '_formatter_field_name_split',\n",
       "  '_formatter_parser',\n",
       "  'capitalize',\n",
       "  'center',\n",
       "  'count',\n",
       "  'decode',\n",
       "  'encode',\n",
       "  'endswith',\n",
       "  'expandtabs',\n",
       "  'find',\n",
       "  'format',\n",
       "  'index',\n",
       "  'isalnum',\n",
       "  'isalpha',\n",
       "  'isdigit',\n",
       "  'islower',\n",
       "  'isspace',\n",
       "  'istitle',\n",
       "  'isupper',\n",
       "  'join',\n",
       "  'ljust',\n",
       "  'lower',\n",
       "  'lstrip',\n",
       "  'partition',\n",
       "  'replace',\n",
       "  'rfind',\n",
       "  'rindex',\n",
       "  'rjust',\n",
       "  'rpartition',\n",
       "  'rsplit',\n",
       "  'rstrip',\n",
       "  'split',\n",
       "  'splitlines',\n",
       "  'startswith',\n",
       "  'strip',\n",
       "  'swapcase',\n",
       "  'title',\n",
       "  'translate',\n",
       "  'upper',\n",
       "  'zfill'],\n",
       " '_13': ['__class__',\n",
       "  '__delattr__',\n",
       "  '__doc__',\n",
       "  '__format__',\n",
       "  '__getattribute__',\n",
       "  '__hash__',\n",
       "  '__init__',\n",
       "  '__new__',\n",
       "  '__reduce__',\n",
       "  '__reduce_ex__',\n",
       "  '__repr__',\n",
       "  '__setattr__',\n",
       "  '__sizeof__',\n",
       "  '__str__',\n",
       "  '__subclasshook__'],\n",
       " '_14': type,\n",
       " '_15': '',\n",
       " '_16': int,\n",
       " '_17': 0,\n",
       " '_18': int,\n",
       " '_19': 4,\n",
       " '_20': type,\n",
       " '_23': 12,\n",
       " '_24': True,\n",
       " '_26': __main__.Quadratic,\n",
       " '_27': ['__call__',\n",
       "  '__class__',\n",
       "  '__delattr__',\n",
       "  '__dict__',\n",
       "  '__doc__',\n",
       "  '__format__',\n",
       "  '__getattribute__',\n",
       "  '__hash__',\n",
       "  '__init__',\n",
       "  '__module__',\n",
       "  '__new__',\n",
       "  '__reduce__',\n",
       "  '__reduce_ex__',\n",
       "  '__repr__',\n",
       "  '__setattr__',\n",
       "  '__sizeof__',\n",
       "  '__str__',\n",
       "  '__subclasshook__',\n",
       "  '__weakref__',\n",
       "  'a',\n",
       "  'b',\n",
       "  'c'],\n",
       " '_28': [__main__.Quadratic, object],\n",
       " '_29': [str, basestring, object],\n",
       " '_3': object,\n",
       " '_31': ['__call__',\n",
       "  '__class__',\n",
       "  '__delattr__',\n",
       "  '__dict__',\n",
       "  '__doc__',\n",
       "  '__format__',\n",
       "  '__getattribute__',\n",
       "  '__hash__',\n",
       "  '__init__',\n",
       "  '__module__',\n",
       "  '__new__',\n",
       "  '__reduce__',\n",
       "  '__reduce_ex__',\n",
       "  '__repr__',\n",
       "  '__setattr__',\n",
       "  '__sizeof__',\n",
       "  '__str__',\n",
       "  '__subclasshook__',\n",
       "  '__weakref__',\n",
       "  'a',\n",
       "  'b',\n",
       "  'c'],\n",
       " '_32': [__main__.Quadratic, object],\n",
       " '_33': [str, basestring, object],\n",
       " '_35': dict_proxy({'__call__': <function __main__.__call__>,\n",
       "             '__dict__': <attribute '__dict__' of 'Quadratic' objects>,\n",
       "             '__doc__': None,\n",
       "             '__init__': <function __main__.__init__>,\n",
       "             '__module__': '__main__',\n",
       "             '__weakref__': <attribute '__weakref__' of 'Quadratic' objects>}),\n",
       " '_36': ['__module__',\n",
       "  '__dict__',\n",
       "  '__call__',\n",
       "  '__weakref__',\n",
       "  '__doc__',\n",
       "  '__init__'],\n",
       " '_37': ['__module__',\n",
       "  '__dict__',\n",
       "  '__call__',\n",
       "  '__weakref__',\n",
       "  '__doc__',\n",
       "  '__init__'],\n",
       " '_38': ['__call__',\n",
       "  '__class__',\n",
       "  '__delattr__',\n",
       "  '__dict__',\n",
       "  '__doc__',\n",
       "  '__format__',\n",
       "  '__getattribute__',\n",
       "  '__hash__',\n",
       "  '__init__',\n",
       "  '__module__',\n",
       "  '__new__',\n",
       "  '__reduce__',\n",
       "  '__reduce_ex__',\n",
       "  '__repr__',\n",
       "  '__setattr__',\n",
       "  '__sizeof__',\n",
       "  '__str__',\n",
       "  '__subclasshook__',\n",
       "  '__weakref__'],\n",
       " '_39': 8,\n",
       " '_40': 8,\n",
       " '_42': 16,\n",
       " '_43': function,\n",
       " '_44': ['__call__',\n",
       "  '__class__',\n",
       "  '__closure__',\n",
       "  '__code__',\n",
       "  '__defaults__',\n",
       "  '__delattr__',\n",
       "  '__dict__',\n",
       "  '__doc__',\n",
       "  '__format__',\n",
       "  '__get__',\n",
       "  '__getattribute__',\n",
       "  '__globals__',\n",
       "  '__hash__',\n",
       "  '__init__',\n",
       "  '__module__',\n",
       "  '__name__',\n",
       "  '__new__',\n",
       "  '__reduce__',\n",
       "  '__reduce_ex__',\n",
       "  '__repr__',\n",
       "  '__setattr__',\n",
       "  '__sizeof__',\n",
       "  '__str__',\n",
       "  '__subclasshook__',\n",
       "  'func_closure',\n",
       "  'func_code',\n",
       "  'func_defaults',\n",
       "  'func_dict',\n",
       "  'func_doc',\n",
       "  'func_globals',\n",
       "  'func_name'],\n",
       " '_45': 'hello world',\n",
       " '_46': {'a': 0, 'b': 2, 'c': 0},\n",
       " '_48': <slot wrapper '__init__' of 'object' objects>,\n",
       " '_49': dict_proxy({'__dict__': <attribute '__dict__' of 'Foo' objects>,\n",
       "             '__doc__': None,\n",
       "             '__module__': '__main__',\n",
       "             '__weakref__': <attribute '__weakref__' of 'Foo' objects>,\n",
       "             'bar': <function __main__.bar>,\n",
       "             'baz': <function __main__.baz>,\n",
       "             'x': 1}),\n",
       " '_5': <object at 0x4800490>,\n",
       " '_51': NameError,\n",
       " '_52': [NameError, StandardError, Exception, BaseException, object],\n",
       " '_54': bool,\n",
       " '_55': [bool, int, object],\n",
       " '_56': [bool, int, object],\n",
       " '_58': 1,\n",
       " '_7': str,\n",
       " '_8': str,\n",
       " '_9': True,\n",
       " '__': [bool, int, object],\n",
       " '___': [bool, int, object],\n",
       " '__builtin__': <module '__builtin__' (built-in)>,\n",
       " '__builtins__': <module '__builtin__' (built-in)>,\n",
       " '__doc__': 'Automatically created module for IPython interactive environment',\n",
       " '__name__': '__main__',\n",
       " '__package__': None,\n",
       " '_dh': [u'c:\\\\users\\\\ahuang\\\\documents\\\\notebooks'],\n",
       " '_i': u'a # this returns the thing that a points to',\n",
       " '_i1': u'# FYI: python has a lot of bindings to other languages\\n# matlab to python: mlabwrap\\n# fortran to python: f2py\\n# idl to python: pyidl\\n\\n# course website\\n# https://public.enthought.com/~mmkerns/p4se/',\n",
       " '_i10': u'# s is an instance of a string, and has a method __class__, which returns the type',\n",
       " '_i11': u'o.__class__',\n",
       " '_i12': u'dir(s) # provides all the attributes of string; note: EVERYTHING IN PYTHON IS AN object',\n",
       " '_i13': u'dir(o)',\n",
       " '_i14': u's.__class__.__class__ # even s.__class__ is an object!',\n",
       " '_i15': u's.__class__()',\n",
       " '_i16': u'i = 0\\ni.__class__',\n",
       " '_i17': u'i.__class__()',\n",
       " '_i18': u'int # int is actually a class!',\n",
       " '_i19': u'int(4.56) # observe that the constructor for int creates an object ',\n",
       " '_i2': u\"# python is built in C; it's high level C. C is OO, hence python is OO\",\n",
       " '_i20': u'int.__class__',\n",
       " '_i21': u'# the thing that turns a class instance into a \\n# __init__ is the constructor\\n# __call__',\n",
       " '_i22': u\"class Quadratic(object): # object is the parent class of Quadratic\\n    def __init__(self, a=1, b=1, c=0): # 'self' is the equivalent of 'this' in C\\n        self.a = a # 'self' refers to the instance\\n        self.b = b\\n        self.c = c\\n        return\\n    def __call__(self, x):\\n        return self.a * x**2 + self.b * x + self.c\",\n",
       " '_i23': u'q = Quadratic()\\nq.__call__(3)',\n",
       " '_i24': u'q.__call__(3) == 1 * 3**2 + 1 * 3 + 0',\n",
       " '_i25': u'result = Quadratic(a=0,b=2)',\n",
       " '_i26': u'result.__class__',\n",
       " '_i27': u'dir(result) # returns strings of the attributes which are looked up in the dictionary of result',\n",
       " '_i28': u'result.__class__.mro() # method resolution order - ',\n",
       " '_i29': u's.__class__.mro()',\n",
       " '_i3': u'object',\n",
       " '_i30': u'import dill\\nprint(dill.source.getsource(Quadratic))',\n",
       " '_i31': u'dir(result) # returns strings of the attributes which are looked up in the dictionary of result',\n",
       " '_i32': u'result.__class__.mro() # method resolution order - ',\n",
       " '_i33': u's.__class__.mro()',\n",
       " '_i34': u'import dill\\nprint(dill.source.getsource(Quadratic))',\n",
       " '_i35': u'Quadratic.__dict__ # the namespace dictionary, the mapping of the names to objects',\n",
       " '_i36': u'Quadratic.__dict__.keys()',\n",
       " '_i37': u'list(Quadratic.__dict__.keys())',\n",
       " '_i38': u'dir(Quadratic)',\n",
       " '_i39': u'result(4) # what is this?...',\n",
       " '_i4': u\"# this is THE base class in python! every other class in python is derived from 'object' class\\n# in C, you can include python.h and essentially work in python at the lower level\\n# this base class object is called PyObject in C\",\n",
       " '_i40': u'result.__call__(4) # it actually performs the __call__ attribute',\n",
       " '_i41': u'def squared(x):\\n    return x**2',\n",
       " '_i42': u'squared(4)',\n",
       " '_i43': u'squared.__class__',\n",
       " '_i44': u'dir(squared)',\n",
       " '_i45': u\"'hello world' # the python parser actually creates an instance of a string\",\n",
       " '_i46': u'result.__dict__ # these are the first order class attributes',\n",
       " '_i47': u'class Foo(object): # note that there is no __init__ ...\\n    x=1\\n    def bar(self, y):\\n        return self.x + y\\n    def baz(self, x):\\n        self.x = x',\n",
       " '_i48': u'Foo.__init__ # ... so its instantiation will use the inherited constructor of object',\n",
       " '_i49': u'Foo.__dict__',\n",
       " '_i5': u'o = object()\\no',\n",
       " '_i50': u'n = NameError()',\n",
       " '_i51': u'n.__class__',\n",
       " '_i52': u'n.__class__.mro()',\n",
       " '_i53': u'b = True',\n",
       " '_i54': u'b.__class__',\n",
       " '_i55': u'type(b).mro()',\n",
       " '_i56': u'bool.mro()',\n",
       " '_i57': u'a = 1 # sets 1 to a',\n",
       " '_i58': u'a # this returns the thing that a points to',\n",
       " '_i59': u'globals()',\n",
       " '_i6': u\"s = 'hello world'\",\n",
       " '_i7': u'type(s)',\n",
       " '_i8': u's.__class__',\n",
       " '_i9': u's.__class__ == type(s)',\n",
       " '_ih': ['',\n",
       "  u'# FYI: python has a lot of bindings to other languages\\n# matlab to python: mlabwrap\\n# fortran to python: f2py\\n# idl to python: pyidl\\n\\n# course website\\n# https://public.enthought.com/~mmkerns/p4se/',\n",
       "  u\"# python is built in C; it's high level C. C is OO, hence python is OO\",\n",
       "  u'object',\n",
       "  u\"# this is THE base class in python! every other class in python is derived from 'object' class\\n# in C, you can include python.h and essentially work in python at the lower level\\n# this base class object is called PyObject in C\",\n",
       "  u'o = object()\\no',\n",
       "  u\"s = 'hello world'\",\n",
       "  u'type(s)',\n",
       "  u's.__class__',\n",
       "  u's.__class__ == type(s)',\n",
       "  u'# s is an instance of a string, and has a method __class__, which returns the type',\n",
       "  u'o.__class__',\n",
       "  u'dir(s) # provides all the attributes of string; note: EVERYTHING IN PYTHON IS AN object',\n",
       "  u'dir(o)',\n",
       "  u's.__class__.__class__ # even s.__class__ is an object!',\n",
       "  u's.__class__()',\n",
       "  u'i = 0\\ni.__class__',\n",
       "  u'i.__class__()',\n",
       "  u'int # int is actually a class!',\n",
       "  u'int(4.56) # observe that the constructor for int creates an object ',\n",
       "  u'int.__class__',\n",
       "  u'# the thing that turns a class instance into a \\n# __init__ is the constructor\\n# __call__',\n",
       "  u\"class Quadratic(object): # object is the parent class of Quadratic\\n    def __init__(self, a=1, b=1, c=0): # 'self' is the equivalent of 'this' in C\\n        self.a = a # 'self' refers to the instance\\n        self.b = b\\n        self.c = c\\n        return\\n    def __call__(self, x):\\n        return self.a * x**2 + self.b * x + self.c\",\n",
       "  u'q = Quadratic()\\nq.__call__(3)',\n",
       "  u'q.__call__(3) == 1 * 3**2 + 1 * 3 + 0',\n",
       "  u'result = Quadratic(a=0,b=2)',\n",
       "  u'result.__class__',\n",
       "  u'dir(result) # returns strings of the attributes which are looked up in the dictionary of result',\n",
       "  u'result.__class__.mro() # method resolution order - ',\n",
       "  u's.__class__.mro()',\n",
       "  u'import dill\\nprint(dill.source.getsource(Quadratic))',\n",
       "  u'dir(result) # returns strings of the attributes which are looked up in the dictionary of result',\n",
       "  u'result.__class__.mro() # method resolution order - ',\n",
       "  u's.__class__.mro()',\n",
       "  u'import dill\\nprint(dill.source.getsource(Quadratic))',\n",
       "  u'Quadratic.__dict__ # the namespace dictionary, the mapping of the names to objects',\n",
       "  u'Quadratic.__dict__.keys()',\n",
       "  u'list(Quadratic.__dict__.keys())',\n",
       "  u'dir(Quadratic)',\n",
       "  u'result(4) # what is this?...',\n",
       "  u'result.__call__(4) # it actually performs the __call__ attribute',\n",
       "  u'def squared(x):\\n    return x**2',\n",
       "  u'squared(4)',\n",
       "  u'squared.__class__',\n",
       "  u'dir(squared)',\n",
       "  u\"'hello world' # the python parser actually creates an instance of a string\",\n",
       "  u'result.__dict__ # these are the first order class attributes',\n",
       "  u'class Foo(object): # note that there is no __init__ ...\\n    x=1\\n    def bar(self, y):\\n        return self.x + y\\n    def baz(self, x):\\n        self.x = x',\n",
       "  u'Foo.__init__ # ... so its instantiation will use the inherited constructor of object',\n",
       "  u'Foo.__dict__',\n",
       "  u'n = NameError()',\n",
       "  u'n.__class__',\n",
       "  u'n.__class__.mro()',\n",
       "  u'b = True',\n",
       "  u'b.__class__',\n",
       "  u'type(b).mro()',\n",
       "  u'bool.mro()',\n",
       "  u'a = 1 # sets 1 to a',\n",
       "  u'a # this returns the thing that a points to',\n",
       "  u'globals()'],\n",
       " '_ii': u'a = 1 # sets 1 to a',\n",
       " '_iii': u'bool.mro()',\n",
       " '_oh': {3: object,\n",
       "  5: <object at 0x4800490>,\n",
       "  7: str,\n",
       "  8: str,\n",
       "  9: True,\n",
       "  11: object,\n",
       "  12: ['__add__',\n",
       "   '__class__',\n",
       "   '__contains__',\n",
       "   '__delattr__',\n",
       "   '__doc__',\n",
       "   '__eq__',\n",
       "   '__format__',\n",
       "   '__ge__',\n",
       "   '__getattribute__',\n",
       "   '__getitem__',\n",
       "   '__getnewargs__',\n",
       "   '__getslice__',\n",
       "   '__gt__',\n",
       "   '__hash__',\n",
       "   '__init__',\n",
       "   '__le__',\n",
       "   '__len__',\n",
       "   '__lt__',\n",
       "   '__mod__',\n",
       "   '__mul__',\n",
       "   '__ne__',\n",
       "   '__new__',\n",
       "   '__reduce__',\n",
       "   '__reduce_ex__',\n",
       "   '__repr__',\n",
       "   '__rmod__',\n",
       "   '__rmul__',\n",
       "   '__setattr__',\n",
       "   '__sizeof__',\n",
       "   '__str__',\n",
       "   '__subclasshook__',\n",
       "   '_formatter_field_name_split',\n",
       "   '_formatter_parser',\n",
       "   'capitalize',\n",
       "   'center',\n",
       "   'count',\n",
       "   'decode',\n",
       "   'encode',\n",
       "   'endswith',\n",
       "   'expandtabs',\n",
       "   'find',\n",
       "   'format',\n",
       "   'index',\n",
       "   'isalnum',\n",
       "   'isalpha',\n",
       "   'isdigit',\n",
       "   'islower',\n",
       "   'isspace',\n",
       "   'istitle',\n",
       "   'isupper',\n",
       "   'join',\n",
       "   'ljust',\n",
       "   'lower',\n",
       "   'lstrip',\n",
       "   'partition',\n",
       "   'replace',\n",
       "   'rfind',\n",
       "   'rindex',\n",
       "   'rjust',\n",
       "   'rpartition',\n",
       "   'rsplit',\n",
       "   'rstrip',\n",
       "   'split',\n",
       "   'splitlines',\n",
       "   'startswith',\n",
       "   'strip',\n",
       "   'swapcase',\n",
       "   'title',\n",
       "   'translate',\n",
       "   'upper',\n",
       "   'zfill'],\n",
       "  13: ['__class__',\n",
       "   '__delattr__',\n",
       "   '__doc__',\n",
       "   '__format__',\n",
       "   '__getattribute__',\n",
       "   '__hash__',\n",
       "   '__init__',\n",
       "   '__new__',\n",
       "   '__reduce__',\n",
       "   '__reduce_ex__',\n",
       "   '__repr__',\n",
       "   '__setattr__',\n",
       "   '__sizeof__',\n",
       "   '__str__',\n",
       "   '__subclasshook__'],\n",
       "  14: type,\n",
       "  15: '',\n",
       "  16: int,\n",
       "  17: 0,\n",
       "  18: int,\n",
       "  19: 4,\n",
       "  20: type,\n",
       "  23: 12,\n",
       "  24: True,\n",
       "  26: __main__.Quadratic,\n",
       "  27: ['__call__',\n",
       "   '__class__',\n",
       "   '__delattr__',\n",
       "   '__dict__',\n",
       "   '__doc__',\n",
       "   '__format__',\n",
       "   '__getattribute__',\n",
       "   '__hash__',\n",
       "   '__init__',\n",
       "   '__module__',\n",
       "   '__new__',\n",
       "   '__reduce__',\n",
       "   '__reduce_ex__',\n",
       "   '__repr__',\n",
       "   '__setattr__',\n",
       "   '__sizeof__',\n",
       "   '__str__',\n",
       "   '__subclasshook__',\n",
       "   '__weakref__',\n",
       "   'a',\n",
       "   'b',\n",
       "   'c'],\n",
       "  28: [__main__.Quadratic, object],\n",
       "  29: [str, basestring, object],\n",
       "  31: ['__call__',\n",
       "   '__class__',\n",
       "   '__delattr__',\n",
       "   '__dict__',\n",
       "   '__doc__',\n",
       "   '__format__',\n",
       "   '__getattribute__',\n",
       "   '__hash__',\n",
       "   '__init__',\n",
       "   '__module__',\n",
       "   '__new__',\n",
       "   '__reduce__',\n",
       "   '__reduce_ex__',\n",
       "   '__repr__',\n",
       "   '__setattr__',\n",
       "   '__sizeof__',\n",
       "   '__str__',\n",
       "   '__subclasshook__',\n",
       "   '__weakref__',\n",
       "   'a',\n",
       "   'b',\n",
       "   'c'],\n",
       "  32: [__main__.Quadratic, object],\n",
       "  33: [str, basestring, object],\n",
       "  35: dict_proxy({'__call__': <function __main__.__call__>,\n",
       "              '__dict__': <attribute '__dict__' of 'Quadratic' objects>,\n",
       "              '__doc__': None,\n",
       "              '__init__': <function __main__.__init__>,\n",
       "              '__module__': '__main__',\n",
       "              '__weakref__': <attribute '__weakref__' of 'Quadratic' objects>}),\n",
       "  36: ['__module__',\n",
       "   '__dict__',\n",
       "   '__call__',\n",
       "   '__weakref__',\n",
       "   '__doc__',\n",
       "   '__init__'],\n",
       "  37: ['__module__',\n",
       "   '__dict__',\n",
       "   '__call__',\n",
       "   '__weakref__',\n",
       "   '__doc__',\n",
       "   '__init__'],\n",
       "  38: ['__call__',\n",
       "   '__class__',\n",
       "   '__delattr__',\n",
       "   '__dict__',\n",
       "   '__doc__',\n",
       "   '__format__',\n",
       "   '__getattribute__',\n",
       "   '__hash__',\n",
       "   '__init__',\n",
       "   '__module__',\n",
       "   '__new__',\n",
       "   '__reduce__',\n",
       "   '__reduce_ex__',\n",
       "   '__repr__',\n",
       "   '__setattr__',\n",
       "   '__sizeof__',\n",
       "   '__str__',\n",
       "   '__subclasshook__',\n",
       "   '__weakref__'],\n",
       "  39: 8,\n",
       "  40: 8,\n",
       "  42: 16,\n",
       "  43: function,\n",
       "  44: ['__call__',\n",
       "   '__class__',\n",
       "   '__closure__',\n",
       "   '__code__',\n",
       "   '__defaults__',\n",
       "   '__delattr__',\n",
       "   '__dict__',\n",
       "   '__doc__',\n",
       "   '__format__',\n",
       "   '__get__',\n",
       "   '__getattribute__',\n",
       "   '__globals__',\n",
       "   '__hash__',\n",
       "   '__init__',\n",
       "   '__module__',\n",
       "   '__name__',\n",
       "   '__new__',\n",
       "   '__reduce__',\n",
       "   '__reduce_ex__',\n",
       "   '__repr__',\n",
       "   '__setattr__',\n",
       "   '__sizeof__',\n",
       "   '__str__',\n",
       "   '__subclasshook__',\n",
       "   'func_closure',\n",
       "   'func_code',\n",
       "   'func_defaults',\n",
       "   'func_dict',\n",
       "   'func_doc',\n",
       "   'func_globals',\n",
       "   'func_name'],\n",
       "  45: 'hello world',\n",
       "  46: {'a': 0, 'b': 2, 'c': 0},\n",
       "  48: <slot wrapper '__init__' of 'object' objects>,\n",
       "  49: dict_proxy({'__dict__': <attribute '__dict__' of 'Foo' objects>,\n",
       "              '__doc__': None,\n",
       "              '__module__': '__main__',\n",
       "              '__weakref__': <attribute '__weakref__' of 'Foo' objects>,\n",
       "              'bar': <function __main__.bar>,\n",
       "              'baz': <function __main__.baz>,\n",
       "              'x': 1}),\n",
       "  51: NameError,\n",
       "  52: [NameError, StandardError, Exception, BaseException, object],\n",
       "  54: bool,\n",
       "  55: [bool, int, object],\n",
       "  56: [bool, int, object],\n",
       "  58: 1},\n",
       " '_sh': <module 'IPython.core.shadowns' from 'C:\\Users\\ahuang\\AppData\\Local\\Enthought\\Canopy\\edm\\envs\\User\\lib\\site-packages\\IPython\\core\\shadowns.pyc'>,\n",
       " 'a': 1,\n",
       " 'b': True,\n",
       " 'exit': <IPython.core.autocall.ZMQExitAutocall at 0x2865d68>,\n",
       " 'get_ipython': <bound method ZMQInteractiveShell.get_ipython of <ipykernel.zmqshell.ZMQInteractiveShell object at 0x0000000002824518>>,\n",
       " 'i': 0,\n",
       " 'n': NameError(),\n",
       " 'o': <object at 0x4800490>,\n",
       " 'q': <__main__.Quadratic at 0x48b1b38>,\n",
       " 'quit': <IPython.core.autocall.ZMQExitAutocall at 0x2865d68>,\n",
       " 'result': <__main__.Quadratic at 0x48b1ba8>,\n",
       " 's': 'hello world',\n",
       " 'squared': <function __main__.squared>}"
      ]
     },
     "execution_count": 59,
     "metadata": {},
     "output_type": "execute_result"
    }
   ],
   "source": [
    "globals()"
   ]
  },
  {
   "cell_type": "code",
   "execution_count": 60,
   "metadata": {
    "collapsed": true,
    "deletable": true,
    "editable": true
   },
   "outputs": [],
   "source": [
    "import math"
   ]
  },
  {
   "cell_type": "code",
   "execution_count": 61,
   "metadata": {
    "collapsed": false,
    "deletable": true,
    "editable": true
   },
   "outputs": [
    {
     "data": {
      "text/plain": [
       "<module 'math' (built-in)>"
      ]
     },
     "execution_count": 61,
     "metadata": {},
     "output_type": "execute_result"
    }
   ],
   "source": [
    "math"
   ]
  },
  {
   "cell_type": "code",
   "execution_count": 62,
   "metadata": {
    "collapsed": false,
    "deletable": true,
    "editable": true
   },
   "outputs": [
    {
     "data": {
      "text/plain": [
       "['__doc__',\n",
       " '__name__',\n",
       " '__package__',\n",
       " 'acos',\n",
       " 'acosh',\n",
       " 'asin',\n",
       " 'asinh',\n",
       " 'atan',\n",
       " 'atan2',\n",
       " 'atanh',\n",
       " 'ceil',\n",
       " 'copysign',\n",
       " 'cos',\n",
       " 'cosh',\n",
       " 'degrees',\n",
       " 'e',\n",
       " 'erf',\n",
       " 'erfc',\n",
       " 'exp',\n",
       " 'expm1',\n",
       " 'fabs',\n",
       " 'factorial',\n",
       " 'floor',\n",
       " 'fmod',\n",
       " 'frexp',\n",
       " 'fsum',\n",
       " 'gamma',\n",
       " 'hypot',\n",
       " 'isinf',\n",
       " 'isnan',\n",
       " 'ldexp',\n",
       " 'lgamma',\n",
       " 'log',\n",
       " 'log10',\n",
       " 'log1p',\n",
       " 'modf',\n",
       " 'pi',\n",
       " 'pow',\n",
       " 'radians',\n",
       " 'sin',\n",
       " 'sinh',\n",
       " 'sqrt',\n",
       " 'tan',\n",
       " 'tanh',\n",
       " 'trunc']"
      ]
     },
     "execution_count": 62,
     "metadata": {},
     "output_type": "execute_result"
    }
   ],
   "source": [
    "dir(math)"
   ]
  },
  {
   "cell_type": "code",
   "execution_count": 63,
   "metadata": {
    "collapsed": false,
    "deletable": true,
    "editable": true
   },
   "outputs": [
    {
     "data": {
      "text/plain": [
       "<function math.sin>"
      ]
     },
     "execution_count": 63,
     "metadata": {},
     "output_type": "execute_result"
    }
   ],
   "source": [
    "math.sin"
   ]
  },
  {
   "cell_type": "code",
   "execution_count": 64,
   "metadata": {
    "collapsed": false,
    "deletable": true,
    "editable": true
   },
   "outputs": [
    {
     "data": {
      "text/plain": [
       "{'__doc__': 'This module is always available.  It provides access to the\\nmathematical functions defined by the C standard.',\n",
       " '__name__': 'math',\n",
       " '__package__': None,\n",
       " 'acos': <function math.acos>,\n",
       " 'acosh': <function math.acosh>,\n",
       " 'asin': <function math.asin>,\n",
       " 'asinh': <function math.asinh>,\n",
       " 'atan': <function math.atan>,\n",
       " 'atan2': <function math.atan2>,\n",
       " 'atanh': <function math.atanh>,\n",
       " 'ceil': <function math.ceil>,\n",
       " 'copysign': <function math.copysign>,\n",
       " 'cos': <function math.cos>,\n",
       " 'cosh': <function math.cosh>,\n",
       " 'degrees': <function math.degrees>,\n",
       " 'e': 2.718281828459045,\n",
       " 'erf': <function math.erf>,\n",
       " 'erfc': <function math.erfc>,\n",
       " 'exp': <function math.exp>,\n",
       " 'expm1': <function math.expm1>,\n",
       " 'fabs': <function math.fabs>,\n",
       " 'factorial': <function math.factorial>,\n",
       " 'floor': <function math.floor>,\n",
       " 'fmod': <function math.fmod>,\n",
       " 'frexp': <function math.frexp>,\n",
       " 'fsum': <function math.fsum>,\n",
       " 'gamma': <function math.gamma>,\n",
       " 'hypot': <function math.hypot>,\n",
       " 'isinf': <function math.isinf>,\n",
       " 'isnan': <function math.isnan>,\n",
       " 'ldexp': <function math.ldexp>,\n",
       " 'lgamma': <function math.lgamma>,\n",
       " 'log': <function math.log>,\n",
       " 'log10': <function math.log10>,\n",
       " 'log1p': <function math.log1p>,\n",
       " 'modf': <function math.modf>,\n",
       " 'pi': 3.141592653589793,\n",
       " 'pow': <function math.pow>,\n",
       " 'radians': <function math.radians>,\n",
       " 'sin': <function math.sin>,\n",
       " 'sinh': <function math.sinh>,\n",
       " 'sqrt': <function math.sqrt>,\n",
       " 'tan': <function math.tan>,\n",
       " 'tanh': <function math.tanh>,\n",
       " 'trunc': <function math.trunc>}"
      ]
     },
     "execution_count": 64,
     "metadata": {},
     "output_type": "execute_result"
    }
   ],
   "source": [
    "math.__dict__"
   ]
  },
  {
   "cell_type": "code",
   "execution_count": 65,
   "metadata": {
    "collapsed": false,
    "deletable": true,
    "editable": true
   },
   "outputs": [
    {
     "data": {
      "text/plain": [
       "['__doc__',\n",
       " '__name__',\n",
       " '__package__',\n",
       " 'acos',\n",
       " 'acosh',\n",
       " 'asin',\n",
       " 'asinh',\n",
       " 'atan',\n",
       " 'atan2',\n",
       " 'atanh']"
      ]
     },
     "execution_count": 65,
     "metadata": {},
     "output_type": "execute_result"
    }
   ],
   "source": [
    "dir(math)[:10] # print the first 10"
   ]
  },
  {
   "cell_type": "code",
   "execution_count": 66,
   "metadata": {
    "collapsed": false,
    "deletable": true,
    "editable": true
   },
   "outputs": [
    {
     "data": {
      "text/plain": [
       "'__main__'"
      ]
     },
     "execution_count": 66,
     "metadata": {},
     "output_type": "execute_result"
    }
   ],
   "source": [
    "# math is a module is an object\n",
    "# again, everything is an object!\n",
    "# even this prompt session is an obect\n",
    "__name__"
   ]
  },
  {
   "cell_type": "code",
   "execution_count": 67,
   "metadata": {
    "collapsed": false,
    "deletable": true,
    "editable": true
   },
   "outputs": [
    {
     "data": {
      "text/plain": [
       "{'Foo': __main__.Foo,\n",
       " 'In': ['',\n",
       "  u'# FYI: python has a lot of bindings to other languages\\n# matlab to python: mlabwrap\\n# fortran to python: f2py\\n# idl to python: pyidl\\n\\n# course website\\n# https://public.enthought.com/~mmkerns/p4se/',\n",
       "  u\"# python is built in C; it's high level C. C is OO, hence python is OO\",\n",
       "  u'object',\n",
       "  u\"# this is THE base class in python! every other class in python is derived from 'object' class\\n# in C, you can include python.h and essentially work in python at the lower level\\n# this base class object is called PyObject in C\",\n",
       "  u'o = object()\\no',\n",
       "  u\"s = 'hello world'\",\n",
       "  u'type(s)',\n",
       "  u's.__class__',\n",
       "  u's.__class__ == type(s)',\n",
       "  u'# s is an instance of a string, and has a method __class__, which returns the type',\n",
       "  u'o.__class__',\n",
       "  u'dir(s) # provides all the attributes of string; note: EVERYTHING IN PYTHON IS AN object',\n",
       "  u'dir(o)',\n",
       "  u's.__class__.__class__ # even s.__class__ is an object!',\n",
       "  u's.__class__()',\n",
       "  u'i = 0\\ni.__class__',\n",
       "  u'i.__class__()',\n",
       "  u'int # int is actually a class!',\n",
       "  u'int(4.56) # observe that the constructor for int creates an object ',\n",
       "  u'int.__class__',\n",
       "  u'# the thing that turns a class instance into a \\n# __init__ is the constructor\\n# __call__',\n",
       "  u\"class Quadratic(object): # object is the parent class of Quadratic\\n    def __init__(self, a=1, b=1, c=0): # 'self' is the equivalent of 'this' in C\\n        self.a = a # 'self' refers to the instance\\n        self.b = b\\n        self.c = c\\n        return\\n    def __call__(self, x):\\n        return self.a * x**2 + self.b * x + self.c\",\n",
       "  u'q = Quadratic()\\nq.__call__(3)',\n",
       "  u'q.__call__(3) == 1 * 3**2 + 1 * 3 + 0',\n",
       "  u'result = Quadratic(a=0,b=2)',\n",
       "  u'result.__class__',\n",
       "  u'dir(result) # returns strings of the attributes which are looked up in the dictionary of result',\n",
       "  u'result.__class__.mro() # method resolution order - ',\n",
       "  u's.__class__.mro()',\n",
       "  u'import dill\\nprint(dill.source.getsource(Quadratic))',\n",
       "  u'dir(result) # returns strings of the attributes which are looked up in the dictionary of result',\n",
       "  u'result.__class__.mro() # method resolution order - ',\n",
       "  u's.__class__.mro()',\n",
       "  u'import dill\\nprint(dill.source.getsource(Quadratic))',\n",
       "  u'Quadratic.__dict__ # the namespace dictionary, the mapping of the names to objects',\n",
       "  u'Quadratic.__dict__.keys()',\n",
       "  u'list(Quadratic.__dict__.keys())',\n",
       "  u'dir(Quadratic)',\n",
       "  u'result(4) # what is this?...',\n",
       "  u'result.__call__(4) # it actually performs the __call__ attribute',\n",
       "  u'def squared(x):\\n    return x**2',\n",
       "  u'squared(4)',\n",
       "  u'squared.__class__',\n",
       "  u'dir(squared)',\n",
       "  u\"'hello world' # the python parser actually creates an instance of a string\",\n",
       "  u'result.__dict__ # these are the first order class attributes',\n",
       "  u'class Foo(object): # note that there is no __init__ ...\\n    x=1\\n    def bar(self, y):\\n        return self.x + y\\n    def baz(self, x):\\n        self.x = x',\n",
       "  u'Foo.__init__ # ... so its instantiation will use the inherited constructor of object',\n",
       "  u'Foo.__dict__',\n",
       "  u'n = NameError()',\n",
       "  u'n.__class__',\n",
       "  u'n.__class__.mro()',\n",
       "  u'b = True',\n",
       "  u'b.__class__',\n",
       "  u'type(b).mro()',\n",
       "  u'bool.mro()',\n",
       "  u'a = 1 # sets 1 to a',\n",
       "  u'a # this returns the thing that a points to',\n",
       "  u'globals()',\n",
       "  u'import math',\n",
       "  u'math',\n",
       "  u'dir(math)',\n",
       "  u'math.sin',\n",
       "  u'math.__dict__',\n",
       "  u'dir(math)[:10] # print the first 10',\n",
       "  u'# math is a module is an object\\n# again, everything is an object!\\n# even this prompt session is an obect\\n__name__',\n",
       "  u'# so, the globals() is an attribute of this __main__\\nglobals()'],\n",
       " 'Out': {3: object,\n",
       "  5: <object at 0x4800490>,\n",
       "  7: str,\n",
       "  8: str,\n",
       "  9: True,\n",
       "  11: object,\n",
       "  12: ['__add__',\n",
       "   '__class__',\n",
       "   '__contains__',\n",
       "   '__delattr__',\n",
       "   '__doc__',\n",
       "   '__eq__',\n",
       "   '__format__',\n",
       "   '__ge__',\n",
       "   '__getattribute__',\n",
       "   '__getitem__',\n",
       "   '__getnewargs__',\n",
       "   '__getslice__',\n",
       "   '__gt__',\n",
       "   '__hash__',\n",
       "   '__init__',\n",
       "   '__le__',\n",
       "   '__len__',\n",
       "   '__lt__',\n",
       "   '__mod__',\n",
       "   '__mul__',\n",
       "   '__ne__',\n",
       "   '__new__',\n",
       "   '__reduce__',\n",
       "   '__reduce_ex__',\n",
       "   '__repr__',\n",
       "   '__rmod__',\n",
       "   '__rmul__',\n",
       "   '__setattr__',\n",
       "   '__sizeof__',\n",
       "   '__str__',\n",
       "   '__subclasshook__',\n",
       "   '_formatter_field_name_split',\n",
       "   '_formatter_parser',\n",
       "   'capitalize',\n",
       "   'center',\n",
       "   'count',\n",
       "   'decode',\n",
       "   'encode',\n",
       "   'endswith',\n",
       "   'expandtabs',\n",
       "   'find',\n",
       "   'format',\n",
       "   'index',\n",
       "   'isalnum',\n",
       "   'isalpha',\n",
       "   'isdigit',\n",
       "   'islower',\n",
       "   'isspace',\n",
       "   'istitle',\n",
       "   'isupper',\n",
       "   'join',\n",
       "   'ljust',\n",
       "   'lower',\n",
       "   'lstrip',\n",
       "   'partition',\n",
       "   'replace',\n",
       "   'rfind',\n",
       "   'rindex',\n",
       "   'rjust',\n",
       "   'rpartition',\n",
       "   'rsplit',\n",
       "   'rstrip',\n",
       "   'split',\n",
       "   'splitlines',\n",
       "   'startswith',\n",
       "   'strip',\n",
       "   'swapcase',\n",
       "   'title',\n",
       "   'translate',\n",
       "   'upper',\n",
       "   'zfill'],\n",
       "  13: ['__class__',\n",
       "   '__delattr__',\n",
       "   '__doc__',\n",
       "   '__format__',\n",
       "   '__getattribute__',\n",
       "   '__hash__',\n",
       "   '__init__',\n",
       "   '__new__',\n",
       "   '__reduce__',\n",
       "   '__reduce_ex__',\n",
       "   '__repr__',\n",
       "   '__setattr__',\n",
       "   '__sizeof__',\n",
       "   '__str__',\n",
       "   '__subclasshook__'],\n",
       "  14: type,\n",
       "  15: '',\n",
       "  16: int,\n",
       "  17: 0,\n",
       "  18: int,\n",
       "  19: 4,\n",
       "  20: type,\n",
       "  23: 12,\n",
       "  24: True,\n",
       "  26: __main__.Quadratic,\n",
       "  27: ['__call__',\n",
       "   '__class__',\n",
       "   '__delattr__',\n",
       "   '__dict__',\n",
       "   '__doc__',\n",
       "   '__format__',\n",
       "   '__getattribute__',\n",
       "   '__hash__',\n",
       "   '__init__',\n",
       "   '__module__',\n",
       "   '__new__',\n",
       "   '__reduce__',\n",
       "   '__reduce_ex__',\n",
       "   '__repr__',\n",
       "   '__setattr__',\n",
       "   '__sizeof__',\n",
       "   '__str__',\n",
       "   '__subclasshook__',\n",
       "   '__weakref__',\n",
       "   'a',\n",
       "   'b',\n",
       "   'c'],\n",
       "  28: [__main__.Quadratic, object],\n",
       "  29: [str, basestring, object],\n",
       "  31: ['__call__',\n",
       "   '__class__',\n",
       "   '__delattr__',\n",
       "   '__dict__',\n",
       "   '__doc__',\n",
       "   '__format__',\n",
       "   '__getattribute__',\n",
       "   '__hash__',\n",
       "   '__init__',\n",
       "   '__module__',\n",
       "   '__new__',\n",
       "   '__reduce__',\n",
       "   '__reduce_ex__',\n",
       "   '__repr__',\n",
       "   '__setattr__',\n",
       "   '__sizeof__',\n",
       "   '__str__',\n",
       "   '__subclasshook__',\n",
       "   '__weakref__',\n",
       "   'a',\n",
       "   'b',\n",
       "   'c'],\n",
       "  32: [__main__.Quadratic, object],\n",
       "  33: [str, basestring, object],\n",
       "  35: dict_proxy({'__call__': <function __main__.__call__>,\n",
       "              '__dict__': <attribute '__dict__' of 'Quadratic' objects>,\n",
       "              '__doc__': None,\n",
       "              '__init__': <function __main__.__init__>,\n",
       "              '__module__': '__main__',\n",
       "              '__weakref__': <attribute '__weakref__' of 'Quadratic' objects>}),\n",
       "  36: ['__module__',\n",
       "   '__dict__',\n",
       "   '__call__',\n",
       "   '__weakref__',\n",
       "   '__doc__',\n",
       "   '__init__'],\n",
       "  37: ['__module__',\n",
       "   '__dict__',\n",
       "   '__call__',\n",
       "   '__weakref__',\n",
       "   '__doc__',\n",
       "   '__init__'],\n",
       "  38: ['__call__',\n",
       "   '__class__',\n",
       "   '__delattr__',\n",
       "   '__dict__',\n",
       "   '__doc__',\n",
       "   '__format__',\n",
       "   '__getattribute__',\n",
       "   '__hash__',\n",
       "   '__init__',\n",
       "   '__module__',\n",
       "   '__new__',\n",
       "   '__reduce__',\n",
       "   '__reduce_ex__',\n",
       "   '__repr__',\n",
       "   '__setattr__',\n",
       "   '__sizeof__',\n",
       "   '__str__',\n",
       "   '__subclasshook__',\n",
       "   '__weakref__'],\n",
       "  39: 8,\n",
       "  40: 8,\n",
       "  42: 16,\n",
       "  43: function,\n",
       "  44: ['__call__',\n",
       "   '__class__',\n",
       "   '__closure__',\n",
       "   '__code__',\n",
       "   '__defaults__',\n",
       "   '__delattr__',\n",
       "   '__dict__',\n",
       "   '__doc__',\n",
       "   '__format__',\n",
       "   '__get__',\n",
       "   '__getattribute__',\n",
       "   '__globals__',\n",
       "   '__hash__',\n",
       "   '__init__',\n",
       "   '__module__',\n",
       "   '__name__',\n",
       "   '__new__',\n",
       "   '__reduce__',\n",
       "   '__reduce_ex__',\n",
       "   '__repr__',\n",
       "   '__setattr__',\n",
       "   '__sizeof__',\n",
       "   '__str__',\n",
       "   '__subclasshook__',\n",
       "   'func_closure',\n",
       "   'func_code',\n",
       "   'func_defaults',\n",
       "   'func_dict',\n",
       "   'func_doc',\n",
       "   'func_globals',\n",
       "   'func_name'],\n",
       "  45: 'hello world',\n",
       "  46: {'a': 0, 'b': 2, 'c': 0},\n",
       "  48: <slot wrapper '__init__' of 'object' objects>,\n",
       "  49: dict_proxy({'__dict__': <attribute '__dict__' of 'Foo' objects>,\n",
       "              '__doc__': None,\n",
       "              '__module__': '__main__',\n",
       "              '__weakref__': <attribute '__weakref__' of 'Foo' objects>,\n",
       "              'bar': <function __main__.bar>,\n",
       "              'baz': <function __main__.baz>,\n",
       "              'x': 1}),\n",
       "  51: NameError,\n",
       "  52: [NameError, StandardError, Exception, BaseException, object],\n",
       "  54: bool,\n",
       "  55: [bool, int, object],\n",
       "  56: [bool, int, object],\n",
       "  58: 1,\n",
       "  59: {...},\n",
       "  61: <module 'math' (built-in)>,\n",
       "  62: ['__doc__',\n",
       "   '__name__',\n",
       "   '__package__',\n",
       "   'acos',\n",
       "   'acosh',\n",
       "   'asin',\n",
       "   'asinh',\n",
       "   'atan',\n",
       "   'atan2',\n",
       "   'atanh',\n",
       "   'ceil',\n",
       "   'copysign',\n",
       "   'cos',\n",
       "   'cosh',\n",
       "   'degrees',\n",
       "   'e',\n",
       "   'erf',\n",
       "   'erfc',\n",
       "   'exp',\n",
       "   'expm1',\n",
       "   'fabs',\n",
       "   'factorial',\n",
       "   'floor',\n",
       "   'fmod',\n",
       "   'frexp',\n",
       "   'fsum',\n",
       "   'gamma',\n",
       "   'hypot',\n",
       "   'isinf',\n",
       "   'isnan',\n",
       "   'ldexp',\n",
       "   'lgamma',\n",
       "   'log',\n",
       "   'log10',\n",
       "   'log1p',\n",
       "   'modf',\n",
       "   'pi',\n",
       "   'pow',\n",
       "   'radians',\n",
       "   'sin',\n",
       "   'sinh',\n",
       "   'sqrt',\n",
       "   'tan',\n",
       "   'tanh',\n",
       "   'trunc'],\n",
       "  63: <function math.sin>,\n",
       "  64: {'__doc__': 'This module is always available.  It provides access to the\\nmathematical functions defined by the C standard.',\n",
       "   '__name__': 'math',\n",
       "   '__package__': None,\n",
       "   'acos': <function math.acos>,\n",
       "   'acosh': <function math.acosh>,\n",
       "   'asin': <function math.asin>,\n",
       "   'asinh': <function math.asinh>,\n",
       "   'atan': <function math.atan>,\n",
       "   'atan2': <function math.atan2>,\n",
       "   'atanh': <function math.atanh>,\n",
       "   'ceil': <function math.ceil>,\n",
       "   'copysign': <function math.copysign>,\n",
       "   'cos': <function math.cos>,\n",
       "   'cosh': <function math.cosh>,\n",
       "   'degrees': <function math.degrees>,\n",
       "   'e': 2.718281828459045,\n",
       "   'erf': <function math.erf>,\n",
       "   'erfc': <function math.erfc>,\n",
       "   'exp': <function math.exp>,\n",
       "   'expm1': <function math.expm1>,\n",
       "   'fabs': <function math.fabs>,\n",
       "   'factorial': <function math.factorial>,\n",
       "   'floor': <function math.floor>,\n",
       "   'fmod': <function math.fmod>,\n",
       "   'frexp': <function math.frexp>,\n",
       "   'fsum': <function math.fsum>,\n",
       "   'gamma': <function math.gamma>,\n",
       "   'hypot': <function math.hypot>,\n",
       "   'isinf': <function math.isinf>,\n",
       "   'isnan': <function math.isnan>,\n",
       "   'ldexp': <function math.ldexp>,\n",
       "   'lgamma': <function math.lgamma>,\n",
       "   'log': <function math.log>,\n",
       "   'log10': <function math.log10>,\n",
       "   'log1p': <function math.log1p>,\n",
       "   'modf': <function math.modf>,\n",
       "   'pi': 3.141592653589793,\n",
       "   'pow': <function math.pow>,\n",
       "   'radians': <function math.radians>,\n",
       "   'sin': <function math.sin>,\n",
       "   'sinh': <function math.sinh>,\n",
       "   'sqrt': <function math.sqrt>,\n",
       "   'tan': <function math.tan>,\n",
       "   'tanh': <function math.tanh>,\n",
       "   'trunc': <function math.trunc>},\n",
       "  65: ['__doc__',\n",
       "   '__name__',\n",
       "   '__package__',\n",
       "   'acos',\n",
       "   'acosh',\n",
       "   'asin',\n",
       "   'asinh',\n",
       "   'atan',\n",
       "   'atan2',\n",
       "   'atanh'],\n",
       "  66: '__main__'},\n",
       " 'Quadratic': __main__.Quadratic,\n",
       " '_': '__main__',\n",
       " '_11': object,\n",
       " '_12': ['__add__',\n",
       "  '__class__',\n",
       "  '__contains__',\n",
       "  '__delattr__',\n",
       "  '__doc__',\n",
       "  '__eq__',\n",
       "  '__format__',\n",
       "  '__ge__',\n",
       "  '__getattribute__',\n",
       "  '__getitem__',\n",
       "  '__getnewargs__',\n",
       "  '__getslice__',\n",
       "  '__gt__',\n",
       "  '__hash__',\n",
       "  '__init__',\n",
       "  '__le__',\n",
       "  '__len__',\n",
       "  '__lt__',\n",
       "  '__mod__',\n",
       "  '__mul__',\n",
       "  '__ne__',\n",
       "  '__new__',\n",
       "  '__reduce__',\n",
       "  '__reduce_ex__',\n",
       "  '__repr__',\n",
       "  '__rmod__',\n",
       "  '__rmul__',\n",
       "  '__setattr__',\n",
       "  '__sizeof__',\n",
       "  '__str__',\n",
       "  '__subclasshook__',\n",
       "  '_formatter_field_name_split',\n",
       "  '_formatter_parser',\n",
       "  'capitalize',\n",
       "  'center',\n",
       "  'count',\n",
       "  'decode',\n",
       "  'encode',\n",
       "  'endswith',\n",
       "  'expandtabs',\n",
       "  'find',\n",
       "  'format',\n",
       "  'index',\n",
       "  'isalnum',\n",
       "  'isalpha',\n",
       "  'isdigit',\n",
       "  'islower',\n",
       "  'isspace',\n",
       "  'istitle',\n",
       "  'isupper',\n",
       "  'join',\n",
       "  'ljust',\n",
       "  'lower',\n",
       "  'lstrip',\n",
       "  'partition',\n",
       "  'replace',\n",
       "  'rfind',\n",
       "  'rindex',\n",
       "  'rjust',\n",
       "  'rpartition',\n",
       "  'rsplit',\n",
       "  'rstrip',\n",
       "  'split',\n",
       "  'splitlines',\n",
       "  'startswith',\n",
       "  'strip',\n",
       "  'swapcase',\n",
       "  'title',\n",
       "  'translate',\n",
       "  'upper',\n",
       "  'zfill'],\n",
       " '_13': ['__class__',\n",
       "  '__delattr__',\n",
       "  '__doc__',\n",
       "  '__format__',\n",
       "  '__getattribute__',\n",
       "  '__hash__',\n",
       "  '__init__',\n",
       "  '__new__',\n",
       "  '__reduce__',\n",
       "  '__reduce_ex__',\n",
       "  '__repr__',\n",
       "  '__setattr__',\n",
       "  '__sizeof__',\n",
       "  '__str__',\n",
       "  '__subclasshook__'],\n",
       " '_14': type,\n",
       " '_15': '',\n",
       " '_16': int,\n",
       " '_17': 0,\n",
       " '_18': int,\n",
       " '_19': 4,\n",
       " '_20': type,\n",
       " '_23': 12,\n",
       " '_24': True,\n",
       " '_26': __main__.Quadratic,\n",
       " '_27': ['__call__',\n",
       "  '__class__',\n",
       "  '__delattr__',\n",
       "  '__dict__',\n",
       "  '__doc__',\n",
       "  '__format__',\n",
       "  '__getattribute__',\n",
       "  '__hash__',\n",
       "  '__init__',\n",
       "  '__module__',\n",
       "  '__new__',\n",
       "  '__reduce__',\n",
       "  '__reduce_ex__',\n",
       "  '__repr__',\n",
       "  '__setattr__',\n",
       "  '__sizeof__',\n",
       "  '__str__',\n",
       "  '__subclasshook__',\n",
       "  '__weakref__',\n",
       "  'a',\n",
       "  'b',\n",
       "  'c'],\n",
       " '_28': [__main__.Quadratic, object],\n",
       " '_29': [str, basestring, object],\n",
       " '_3': object,\n",
       " '_31': ['__call__',\n",
       "  '__class__',\n",
       "  '__delattr__',\n",
       "  '__dict__',\n",
       "  '__doc__',\n",
       "  '__format__',\n",
       "  '__getattribute__',\n",
       "  '__hash__',\n",
       "  '__init__',\n",
       "  '__module__',\n",
       "  '__new__',\n",
       "  '__reduce__',\n",
       "  '__reduce_ex__',\n",
       "  '__repr__',\n",
       "  '__setattr__',\n",
       "  '__sizeof__',\n",
       "  '__str__',\n",
       "  '__subclasshook__',\n",
       "  '__weakref__',\n",
       "  'a',\n",
       "  'b',\n",
       "  'c'],\n",
       " '_32': [__main__.Quadratic, object],\n",
       " '_33': [str, basestring, object],\n",
       " '_35': dict_proxy({'__call__': <function __main__.__call__>,\n",
       "             '__dict__': <attribute '__dict__' of 'Quadratic' objects>,\n",
       "             '__doc__': None,\n",
       "             '__init__': <function __main__.__init__>,\n",
       "             '__module__': '__main__',\n",
       "             '__weakref__': <attribute '__weakref__' of 'Quadratic' objects>}),\n",
       " '_36': ['__module__',\n",
       "  '__dict__',\n",
       "  '__call__',\n",
       "  '__weakref__',\n",
       "  '__doc__',\n",
       "  '__init__'],\n",
       " '_37': ['__module__',\n",
       "  '__dict__',\n",
       "  '__call__',\n",
       "  '__weakref__',\n",
       "  '__doc__',\n",
       "  '__init__'],\n",
       " '_38': ['__call__',\n",
       "  '__class__',\n",
       "  '__delattr__',\n",
       "  '__dict__',\n",
       "  '__doc__',\n",
       "  '__format__',\n",
       "  '__getattribute__',\n",
       "  '__hash__',\n",
       "  '__init__',\n",
       "  '__module__',\n",
       "  '__new__',\n",
       "  '__reduce__',\n",
       "  '__reduce_ex__',\n",
       "  '__repr__',\n",
       "  '__setattr__',\n",
       "  '__sizeof__',\n",
       "  '__str__',\n",
       "  '__subclasshook__',\n",
       "  '__weakref__'],\n",
       " '_39': 8,\n",
       " '_40': 8,\n",
       " '_42': 16,\n",
       " '_43': function,\n",
       " '_44': ['__call__',\n",
       "  '__class__',\n",
       "  '__closure__',\n",
       "  '__code__',\n",
       "  '__defaults__',\n",
       "  '__delattr__',\n",
       "  '__dict__',\n",
       "  '__doc__',\n",
       "  '__format__',\n",
       "  '__get__',\n",
       "  '__getattribute__',\n",
       "  '__globals__',\n",
       "  '__hash__',\n",
       "  '__init__',\n",
       "  '__module__',\n",
       "  '__name__',\n",
       "  '__new__',\n",
       "  '__reduce__',\n",
       "  '__reduce_ex__',\n",
       "  '__repr__',\n",
       "  '__setattr__',\n",
       "  '__sizeof__',\n",
       "  '__str__',\n",
       "  '__subclasshook__',\n",
       "  'func_closure',\n",
       "  'func_code',\n",
       "  'func_defaults',\n",
       "  'func_dict',\n",
       "  'func_doc',\n",
       "  'func_globals',\n",
       "  'func_name'],\n",
       " '_45': 'hello world',\n",
       " '_46': {'a': 0, 'b': 2, 'c': 0},\n",
       " '_48': <slot wrapper '__init__' of 'object' objects>,\n",
       " '_49': dict_proxy({'__dict__': <attribute '__dict__' of 'Foo' objects>,\n",
       "             '__doc__': None,\n",
       "             '__module__': '__main__',\n",
       "             '__weakref__': <attribute '__weakref__' of 'Foo' objects>,\n",
       "             'bar': <function __main__.bar>,\n",
       "             'baz': <function __main__.baz>,\n",
       "             'x': 1}),\n",
       " '_5': <object at 0x4800490>,\n",
       " '_51': NameError,\n",
       " '_52': [NameError, StandardError, Exception, BaseException, object],\n",
       " '_54': bool,\n",
       " '_55': [bool, int, object],\n",
       " '_56': [bool, int, object],\n",
       " '_58': 1,\n",
       " '_59': {...},\n",
       " '_61': <module 'math' (built-in)>,\n",
       " '_62': ['__doc__',\n",
       "  '__name__',\n",
       "  '__package__',\n",
       "  'acos',\n",
       "  'acosh',\n",
       "  'asin',\n",
       "  'asinh',\n",
       "  'atan',\n",
       "  'atan2',\n",
       "  'atanh',\n",
       "  'ceil',\n",
       "  'copysign',\n",
       "  'cos',\n",
       "  'cosh',\n",
       "  'degrees',\n",
       "  'e',\n",
       "  'erf',\n",
       "  'erfc',\n",
       "  'exp',\n",
       "  'expm1',\n",
       "  'fabs',\n",
       "  'factorial',\n",
       "  'floor',\n",
       "  'fmod',\n",
       "  'frexp',\n",
       "  'fsum',\n",
       "  'gamma',\n",
       "  'hypot',\n",
       "  'isinf',\n",
       "  'isnan',\n",
       "  'ldexp',\n",
       "  'lgamma',\n",
       "  'log',\n",
       "  'log10',\n",
       "  'log1p',\n",
       "  'modf',\n",
       "  'pi',\n",
       "  'pow',\n",
       "  'radians',\n",
       "  'sin',\n",
       "  'sinh',\n",
       "  'sqrt',\n",
       "  'tan',\n",
       "  'tanh',\n",
       "  'trunc'],\n",
       " '_63': <function math.sin>,\n",
       " '_64': {'__doc__': 'This module is always available.  It provides access to the\\nmathematical functions defined by the C standard.',\n",
       "  '__name__': 'math',\n",
       "  '__package__': None,\n",
       "  'acos': <function math.acos>,\n",
       "  'acosh': <function math.acosh>,\n",
       "  'asin': <function math.asin>,\n",
       "  'asinh': <function math.asinh>,\n",
       "  'atan': <function math.atan>,\n",
       "  'atan2': <function math.atan2>,\n",
       "  'atanh': <function math.atanh>,\n",
       "  'ceil': <function math.ceil>,\n",
       "  'copysign': <function math.copysign>,\n",
       "  'cos': <function math.cos>,\n",
       "  'cosh': <function math.cosh>,\n",
       "  'degrees': <function math.degrees>,\n",
       "  'e': 2.718281828459045,\n",
       "  'erf': <function math.erf>,\n",
       "  'erfc': <function math.erfc>,\n",
       "  'exp': <function math.exp>,\n",
       "  'expm1': <function math.expm1>,\n",
       "  'fabs': <function math.fabs>,\n",
       "  'factorial': <function math.factorial>,\n",
       "  'floor': <function math.floor>,\n",
       "  'fmod': <function math.fmod>,\n",
       "  'frexp': <function math.frexp>,\n",
       "  'fsum': <function math.fsum>,\n",
       "  'gamma': <function math.gamma>,\n",
       "  'hypot': <function math.hypot>,\n",
       "  'isinf': <function math.isinf>,\n",
       "  'isnan': <function math.isnan>,\n",
       "  'ldexp': <function math.ldexp>,\n",
       "  'lgamma': <function math.lgamma>,\n",
       "  'log': <function math.log>,\n",
       "  'log10': <function math.log10>,\n",
       "  'log1p': <function math.log1p>,\n",
       "  'modf': <function math.modf>,\n",
       "  'pi': 3.141592653589793,\n",
       "  'pow': <function math.pow>,\n",
       "  'radians': <function math.radians>,\n",
       "  'sin': <function math.sin>,\n",
       "  'sinh': <function math.sinh>,\n",
       "  'sqrt': <function math.sqrt>,\n",
       "  'tan': <function math.tan>,\n",
       "  'tanh': <function math.tanh>,\n",
       "  'trunc': <function math.trunc>},\n",
       " '_65': ['__doc__',\n",
       "  '__name__',\n",
       "  '__package__',\n",
       "  'acos',\n",
       "  'acosh',\n",
       "  'asin',\n",
       "  'asinh',\n",
       "  'atan',\n",
       "  'atan2',\n",
       "  'atanh'],\n",
       " '_66': '__main__',\n",
       " '_7': str,\n",
       " '_8': str,\n",
       " '_9': True,\n",
       " '__': ['__doc__',\n",
       "  '__name__',\n",
       "  '__package__',\n",
       "  'acos',\n",
       "  'acosh',\n",
       "  'asin',\n",
       "  'asinh',\n",
       "  'atan',\n",
       "  'atan2',\n",
       "  'atanh'],\n",
       " '___': {'__doc__': 'This module is always available.  It provides access to the\\nmathematical functions defined by the C standard.',\n",
       "  '__name__': 'math',\n",
       "  '__package__': None,\n",
       "  'acos': <function math.acos>,\n",
       "  'acosh': <function math.acosh>,\n",
       "  'asin': <function math.asin>,\n",
       "  'asinh': <function math.asinh>,\n",
       "  'atan': <function math.atan>,\n",
       "  'atan2': <function math.atan2>,\n",
       "  'atanh': <function math.atanh>,\n",
       "  'ceil': <function math.ceil>,\n",
       "  'copysign': <function math.copysign>,\n",
       "  'cos': <function math.cos>,\n",
       "  'cosh': <function math.cosh>,\n",
       "  'degrees': <function math.degrees>,\n",
       "  'e': 2.718281828459045,\n",
       "  'erf': <function math.erf>,\n",
       "  'erfc': <function math.erfc>,\n",
       "  'exp': <function math.exp>,\n",
       "  'expm1': <function math.expm1>,\n",
       "  'fabs': <function math.fabs>,\n",
       "  'factorial': <function math.factorial>,\n",
       "  'floor': <function math.floor>,\n",
       "  'fmod': <function math.fmod>,\n",
       "  'frexp': <function math.frexp>,\n",
       "  'fsum': <function math.fsum>,\n",
       "  'gamma': <function math.gamma>,\n",
       "  'hypot': <function math.hypot>,\n",
       "  'isinf': <function math.isinf>,\n",
       "  'isnan': <function math.isnan>,\n",
       "  'ldexp': <function math.ldexp>,\n",
       "  'lgamma': <function math.lgamma>,\n",
       "  'log': <function math.log>,\n",
       "  'log10': <function math.log10>,\n",
       "  'log1p': <function math.log1p>,\n",
       "  'modf': <function math.modf>,\n",
       "  'pi': 3.141592653589793,\n",
       "  'pow': <function math.pow>,\n",
       "  'radians': <function math.radians>,\n",
       "  'sin': <function math.sin>,\n",
       "  'sinh': <function math.sinh>,\n",
       "  'sqrt': <function math.sqrt>,\n",
       "  'tan': <function math.tan>,\n",
       "  'tanh': <function math.tanh>,\n",
       "  'trunc': <function math.trunc>},\n",
       " '__builtin__': <module '__builtin__' (built-in)>,\n",
       " '__builtins__': <module '__builtin__' (built-in)>,\n",
       " '__doc__': 'Automatically created module for IPython interactive environment',\n",
       " '__name__': '__main__',\n",
       " '__package__': None,\n",
       " '_dh': [u'c:\\\\users\\\\ahuang\\\\documents\\\\notebooks'],\n",
       " '_i': u'# math is a module is an object\\n# again, everything is an object!\\n# even this prompt session is an obect\\n__name__',\n",
       " '_i1': u'# FYI: python has a lot of bindings to other languages\\n# matlab to python: mlabwrap\\n# fortran to python: f2py\\n# idl to python: pyidl\\n\\n# course website\\n# https://public.enthought.com/~mmkerns/p4se/',\n",
       " '_i10': u'# s is an instance of a string, and has a method __class__, which returns the type',\n",
       " '_i11': u'o.__class__',\n",
       " '_i12': u'dir(s) # provides all the attributes of string; note: EVERYTHING IN PYTHON IS AN object',\n",
       " '_i13': u'dir(o)',\n",
       " '_i14': u's.__class__.__class__ # even s.__class__ is an object!',\n",
       " '_i15': u's.__class__()',\n",
       " '_i16': u'i = 0\\ni.__class__',\n",
       " '_i17': u'i.__class__()',\n",
       " '_i18': u'int # int is actually a class!',\n",
       " '_i19': u'int(4.56) # observe that the constructor for int creates an object ',\n",
       " '_i2': u\"# python is built in C; it's high level C. C is OO, hence python is OO\",\n",
       " '_i20': u'int.__class__',\n",
       " '_i21': u'# the thing that turns a class instance into a \\n# __init__ is the constructor\\n# __call__',\n",
       " '_i22': u\"class Quadratic(object): # object is the parent class of Quadratic\\n    def __init__(self, a=1, b=1, c=0): # 'self' is the equivalent of 'this' in C\\n        self.a = a # 'self' refers to the instance\\n        self.b = b\\n        self.c = c\\n        return\\n    def __call__(self, x):\\n        return self.a * x**2 + self.b * x + self.c\",\n",
       " '_i23': u'q = Quadratic()\\nq.__call__(3)',\n",
       " '_i24': u'q.__call__(3) == 1 * 3**2 + 1 * 3 + 0',\n",
       " '_i25': u'result = Quadratic(a=0,b=2)',\n",
       " '_i26': u'result.__class__',\n",
       " '_i27': u'dir(result) # returns strings of the attributes which are looked up in the dictionary of result',\n",
       " '_i28': u'result.__class__.mro() # method resolution order - ',\n",
       " '_i29': u's.__class__.mro()',\n",
       " '_i3': u'object',\n",
       " '_i30': u'import dill\\nprint(dill.source.getsource(Quadratic))',\n",
       " '_i31': u'dir(result) # returns strings of the attributes which are looked up in the dictionary of result',\n",
       " '_i32': u'result.__class__.mro() # method resolution order - ',\n",
       " '_i33': u's.__class__.mro()',\n",
       " '_i34': u'import dill\\nprint(dill.source.getsource(Quadratic))',\n",
       " '_i35': u'Quadratic.__dict__ # the namespace dictionary, the mapping of the names to objects',\n",
       " '_i36': u'Quadratic.__dict__.keys()',\n",
       " '_i37': u'list(Quadratic.__dict__.keys())',\n",
       " '_i38': u'dir(Quadratic)',\n",
       " '_i39': u'result(4) # what is this?...',\n",
       " '_i4': u\"# this is THE base class in python! every other class in python is derived from 'object' class\\n# in C, you can include python.h and essentially work in python at the lower level\\n# this base class object is called PyObject in C\",\n",
       " '_i40': u'result.__call__(4) # it actually performs the __call__ attribute',\n",
       " '_i41': u'def squared(x):\\n    return x**2',\n",
       " '_i42': u'squared(4)',\n",
       " '_i43': u'squared.__class__',\n",
       " '_i44': u'dir(squared)',\n",
       " '_i45': u\"'hello world' # the python parser actually creates an instance of a string\",\n",
       " '_i46': u'result.__dict__ # these are the first order class attributes',\n",
       " '_i47': u'class Foo(object): # note that there is no __init__ ...\\n    x=1\\n    def bar(self, y):\\n        return self.x + y\\n    def baz(self, x):\\n        self.x = x',\n",
       " '_i48': u'Foo.__init__ # ... so its instantiation will use the inherited constructor of object',\n",
       " '_i49': u'Foo.__dict__',\n",
       " '_i5': u'o = object()\\no',\n",
       " '_i50': u'n = NameError()',\n",
       " '_i51': u'n.__class__',\n",
       " '_i52': u'n.__class__.mro()',\n",
       " '_i53': u'b = True',\n",
       " '_i54': u'b.__class__',\n",
       " '_i55': u'type(b).mro()',\n",
       " '_i56': u'bool.mro()',\n",
       " '_i57': u'a = 1 # sets 1 to a',\n",
       " '_i58': u'a # this returns the thing that a points to',\n",
       " '_i59': u'globals()',\n",
       " '_i6': u\"s = 'hello world'\",\n",
       " '_i60': u'import math',\n",
       " '_i61': u'math',\n",
       " '_i62': u'dir(math)',\n",
       " '_i63': u'math.sin',\n",
       " '_i64': u'math.__dict__',\n",
       " '_i65': u'dir(math)[:10] # print the first 10',\n",
       " '_i66': u'# math is a module is an object\\n# again, everything is an object!\\n# even this prompt session is an obect\\n__name__',\n",
       " '_i67': u'# so, the globals() is an attribute of this __main__\\nglobals()',\n",
       " '_i7': u'type(s)',\n",
       " '_i8': u's.__class__',\n",
       " '_i9': u's.__class__ == type(s)',\n",
       " '_ih': ['',\n",
       "  u'# FYI: python has a lot of bindings to other languages\\n# matlab to python: mlabwrap\\n# fortran to python: f2py\\n# idl to python: pyidl\\n\\n# course website\\n# https://public.enthought.com/~mmkerns/p4se/',\n",
       "  u\"# python is built in C; it's high level C. C is OO, hence python is OO\",\n",
       "  u'object',\n",
       "  u\"# this is THE base class in python! every other class in python is derived from 'object' class\\n# in C, you can include python.h and essentially work in python at the lower level\\n# this base class object is called PyObject in C\",\n",
       "  u'o = object()\\no',\n",
       "  u\"s = 'hello world'\",\n",
       "  u'type(s)',\n",
       "  u's.__class__',\n",
       "  u's.__class__ == type(s)',\n",
       "  u'# s is an instance of a string, and has a method __class__, which returns the type',\n",
       "  u'o.__class__',\n",
       "  u'dir(s) # provides all the attributes of string; note: EVERYTHING IN PYTHON IS AN object',\n",
       "  u'dir(o)',\n",
       "  u's.__class__.__class__ # even s.__class__ is an object!',\n",
       "  u's.__class__()',\n",
       "  u'i = 0\\ni.__class__',\n",
       "  u'i.__class__()',\n",
       "  u'int # int is actually a class!',\n",
       "  u'int(4.56) # observe that the constructor for int creates an object ',\n",
       "  u'int.__class__',\n",
       "  u'# the thing that turns a class instance into a \\n# __init__ is the constructor\\n# __call__',\n",
       "  u\"class Quadratic(object): # object is the parent class of Quadratic\\n    def __init__(self, a=1, b=1, c=0): # 'self' is the equivalent of 'this' in C\\n        self.a = a # 'self' refers to the instance\\n        self.b = b\\n        self.c = c\\n        return\\n    def __call__(self, x):\\n        return self.a * x**2 + self.b * x + self.c\",\n",
       "  u'q = Quadratic()\\nq.__call__(3)',\n",
       "  u'q.__call__(3) == 1 * 3**2 + 1 * 3 + 0',\n",
       "  u'result = Quadratic(a=0,b=2)',\n",
       "  u'result.__class__',\n",
       "  u'dir(result) # returns strings of the attributes which are looked up in the dictionary of result',\n",
       "  u'result.__class__.mro() # method resolution order - ',\n",
       "  u's.__class__.mro()',\n",
       "  u'import dill\\nprint(dill.source.getsource(Quadratic))',\n",
       "  u'dir(result) # returns strings of the attributes which are looked up in the dictionary of result',\n",
       "  u'result.__class__.mro() # method resolution order - ',\n",
       "  u's.__class__.mro()',\n",
       "  u'import dill\\nprint(dill.source.getsource(Quadratic))',\n",
       "  u'Quadratic.__dict__ # the namespace dictionary, the mapping of the names to objects',\n",
       "  u'Quadratic.__dict__.keys()',\n",
       "  u'list(Quadratic.__dict__.keys())',\n",
       "  u'dir(Quadratic)',\n",
       "  u'result(4) # what is this?...',\n",
       "  u'result.__call__(4) # it actually performs the __call__ attribute',\n",
       "  u'def squared(x):\\n    return x**2',\n",
       "  u'squared(4)',\n",
       "  u'squared.__class__',\n",
       "  u'dir(squared)',\n",
       "  u\"'hello world' # the python parser actually creates an instance of a string\",\n",
       "  u'result.__dict__ # these are the first order class attributes',\n",
       "  u'class Foo(object): # note that there is no __init__ ...\\n    x=1\\n    def bar(self, y):\\n        return self.x + y\\n    def baz(self, x):\\n        self.x = x',\n",
       "  u'Foo.__init__ # ... so its instantiation will use the inherited constructor of object',\n",
       "  u'Foo.__dict__',\n",
       "  u'n = NameError()',\n",
       "  u'n.__class__',\n",
       "  u'n.__class__.mro()',\n",
       "  u'b = True',\n",
       "  u'b.__class__',\n",
       "  u'type(b).mro()',\n",
       "  u'bool.mro()',\n",
       "  u'a = 1 # sets 1 to a',\n",
       "  u'a # this returns the thing that a points to',\n",
       "  u'globals()',\n",
       "  u'import math',\n",
       "  u'math',\n",
       "  u'dir(math)',\n",
       "  u'math.sin',\n",
       "  u'math.__dict__',\n",
       "  u'dir(math)[:10] # print the first 10',\n",
       "  u'# math is a module is an object\\n# again, everything is an object!\\n# even this prompt session is an obect\\n__name__',\n",
       "  u'# so, the globals() is an attribute of this __main__\\nglobals()'],\n",
       " '_ii': u'dir(math)[:10] # print the first 10',\n",
       " '_iii': u'math.__dict__',\n",
       " '_oh': {3: object,\n",
       "  5: <object at 0x4800490>,\n",
       "  7: str,\n",
       "  8: str,\n",
       "  9: True,\n",
       "  11: object,\n",
       "  12: ['__add__',\n",
       "   '__class__',\n",
       "   '__contains__',\n",
       "   '__delattr__',\n",
       "   '__doc__',\n",
       "   '__eq__',\n",
       "   '__format__',\n",
       "   '__ge__',\n",
       "   '__getattribute__',\n",
       "   '__getitem__',\n",
       "   '__getnewargs__',\n",
       "   '__getslice__',\n",
       "   '__gt__',\n",
       "   '__hash__',\n",
       "   '__init__',\n",
       "   '__le__',\n",
       "   '__len__',\n",
       "   '__lt__',\n",
       "   '__mod__',\n",
       "   '__mul__',\n",
       "   '__ne__',\n",
       "   '__new__',\n",
       "   '__reduce__',\n",
       "   '__reduce_ex__',\n",
       "   '__repr__',\n",
       "   '__rmod__',\n",
       "   '__rmul__',\n",
       "   '__setattr__',\n",
       "   '__sizeof__',\n",
       "   '__str__',\n",
       "   '__subclasshook__',\n",
       "   '_formatter_field_name_split',\n",
       "   '_formatter_parser',\n",
       "   'capitalize',\n",
       "   'center',\n",
       "   'count',\n",
       "   'decode',\n",
       "   'encode',\n",
       "   'endswith',\n",
       "   'expandtabs',\n",
       "   'find',\n",
       "   'format',\n",
       "   'index',\n",
       "   'isalnum',\n",
       "   'isalpha',\n",
       "   'isdigit',\n",
       "   'islower',\n",
       "   'isspace',\n",
       "   'istitle',\n",
       "   'isupper',\n",
       "   'join',\n",
       "   'ljust',\n",
       "   'lower',\n",
       "   'lstrip',\n",
       "   'partition',\n",
       "   'replace',\n",
       "   'rfind',\n",
       "   'rindex',\n",
       "   'rjust',\n",
       "   'rpartition',\n",
       "   'rsplit',\n",
       "   'rstrip',\n",
       "   'split',\n",
       "   'splitlines',\n",
       "   'startswith',\n",
       "   'strip',\n",
       "   'swapcase',\n",
       "   'title',\n",
       "   'translate',\n",
       "   'upper',\n",
       "   'zfill'],\n",
       "  13: ['__class__',\n",
       "   '__delattr__',\n",
       "   '__doc__',\n",
       "   '__format__',\n",
       "   '__getattribute__',\n",
       "   '__hash__',\n",
       "   '__init__',\n",
       "   '__new__',\n",
       "   '__reduce__',\n",
       "   '__reduce_ex__',\n",
       "   '__repr__',\n",
       "   '__setattr__',\n",
       "   '__sizeof__',\n",
       "   '__str__',\n",
       "   '__subclasshook__'],\n",
       "  14: type,\n",
       "  15: '',\n",
       "  16: int,\n",
       "  17: 0,\n",
       "  18: int,\n",
       "  19: 4,\n",
       "  20: type,\n",
       "  23: 12,\n",
       "  24: True,\n",
       "  26: __main__.Quadratic,\n",
       "  27: ['__call__',\n",
       "   '__class__',\n",
       "   '__delattr__',\n",
       "   '__dict__',\n",
       "   '__doc__',\n",
       "   '__format__',\n",
       "   '__getattribute__',\n",
       "   '__hash__',\n",
       "   '__init__',\n",
       "   '__module__',\n",
       "   '__new__',\n",
       "   '__reduce__',\n",
       "   '__reduce_ex__',\n",
       "   '__repr__',\n",
       "   '__setattr__',\n",
       "   '__sizeof__',\n",
       "   '__str__',\n",
       "   '__subclasshook__',\n",
       "   '__weakref__',\n",
       "   'a',\n",
       "   'b',\n",
       "   'c'],\n",
       "  28: [__main__.Quadratic, object],\n",
       "  29: [str, basestring, object],\n",
       "  31: ['__call__',\n",
       "   '__class__',\n",
       "   '__delattr__',\n",
       "   '__dict__',\n",
       "   '__doc__',\n",
       "   '__format__',\n",
       "   '__getattribute__',\n",
       "   '__hash__',\n",
       "   '__init__',\n",
       "   '__module__',\n",
       "   '__new__',\n",
       "   '__reduce__',\n",
       "   '__reduce_ex__',\n",
       "   '__repr__',\n",
       "   '__setattr__',\n",
       "   '__sizeof__',\n",
       "   '__str__',\n",
       "   '__subclasshook__',\n",
       "   '__weakref__',\n",
       "   'a',\n",
       "   'b',\n",
       "   'c'],\n",
       "  32: [__main__.Quadratic, object],\n",
       "  33: [str, basestring, object],\n",
       "  35: dict_proxy({'__call__': <function __main__.__call__>,\n",
       "              '__dict__': <attribute '__dict__' of 'Quadratic' objects>,\n",
       "              '__doc__': None,\n",
       "              '__init__': <function __main__.__init__>,\n",
       "              '__module__': '__main__',\n",
       "              '__weakref__': <attribute '__weakref__' of 'Quadratic' objects>}),\n",
       "  36: ['__module__',\n",
       "   '__dict__',\n",
       "   '__call__',\n",
       "   '__weakref__',\n",
       "   '__doc__',\n",
       "   '__init__'],\n",
       "  37: ['__module__',\n",
       "   '__dict__',\n",
       "   '__call__',\n",
       "   '__weakref__',\n",
       "   '__doc__',\n",
       "   '__init__'],\n",
       "  38: ['__call__',\n",
       "   '__class__',\n",
       "   '__delattr__',\n",
       "   '__dict__',\n",
       "   '__doc__',\n",
       "   '__format__',\n",
       "   '__getattribute__',\n",
       "   '__hash__',\n",
       "   '__init__',\n",
       "   '__module__',\n",
       "   '__new__',\n",
       "   '__reduce__',\n",
       "   '__reduce_ex__',\n",
       "   '__repr__',\n",
       "   '__setattr__',\n",
       "   '__sizeof__',\n",
       "   '__str__',\n",
       "   '__subclasshook__',\n",
       "   '__weakref__'],\n",
       "  39: 8,\n",
       "  40: 8,\n",
       "  42: 16,\n",
       "  43: function,\n",
       "  44: ['__call__',\n",
       "   '__class__',\n",
       "   '__closure__',\n",
       "   '__code__',\n",
       "   '__defaults__',\n",
       "   '__delattr__',\n",
       "   '__dict__',\n",
       "   '__doc__',\n",
       "   '__format__',\n",
       "   '__get__',\n",
       "   '__getattribute__',\n",
       "   '__globals__',\n",
       "   '__hash__',\n",
       "   '__init__',\n",
       "   '__module__',\n",
       "   '__name__',\n",
       "   '__new__',\n",
       "   '__reduce__',\n",
       "   '__reduce_ex__',\n",
       "   '__repr__',\n",
       "   '__setattr__',\n",
       "   '__sizeof__',\n",
       "   '__str__',\n",
       "   '__subclasshook__',\n",
       "   'func_closure',\n",
       "   'func_code',\n",
       "   'func_defaults',\n",
       "   'func_dict',\n",
       "   'func_doc',\n",
       "   'func_globals',\n",
       "   'func_name'],\n",
       "  45: 'hello world',\n",
       "  46: {'a': 0, 'b': 2, 'c': 0},\n",
       "  48: <slot wrapper '__init__' of 'object' objects>,\n",
       "  49: dict_proxy({'__dict__': <attribute '__dict__' of 'Foo' objects>,\n",
       "              '__doc__': None,\n",
       "              '__module__': '__main__',\n",
       "              '__weakref__': <attribute '__weakref__' of 'Foo' objects>,\n",
       "              'bar': <function __main__.bar>,\n",
       "              'baz': <function __main__.baz>,\n",
       "              'x': 1}),\n",
       "  51: NameError,\n",
       "  52: [NameError, StandardError, Exception, BaseException, object],\n",
       "  54: bool,\n",
       "  55: [bool, int, object],\n",
       "  56: [bool, int, object],\n",
       "  58: 1,\n",
       "  59: {...},\n",
       "  61: <module 'math' (built-in)>,\n",
       "  62: ['__doc__',\n",
       "   '__name__',\n",
       "   '__package__',\n",
       "   'acos',\n",
       "   'acosh',\n",
       "   'asin',\n",
       "   'asinh',\n",
       "   'atan',\n",
       "   'atan2',\n",
       "   'atanh',\n",
       "   'ceil',\n",
       "   'copysign',\n",
       "   'cos',\n",
       "   'cosh',\n",
       "   'degrees',\n",
       "   'e',\n",
       "   'erf',\n",
       "   'erfc',\n",
       "   'exp',\n",
       "   'expm1',\n",
       "   'fabs',\n",
       "   'factorial',\n",
       "   'floor',\n",
       "   'fmod',\n",
       "   'frexp',\n",
       "   'fsum',\n",
       "   'gamma',\n",
       "   'hypot',\n",
       "   'isinf',\n",
       "   'isnan',\n",
       "   'ldexp',\n",
       "   'lgamma',\n",
       "   'log',\n",
       "   'log10',\n",
       "   'log1p',\n",
       "   'modf',\n",
       "   'pi',\n",
       "   'pow',\n",
       "   'radians',\n",
       "   'sin',\n",
       "   'sinh',\n",
       "   'sqrt',\n",
       "   'tan',\n",
       "   'tanh',\n",
       "   'trunc'],\n",
       "  63: <function math.sin>,\n",
       "  64: {'__doc__': 'This module is always available.  It provides access to the\\nmathematical functions defined by the C standard.',\n",
       "   '__name__': 'math',\n",
       "   '__package__': None,\n",
       "   'acos': <function math.acos>,\n",
       "   'acosh': <function math.acosh>,\n",
       "   'asin': <function math.asin>,\n",
       "   'asinh': <function math.asinh>,\n",
       "   'atan': <function math.atan>,\n",
       "   'atan2': <function math.atan2>,\n",
       "   'atanh': <function math.atanh>,\n",
       "   'ceil': <function math.ceil>,\n",
       "   'copysign': <function math.copysign>,\n",
       "   'cos': <function math.cos>,\n",
       "   'cosh': <function math.cosh>,\n",
       "   'degrees': <function math.degrees>,\n",
       "   'e': 2.718281828459045,\n",
       "   'erf': <function math.erf>,\n",
       "   'erfc': <function math.erfc>,\n",
       "   'exp': <function math.exp>,\n",
       "   'expm1': <function math.expm1>,\n",
       "   'fabs': <function math.fabs>,\n",
       "   'factorial': <function math.factorial>,\n",
       "   'floor': <function math.floor>,\n",
       "   'fmod': <function math.fmod>,\n",
       "   'frexp': <function math.frexp>,\n",
       "   'fsum': <function math.fsum>,\n",
       "   'gamma': <function math.gamma>,\n",
       "   'hypot': <function math.hypot>,\n",
       "   'isinf': <function math.isinf>,\n",
       "   'isnan': <function math.isnan>,\n",
       "   'ldexp': <function math.ldexp>,\n",
       "   'lgamma': <function math.lgamma>,\n",
       "   'log': <function math.log>,\n",
       "   'log10': <function math.log10>,\n",
       "   'log1p': <function math.log1p>,\n",
       "   'modf': <function math.modf>,\n",
       "   'pi': 3.141592653589793,\n",
       "   'pow': <function math.pow>,\n",
       "   'radians': <function math.radians>,\n",
       "   'sin': <function math.sin>,\n",
       "   'sinh': <function math.sinh>,\n",
       "   'sqrt': <function math.sqrt>,\n",
       "   'tan': <function math.tan>,\n",
       "   'tanh': <function math.tanh>,\n",
       "   'trunc': <function math.trunc>},\n",
       "  65: ['__doc__',\n",
       "   '__name__',\n",
       "   '__package__',\n",
       "   'acos',\n",
       "   'acosh',\n",
       "   'asin',\n",
       "   'asinh',\n",
       "   'atan',\n",
       "   'atan2',\n",
       "   'atanh'],\n",
       "  66: '__main__'},\n",
       " '_sh': <module 'IPython.core.shadowns' from 'C:\\Users\\ahuang\\AppData\\Local\\Enthought\\Canopy\\edm\\envs\\User\\lib\\site-packages\\IPython\\core\\shadowns.pyc'>,\n",
       " 'a': 1,\n",
       " 'b': True,\n",
       " 'exit': <IPython.core.autocall.ZMQExitAutocall at 0x2865d68>,\n",
       " 'get_ipython': <bound method ZMQInteractiveShell.get_ipython of <ipykernel.zmqshell.ZMQInteractiveShell object at 0x0000000002824518>>,\n",
       " 'i': 0,\n",
       " 'math': <module 'math' (built-in)>,\n",
       " 'n': NameError(),\n",
       " 'o': <object at 0x4800490>,\n",
       " 'q': <__main__.Quadratic at 0x48b1b38>,\n",
       " 'quit': <IPython.core.autocall.ZMQExitAutocall at 0x2865d68>,\n",
       " 'result': <__main__.Quadratic at 0x48b1ba8>,\n",
       " 's': 'hello world',\n",
       " 'squared': <function __main__.squared>}"
      ]
     },
     "execution_count": 67,
     "metadata": {},
     "output_type": "execute_result"
    }
   ],
   "source": [
    "# so, the globals() is an attribute of this __main__\n",
    "globals()"
   ]
  },
  {
   "cell_type": "code",
   "execution_count": 68,
   "metadata": {
    "collapsed": false,
    "deletable": true,
    "editable": true
   },
   "outputs": [
    {
     "data": {
      "text/plain": [
       "True"
      ]
     },
     "execution_count": 68,
     "metadata": {},
     "output_type": "execute_result"
    }
   ],
   "source": [
    "import __main__ # so meta; this imports the current *session* as an object\n",
    "__main__.__dict__ == globals()"
   ]
  },
  {
   "cell_type": "code",
   "execution_count": 69,
   "metadata": {
    "collapsed": false,
    "deletable": true,
    "editable": true
   },
   "outputs": [
    {
     "ename": "NameError",
     "evalue": "name 'f' is not defined",
     "output_type": "error",
     "traceback": [
      "\u001b[1;31m\u001b[0m",
      "\u001b[1;31mNameError\u001b[0mTraceback (most recent call last)",
      "\u001b[1;32m<ipython-input-69-9a8ad92c50ca>\u001b[0m in \u001b[0;36m<module>\u001b[1;34m()\u001b[0m\n\u001b[1;32m----> 1\u001b[1;33m \u001b[0mf\u001b[0m\u001b[1;33m\u001b[0m\u001b[0m\n\u001b[0m",
      "\u001b[1;31mNameError\u001b[0m: name 'f' is not defined"
     ]
    }
   ],
   "source": [
    "f"
   ]
  },
  {
   "cell_type": "code",
   "execution_count": 70,
   "metadata": {
    "collapsed": false,
    "deletable": true,
    "editable": true
   },
   "outputs": [
    {
     "ename": "NameError",
     "evalue": "name 'f' is not defined",
     "output_type": "error",
     "traceback": [
      "\u001b[1;31m\u001b[0m",
      "\u001b[1;31mNameError\u001b[0mTraceback (most recent call last)",
      "\u001b[1;32m<ipython-input-70-8048fa21661f>\u001b[0m in \u001b[0;36m<module>\u001b[1;34m()\u001b[0m\n\u001b[1;32m----> 1\u001b[1;33m \u001b[0mf\u001b[0m\u001b[1;33m.\u001b[0m\u001b[0m__dict__\u001b[0m\u001b[1;33m\u001b[0m\u001b[0m\n\u001b[0m",
      "\u001b[1;31mNameError\u001b[0m: name 'f' is not defined"
     ]
    }
   ],
   "source": [
    "f.__dict__"
   ]
  },
  {
   "cell_type": "code",
   "execution_count": 71,
   "metadata": {
    "collapsed": false,
    "deletable": true,
    "editable": true
   },
   "outputs": [
    {
     "data": {
      "text/plain": [
       "1"
      ]
     },
     "execution_count": 71,
     "metadata": {},
     "output_type": "execute_result"
    }
   ],
   "source": [
    "Foo.x"
   ]
  },
  {
   "cell_type": "code",
   "execution_count": 72,
   "metadata": {
    "collapsed": false,
    "deletable": true,
    "editable": true
   },
   "outputs": [
    {
     "ename": "AttributeError",
     "evalue": "type object 'Quadratic' has no attribute 'a'",
     "output_type": "error",
     "traceback": [
      "\u001b[1;31m\u001b[0m",
      "\u001b[1;31mAttributeError\u001b[0mTraceback (most recent call last)",
      "\u001b[1;32m<ipython-input-72-da80e3798409>\u001b[0m in \u001b[0;36m<module>\u001b[1;34m()\u001b[0m\n\u001b[1;32m----> 1\u001b[1;33m \u001b[0mQuadratic\u001b[0m\u001b[1;33m.\u001b[0m\u001b[0ma\u001b[0m \u001b[1;31m# this doesn't exist!\u001b[0m\u001b[1;33m\u001b[0m\u001b[0m\n\u001b[0m",
      "\u001b[1;31mAttributeError\u001b[0m: type object 'Quadratic' has no attribute 'a'"
     ]
    }
   ],
   "source": [
    "Quadratic.a # this doesn't exist!"
   ]
  },
  {
   "cell_type": "code",
   "execution_count": 73,
   "metadata": {
    "collapsed": false,
    "deletable": true,
    "editable": true
   },
   "outputs": [
    {
     "data": {
      "text/plain": [
       "0"
      ]
     },
     "execution_count": 73,
     "metadata": {},
     "output_type": "execute_result"
    }
   ],
   "source": [
    "# this is because a belongs to the dictionary of the class instance\n",
    "result.a"
   ]
  },
  {
   "cell_type": "code",
   "execution_count": 144,
   "metadata": {
    "collapsed": false,
    "deletable": true,
    "editable": true
   },
   "outputs": [
    {
     "data": {
      "text/plain": [
       "1"
      ]
     },
     "execution_count": 144,
     "metadata": {},
     "output_type": "execute_result"
    }
   ],
   "source": [
    "f = Foo()\n",
    "f.x # x is not in the dictionary of f, but x is in the dictionary of the parent, Foo!"
   ]
  },
  {
   "cell_type": "code",
   "execution_count": 145,
   "metadata": {
    "collapsed": false,
    "deletable": true,
    "editable": true
   },
   "outputs": [
    {
     "data": {
      "text/plain": [
       "4"
      ]
     },
     "execution_count": 145,
     "metadata": {},
     "output_type": "execute_result"
    }
   ],
   "source": [
    "f.bar(3) # this works even though bar isn't in the dictionary of f, either; it uses Foo's bar"
   ]
  },
  {
   "cell_type": "code",
   "execution_count": 146,
   "metadata": {
    "collapsed": false,
    "deletable": true,
    "editable": true
   },
   "outputs": [
    {
     "data": {
      "text/plain": [
       "4"
      ]
     },
     "execution_count": 146,
     "metadata": {},
     "output_type": "execute_result"
    }
   ],
   "source": [
    "Foo.bar(f,3) # the self (first argument) has to be an instance of Foo"
   ]
  },
  {
   "cell_type": "code",
   "execution_count": 147,
   "metadata": {
    "collapsed": false,
    "deletable": true,
    "editable": true
   },
   "outputs": [
    {
     "data": {
      "text/plain": [
       "type"
      ]
     },
     "execution_count": 147,
     "metadata": {},
     "output_type": "execute_result"
    }
   ],
   "source": [
    "type(Foo)"
   ]
  },
  {
   "cell_type": "code",
   "execution_count": 148,
   "metadata": {
    "collapsed": false,
    "deletable": true,
    "editable": true
   },
   "outputs": [
    {
     "data": {
      "text/plain": [
       "__main__.Foo"
      ]
     },
     "execution_count": 148,
     "metadata": {},
     "output_type": "execute_result"
    }
   ],
   "source": [
    "type(f)"
   ]
  },
  {
   "cell_type": "code",
   "execution_count": 149,
   "metadata": {
    "collapsed": false,
    "deletable": true,
    "editable": true
   },
   "outputs": [],
   "source": [
    "f.baz(5)"
   ]
  },
  {
   "cell_type": "code",
   "execution_count": 150,
   "metadata": {
    "collapsed": false,
    "deletable": true,
    "editable": true
   },
   "outputs": [
    {
     "data": {
      "text/plain": [
       "5"
      ]
     },
     "execution_count": 150,
     "metadata": {},
     "output_type": "execute_result"
    }
   ],
   "source": [
    "f.x"
   ]
  },
  {
   "cell_type": "code",
   "execution_count": 151,
   "metadata": {
    "collapsed": false,
    "deletable": true,
    "editable": true
   },
   "outputs": [
    {
     "data": {
      "text/plain": [
       "1"
      ]
     },
     "execution_count": 151,
     "metadata": {},
     "output_type": "execute_result"
    }
   ],
   "source": [
    "Foo.x"
   ]
  },
  {
   "cell_type": "code",
   "execution_count": 152,
   "metadata": {
    "collapsed": false,
    "deletable": true,
    "editable": true
   },
   "outputs": [
    {
     "data": {
      "text/plain": [
       "{'x': 5}"
      ]
     },
     "execution_count": 152,
     "metadata": {},
     "output_type": "execute_result"
    }
   ],
   "source": [
    "f.__dict__ # now f actually contains an x, and doesn't look at Foo's x "
   ]
  },
  {
   "cell_type": "code",
   "execution_count": 153,
   "metadata": {
    "collapsed": false,
    "deletable": true,
    "editable": true
   },
   "outputs": [],
   "source": [
    "f.x = 1 # let's try resetting it"
   ]
  },
  {
   "cell_type": "code",
   "execution_count": 154,
   "metadata": {
    "collapsed": false,
    "deletable": true,
    "editable": true
   },
   "outputs": [],
   "source": [
    "Foo.x = -1 # what if we change Foo's dictionary?"
   ]
  },
  {
   "cell_type": "code",
   "execution_count": 155,
   "metadata": {
    "collapsed": false,
    "deletable": true,
    "editable": true
   },
   "outputs": [],
   "source": [
    "f.x = Foo.x"
   ]
  },
  {
   "cell_type": "code",
   "execution_count": 156,
   "metadata": {
    "collapsed": false,
    "deletable": true,
    "editable": true
   },
   "outputs": [
    {
     "data": {
      "text/plain": [
       "{'x': -1}"
      ]
     },
     "execution_count": 156,
     "metadata": {},
     "output_type": "execute_result"
    }
   ],
   "source": [
    "f.__dict__"
   ]
  },
  {
   "cell_type": "code",
   "execution_count": 157,
   "metadata": {
    "collapsed": false,
    "deletable": true,
    "editable": true
   },
   "outputs": [
    {
     "data": {
      "text/plain": [
       "dict_proxy({'__dict__': <attribute '__dict__' of 'Foo' objects>,\n",
       "            '__doc__': None,\n",
       "            '__module__': '__main__',\n",
       "            '__weakref__': <attribute '__weakref__' of 'Foo' objects>,\n",
       "            'bar': <function __main__.bar>,\n",
       "            'baz': <function __main__.baz>,\n",
       "            'x': -1})"
      ]
     },
     "execution_count": 157,
     "metadata": {},
     "output_type": "execute_result"
    }
   ],
   "source": [
    "Foo.__dict__"
   ]
  },
  {
   "cell_type": "code",
   "execution_count": 158,
   "metadata": {
    "collapsed": false,
    "deletable": true,
    "editable": true
   },
   "outputs": [],
   "source": [
    "del f.x"
   ]
  },
  {
   "cell_type": "code",
   "execution_count": 159,
   "metadata": {
    "collapsed": false,
    "deletable": true,
    "editable": true
   },
   "outputs": [
    {
     "data": {
      "text/plain": [
       "-1"
      ]
     },
     "execution_count": 159,
     "metadata": {},
     "output_type": "execute_result"
    }
   ],
   "source": [
    "f.x # now returns Foo.x"
   ]
  },
  {
   "cell_type": "code",
   "execution_count": 160,
   "metadata": {
    "collapsed": false,
    "deletable": true,
    "editable": true
   },
   "outputs": [
    {
     "data": {
      "text/plain": [
       "True"
      ]
     },
     "execution_count": 160,
     "metadata": {},
     "output_type": "execute_result"
    }
   ],
   "source": [
    "f.x is Foo.x # asks if these point to the same object"
   ]
  },
  {
   "cell_type": "code",
   "execution_count": 161,
   "metadata": {
    "collapsed": false,
    "deletable": true,
    "editable": true
   },
   "outputs": [
    {
     "data": {
      "text/plain": [
       "True"
      ]
     },
     "execution_count": 161,
     "metadata": {},
     "output_type": "execute_result"
    }
   ],
   "source": [
    "f.x == Foo.x"
   ]
  },
  {
   "cell_type": "code",
   "execution_count": 162,
   "metadata": {
    "collapsed": false,
    "deletable": true,
    "editable": true
   },
   "outputs": [
    {
     "data": {
      "text/plain": [
       "10707976L"
      ]
     },
     "execution_count": 162,
     "metadata": {},
     "output_type": "execute_result"
    }
   ],
   "source": [
    "id(Foo.x)"
   ]
  },
  {
   "cell_type": "code",
   "execution_count": 163,
   "metadata": {
    "collapsed": false,
    "deletable": true,
    "editable": true
   },
   "outputs": [
    {
     "data": {
      "text/plain": [
       "'0xa36408L'"
      ]
     },
     "execution_count": 163,
     "metadata": {},
     "output_type": "execute_result"
    }
   ],
   "source": [
    "hex(id(Foo.x))"
   ]
  },
  {
   "cell_type": "code",
   "execution_count": 164,
   "metadata": {
    "collapsed": true,
    "deletable": true,
    "editable": true
   },
   "outputs": [],
   "source": [
    "# so this means del f.x must just move the pointer!\n",
    "# BREAK"
   ]
  },
  {
   "cell_type": "code",
   "execution_count": 165,
   "metadata": {
    "collapsed": false,
    "deletable": true,
    "editable": true
   },
   "outputs": [
    {
     "data": {
      "text/plain": [
       "<slot wrapper '__init__' of 'object' objects>"
      ]
     },
     "execution_count": 165,
     "metadata": {},
     "output_type": "execute_result"
    }
   ],
   "source": [
    "object.__init__ # question: does this exist"
   ]
  },
  {
   "cell_type": "code",
   "execution_count": 166,
   "metadata": {
    "collapsed": false
   },
   "outputs": [
    {
     "data": {
      "text/plain": [
       "['__class__',\n",
       " '__delattr__',\n",
       " '__doc__',\n",
       " '__format__',\n",
       " '__getattribute__',\n",
       " '__hash__',\n",
       " '__init__',\n",
       " '__new__',\n",
       " '__reduce__',\n",
       " '__reduce_ex__',\n",
       " '__repr__',\n",
       " '__setattr__',\n",
       " '__sizeof__',\n",
       " '__str__',\n",
       " '__subclasshook__']"
      ]
     },
     "execution_count": 166,
     "metadata": {},
     "output_type": "execute_result"
    }
   ],
   "source": [
    "dir(object)"
   ]
  },
  {
   "cell_type": "code",
   "execution_count": 167,
   "metadata": {
    "collapsed": false
   },
   "outputs": [
    {
     "data": {
      "text/plain": [
       "3.141592653589793"
      ]
     },
     "execution_count": 167,
     "metadata": {},
     "output_type": "execute_result"
    }
   ],
   "source": [
    "math.pi"
   ]
  },
  {
   "cell_type": "code",
   "execution_count": 168,
   "metadata": {
    "collapsed": false
   },
   "outputs": [],
   "source": [
    "math.pi = 4 # oh boy"
   ]
  },
  {
   "cell_type": "code",
   "execution_count": 169,
   "metadata": {
    "collapsed": false
   },
   "outputs": [
    {
     "data": {
      "text/plain": [
       "4"
      ]
     },
     "execution_count": 169,
     "metadata": {},
     "output_type": "execute_result"
    }
   ],
   "source": [
    "math.pi"
   ]
  },
  {
   "cell_type": "code",
   "execution_count": 170,
   "metadata": {
    "collapsed": false
   },
   "outputs": [
    {
     "data": {
      "text/plain": [
       "4"
      ]
     },
     "execution_count": 170,
     "metadata": {},
     "output_type": "execute_result"
    }
   ],
   "source": [
    "# how do we fix this?\n",
    "del math\n",
    "import math\n",
    "math.pi"
   ]
  },
  {
   "cell_type": "code",
   "execution_count": 171,
   "metadata": {
    "collapsed": true
   },
   "outputs": [],
   "source": [
    "# it still hasn't changed; it's because the pointers are still around\n",
    "del math\n",
    "import sys\n",
    "sys.modules.pop('math')\n",
    "import math"
   ]
  },
  {
   "cell_type": "code",
   "execution_count": 172,
   "metadata": {
    "collapsed": false
   },
   "outputs": [
    {
     "data": {
      "text/plain": [
       "3.141592653589793"
      ]
     },
     "execution_count": 172,
     "metadata": {},
     "output_type": "execute_result"
    }
   ],
   "source": [
    "math.pi"
   ]
  },
  {
   "cell_type": "code",
   "execution_count": 173,
   "metadata": {
    "collapsed": false
   },
   "outputs": [
    {
     "data": {
      "text/plain": [
       "3"
      ]
     },
     "execution_count": 173,
     "metadata": {},
     "output_type": "execute_result"
    }
   ],
   "source": [
    "min(3,4,5)"
   ]
  },
  {
   "cell_type": "code",
   "execution_count": 174,
   "metadata": {
    "collapsed": true
   },
   "outputs": [],
   "source": [
    "min = min(3,4,5) # don't do this!! this replaces what min points to"
   ]
  },
  {
   "cell_type": "code",
   "execution_count": 175,
   "metadata": {
    "collapsed": false
   },
   "outputs": [
    {
     "data": {
      "text/plain": [
       "3"
      ]
     },
     "execution_count": 175,
     "metadata": {},
     "output_type": "execute_result"
    }
   ],
   "source": [
    "min"
   ]
  },
  {
   "cell_type": "code",
   "execution_count": 176,
   "metadata": {
    "collapsed": false
   },
   "outputs": [
    {
     "ename": "TypeError",
     "evalue": "'int' object is not callable",
     "output_type": "error",
     "traceback": [
      "\u001b[1;31m\u001b[0m",
      "\u001b[1;31mTypeError\u001b[0mTraceback (most recent call last)",
      "\u001b[1;32m<ipython-input-176-1af3f015730e>\u001b[0m in \u001b[0;36m<module>\u001b[1;34m()\u001b[0m\n\u001b[1;32m----> 1\u001b[1;33m \u001b[0mmin\u001b[0m\u001b[1;33m(\u001b[0m\u001b[1;36m3\u001b[0m\u001b[1;33m,\u001b[0m\u001b[1;36m4\u001b[0m\u001b[1;33m,\u001b[0m\u001b[1;36m5\u001b[0m\u001b[1;33m)\u001b[0m \u001b[1;31m# min is now an int!!\u001b[0m\u001b[1;33m\u001b[0m\u001b[0m\n\u001b[0m",
      "\u001b[1;31mTypeError\u001b[0m: 'int' object is not callable"
     ]
    }
   ],
   "source": [
    "min(3,4,5) # min is now an int!!"
   ]
  },
  {
   "cell_type": "code",
   "execution_count": 177,
   "metadata": {
    "collapsed": true
   },
   "outputs": [],
   "source": [
    "del globals()['min']"
   ]
  },
  {
   "cell_type": "code",
   "execution_count": 178,
   "metadata": {
    "collapsed": false
   },
   "outputs": [
    {
     "data": {
      "text/plain": [
       "3"
      ]
     },
     "execution_count": 178,
     "metadata": {},
     "output_type": "execute_result"
    }
   ],
   "source": [
    "min(3,4,5)"
   ]
  },
  {
   "cell_type": "code",
   "execution_count": 179,
   "metadata": {
    "collapsed": true
   },
   "outputs": [],
   "source": [
    "# another mistake\n",
    "max = min(3,4,5)"
   ]
  },
  {
   "cell_type": "code",
   "execution_count": 180,
   "metadata": {
    "collapsed": false
   },
   "outputs": [
    {
     "ename": "TypeError",
     "evalue": "'int' object is not callable",
     "output_type": "error",
     "traceback": [
      "\u001b[1;31m\u001b[0m",
      "\u001b[1;31mTypeError\u001b[0mTraceback (most recent call last)",
      "\u001b[1;32m<ipython-input-180-a89cc88f90fe>\u001b[0m in \u001b[0;36m<module>\u001b[1;34m()\u001b[0m\n\u001b[1;32m----> 1\u001b[1;33m \u001b[0mmax\u001b[0m\u001b[1;33m(\u001b[0m\u001b[1;36m3\u001b[0m\u001b[1;33m,\u001b[0m\u001b[1;36m4\u001b[0m\u001b[1;33m,\u001b[0m\u001b[1;36m5\u001b[0m\u001b[1;33m)\u001b[0m\u001b[1;33m\u001b[0m\u001b[0m\n\u001b[0m",
      "\u001b[1;31mTypeError\u001b[0m: 'int' object is not callable"
     ]
    }
   ],
   "source": [
    "max(3,4,5)"
   ]
  },
  {
   "cell_type": "code",
   "execution_count": 181,
   "metadata": {
    "collapsed": false
   },
   "outputs": [],
   "source": [
    "del max # same as \"del globals()['max']\""
   ]
  },
  {
   "cell_type": "code",
   "execution_count": 182,
   "metadata": {
    "collapsed": false
   },
   "outputs": [
    {
     "data": {
      "text/plain": [
       "5"
      ]
     },
     "execution_count": 182,
     "metadata": {},
     "output_type": "execute_result"
    }
   ],
   "source": [
    "max(3,4,5)"
   ]
  },
  {
   "cell_type": "code",
   "execution_count": 183,
   "metadata": {
    "collapsed": true
   },
   "outputs": [],
   "source": [
    "import builtins # this safeguards against accidentally renaming things"
   ]
  },
  {
   "cell_type": "code",
   "execution_count": 184,
   "metadata": {
    "collapsed": false
   },
   "outputs": [
    {
     "data": {
      "text/plain": [
       "1"
      ]
     },
     "execution_count": 184,
     "metadata": {},
     "output_type": "execute_result"
    }
   ],
   "source": [
    "builtins.min(1,2,3)"
   ]
  },
  {
   "cell_type": "code",
   "execution_count": 185,
   "metadata": {
    "collapsed": false
   },
   "outputs": [
    {
     "data": {
      "text/plain": [
       "True"
      ]
     },
     "execution_count": 185,
     "metadata": {},
     "output_type": "execute_result"
    }
   ],
   "source": [
    "builtins.min is min"
   ]
  },
  {
   "cell_type": "code",
   "execution_count": 186,
   "metadata": {
    "collapsed": true
   },
   "outputs": [],
   "source": [
    "min = min(3,4,5)"
   ]
  },
  {
   "cell_type": "code",
   "execution_count": 187,
   "metadata": {
    "collapsed": false
   },
   "outputs": [
    {
     "data": {
      "text/plain": [
       "False"
      ]
     },
     "execution_count": 187,
     "metadata": {},
     "output_type": "execute_result"
    }
   ],
   "source": [
    "builtins.min is min"
   ]
  },
  {
   "cell_type": "code",
   "execution_count": 188,
   "metadata": {
    "collapsed": false
   },
   "outputs": [],
   "source": [
    "del min # same as 'del globals()['min']'"
   ]
  },
  {
   "cell_type": "code",
   "execution_count": 190,
   "metadata": {
    "collapsed": false
   },
   "outputs": [
    {
     "data": {
      "text/plain": [
       "-1"
      ]
     },
     "execution_count": 190,
     "metadata": {},
     "output_type": "execute_result"
    }
   ],
   "source": [
    "f.x"
   ]
  },
  {
   "cell_type": "code",
   "execution_count": null,
   "metadata": {
    "collapsed": true,
    "deletable": true,
    "editable": true
   },
   "outputs": [],
   "source": []
  },
  {
   "cell_type": "code",
   "execution_count": 195,
   "metadata": {
    "collapsed": false
   },
   "outputs": [],
   "source": [
    "Foo.x = 2"
   ]
  },
  {
   "cell_type": "code",
   "execution_count": 197,
   "metadata": {
    "collapsed": true
   },
   "outputs": [],
   "source": [
    "g = Foo() # this changed the class definition!"
   ]
  },
  {
   "cell_type": "code",
   "execution_count": 199,
   "metadata": {
    "collapsed": false
   },
   "outputs": [
    {
     "data": {
      "text/plain": [
       "2"
      ]
     },
     "execution_count": 199,
     "metadata": {},
     "output_type": "execute_result"
    }
   ],
   "source": [
    "g.x # so now Foo instances had x=1, then x=-1, and now x=2"
   ]
  },
  {
   "cell_type": "code",
   "execution_count": 201,
   "metadata": {
    "collapsed": false
   },
   "outputs": [
    {
     "data": {
      "text/plain": [
       "2"
      ]
     },
     "execution_count": 201,
     "metadata": {},
     "output_type": "execute_result"
    }
   ],
   "source": [
    "f.x # remember, f doesn't have an x, so it is pointing to Foo.x, and Foo.x was changed"
   ]
  },
  {
   "cell_type": "code",
   "execution_count": 202,
   "metadata": {
    "collapsed": true
   },
   "outputs": [],
   "source": [
    "def zap(self, x): # this method of declaration is called \"the visitor pattern\"\n",
    "    return self.x + x # this will work as long as the instance of the class, self, has an attribute x and a + operation"
   ]
  },
  {
   "cell_type": "code",
   "execution_count": 203,
   "metadata": {
    "collapsed": false
   },
   "outputs": [
    {
     "data": {
      "text/plain": [
       "0"
      ]
     },
     "execution_count": 203,
     "metadata": {},
     "output_type": "execute_result"
    }
   ],
   "source": [
    "i"
   ]
  },
  {
   "cell_type": "code",
   "execution_count": 204,
   "metadata": {
    "collapsed": false
   },
   "outputs": [
    {
     "data": {
      "text/plain": [
       "3"
      ]
     },
     "execution_count": 204,
     "metadata": {},
     "output_type": "execute_result"
    }
   ],
   "source": [
    "i.__add__(3)"
   ]
  },
  {
   "cell_type": "code",
   "execution_count": 205,
   "metadata": {
    "collapsed": false
   },
   "outputs": [
    {
     "data": {
      "text/plain": [
       "3"
      ]
     },
     "execution_count": 205,
     "metadata": {},
     "output_type": "execute_result"
    }
   ],
   "source": [
    "i + 3"
   ]
  },
  {
   "cell_type": "code",
   "execution_count": 210,
   "metadata": {
    "collapsed": false
   },
   "outputs": [],
   "source": [
    "math.x = 1"
   ]
  },
  {
   "cell_type": "code",
   "execution_count": 211,
   "metadata": {
    "collapsed": false
   },
   "outputs": [
    {
     "data": {
      "text/plain": [
       "5"
      ]
     },
     "execution_count": 211,
     "metadata": {},
     "output_type": "execute_result"
    }
   ],
   "source": [
    "zap(math,4)"
   ]
  },
  {
   "cell_type": "code",
   "execution_count": 214,
   "metadata": {
    "collapsed": false
   },
   "outputs": [
    {
     "data": {
      "text/plain": [
       "5"
      ]
     },
     "execution_count": 214,
     "metadata": {},
     "output_type": "execute_result"
    }
   ],
   "source": [
    "math.x.__add__(4) # is what zap(math,4) performs"
   ]
  },
  {
   "cell_type": "code",
   "execution_count": 216,
   "metadata": {
    "collapsed": false
   },
   "outputs": [
    {
     "data": {
      "text/plain": [
       "6"
      ]
     },
     "execution_count": 216,
     "metadata": {},
     "output_type": "execute_result"
    }
   ],
   "source": [
    "zap(f,4) # this works because f has an attribute named x"
   ]
  },
  {
   "cell_type": "code",
   "execution_count": 217,
   "metadata": {
    "collapsed": true
   },
   "outputs": [],
   "source": [
    "Foo.zap = zap # Foo now has an attribute named zap, which points to zap"
   ]
  },
  {
   "cell_type": "code",
   "execution_count": 218,
   "metadata": {
    "collapsed": false
   },
   "outputs": [
    {
     "data": {
      "text/plain": [
       "6"
      ]
     },
     "execution_count": 218,
     "metadata": {},
     "output_type": "execute_result"
    }
   ],
   "source": [
    "Foo.zap(f,4) # Foo now has a zap"
   ]
  },
  {
   "cell_type": "code",
   "execution_count": 235,
   "metadata": {
    "collapsed": false
   },
   "outputs": [
    {
     "data": {
      "text/plain": [
       "6"
      ]
     },
     "execution_count": 235,
     "metadata": {},
     "output_type": "execute_result"
    }
   ],
   "source": [
    "f.zap(4) # now works; zap is called by f, an instance of Foo; so, fills in f for the (first) self argument"
   ]
  },
  {
   "cell_type": "code",
   "execution_count": 236,
   "metadata": {
    "collapsed": false
   },
   "outputs": [],
   "source": [
    "import functools"
   ]
  },
  {
   "cell_type": "code",
   "execution_count": 237,
   "metadata": {
    "collapsed": false
   },
   "outputs": [
    {
     "data": {
      "text/plain": [
       "functools.partial"
      ]
     },
     "execution_count": 237,
     "metadata": {},
     "output_type": "execute_result"
    }
   ],
   "source": [
    "functools.partial"
   ]
  },
  {
   "cell_type": "code",
   "execution_count": 238,
   "metadata": {
    "collapsed": false
   },
   "outputs": [
    {
     "data": {
      "text/plain": [
       "11"
      ]
     },
     "execution_count": 238,
     "metadata": {},
     "output_type": "execute_result"
    }
   ],
   "source": [
    "int('11')"
   ]
  },
  {
   "cell_type": "code",
   "execution_count": 239,
   "metadata": {
    "collapsed": false
   },
   "outputs": [
    {
     "data": {
      "text/plain": [
       "3"
      ]
     },
     "execution_count": 239,
     "metadata": {},
     "output_type": "execute_result"
    }
   ],
   "source": [
    "int('11',base=2)"
   ]
  },
  {
   "cell_type": "code",
   "execution_count": 240,
   "metadata": {
    "collapsed": false
   },
   "outputs": [
    {
     "data": {
      "text/plain": [
       "<functools.partial at 0x489f278>"
      ]
     },
     "execution_count": 240,
     "metadata": {},
     "output_type": "execute_result"
    }
   ],
   "source": [
    "functools.partial(int,base=2)"
   ]
  },
  {
   "cell_type": "code",
   "execution_count": 241,
   "metadata": {
    "collapsed": true
   },
   "outputs": [],
   "source": [
    "binary = functools.partial(int,base=2)"
   ]
  },
  {
   "cell_type": "code",
   "execution_count": 242,
   "metadata": {
    "collapsed": false
   },
   "outputs": [
    {
     "data": {
      "text/plain": [
       "3"
      ]
     },
     "execution_count": 242,
     "metadata": {},
     "output_type": "execute_result"
    }
   ],
   "source": [
    "binary('11')"
   ]
  },
  {
   "cell_type": "code",
   "execution_count": 245,
   "metadata": {
    "collapsed": false
   },
   "outputs": [
    {
     "data": {
      "text/plain": [
       "True"
      ]
     },
     "execution_count": 245,
     "metadata": {},
     "output_type": "execute_result"
    }
   ],
   "source": [
    "a = 1 ; b = 1 ; a == b"
   ]
  },
  {
   "cell_type": "code",
   "execution_count": 246,
   "metadata": {
    "collapsed": false
   },
   "outputs": [
    {
     "data": {
      "text/plain": [
       "True"
      ]
     },
     "execution_count": 246,
     "metadata": {},
     "output_type": "execute_result"
    }
   ],
   "source": [
    "a is b"
   ]
  },
  {
   "cell_type": "code",
   "execution_count": 247,
   "metadata": {
    "collapsed": true
   },
   "outputs": [],
   "source": [
    "c = 1.2 ; d = 1.2"
   ]
  },
  {
   "cell_type": "code",
   "execution_count": 249,
   "metadata": {
    "collapsed": false
   },
   "outputs": [
    {
     "data": {
      "text/plain": [
       "False"
      ]
     },
     "execution_count": 249,
     "metadata": {},
     "output_type": "execute_result"
    }
   ],
   "source": [
    "c is d # why is this not true?"
   ]
  },
  {
   "cell_type": "code",
   "execution_count": 250,
   "metadata": {
    "collapsed": false
   },
   "outputs": [
    {
     "data": {
      "text/plain": [
       "True"
      ]
     },
     "execution_count": 250,
     "metadata": {},
     "output_type": "execute_result"
    }
   ],
   "source": [
    "# python creates singletons for ints (pre-built), but not floats\n",
    "int('1') is 1"
   ]
  },
  {
   "cell_type": "code",
   "execution_count": 256,
   "metadata": {
    "collapsed": false
   },
   "outputs": [
    {
     "data": {
      "text/plain": [
       "False"
      ]
     },
     "execution_count": 256,
     "metadata": {},
     "output_type": "execute_result"
    }
   ],
   "source": [
    "# there are some mathematical integers which are not pre-built\n",
    "a = 332 ; a is 332"
   ]
  },
  {
   "cell_type": "code",
   "execution_count": 257,
   "metadata": {
    "collapsed": false
   },
   "outputs": [
    {
     "data": {
      "text/plain": [
       "24"
      ]
     },
     "execution_count": 257,
     "metadata": {},
     "output_type": "execute_result"
    }
   ],
   "source": [
    "a.__sizeof__()"
   ]
  },
  {
   "cell_type": "code",
   "execution_count": 258,
   "metadata": {
    "collapsed": false
   },
   "outputs": [
    {
     "data": {
      "text/plain": [
       "24"
      ]
     },
     "execution_count": 258,
     "metadata": {},
     "output_type": "execute_result"
    }
   ],
   "source": [
    "c.__sizeof__()"
   ]
  },
  {
   "cell_type": "code",
   "execution_count": 259,
   "metadata": {
    "collapsed": false
   },
   "outputs": [
    {
     "data": {
      "text/plain": [
       "False"
      ]
     },
     "execution_count": 259,
     "metadata": {},
     "output_type": "execute_result"
    }
   ],
   "source": [
    "# c and d point to different objects\n",
    "c is d"
   ]
  },
  {
   "cell_type": "code",
   "execution_count": 265,
   "metadata": {
    "collapsed": true
   },
   "outputs": [],
   "source": [
    "q = 'hello world'"
   ]
  },
  {
   "cell_type": "code",
   "execution_count": 266,
   "metadata": {
    "collapsed": false
   },
   "outputs": [
    {
     "data": {
      "text/plain": [
       "True"
      ]
     },
     "execution_count": 266,
     "metadata": {},
     "output_type": "execute_result"
    }
   ],
   "source": [
    "s == q"
   ]
  },
  {
   "cell_type": "code",
   "execution_count": 267,
   "metadata": {
    "collapsed": false
   },
   "outputs": [
    {
     "data": {
      "text/plain": [
       "False"
      ]
     },
     "execution_count": 267,
     "metadata": {},
     "output_type": "execute_result"
    }
   ],
   "source": [
    "s is q"
   ]
  },
  {
   "cell_type": "code",
   "execution_count": 269,
   "metadata": {
    "collapsed": false
   },
   "outputs": [
    {
     "data": {
      "text/plain": [
       "True"
      ]
     },
     "execution_count": 269,
     "metadata": {},
     "output_type": "execute_result"
    }
   ],
   "source": [
    "q = '' ; w = '' ; q is w # common strings are singletons"
   ]
  },
  {
   "cell_type": "code",
   "execution_count": 280,
   "metadata": {
    "collapsed": false
   },
   "outputs": [
    {
     "data": {
      "text/plain": [
       "True"
      ]
     },
     "execution_count": 280,
     "metadata": {},
     "output_type": "execute_result"
    }
   ],
   "source": [
    "globals()['b'] is b # square brackets performs a look up, via __getitem__()"
   ]
  },
  {
   "cell_type": "code",
   "execution_count": 281,
   "metadata": {
    "collapsed": true
   },
   "outputs": [],
   "source": [
    "x = [1,2,3]"
   ]
  },
  {
   "cell_type": "code",
   "execution_count": 282,
   "metadata": {
    "collapsed": false
   },
   "outputs": [
    {
     "data": {
      "text/plain": [
       "True"
      ]
     },
     "execution_count": 282,
     "metadata": {},
     "output_type": "execute_result"
    }
   ],
   "source": [
    "x.__getitem__(0) is x[0]"
   ]
  },
  {
   "cell_type": "code",
   "execution_count": 283,
   "metadata": {
    "collapsed": false
   },
   "outputs": [
    {
     "data": {
      "text/plain": [
       "True"
      ]
     },
     "execution_count": 283,
     "metadata": {},
     "output_type": "execute_result"
    }
   ],
   "source": [
    "globals().__getitem__('b') is globals()['b']"
   ]
  },
  {
   "cell_type": "code",
   "execution_count": 285,
   "metadata": {
    "collapsed": false
   },
   "outputs": [],
   "source": [
    "p = '2 + 3'"
   ]
  },
  {
   "cell_type": "code",
   "execution_count": 286,
   "metadata": {
    "collapsed": false
   },
   "outputs": [
    {
     "data": {
      "text/plain": [
       "5"
      ]
     },
     "execution_count": 286,
     "metadata": {},
     "output_type": "execute_result"
    }
   ],
   "source": [
    "eval (p)"
   ]
  },
  {
   "cell_type": "code",
   "execution_count": 287,
   "metadata": {
    "collapsed": false
   },
   "outputs": [
    {
     "data": {
      "text/plain": [
       "5"
      ]
     },
     "execution_count": 287,
     "metadata": {},
     "output_type": "execute_result"
    }
   ],
   "source": [
    "2 + 3"
   ]
  },
  {
   "cell_type": "code",
   "execution_count": 290,
   "metadata": {
    "collapsed": false
   },
   "outputs": [
    {
     "data": {
      "text/plain": [
       "True"
      ]
     },
     "execution_count": 290,
     "metadata": {},
     "output_type": "execute_result"
    }
   ],
   "source": [
    "eval(p) is 2 + 3 # 5 is a singleton :p"
   ]
  },
  {
   "cell_type": "code",
   "execution_count": 291,
   "metadata": {
    "collapsed": false
   },
   "outputs": [],
   "source": [
    "# note: typing 'b' into the interpreter is equivalent to typing globals()['b']"
   ]
  },
  {
   "cell_type": "code",
   "execution_count": 292,
   "metadata": {
    "collapsed": false
   },
   "outputs": [
    {
     "data": {
      "text/plain": [
       "9"
      ]
     },
     "execution_count": 292,
     "metadata": {},
     "output_type": "execute_result"
    }
   ],
   "source": [
    "squared(3)"
   ]
  },
  {
   "cell_type": "code",
   "execution_count": 293,
   "metadata": {
    "collapsed": true
   },
   "outputs": [],
   "source": [
    "def doit(x):\n",
    "    x.append(1) # every function returns an object, even if it isn't specified!"
   ]
  },
  {
   "cell_type": "code",
   "execution_count": 295,
   "metadata": {
    "collapsed": false
   },
   "outputs": [
    {
     "data": {
      "text/plain": [
       "[1, 2, 3, 1, 1]"
      ]
     },
     "execution_count": 295,
     "metadata": {},
     "output_type": "execute_result"
    }
   ],
   "source": [
    "doit(x)\n",
    "x"
   ]
  },
  {
   "cell_type": "code",
   "execution_count": 296,
   "metadata": {
    "collapsed": false
   },
   "outputs": [
    {
     "data": {
      "text/plain": [
       "[1, 2, 3, 1, 1, 1]"
      ]
     },
     "execution_count": 296,
     "metadata": {},
     "output_type": "execute_result"
    }
   ],
   "source": [
    "doit(x)\n",
    "x"
   ]
  },
  {
   "cell_type": "code",
   "execution_count": 297,
   "metadata": {
    "collapsed": false
   },
   "outputs": [
    {
     "data": {
      "text/plain": [
       "NoneType"
      ]
     },
     "execution_count": 297,
     "metadata": {},
     "output_type": "execute_result"
    }
   ],
   "source": [
    "q  = doit(x) ; q ; type(q)"
   ]
  },
  {
   "cell_type": "code",
   "execution_count": 298,
   "metadata": {
    "collapsed": false
   },
   "outputs": [
    {
     "data": {
      "text/plain": [
       "True"
      ]
     },
     "execution_count": 298,
     "metadata": {},
     "output_type": "execute_result"
    }
   ],
   "source": [
    "q is None"
   ]
  },
  {
   "cell_type": "code",
   "execution_count": 300,
   "metadata": {
    "collapsed": true
   },
   "outputs": [],
   "source": [
    "# None is a singleton, an instance of a None type! None is a null in C"
   ]
  },
  {
   "cell_type": "code",
   "execution_count": 305,
   "metadata": {
    "collapsed": true
   },
   "outputs": [],
   "source": [
    "def doit(x):\n",
    "    x.append(1) # every function returns an object, even if it isn't specified!\n",
    "    return None # this line is automatic; this is the same as 'return', too"
   ]
  },
  {
   "cell_type": "code",
   "execution_count": 306,
   "metadata": {
    "collapsed": false
   },
   "outputs": [
    {
     "data": {
      "text/plain": [
       "True"
      ]
     },
     "execution_count": 306,
     "metadata": {},
     "output_type": "execute_result"
    }
   ],
   "source": [
    "q = doit(x) ; q is None"
   ]
  },
  {
   "cell_type": "code",
   "execution_count": 307,
   "metadata": {
    "collapsed": false
   },
   "outputs": [
    {
     "data": {
      "text/plain": [
       "True"
      ]
     },
     "execution_count": 307,
     "metadata": {},
     "output_type": "execute_result"
    }
   ],
   "source": [
    "doit(x) is None"
   ]
  },
  {
   "cell_type": "code",
   "execution_count": 308,
   "metadata": {
    "collapsed": false
   },
   "outputs": [
    {
     "data": {
      "text/plain": [
       "[1, 2, 3, 1, 1, 1, 1, 1, 1, 1, 1]"
      ]
     },
     "execution_count": 308,
     "metadata": {},
     "output_type": "execute_result"
    }
   ],
   "source": [
    "x"
   ]
  },
  {
   "cell_type": "code",
   "execution_count": 309,
   "metadata": {
    "collapsed": true
   },
   "outputs": [],
   "source": [
    "def incrementer(x, y=[]):\n",
    "    y.append(x)\n",
    "    return y"
   ]
  },
  {
   "cell_type": "code",
   "execution_count": 310,
   "metadata": {
    "collapsed": true
   },
   "outputs": [],
   "source": [
    "q = [0,1,2,3]"
   ]
  },
  {
   "cell_type": "code",
   "execution_count": 311,
   "metadata": {
    "collapsed": false
   },
   "outputs": [
    {
     "data": {
      "text/plain": [
       "[0, 1, 2, 3, 4]"
      ]
     },
     "execution_count": 311,
     "metadata": {},
     "output_type": "execute_result"
    }
   ],
   "source": [
    "incrementer(4,q)"
   ]
  },
  {
   "cell_type": "code",
   "execution_count": 313,
   "metadata": {
    "collapsed": false
   },
   "outputs": [
    {
     "data": {
      "text/plain": [
       "[0, 1, 2, 3, 4]"
      ]
     },
     "execution_count": 313,
     "metadata": {},
     "output_type": "execute_result"
    }
   ],
   "source": [
    "q # got modified because incrementer performed the append object of q; this is pass-by-reference"
   ]
  },
  {
   "cell_type": "code",
   "execution_count": 314,
   "metadata": {
    "collapsed": true
   },
   "outputs": [],
   "source": [
    "w = incrementer(5,q)"
   ]
  },
  {
   "cell_type": "code",
   "execution_count": 316,
   "metadata": {
    "collapsed": false
   },
   "outputs": [
    {
     "data": {
      "text/plain": [
       "True"
      ]
     },
     "execution_count": 316,
     "metadata": {},
     "output_type": "execute_result"
    }
   ],
   "source": [
    "w is q # note that incrementer returned q.append(5), and w = return value!"
   ]
  },
  {
   "cell_type": "code",
   "execution_count": 330,
   "metadata": {
    "collapsed": false
   },
   "outputs": [
    {
     "data": {
      "text/plain": [
       "[0]"
      ]
     },
     "execution_count": 330,
     "metadata": {},
     "output_type": "execute_result"
    }
   ],
   "source": [
    "incrementer(0)"
   ]
  },
  {
   "cell_type": "code",
   "execution_count": 331,
   "metadata": {
    "collapsed": false
   },
   "outputs": [
    {
     "data": {
      "text/plain": [
       "[0, 1]"
      ]
     },
     "execution_count": 331,
     "metadata": {},
     "output_type": "execute_result"
    }
   ],
   "source": [
    "incrementer(1)"
   ]
  },
  {
   "cell_type": "code",
   "execution_count": 332,
   "metadata": {
    "collapsed": false
   },
   "outputs": [
    {
     "data": {
      "text/plain": [
       "[0, 1, 2]"
      ]
     },
     "execution_count": 332,
     "metadata": {},
     "output_type": "execute_result"
    }
   ],
   "source": [
    "incrementer(2)"
   ]
  },
  {
   "cell_type": "code",
   "execution_count": 333,
   "metadata": {
    "collapsed": true
   },
   "outputs": [],
   "source": [
    "# incrementer appended to the default returned value!\n",
    "# in other words, y is no longer [] after the first call to incrementer, \n",
    "# and so doesn't take the default value [] any longer"
   ]
  },
  {
   "cell_type": "code",
   "execution_count": 334,
   "metadata": {
    "collapsed": false
   },
   "outputs": [
    {
     "data": {
      "text/plain": [
       "([0, 1, 2],)"
      ]
     },
     "execution_count": 334,
     "metadata": {},
     "output_type": "execute_result"
    }
   ],
   "source": [
    "incrementer.__defaults__"
   ]
  },
  {
   "cell_type": "code",
   "execution_count": 335,
   "metadata": {
    "collapsed": true
   },
   "outputs": [],
   "source": [
    "incrementer.__defaults__ = ([],)"
   ]
  },
  {
   "cell_type": "code",
   "execution_count": 336,
   "metadata": {
    "collapsed": false
   },
   "outputs": [
    {
     "data": {
      "text/plain": [
       "[3]"
      ]
     },
     "execution_count": 336,
     "metadata": {},
     "output_type": "execute_result"
    }
   ],
   "source": [
    "incrementer(3)"
   ]
  },
  {
   "cell_type": "code",
   "execution_count": 337,
   "metadata": {
    "collapsed": false
   },
   "outputs": [
    {
     "data": {
      "text/plain": [
       "[1, 2, 3, 1, 1, 1, 1, 1, 1, 1, 1, 3]"
      ]
     },
     "execution_count": 337,
     "metadata": {},
     "output_type": "execute_result"
    }
   ],
   "source": [
    "incrementer(3,x)"
   ]
  },
  {
   "cell_type": "code",
   "execution_count": 338,
   "metadata": {
    "collapsed": false
   },
   "outputs": [
    {
     "data": {
      "text/plain": [
       "[3, 4]"
      ]
     },
     "execution_count": 338,
     "metadata": {},
     "output_type": "execute_result"
    }
   ],
   "source": [
    "incrementer(4)"
   ]
  },
  {
   "cell_type": "code",
   "execution_count": 342,
   "metadata": {
    "collapsed": true
   },
   "outputs": [],
   "source": [
    "# lesson: do not specify a mutable object as a default object!\n",
    "def incrementer(x,y=None):\n",
    "    if y is None:\n",
    "        y = []\n",
    "    y.append(x)\n",
    "    return y"
   ]
  },
  {
   "cell_type": "code",
   "execution_count": 343,
   "metadata": {
    "collapsed": false
   },
   "outputs": [
    {
     "data": {
      "text/plain": [
       "[3]"
      ]
     },
     "execution_count": 343,
     "metadata": {},
     "output_type": "execute_result"
    }
   ],
   "source": [
    "incrementer(3)"
   ]
  },
  {
   "cell_type": "code",
   "execution_count": 344,
   "metadata": {
    "collapsed": false
   },
   "outputs": [
    {
     "data": {
      "text/plain": [
       "[4]"
      ]
     },
     "execution_count": 344,
     "metadata": {},
     "output_type": "execute_result"
    }
   ],
   "source": [
    "incrementer(4)"
   ]
  },
  {
   "cell_type": "code",
   "execution_count": 362,
   "metadata": {
    "collapsed": false
   },
   "outputs": [
    {
     "name": "stdout",
     "output_type": "stream",
     "text": [
      "The slowest run took 14.80 times longer than the fastest. This could mean that an intermediate result is being cached.\n",
      "10000000 loops, best of 3: 98.6 ns per loop\n"
     ]
    }
   ],
   "source": [
    "# topic: we can time function calls\n",
    "%timeit squared(3)"
   ]
  },
  {
   "cell_type": "code",
   "execution_count": 363,
   "metadata": {
    "collapsed": true
   },
   "outputs": [],
   "source": [
    "def squared(x):\n",
    "    return x*x"
   ]
  },
  {
   "cell_type": "code",
   "execution_count": 364,
   "metadata": {
    "collapsed": false
   },
   "outputs": [
    {
     "name": "stdout",
     "output_type": "stream",
     "text": [
      "The slowest run took 15.98 times longer than the fastest. This could mean that an intermediate result is being cached.\n",
      "10000000 loops, best of 3: 91.3 ns per loop\n"
     ]
    }
   ],
   "source": [
    "%timeit squared(3)"
   ]
  },
  {
   "cell_type": "code",
   "execution_count": 355,
   "metadata": {
    "collapsed": false
   },
   "outputs": [
    {
     "name": "stdout",
     "output_type": "stream",
     "text": [
      " Volume in drive C is OSDisk\n",
      " Volume Serial Number is 28F4-0F53\n",
      "\n",
      " Directory of c:\\users\\ahuang\\documents\\notebooks\n",
      "\n",
      "09/11/2017  11:53 AM    <DIR>          .\n",
      "09/11/2017  11:53 AM    <DIR>          ..\n",
      "09/11/2017  09:05 AM    <DIR>          .ipynb_checkpoints\n",
      "09/11/2017  11:53 AM           164,160 day1.ipynb\n",
      "               1 File(s)        164,160 bytes\n",
      "               3 Dir(s)  33,680,523,264 bytes free\n"
     ]
    }
   ],
   "source": [
    "# it's interesting that the timing is different!\n",
    "%ls \n",
    "# this is the same as os.system('ls'), or os.system('dir') on Windows "
   ]
  },
  {
   "cell_type": "code",
   "execution_count": 356,
   "metadata": {
    "collapsed": false
   },
   "outputs": [
    {
     "name": "stdout",
     "output_type": "stream",
     "text": [
      " Volume in drive C is OSDisk\n",
      " Volume Serial Number is 28F4-0F53\n",
      "\n",
      " Directory of c:\\users\\ahuang\\documents\\notebooks\n",
      "\n",
      "09/11/2017  11:53 AM    <DIR>          .\n",
      "09/11/2017  11:53 AM    <DIR>          ..\n",
      "09/11/2017  09:05 AM    <DIR>          .ipynb_checkpoints\n",
      "09/11/2017  11:53 AM           164,160 day1.ipynb\n",
      "               1 File(s)        164,160 bytes\n",
      "               3 Dir(s)  33,680,523,264 bytes free\n"
     ]
    }
   ],
   "source": [
    "ls"
   ]
  },
  {
   "cell_type": "code",
   "execution_count": 357,
   "metadata": {
    "collapsed": true
   },
   "outputs": [],
   "source": [
    "ls = 3"
   ]
  },
  {
   "cell_type": "code",
   "execution_count": 359,
   "metadata": {
    "collapsed": false
   },
   "outputs": [
    {
     "data": {
      "text/plain": [
       "3"
      ]
     },
     "execution_count": 359,
     "metadata": {},
     "output_type": "execute_result"
    }
   ],
   "source": [
    "ls # no longer returns the command result"
   ]
  },
  {
   "cell_type": "code",
   "execution_count": 360,
   "metadata": {
    "collapsed": true
   },
   "outputs": [],
   "source": [
    "# the symbol % is the iPython namespace!"
   ]
  },
  {
   "cell_type": "code",
   "execution_count": 371,
   "metadata": {
    "collapsed": false
   },
   "outputs": [],
   "source": [
    "squared??\n",
    "# iPython lets you look at the source"
   ]
  },
  {
   "cell_type": "raw",
   "metadata": {},
   "source": [
    "What is python?\n",
    "\n",
    "Automatic garbage collection\n",
    " eg, we messed up the math module; we had to delete every instance of math to take care of that\n",
    " as long as there is a pointer reference to something, the pointers persist; \n",
    " when the underlying object is destroyed, and there are no pointers referencing to it, then the pointers are destroyed\n",
    "\n",
    "Dynamic typing\n",
    " a = 1 actually just says a points to an object 1; you don't need to know the type!\n",
    " there is dynamic typing because everything is an object!!\n",
    "\n",
    "Interpreted and interactive\n",
    " each line induces compilation, and we are contiually modifying the object\n",
    " \n"
   ]
  },
  {
   "cell_type": "code",
   "execution_count": 410,
   "metadata": {
    "collapsed": true
   },
   "outputs": [],
   "source": [
    "s = 'qwefqwretqrgeqrQEasdqQDASdasdQgeqr'"
   ]
  },
  {
   "cell_type": "code",
   "execution_count": 413,
   "metadata": {
    "collapsed": false
   },
   "outputs": [
    {
     "data": {
      "text/plain": [
       "'QWEFQWRETQRGEQRQEASDQQDASDASDQGEQR'"
      ]
     },
     "execution_count": 413,
     "metadata": {},
     "output_type": "execute_result"
    }
   ],
   "source": [
    "s.upper()"
   ]
  },
  {
   "cell_type": "code",
   "execution_count": 414,
   "metadata": {
    "collapsed": false
   },
   "outputs": [
    {
     "data": {
      "text/plain": [
       "'QWEFQWRETQRGEQRQEASDQQDASDASDQGEQR'"
      ]
     },
     "execution_count": 414,
     "metadata": {},
     "output_type": "execute_result"
    }
   ],
   "source": [
    "_"
   ]
  },
  {
   "cell_type": "code",
   "execution_count": 402,
   "metadata": {
    "collapsed": false
   },
   "outputs": [
    {
     "data": {
      "text/plain": [
       "'qwefqwretqrgeqrqeasdqqdasdasdqgeqr'"
      ]
     },
     "execution_count": 402,
     "metadata": {},
     "output_type": "execute_result"
    }
   ],
   "source": [
    "# the default name is _\n",
    "_.lower()"
   ]
  },
  {
   "cell_type": "code",
   "execution_count": 419,
   "metadata": {
    "collapsed": false
   },
   "outputs": [],
   "source": [
    "d = s.upper()"
   ]
  },
  {
   "cell_type": "code",
   "execution_count": 424,
   "metadata": {
    "collapsed": false
   },
   "outputs": [],
   "source": [
    "m = d.split('Q') # object gets created, but do we need d?"
   ]
  },
  {
   "cell_type": "code",
   "execution_count": 425,
   "metadata": {
    "collapsed": false
   },
   "outputs": [
    {
     "data": {
      "text/plain": [
       "['', 'WEF', 'WRET', 'RGE', 'R', 'EASD', '', 'DASDASD', 'GE', 'R']"
      ]
     },
     "execution_count": 425,
     "metadata": {},
     "output_type": "execute_result"
    }
   ],
   "source": [
    "s.upper().split('Q') # does automatic garbage collection, creating the string s.upper() and then throwing it away"
   ]
  },
  {
   "cell_type": "code",
   "execution_count": 428,
   "metadata": {
    "collapsed": false
   },
   "outputs": [],
   "source": [
    "m.sort() # note the return type of sort is None; sort() is done in-place!"
   ]
  },
  {
   "cell_type": "code",
   "execution_count": 427,
   "metadata": {
    "collapsed": false
   },
   "outputs": [
    {
     "data": {
      "text/plain": [
       "['', '', 'DASDASD', 'EASD', 'GE', 'R', 'R', 'RGE', 'WEF', 'WRET']"
      ]
     },
     "execution_count": 427,
     "metadata": {},
     "output_type": "execute_result"
    }
   ],
   "source": [
    "m"
   ]
  },
  {
   "cell_type": "code",
   "execution_count": 431,
   "metadata": {
    "collapsed": true
   },
   "outputs": [],
   "source": [
    "s = s.upper().split('Q').sort() # caution: if we try to be efficient..."
   ]
  },
  {
   "cell_type": "code",
   "execution_count": 434,
   "metadata": {
    "collapsed": false
   },
   "outputs": [],
   "source": [
    "s # s gets blown away, because sort() returns a None"
   ]
  },
  {
   "cell_type": "code",
   "execution_count": 453,
   "metadata": {
    "collapsed": true
   },
   "outputs": [],
   "source": [
    "x = []"
   ]
  },
  {
   "cell_type": "code",
   "execution_count": 454,
   "metadata": {
    "collapsed": false
   },
   "outputs": [
    {
     "data": {
      "text/plain": [
       "104423112L"
      ]
     },
     "execution_count": 454,
     "metadata": {},
     "output_type": "execute_result"
    }
   ],
   "source": [
    "id(x)"
   ]
  },
  {
   "cell_type": "code",
   "execution_count": 455,
   "metadata": {
    "collapsed": true
   },
   "outputs": [],
   "source": [
    "x.append(2)"
   ]
  },
  {
   "cell_type": "code",
   "execution_count": 456,
   "metadata": {
    "collapsed": false
   },
   "outputs": [
    {
     "data": {
      "text/plain": [
       "[2]"
      ]
     },
     "execution_count": 456,
     "metadata": {},
     "output_type": "execute_result"
    }
   ],
   "source": [
    "x"
   ]
  },
  {
   "cell_type": "code",
   "execution_count": 457,
   "metadata": {
    "collapsed": true
   },
   "outputs": [],
   "source": [
    "x.append(5)"
   ]
  },
  {
   "cell_type": "code",
   "execution_count": 458,
   "metadata": {
    "collapsed": false
   },
   "outputs": [
    {
     "data": {
      "text/plain": [
       "[2, 5]"
      ]
     },
     "execution_count": 458,
     "metadata": {},
     "output_type": "execute_result"
    }
   ],
   "source": [
    "x"
   ]
  },
  {
   "cell_type": "code",
   "execution_count": 459,
   "metadata": {
    "collapsed": false
   },
   "outputs": [
    {
     "data": {
      "text/plain": [
       "104423112L"
      ]
     },
     "execution_count": 459,
     "metadata": {},
     "output_type": "execute_result"
    }
   ],
   "source": [
    "id(x)"
   ]
  },
  {
   "cell_type": "code",
   "execution_count": 460,
   "metadata": {
    "collapsed": false
   },
   "outputs": [
    {
     "data": {
      "text/plain": [
       "10707904L"
      ]
     },
     "execution_count": 460,
     "metadata": {},
     "output_type": "execute_result"
    }
   ],
   "source": [
    "id(x.__getitem__(0))"
   ]
  },
  {
   "cell_type": "code",
   "execution_count": 461,
   "metadata": {
    "collapsed": false
   },
   "outputs": [
    {
     "data": {
      "text/plain": [
       "False"
      ]
     },
     "execution_count": 461,
     "metadata": {},
     "output_type": "execute_result"
    }
   ],
   "source": [
    "id(x.__getitem__(0)) is id(x[0]) # note!"
   ]
  },
  {
   "cell_type": "code",
   "execution_count": 462,
   "metadata": {
    "collapsed": true
   },
   "outputs": [],
   "source": [
    "del x[0]"
   ]
  },
  {
   "cell_type": "code",
   "execution_count": 463,
   "metadata": {
    "collapsed": false
   },
   "outputs": [
    {
     "data": {
      "text/plain": [
       "104423112L"
      ]
     },
     "execution_count": 463,
     "metadata": {},
     "output_type": "execute_result"
    }
   ],
   "source": [
    "id(x)"
   ]
  },
  {
   "cell_type": "code",
   "execution_count": 464,
   "metadata": {
    "collapsed": false
   },
   "outputs": [
    {
     "data": {
      "text/plain": [
       "[5]"
      ]
     },
     "execution_count": 464,
     "metadata": {},
     "output_type": "execute_result"
    }
   ],
   "source": [
    "x"
   ]
  },
  {
   "cell_type": "code",
   "execution_count": 465,
   "metadata": {
    "collapsed": false
   },
   "outputs": [
    {
     "data": {
      "text/plain": [
       "True"
      ]
     },
     "execution_count": 465,
     "metadata": {},
     "output_type": "execute_result"
    }
   ],
   "source": [
    "id(x[0]) == id(5) # 5 is a singleton!"
   ]
  },
  {
   "cell_type": "code",
   "execution_count": 466,
   "metadata": {
    "collapsed": true
   },
   "outputs": [],
   "source": [
    "# moral: strings are much easier and faster to build than lists\n",
    "s = 'hello'"
   ]
  },
  {
   "cell_type": "code",
   "execution_count": 468,
   "metadata": {
    "collapsed": false
   },
   "outputs": [
    {
     "ename": "TypeError",
     "evalue": "'str' object does not support item assignment",
     "output_type": "error",
     "traceback": [
      "\u001b[1;31m\u001b[0m",
      "\u001b[1;31mTypeError\u001b[0mTraceback (most recent call last)",
      "\u001b[1;32m<ipython-input-468-db628ea2bfbc>\u001b[0m in \u001b[0;36m<module>\u001b[1;34m()\u001b[0m\n\u001b[1;32m----> 1\u001b[1;33m \u001b[0ms\u001b[0m\u001b[1;33m[\u001b[0m\u001b[1;36m0\u001b[0m\u001b[1;33m]\u001b[0m \u001b[1;33m=\u001b[0m \u001b[1;34m'x'\u001b[0m \u001b[1;31m# strings aren't mutable; read-only buffer is faster than a read/write buffer\u001b[0m\u001b[1;33m\u001b[0m\u001b[0m\n\u001b[0m",
      "\u001b[1;31mTypeError\u001b[0m: 'str' object does not support item assignment"
     ]
    }
   ],
   "source": [
    "s[0] = 'x' # strings aren't mutable; read-only buffer is faster than a read/write buffer"
   ]
  },
  {
   "cell_type": "code",
   "execution_count": 469,
   "metadata": {
    "collapsed": false
   },
   "outputs": [
    {
     "data": {
      "text/plain": [
       "(1, 2, 3)"
      ]
     },
     "execution_count": 469,
     "metadata": {},
     "output_type": "execute_result"
    }
   ],
   "source": [
    "# tuples are faster than lists for the same reason!\n",
    "(1,2,3)"
   ]
  },
  {
   "cell_type": "code",
   "execution_count": 470,
   "metadata": {
    "collapsed": false
   },
   "outputs": [
    {
     "data": {
      "text/plain": [
       "6"
      ]
     },
     "execution_count": 470,
     "metadata": {},
     "output_type": "execute_result"
    }
   ],
   "source": [
    "zap(f,4)"
   ]
  },
  {
   "cell_type": "code",
   "execution_count": 473,
   "metadata": {
    "collapsed": false
   },
   "outputs": [
    {
     "data": {
      "text/plain": [
       "6"
      ]
     },
     "execution_count": 473,
     "metadata": {},
     "output_type": "execute_result"
    }
   ],
   "source": [
    "zap    (f,4) # this is a tuple input, not a list!"
   ]
  },
  {
   "cell_type": "markdown",
   "metadata": {},
   "source": [
    "$$F(k) = \\int_{-\\infty}^{\\infty} f(x) e^{2\\pi i k} dx$$"
   ]
  },
  {
   "cell_type": "code",
   "execution_count": 481,
   "metadata": {
    "collapsed": true
   },
   "outputs": [],
   "source": [
    "# lesson: it is bad practice to do things like\n",
    "# 'from numpy import *' \n",
    "# this imports all of numpy into the global namespace\n",
    "# for example, numpy has a min and builtin has a min\n",
    "# ipython --matplotlib # this auto-loads the namespace of matplotlib, which has things like eye(), etc\n",
    "# this also pollutes the global namespace; instead, do this:\n",
    "# 'import numpy'\n",
    "# then, you call things like numpy.min"
   ]
  },
  {
   "cell_type": "code",
   "execution_count": 485,
   "metadata": {
    "collapsed": false
   },
   "outputs": [
    {
     "name": "stdout",
     "output_type": "stream",
     "text": [
      "Variable      Type         Data/Info\n",
      "------------------------------------\n",
      "Foo           type         <class '__main__.Foo'>\n",
      "Latex         type         <class 'IPython.core.display.Latex'>\n",
      "Math          type         <class 'IPython.core.display.Math'>\n",
      "Quadratic     type         <class '__main__.Quadratic'>\n",
      "a             int          332\n",
      "b             int          1\n",
      "binary        partial      <functools.partial object at 0x000000000489F9A8>\n",
      "builtins      module       <module 'builtins' from '<...>s\\builtins\\__init__.pyc'>\n",
      "c             float        1.2\n",
      "d             str          QWEFQWRETQRGEQRQEASDQQDASDASDQGEQR\n",
      "display       function     <function display at 0x00000000030B7518>\n",
      "doit          function     <function doit at 0x00000000062E7DD8>\n",
      "f             Foo          <__main__.Foo object at 0x000000000616E240>\n",
      "functools     module       <module 'functools' from <...>\\User\\lib\\functools.pyc'>\n",
      "g             Foo          <__main__.Foo object at 0x00000000062F4860>\n",
      "i             int          0\n",
      "incrementer   function     <function incrementer at 0x00000000062FB278>\n",
      "ls            int          3\n",
      "m             list         n=10\n",
      "math          module       <module 'math' (built-in)>\n",
      "n             NameError    \n",
      "o             object       <object object at 0x0000000004800490>\n",
      "p             str          2 + 3\n",
      "q             list         n=6\n",
      "result        Quadratic    <__main__.Quadratic object at 0x00000000048B1BA8>\n",
      "s             str          hello\n",
      "squared       function     <function squared at 0x00000000062FBDD8>\n",
      "sys           module       <module 'sys' (built-in)>\n",
      "w             list         n=6\n",
      "x             list         n=1\n",
      "zap           function     <function zap at 0x00000000061EE128>\n"
     ]
    }
   ],
   "source": [
    "%whos\n",
    "# lists available variables"
   ]
  },
  {
   "cell_type": "code",
   "execution_count": 495,
   "metadata": {
    "collapsed": false
   },
   "outputs": [
    {
     "name": "stdout",
     "output_type": "stream",
     "text": [
      "14\n"
     ]
    }
   ],
   "source": [
    "%run hello\n",
    "# runs the python script hello.py"
   ]
  },
  {
   "cell_type": "raw",
   "metadata": {},
   "source": [
    "this is contained in hello.py:\n",
    "\n",
    "def squared(x):\n",
    "  return x**2\n",
    "\n",
    "foo = 4\n",
    "\n",
    "def add(x,y):\n",
    "    return x + y\n",
    "\n",
    "if __name__ == '__main__':\n",
    "  print(add(squared(3),5))\n"
   ]
  },
  {
   "cell_type": "code",
   "execution_count": 496,
   "metadata": {
    "collapsed": true
   },
   "outputs": [],
   "source": [
    "import hello"
   ]
  },
  {
   "cell_type": "code",
   "execution_count": 498,
   "metadata": {
    "collapsed": false
   },
   "outputs": [
    {
     "data": {
      "text/plain": [
       "'hello'"
      ]
     },
     "execution_count": 498,
     "metadata": {},
     "output_type": "execute_result"
    }
   ],
   "source": [
    "hello.__name__ # you can import the script as an object!"
   ]
  },
  {
   "cell_type": "code",
   "execution_count": 500,
   "metadata": {
    "collapsed": false
   },
   "outputs": [
    {
     "data": {
      "text/plain": [
       "<module 'hello' from 'hello.py'>"
      ]
     },
     "execution_count": 500,
     "metadata": {},
     "output_type": "execute_result"
    }
   ],
   "source": [
    "hello # this is the object version of the hello.py script"
   ]
  },
  {
   "cell_type": "code",
   "execution_count": 501,
   "metadata": {
    "collapsed": false
   },
   "outputs": [
    {
     "name": "stdout",
     "output_type": "stream",
     "text": [
      "14\n"
     ]
    }
   ],
   "source": [
    "%run hello"
   ]
  },
  {
   "cell_type": "code",
   "execution_count": 503,
   "metadata": {
    "collapsed": true
   },
   "outputs": [],
   "source": [
    "# the above %run statement still works because it is equivalent to doing\n",
    "# python hello.py\n",
    "# from the command line, and so it has a __name__ of __main__\n",
    "# importing it as an object allows you to modify it"
   ]
  },
  {
   "cell_type": "code",
   "execution_count": 505,
   "metadata": {
    "collapsed": false
   },
   "outputs": [],
   "source": [
    "import numpy\n",
    "numpy.squeeze??"
   ]
  },
  {
   "cell_type": "code",
   "execution_count": 513,
   "metadata": {
    "collapsed": false
   },
   "outputs": [
    {
     "data": {
      "text/plain": [
       "u\"s = 'hello world'\""
      ]
     },
     "execution_count": 513,
     "metadata": {},
     "output_type": "execute_result"
    }
   ],
   "source": [
    "_i6 # returns the 6th input"
   ]
  },
  {
   "cell_type": "code",
   "execution_count": 514,
   "metadata": {
    "collapsed": false
   },
   "outputs": [
    {
     "ename": "NameError",
     "evalue": "name '_o2' is not defined",
     "output_type": "error",
     "traceback": [
      "\u001b[1;31m\u001b[0m",
      "\u001b[1;31mNameError\u001b[0mTraceback (most recent call last)",
      "\u001b[1;32m<ipython-input-514-b3b571bbeb9e>\u001b[0m in \u001b[0;36m<module>\u001b[1;34m()\u001b[0m\n\u001b[1;32m----> 1\u001b[1;33m \u001b[0m_o2\u001b[0m\u001b[1;33m\u001b[0m\u001b[0m\n\u001b[0m",
      "\u001b[1;31mNameError\u001b[0m: name '_o2' is not defined"
     ]
    }
   ],
   "source": []
  },
  {
   "cell_type": "code",
   "execution_count": 525,
   "metadata": {
    "collapsed": false
   },
   "outputs": [
    {
     "data": {
      "text/plain": [
       "[<matplotlib.lines.Line2D at 0x843a320>]"
      ]
     },
     "execution_count": 525,
     "metadata": {},
     "output_type": "execute_result"
    },
    {
     "data": {
      "image/png": "[encoded data removed]",
      "text/plain": [
       "<matplotlib.figure.Figure at 0x84e4d68>"
      ]
     },
     "metadata": {},
     "output_type": "display_data"
    }
   ],
   "source": [
    "import matplotlib\n",
    "%matplotlib inline\n",
    "matplotlib.pyplot.plot(numpy.sin(numpy.linspace(0,2 * numpy.pi)))"
   ]
  },
  {
   "cell_type": "markdown",
   "metadata": {},
   "source": [
    "markdown _italic_, **bold**, {http://www.google.com}"
   ]
  },
  {
   "cell_type": "code",
   "execution_count": 536,
   "metadata": {
    "collapsed": false
   },
   "outputs": [
    {
     "data": {
      "text/plain": [
       "3.6999999999999997"
      ]
     },
     "execution_count": 536,
     "metadata": {},
     "output_type": "execute_result"
    }
   ],
   "source": [
    "a = 1.4 + 2.3 ; a"
   ]
  },
  {
   "cell_type": "code",
   "execution_count": 541,
   "metadata": {
    "collapsed": false
   },
   "outputs": [
    {
     "data": {
      "text/plain": [
       "3.7"
      ]
     },
     "execution_count": 541,
     "metadata": {},
     "output_type": "execute_result"
    }
   ],
   "source": [
    "b = 1.3 + 2.4 ; b"
   ]
  },
  {
   "cell_type": "code",
   "execution_count": 542,
   "metadata": {
    "collapsed": false
   },
   "outputs": [
    {
     "data": {
      "text/plain": [
       "True"
      ]
     },
     "execution_count": 542,
     "metadata": {},
     "output_type": "execute_result"
    }
   ],
   "source": [
    "# python was not built to do math! it was built for financial systems\n",
    "# floats are not represented as decimals; they are C doubles\n",
    "# we get 15 decimal points of accuracy in python, not 16!\n",
    "# moral: don't ask for equality out of floats!\n",
    "round(a,15) == round(b,15)"
   ]
  },
  {
   "cell_type": "code",
   "execution_count": 543,
   "metadata": {
    "collapsed": false
   },
   "outputs": [
    {
     "data": {
      "text/plain": [
       "(2+1.5j)"
      ]
     },
     "execution_count": 543,
     "metadata": {},
     "output_type": "execute_result"
    }
   ],
   "source": [
    "2 + 1.5j"
   ]
  },
  {
   "cell_type": "code",
   "execution_count": 544,
   "metadata": {
    "collapsed": false
   },
   "outputs": [
    {
     "data": {
      "text/plain": [
       "(255, 63, 3)"
      ]
     },
     "execution_count": 544,
     "metadata": {},
     "output_type": "execute_result"
    }
   ],
   "source": [
    "0xFF, 0o77, 0b11"
   ]
  },
  {
   "cell_type": "code",
   "execution_count": 548,
   "metadata": {
    "collapsed": false
   },
   "outputs": [
    {
     "data": {
      "text/plain": [
       "3.7"
      ]
     },
     "execution_count": 548,
     "metadata": {},
     "output_type": "execute_result"
    }
   ],
   "source": [
    "round(1.4 + 2.3,8)"
   ]
  },
  {
   "cell_type": "code",
   "execution_count": 549,
   "metadata": {
    "collapsed": false
   },
   "outputs": [
    {
     "data": {
      "text/plain": [
       "2"
      ]
     },
     "execution_count": 549,
     "metadata": {},
     "output_type": "execute_result"
    }
   ],
   "source": [
    "4/2"
   ]
  },
  {
   "cell_type": "code",
   "execution_count": 552,
   "metadata": {
    "collapsed": false
   },
   "outputs": [
    {
     "data": {
      "text/plain": [
       "1"
      ]
     },
     "execution_count": 552,
     "metadata": {},
     "output_type": "execute_result"
    }
   ],
   "source": [
    "3/2"
   ]
  },
  {
   "cell_type": "code",
   "execution_count": 553,
   "metadata": {
    "collapsed": false
   },
   "outputs": [
    {
     "data": {
      "text/plain": [
       "1"
      ]
     },
     "execution_count": 553,
     "metadata": {},
     "output_type": "execute_result"
    }
   ],
   "source": [
    "3//2"
   ]
  },
  {
   "cell_type": "code",
   "execution_count": 554,
   "metadata": {
    "collapsed": false
   },
   "outputs": [
    {
     "data": {
      "text/plain": [
       "2"
      ]
     },
     "execution_count": 554,
     "metadata": {},
     "output_type": "execute_result"
    }
   ],
   "source": [
    "int(2.6234234) # this actually instantiates an int object with the parameter 2.6234234"
   ]
  },
  {
   "cell_type": "code",
   "execution_count": 555,
   "metadata": {
    "collapsed": true
   },
   "outputs": [],
   "source": [
    "# all of the defaults for all objects are False; everything else is a True"
   ]
  },
  {
   "cell_type": "code",
   "execution_count": 556,
   "metadata": {
    "collapsed": false
   },
   "outputs": [
    {
     "data": {
      "text/plain": [
       "[]"
      ]
     },
     "execution_count": 556,
     "metadata": {},
     "output_type": "execute_result"
    }
   ],
   "source": [
    "list()"
   ]
  },
  {
   "cell_type": "code",
   "execution_count": 557,
   "metadata": {
    "collapsed": false
   },
   "outputs": [
    {
     "data": {
      "text/plain": [
       "False"
      ]
     },
     "execution_count": 557,
     "metadata": {},
     "output_type": "execute_result"
    }
   ],
   "source": [
    "bool(list())"
   ]
  },
  {
   "cell_type": "code",
   "execution_count": 558,
   "metadata": {
    "collapsed": false
   },
   "outputs": [
    {
     "data": {
      "text/plain": [
       "0"
      ]
     },
     "execution_count": 558,
     "metadata": {},
     "output_type": "execute_result"
    }
   ],
   "source": [
    "int()"
   ]
  },
  {
   "cell_type": "code",
   "execution_count": 559,
   "metadata": {
    "collapsed": false
   },
   "outputs": [
    {
     "data": {
      "text/plain": [
       "False"
      ]
     },
     "execution_count": 559,
     "metadata": {},
     "output_type": "execute_result"
    }
   ],
   "source": [
    "bool(int())"
   ]
  },
  {
   "cell_type": "code",
   "execution_count": 560,
   "metadata": {
    "collapsed": false
   },
   "outputs": [
    {
     "data": {
      "text/plain": [
       "'hello'"
      ]
     },
     "execution_count": 560,
     "metadata": {},
     "output_type": "execute_result"
    }
   ],
   "source": [
    "s"
   ]
  },
  {
   "cell_type": "code",
   "execution_count": 561,
   "metadata": {
    "collapsed": false
   },
   "outputs": [
    {
     "data": {
      "text/plain": [
       "5"
      ]
     },
     "execution_count": 561,
     "metadata": {},
     "output_type": "execute_result"
    }
   ],
   "source": [
    "len(s) # len() just calls the attribute __len__ of the object"
   ]
  },
  {
   "cell_type": "code",
   "execution_count": 562,
   "metadata": {
    "collapsed": false
   },
   "outputs": [
    {
     "data": {
      "text/plain": [
       "5"
      ]
     },
     "execution_count": 562,
     "metadata": {},
     "output_type": "execute_result"
    }
   ],
   "source": [
    "s.__len__()"
   ]
  },
  {
   "cell_type": "code",
   "execution_count": 567,
   "metadata": {
    "collapsed": false
   },
   "outputs": [],
   "source": [
    "s = 'hello   world'"
   ]
  },
  {
   "cell_type": "code",
   "execution_count": 569,
   "metadata": {
    "collapsed": false,
    "scrolled": true
   },
   "outputs": [
    {
     "data": {
      "text/plain": [
       "['hello', '', '', 'world']"
      ]
     },
     "execution_count": 569,
     "metadata": {},
     "output_type": "execute_result"
    }
   ],
   "source": [
    "s.split(' ')"
   ]
  },
  {
   "cell_type": "code",
   "execution_count": 571,
   "metadata": {
    "collapsed": false
   },
   "outputs": [
    {
     "data": {
      "text/plain": [
       "['hello', 'world']"
      ]
     },
     "execution_count": 571,
     "metadata": {},
     "output_type": "execute_result"
    }
   ],
   "source": [
    "s.split()"
   ]
  },
  {
   "cell_type": "code",
   "execution_count": 573,
   "metadata": {
    "collapsed": false
   },
   "outputs": [
    {
     "data": {
      "text/plain": [
       "'hello world'"
      ]
     },
     "execution_count": 573,
     "metadata": {},
     "output_type": "execute_result"
    }
   ],
   "source": [
    "' '.join(_)"
   ]
  },
  {
   "cell_type": "code",
   "execution_count": 574,
   "metadata": {
    "collapsed": false
   },
   "outputs": [
    {
     "data": {
      "text/plain": [
       "'The most base type'"
      ]
     },
     "execution_count": 574,
     "metadata": {},
     "output_type": "execute_result"
    }
   ],
   "source": [
    "o.__doc__"
   ]
  },
  {
   "cell_type": "code",
   "execution_count": 589,
   "metadata": {
    "collapsed": false
   },
   "outputs": [],
   "source": [
    "def squared(x):\n",
    "    \"\"\"yields the square of x;\n",
    "    note that this text\n",
    "    works for block comments!\"\"\"\n",
    "    return x**2"
   ]
  },
  {
   "cell_type": "code",
   "execution_count": 590,
   "metadata": {
    "collapsed": false
   },
   "outputs": [
    {
     "data": {
      "text/plain": [
       "16"
      ]
     },
     "execution_count": 590,
     "metadata": {},
     "output_type": "execute_result"
    }
   ],
   "source": [
    "squared(4)"
   ]
  },
  {
   "cell_type": "code",
   "execution_count": 591,
   "metadata": {
    "collapsed": false
   },
   "outputs": [
    {
     "name": "stdout",
     "output_type": "stream",
     "text": [
      "Help on function squared in module __main__:\n",
      "\n",
      "squared(x)\n",
      "    yields the square of x;\n",
      "    note that this text\n",
      "    works for block comments!\n",
      "\n"
     ]
    }
   ],
   "source": [
    "help(squared)"
   ]
  },
  {
   "cell_type": "code",
   "execution_count": 592,
   "metadata": {
    "collapsed": false
   },
   "outputs": [
    {
     "data": {
      "text/plain": [
       "'yields the square of x;\\n    note that this text\\n    works for block comments!'"
      ]
     },
     "execution_count": 592,
     "metadata": {},
     "output_type": "execute_result"
    }
   ],
   "source": [
    "squared.__doc__"
   ]
  },
  {
   "cell_type": "code",
   "execution_count": 595,
   "metadata": {
    "collapsed": true
   },
   "outputs": [],
   "source": [
    "# moral: to make things fast to look up, strings are read-only in python\n",
    "# if the strings are mutable, it's difficult to create a hash map\n",
    "# hence, strings are cheap and quick; therefore most string methods just create new strings\n",
    "# cstrings, on the other hand, are read/write\n",
    "import io"
   ]
  },
  {
   "cell_type": "code",
   "execution_count": 599,
   "metadata": {
    "collapsed": false
   },
   "outputs": [
    {
     "data": {
      "text/plain": [
       "<_io.StringIO at 0x80efe58>"
      ]
     },
     "execution_count": 599,
     "metadata": {},
     "output_type": "execute_result"
    }
   ],
   "source": [
    "cs = io.StringIO() ; cs"
   ]
  },
  {
   "cell_type": "code",
   "execution_count": 601,
   "metadata": {
    "collapsed": false
   },
   "outputs": [
    {
     "data": {
      "text/plain": [
       "['__class__',\n",
       " '__delattr__',\n",
       " '__doc__',\n",
       " '__enter__',\n",
       " '__exit__',\n",
       " '__format__',\n",
       " '__getattribute__',\n",
       " '__getstate__',\n",
       " '__hash__',\n",
       " '__init__',\n",
       " '__iter__',\n",
       " '__new__',\n",
       " '__reduce__',\n",
       " '__reduce_ex__',\n",
       " '__repr__',\n",
       " '__setattr__',\n",
       " '__setstate__',\n",
       " '__sizeof__',\n",
       " '__str__',\n",
       " '__subclasshook__',\n",
       " '_checkClosed',\n",
       " '_checkReadable',\n",
       " '_checkSeekable',\n",
       " '_checkWritable',\n",
       " 'close',\n",
       " 'closed',\n",
       " 'detach',\n",
       " 'encoding',\n",
       " 'errors',\n",
       " 'fileno',\n",
       " 'flush',\n",
       " 'getvalue',\n",
       " 'isatty',\n",
       " 'line_buffering',\n",
       " 'newlines',\n",
       " 'next',\n",
       " 'read',\n",
       " 'readable',\n",
       " 'readline',\n",
       " 'readlines',\n",
       " 'seek',\n",
       " 'seekable',\n",
       " 'tell',\n",
       " 'truncate',\n",
       " 'writable',\n",
       " 'write',\n",
       " 'writelines']"
      ]
     },
     "execution_count": 601,
     "metadata": {},
     "output_type": "execute_result"
    }
   ],
   "source": [
    "dir(cs)"
   ]
  },
  {
   "cell_type": "code",
   "execution_count": 612,
   "metadata": {
    "collapsed": false
   },
   "outputs": [
    {
     "data": {
      "text/plain": [
       "'12.1231151234'"
      ]
     },
     "execution_count": 612,
     "metadata": {},
     "output_type": "execute_result"
    }
   ],
   "source": [
    "str(12.12311512341612)"
   ]
  },
  {
   "cell_type": "code",
   "execution_count": 613,
   "metadata": {
    "collapsed": false
   },
   "outputs": [
    {
     "data": {
      "text/plain": [
       "'3.3000000000000003'"
      ]
     },
     "execution_count": 613,
     "metadata": {},
     "output_type": "execute_result"
    }
   ],
   "source": [
    "repr(1.1 + 2.2)"
   ]
  },
  {
   "cell_type": "code",
   "execution_count": 614,
   "metadata": {
    "collapsed": false
   },
   "outputs": [
    {
     "data": {
      "text/plain": [
       "'3.3'"
      ]
     },
     "execution_count": 614,
     "metadata": {},
     "output_type": "execute_result"
    }
   ],
   "source": [
    "str(1.1 + 2.2)"
   ]
  },
  {
   "cell_type": "code",
   "execution_count": 615,
   "metadata": {
    "collapsed": false
   },
   "outputs": [
    {
     "name": "stdout",
     "output_type": "stream",
     "text": [
      "3.3\n"
     ]
    }
   ],
   "source": [
    "print(1.1 + 2.2)"
   ]
  },
  {
   "cell_type": "code",
   "execution_count": 616,
   "metadata": {
    "collapsed": false
   },
   "outputs": [
    {
     "name": "stdout",
     "output_type": "stream",
     "text": [
      "12.1231151234\n"
     ]
    }
   ],
   "source": [
    "print(12.12311512341612)"
   ]
  },
  {
   "cell_type": "code",
   "execution_count": 617,
   "metadata": {
    "collapsed": false
   },
   "outputs": [
    {
     "data": {
      "text/plain": [
       "'100 is greater than 50'"
      ]
     },
     "execution_count": 617,
     "metadata": {},
     "output_type": "execute_result"
    }
   ],
   "source": [
    "# if 'name' is an integer, it refers to the argument position\n",
    "'{0} is greater than {1}'.format(100,50)"
   ]
  },
  {
   "cell_type": "code",
   "execution_count": 618,
   "metadata": {
    "collapsed": false
   },
   "outputs": [
    {
     "data": {
      "text/plain": [
       "'Ripley, Ellen'"
      ]
     },
     "execution_count": 618,
     "metadata": {},
     "output_type": "execute_result"
    }
   ],
   "source": [
    "# if 'name' is text, it refers to a keyword argument\n",
    "'{last}, {first}'.format(first='Ellen',last='Ripley')"
   ]
  },
  {
   "cell_type": "code",
   "execution_count": 619,
   "metadata": {
    "collapsed": false
   },
   "outputs": [
    {
     "data": {
      "text/plain": [
       "'3 + 4'"
      ]
     },
     "execution_count": 619,
     "metadata": {},
     "output_type": "execute_result"
    }
   ],
   "source": [
    "\"{x} + {y}\".format(x = 3, y = 4)"
   ]
  },
  {
   "cell_type": "code",
   "execution_count": 620,
   "metadata": {
    "collapsed": true
   },
   "outputs": [],
   "source": [
    "d = dict(x=4, y=6)"
   ]
  },
  {
   "cell_type": "code",
   "execution_count": 621,
   "metadata": {
    "collapsed": false
   },
   "outputs": [
    {
     "data": {
      "text/plain": [
       "'4 + 6'"
      ]
     },
     "execution_count": 621,
     "metadata": {},
     "output_type": "execute_result"
    }
   ],
   "source": [
    "\"{x} + {y}\".format(**d)"
   ]
  },
  {
   "cell_type": "code",
   "execution_count": 622,
   "metadata": {
    "collapsed": true
   },
   "outputs": [],
   "source": [
    "# Exercise (from page 53)\n",
    "text = \"Spam, egg, sausage, and spam.\""
   ]
  },
  {
   "cell_type": "code",
   "execution_count": 625,
   "metadata": {
    "collapsed": false
   },
   "outputs": [
    {
     "data": {
      "text/plain": [
       "'Spam'"
      ]
     },
     "execution_count": 625,
     "metadata": {},
     "output_type": "execute_result"
    }
   ],
   "source": [
    "# 1) print the first food item\n",
    "text.split(', ')[0]"
   ]
  },
  {
   "cell_type": "code",
   "execution_count": 626,
   "metadata": {
    "collapsed": false
   },
   "outputs": [
    {
     "data": {
      "text/plain": [
       "'SPAM, EGG, SAUSAGE, AND SPAM.'"
      ]
     },
     "execution_count": 626,
     "metadata": {},
     "output_type": "execute_result"
    }
   ],
   "source": [
    "# 2) print the string in all upper case\n",
    "text.upper()"
   ]
  },
  {
   "cell_type": "code",
   "execution_count": 644,
   "metadata": {
    "collapsed": false
   },
   "outputs": [
    {
     "data": {
      "text/plain": [
       "'Spam, spam, sausage, and spam.'"
      ]
     },
     "execution_count": 644,
     "metadata": {},
     "output_type": "execute_result"
    }
   ],
   "source": [
    "# 3) Replace the word \"egg\" with \"spam\"\n",
    "text.replace(\"egg\",\"spam\")"
   ]
  },
  {
   "cell_type": "code",
   "execution_count": 639,
   "metadata": {
    "collapsed": false
   },
   "outputs": [
    {
     "name": "stdout",
     "output_type": "stream",
     "text": [
      "Sausage, egg, cheese, and chile.\n"
     ]
    }
   ],
   "source": [
    "# 4) Make a string template for breakfast dishes with four items\n",
    "breakfast = '{item1}, {item2}, {item3}, and {item4}.'\n",
    "print(breakfast.format(item1='Sausage',item2='egg',item3='cheese',item4='chile'))"
   ]
  },
  {
   "cell_type": "code",
   "execution_count": 660,
   "metadata": {
    "collapsed": false
   },
   "outputs": [
    {
     "data": {
      "text/plain": [
       "[2, 4, 6]"
      ]
     },
     "execution_count": 660,
     "metadata": {},
     "output_type": "execute_result"
    }
   ],
   "source": [
    "r = range(2, 7, 2) ; r"
   ]
  },
  {
   "cell_type": "code",
   "execution_count": 663,
   "metadata": {
    "collapsed": false
   },
   "outputs": [],
   "source": [
    "ir = iter(r)"
   ]
  },
  {
   "cell_type": "code",
   "execution_count": 664,
   "metadata": {
    "collapsed": false
   },
   "outputs": [
    {
     "data": {
      "text/plain": [
       "<listiterator at 0x84ef4e0>"
      ]
     },
     "execution_count": 664,
     "metadata": {},
     "output_type": "execute_result"
    }
   ],
   "source": [
    "ir"
   ]
  },
  {
   "cell_type": "code",
   "execution_count": 665,
   "metadata": {
    "collapsed": false
   },
   "outputs": [
    {
     "data": {
      "text/plain": [
       "2"
      ]
     },
     "execution_count": 665,
     "metadata": {},
     "output_type": "execute_result"
    }
   ],
   "source": [
    "next(ir)"
   ]
  },
  {
   "cell_type": "code",
   "execution_count": 666,
   "metadata": {
    "collapsed": false
   },
   "outputs": [
    {
     "data": {
      "text/plain": [
       "4"
      ]
     },
     "execution_count": 666,
     "metadata": {},
     "output_type": "execute_result"
    }
   ],
   "source": [
    "next(ir)"
   ]
  },
  {
   "cell_type": "code",
   "execution_count": 667,
   "metadata": {
    "collapsed": false
   },
   "outputs": [
    {
     "data": {
      "text/plain": [
       "6"
      ]
     },
     "execution_count": 667,
     "metadata": {},
     "output_type": "execute_result"
    }
   ],
   "source": [
    "next(ir)"
   ]
  },
  {
   "cell_type": "code",
   "execution_count": 668,
   "metadata": {
    "collapsed": false
   },
   "outputs": [
    {
     "ename": "StopIteration",
     "evalue": "",
     "output_type": "error",
     "traceback": [
      "\u001b[1;31m\u001b[0m",
      "\u001b[1;31mStopIteration\u001b[0mTraceback (most recent call last)",
      "\u001b[1;32m<ipython-input-668-15e09e29c7f5>\u001b[0m in \u001b[0;36m<module>\u001b[1;34m()\u001b[0m\n\u001b[1;32m----> 1\u001b[1;33m \u001b[0mnext\u001b[0m\u001b[1;33m(\u001b[0m\u001b[0mir\u001b[0m\u001b[1;33m)\u001b[0m\u001b[1;33m\u001b[0m\u001b[0m\n\u001b[0m",
      "\u001b[1;31mStopIteration\u001b[0m: "
     ]
    }
   ],
   "source": [
    "next(ir)"
   ]
  },
  {
   "cell_type": "code",
   "execution_count": 669,
   "metadata": {
    "collapsed": false
   },
   "outputs": [
    {
     "name": "stdout",
     "output_type": "stream",
     "text": [
      "4\n",
      "25\n",
      "64\n",
      "121\n",
      "196\n",
      "289\n",
      "400\n",
      "529\n",
      "676\n",
      "841\n",
      "1024\n",
      "1225\n",
      "1444\n",
      "1681\n",
      "1936\n",
      "2209\n",
      "2500\n",
      "2809\n",
      "3136\n",
      "3481\n",
      "3844\n",
      "4225\n",
      "4624\n",
      "5041\n",
      "5476\n",
      "5929\n",
      "6400\n",
      "6889\n",
      "7396\n",
      "7921\n",
      "8464\n",
      "9025\n",
      "9604\n"
     ]
    }
   ],
   "source": [
    "for i in range(2, 101, 3): # a range object isn't a list! it is a C object\n",
    "    print(i**2)"
   ]
  },
  {
   "cell_type": "code",
   "execution_count": 670,
   "metadata": {
    "collapsed": false
   },
   "outputs": [
    {
     "name": "stdout",
     "output_type": "stream",
     "text": [
      "4\n",
      "25\n",
      "64\n",
      "121\n",
      "196\n",
      "289\n",
      "400\n",
      "529\n",
      "676\n",
      "841\n",
      "1024\n",
      "1225\n",
      "1444\n",
      "1681\n",
      "1936\n",
      "2209\n",
      "2500\n",
      "2809\n",
      "3136\n",
      "3481\n",
      "3844\n",
      "4225\n",
      "4624\n",
      "5041\n",
      "5476\n",
      "5929\n",
      "6400\n",
      "6889\n",
      "7396\n",
      "7921\n",
      "8464\n",
      "9025\n",
      "9604\n"
     ]
    }
   ],
   "source": [
    "for i in list(range(2, 101, 3)): # this is slower, actually creating a list object\n",
    "    print(i**2)"
   ]
  },
  {
   "cell_type": "code",
   "execution_count": 677,
   "metadata": {
    "collapsed": false
   },
   "outputs": [
    {
     "data": {
      "text/plain": [
       "[1, 2, 3, 4, 5]"
      ]
     },
     "execution_count": 677,
     "metadata": {},
     "output_type": "execute_result"
    }
   ],
   "source": [
    "s = [1,2,3]\n",
    "s.extend([4,5]) # extend is + in place!\n",
    "s"
   ]
  },
  {
   "cell_type": "code",
   "execution_count": 688,
   "metadata": {
    "collapsed": false
   },
   "outputs": [
    {
     "data": {
      "text/plain": [
       "[1, 2, 3, 4, 5]"
      ]
     },
     "execution_count": 688,
     "metadata": {},
     "output_type": "execute_result"
    }
   ],
   "source": [
    "a = [1,2,3] ; b= [4, 5]\n",
    "s = a + b # this needs to create a new object before s references to it\n",
    "s"
   ]
  },
  {
   "cell_type": "code",
   "execution_count": 693,
   "metadata": {
    "collapsed": false
   },
   "outputs": [
    {
     "data": {
      "text/plain": [
       "[0, 1, 2, 3, 4, 5]"
      ]
     },
     "execution_count": 693,
     "metadata": {},
     "output_type": "execute_result"
    }
   ],
   "source": [
    "s = [1,2,3,4,5]\n",
    "s.reverse()\n",
    "s.append(0)\n",
    "s.reverse()\n",
    "s # this can be faster than doing s.insert"
   ]
  },
  {
   "cell_type": "code",
   "execution_count": 694,
   "metadata": {
    "collapsed": false
   },
   "outputs": [
    {
     "data": {
      "text/plain": [
       "[0, 1, 2, 3, 4, 5]"
      ]
     },
     "execution_count": 694,
     "metadata": {},
     "output_type": "execute_result"
    }
   ],
   "source": [
    "s = [1,2,3,4,5]\n",
    "s.insert(0,0)\n",
    "s"
   ]
  },
  {
   "cell_type": "code",
   "execution_count": 698,
   "metadata": {
    "collapsed": false
   },
   "outputs": [
    {
     "data": {
      "text/plain": [
       "[1, 2, 3, 5]"
      ]
     },
     "execution_count": 698,
     "metadata": {},
     "output_type": "execute_result"
    }
   ],
   "source": [
    "s = [1,2,3,4,5]\n",
    "s.pop(s.index(4)) ; s"
   ]
  },
  {
   "cell_type": "code",
   "execution_count": 699,
   "metadata": {
    "collapsed": false
   },
   "outputs": [
    {
     "data": {
      "text/plain": [
       "[1, 2, 3, 5]"
      ]
     },
     "execution_count": 699,
     "metadata": {},
     "output_type": "execute_result"
    }
   ],
   "source": [
    "s = [1,2,3,4,5]\n",
    "s.remove(4) ; s"
   ]
  },
  {
   "cell_type": "code",
   "execution_count": 713,
   "metadata": {
    "collapsed": false
   },
   "outputs": [
    {
     "data": {
      "text/plain": [
       "[1, 3, 10, 4, 3, 5, 17]"
      ]
     },
     "execution_count": 713,
     "metadata": {},
     "output_type": "execute_result"
    }
   ],
   "source": [
    "x = [-1, -3, -10, 4, 3, -5, 17]\n",
    "list(map(abs,x)) # map is an in-line for loop"
   ]
  },
  {
   "cell_type": "code",
   "execution_count": 714,
   "metadata": {
    "collapsed": false
   },
   "outputs": [
    {
     "data": {
      "text/plain": [
       "[1, 3, 10, 4, 3, 5, 17]"
      ]
     },
     "execution_count": 714,
     "metadata": {},
     "output_type": "execute_result"
    }
   ],
   "source": [
    "x = [-1, -3, -10, 4, 3, -5, 17]\n",
    "list(abs(i) for i in x)"
   ]
  },
  {
   "cell_type": "code",
   "execution_count": 715,
   "metadata": {
    "collapsed": false
   },
   "outputs": [
    {
     "data": {
      "text/plain": [
       "[(1, -1), (3, -3), (10, -10), (4, 4), (3, 3), (5, -5), (17, 17)]"
      ]
     },
     "execution_count": 715,
     "metadata": {},
     "output_type": "execute_result"
    }
   ],
   "source": [
    "zip(map(abs,x),x) # this object is a zip object, entirely in C"
   ]
  },
  {
   "cell_type": "code",
   "execution_count": 716,
   "metadata": {
    "collapsed": false
   },
   "outputs": [
    {
     "data": {
      "text/plain": [
       "[(1, -1), (3, -3), (3, 3), (4, 4), (5, -5), (10, -10), (17, 17)]"
      ]
     },
     "execution_count": 716,
     "metadata": {},
     "output_type": "execute_result"
    }
   ],
   "source": [
    "sorted(zip(map(abs,x),x))"
   ]
  },
  {
   "cell_type": "code",
   "execution_count": 717,
   "metadata": {
    "collapsed": false
   },
   "outputs": [
    {
     "data": {
      "text/plain": [
       "[-1, -3, 3, 4, -5, -10, 17]"
      ]
     },
     "execution_count": 717,
     "metadata": {},
     "output_type": "execute_result"
    }
   ],
   "source": [
    "[j for i,j in sorted(zip(map(abs,x),x))] # all done in C!!!"
   ]
  },
  {
   "cell_type": "code",
   "execution_count": 719,
   "metadata": {
    "collapsed": true
   },
   "outputs": [],
   "source": [
    "# Exercise (page 59)\n",
    "# Given the list\n",
    "b = [9.5, 9.25, 9.75, 9.50]"
   ]
  },
  {
   "cell_type": "code",
   "execution_count": 734,
   "metadata": {
    "collapsed": false
   },
   "outputs": [
    {
     "data": {
      "text/plain": [
       "[9.25, 9.5, 9.0, 9.0, 9.0, 9.0]"
      ]
     },
     "execution_count": 734,
     "metadata": {},
     "output_type": "execute_result"
    }
   ],
   "source": [
    "# 1) Add the value 9.00 to the end of the list\n",
    "b.append(9.00) ; b"
   ]
  },
  {
   "cell_type": "code",
   "execution_count": 735,
   "metadata": {
    "collapsed": false
   },
   "outputs": [
    {
     "data": {
      "text/plain": [
       "9.5"
      ]
     },
     "execution_count": 735,
     "metadata": {},
     "output_type": "execute_result"
    }
   ],
   "source": [
    "# 2) Find the maximum value\n",
    "max(b)"
   ]
  },
  {
   "cell_type": "code",
   "execution_count": 736,
   "metadata": {
    "collapsed": false
   },
   "outputs": [
    {
     "data": {
      "text/plain": [
       "[9.25, 9.5, 9.0, 9.0, 9.0, 9.0]"
      ]
     },
     "execution_count": 736,
     "metadata": {},
     "output_type": "execute_result"
    }
   ],
   "source": [
    "# 3) Find the index of the maximum value\n",
    "b.index(max(b)) ; b"
   ]
  },
  {
   "cell_type": "code",
   "execution_count": null,
   "metadata": {
    "collapsed": true
   },
   "outputs": [],
   "source": [
    "# 4) Remove the maximum value from the list\n",
    "b.pop(b.index(max(b))) ; b"
   ]
  },
  {
   "cell_type": "code",
   "execution_count": 740,
   "metadata": {
    "collapsed": false
   },
   "outputs": [
    {
     "data": {
      "text/plain": [
       "(1, 2, [3, 4, 7])"
      ]
     },
     "execution_count": 740,
     "metadata": {},
     "output_type": "execute_result"
    }
   ],
   "source": [
    "# Example (page 64)\n",
    "a = [3, 4] # this list is mutable\n",
    "x = (1, 2, a) # this tuple is unmutable\n",
    "x[-1].append(7) # although x is unmutable, a is mutable!\n",
    "x"
   ]
  },
  {
   "cell_type": "code",
   "execution_count": null,
   "metadata": {
    "collapsed": true
   },
   "outputs": [],
   "source": []
  }
 ],
 "metadata": {
  "kernelspec": {
   "display_name": "Python 2",
   "language": "python",
   "name": "python2"
  },
  "language_info": {
   "codemirror_mode": {
    "name": "ipython",
    "version": 2
   },
   "file_extension": ".py",
   "mimetype": "text/x-python",
   "name": "python",
   "nbconvert_exporter": "python",
   "pygments_lexer": "ipython2",
   "version": "2.7.13"
  }
 },
 "nbformat": 4,
 "nbformat_minor": 2
}
