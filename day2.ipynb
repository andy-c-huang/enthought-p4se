{
 "cells": [
  {
   "cell_type": "code",
   "execution_count": 1,
   "metadata": {
    "collapsed": true
   },
   "outputs": [],
   "source": [
    "# comments from hw1\n",
    "\n",
    "# the following are equivalent:\n",
    "\n",
    "### from string import punctuation\n",
    "\n",
    "### import string\n",
    "### punctuation = string.punctuation\n",
    "### del string\n",
    "\n",
    "# because of this, it is *less efficient* to do this than to simply import all of string!"
   ]
  },
  {
   "cell_type": "code",
   "execution_count": 2,
   "metadata": {
    "collapsed": false
   },
   "outputs": [
    {
     "name": "stdout",
     "output_type": "stream",
     "text": [
      "2\n",
      "4\n",
      "6\n"
     ]
    }
   ],
   "source": [
    "r = range(2,7,2)\n",
    "# this ...\n",
    "for i in r:\n",
    "    print(i)"
   ]
  },
  {
   "cell_type": "code",
   "execution_count": 3,
   "metadata": {
    "collapsed": false
   },
   "outputs": [
    {
     "name": "stdout",
     "output_type": "stream",
     "text": [
      "2\n",
      "4\n",
      "6\n"
     ]
    }
   ],
   "source": [
    "# is equivalent to this:\n",
    "for i in iter(r):\n",
    "    print(i)"
   ]
  },
  {
   "cell_type": "code",
   "execution_count": 4,
   "metadata": {
    "collapsed": false
   },
   "outputs": [
    {
     "data": {
      "text/plain": [
       "[2, 4, 6]"
      ]
     },
     "execution_count": 4,
     "metadata": {},
     "output_type": "execute_result"
    }
   ],
   "source": [
    "# observe\n",
    "list(iter(r))"
   ]
  },
  {
   "cell_type": "code",
   "execution_count": 5,
   "metadata": {
    "collapsed": false
   },
   "outputs": [
    {
     "data": {
      "text/plain": [
       "[(1, 2), (2, 1), 'a', 'b']"
      ]
     },
     "execution_count": 5,
     "metadata": {},
     "output_type": "execute_result"
    }
   ],
   "source": [
    "# object: dictionaries\n",
    "# the keys of a dictionary can be any immutable object (and hence uniquely identifiable)\n",
    "dict = {(1,2):'a', (2,1):'b'} # we can't use the dict((1,2)='a', (2,1)='b') syntax\n",
    "dict.keys() + dict.values()"
   ]
  },
  {
   "cell_type": "code",
   "execution_count": 6,
   "metadata": {
    "collapsed": false
   },
   "outputs": [],
   "source": [
    "l1 = list(range(17, 460, 2))\n",
    "l2 = list(range(13, 550, 3))\n",
    "# how do we find the common elements? can cast as a set!"
   ]
  },
  {
   "cell_type": "code",
   "execution_count": 7,
   "metadata": {
    "collapsed": false
   },
   "outputs": [
    {
     "name": "stdout",
     "output_type": "stream",
     "text": [
      "100000 loops, best of 3: 9.49 µs per loop\n"
     ]
    }
   ],
   "source": [
    "%%timeit\n",
    "set(l1).intersection(l2) # searching in a set is an O(1) operation (all in C!)\n",
    "# there is no intersection method in list, and also searching through a list is an O(n) operation"
   ]
  },
  {
   "cell_type": "code",
   "execution_count": 8,
   "metadata": {
    "collapsed": false
   },
   "outputs": [
    {
     "name": "stdout",
     "output_type": "stream",
     "text": [
      "1000 loops, best of 3: 409 µs per loop\n"
     ]
    }
   ],
   "source": [
    "%%timeit\n",
    "# compare this to:\n",
    "[i for i in l1 if i in l2]"
   ]
  },
  {
   "cell_type": "code",
   "execution_count": 9,
   "metadata": {
    "collapsed": true
   },
   "outputs": [],
   "source": [
    "# moral: to create a set from a list, it's an O(n^2) operation, though!\n",
    "# you form a set sequentially from the first i elements, then tries to add the (i+1)-st, checking for uniqueness\n",
    "# in this case, if we started with lists, it was actually *FASTER* to loop through the lists"
   ]
  },
  {
   "cell_type": "code",
   "execution_count": 10,
   "metadata": {
    "collapsed": false
   },
   "outputs": [
    {
     "data": {
      "text/plain": [
       "'Clerk'"
      ]
     },
     "execution_count": 10,
     "metadata": {},
     "output_type": "execute_result"
    }
   ],
   "source": [
    "# moral: dictionary get is slow!\n",
    "record = {'first':'James', 'middle':'Clerk', 'last':'Maxwell'}\n",
    "record.get('middle','NMN') # this returns the value for the 'middle' key, but defaults to 'NMN' if the key is not found"
   ]
  },
  {
   "cell_type": "code",
   "execution_count": 11,
   "metadata": {
    "collapsed": false
   },
   "outputs": [
    {
     "name": "stdout",
     "output_type": "stream",
     "text": [
      "The slowest run took 18.64 times longer than the fastest. This could mean that an intermediate result is being cached.\n",
      "10000000 loops, best of 3: 97.8 ns per loop\n"
     ]
    }
   ],
   "source": [
    "%%timeit\n",
    "record.get('birthday','N/A')"
   ]
  },
  {
   "cell_type": "code",
   "execution_count": 12,
   "metadata": {
    "collapsed": false
   },
   "outputs": [
    {
     "name": "stdout",
     "output_type": "stream",
     "text": [
      "10000000 loops, best of 3: 37 ns per loop\n"
     ]
    }
   ],
   "source": [
    "%%timeit\n",
    "record['birthday'] if 'birthday' in record else 'N/A'"
   ]
  },
  {
   "cell_type": "code",
   "execution_count": 13,
   "metadata": {
    "collapsed": false
   },
   "outputs": [
    {
     "data": {
      "text/plain": [
       "set()"
      ]
     },
     "execution_count": 13,
     "metadata": {},
     "output_type": "execute_result"
    }
   ],
   "source": [
    "# object: sets\n",
    "s = set() ; s# empty set"
   ]
  },
  {
   "cell_type": "code",
   "execution_count": 14,
   "metadata": {
    "collapsed": false
   },
   "outputs": [
    {
     "data": {
      "text/plain": [
       "{1, 2, 3, 12, 23, 123, 4123}"
      ]
     },
     "execution_count": 14,
     "metadata": {},
     "output_type": "execute_result"
    }
   ],
   "source": [
    "t = set([1,2,3,1,123,1,4123,1,23,12,3,123,2]) ; t"
   ]
  },
  {
   "cell_type": "code",
   "execution_count": 15,
   "metadata": {
    "collapsed": false
   },
   "outputs": [
    {
     "data": {
      "text/plain": [
       "{2, 3, 12, 23, 123, 4123}"
      ]
     },
     "execution_count": 15,
     "metadata": {},
     "output_type": "execute_result"
    }
   ],
   "source": [
    "# pop removes a random element!\n",
    "t.pop() ; t"
   ]
  },
  {
   "cell_type": "code",
   "execution_count": 16,
   "metadata": {
    "collapsed": true
   },
   "outputs": [],
   "source": [
    "# select the correct data type: list, tuple, set, frozen set, dict\n",
    "# a frozen set is an immutable set\n",
    "# typically, there are immutable counterparts to data structures in python"
   ]
  },
  {
   "cell_type": "code",
   "execution_count": 17,
   "metadata": {
    "collapsed": false
   },
   "outputs": [
    {
     "name": "stdout",
     "output_type": "stream",
     "text": [
      "yes\n"
     ]
    }
   ],
   "source": [
    "# if/elif/else statements\n",
    "if True: # the condition can be any object! the condition becomes bool(object)\n",
    "  print('yes')\n",
    "else: \n",
    "  print('no');"
   ]
  },
  {
   "cell_type": "code",
   "execution_count": 18,
   "metadata": {
    "collapsed": false
   },
   "outputs": [
    {
     "name": "stdout",
     "output_type": "stream",
     "text": [
      "The set is empty\n"
     ]
    }
   ],
   "source": [
    "x = {}\n",
    "if x:\n",
    "  print('There is something in the set')\n",
    "else:\n",
    "  print('The set is empty')"
   ]
  },
  {
   "cell_type": "code",
   "execution_count": 19,
   "metadata": {
    "collapsed": false
   },
   "outputs": [
    {
     "data": {
      "text/plain": [
       "0"
      ]
     },
     "execution_count": 19,
     "metadata": {},
     "output_type": "execute_result"
    }
   ],
   "source": [
    "# better practice to test for the number of items x contains\n",
    "len(x)"
   ]
  },
  {
   "cell_type": "code",
   "execution_count": 20,
   "metadata": {
    "collapsed": true
   },
   "outputs": [],
   "source": [
    "# this is because python is very permissive;\n",
    "# the code will work for more objects than you initially intended for"
   ]
  },
  {
   "cell_type": "code",
   "execution_count": 21,
   "metadata": {
    "collapsed": false
   },
   "outputs": [
    {
     "data": {
      "text/plain": [
       "[(0, 4),\n",
       " (1, 7),\n",
       " (2, 10),\n",
       " (3, 13),\n",
       " (4, 16),\n",
       " (5, 19),\n",
       " (6, 22),\n",
       " (7, 25),\n",
       " (8, 28),\n",
       " (9, 31),\n",
       " (10, 34),\n",
       " (11, 37),\n",
       " (12, 40),\n",
       " (13, 43),\n",
       " (14, 46),\n",
       " (15, 49),\n",
       " (16, 52),\n",
       " (17, 55)]"
      ]
     },
     "execution_count": 21,
     "metadata": {},
     "output_type": "execute_result"
    }
   ],
   "source": [
    "list(enumerate(range(4,56,3)))"
   ]
  },
  {
   "cell_type": "code",
   "execution_count": 22,
   "metadata": {
    "collapsed": false
   },
   "outputs": [],
   "source": [
    "# for loops can be very slow\n",
    "# moral: try to use fewer (C) operations via list comprehension and map"
   ]
  },
  {
   "cell_type": "code",
   "execution_count": 23,
   "metadata": {
    "collapsed": false
   },
   "outputs": [
    {
     "name": "stdout",
     "output_type": "stream",
     "text": [
      "100000 loops, best of 3: 11.2 µs per loop\n"
     ]
    }
   ],
   "source": [
    "%%timeit\n",
    "# this is bad\n",
    "output = []\n",
    "for integer in range(100):\n",
    "  output.append(integer*integer) # this is allocating unecessary memory"
   ]
  },
  {
   "cell_type": "code",
   "execution_count": 24,
   "metadata": {
    "collapsed": false
   },
   "outputs": [
    {
     "name": "stdout",
     "output_type": "stream",
     "text": [
      "100000 loops, best of 3: 9.05 µs per loop\n"
     ]
    }
   ],
   "source": [
    "%%timeit\n",
    "x = range(100)\n",
    "y = [0]*len(x) # a result array of the right size\n",
    "for i,j in enumerate(x):\n",
    "  y[i] = j*j"
   ]
  },
  {
   "cell_type": "code",
   "execution_count": 28,
   "metadata": {
    "collapsed": false
   },
   "outputs": [
    {
     "name": "stdout",
     "output_type": "stream",
     "text": [
      "The slowest run took 24.06 times longer than the fastest. This could mean that an intermediate result is being cached.\n",
      "10000000 loops, best of 3: 60.6 ns per loop\n"
     ]
    }
   ],
   "source": [
    "%%timeit\n",
    "[i*i for i in x] # list comprehension"
   ]
  },
  {
   "cell_type": "code",
   "execution_count": 29,
   "metadata": {
    "collapsed": false
   },
   "outputs": [
    {
     "ename": "StopIteration",
     "evalue": "",
     "output_type": "error",
     "traceback": [
      "\u001b[1;31m\u001b[0m",
      "\u001b[1;31mStopIteration\u001b[0mTraceback (most recent call last)",
      "\u001b[1;32m<ipython-input-29-45a1fb69af98>\u001b[0m in \u001b[0;36m<module>\u001b[1;34m()\u001b[0m\n\u001b[0;32m      1\u001b[0m \u001b[1;31m#%%timeit\u001b[0m\u001b[1;33m\u001b[0m\u001b[1;33m\u001b[0m\u001b[0m\n\u001b[0;32m      2\u001b[0m \u001b[0mg\u001b[0m \u001b[1;33m=\u001b[0m \u001b[1;33m(\u001b[0m\u001b[0mi\u001b[0m\u001b[1;33m*\u001b[0m\u001b[0mi\u001b[0m \u001b[1;32mfor\u001b[0m \u001b[0mi\u001b[0m \u001b[1;32min\u001b[0m \u001b[0mx\u001b[0m\u001b[1;33m)\u001b[0m \u001b[1;31m# this is a generator!\u001b[0m\u001b[1;33m\u001b[0m\u001b[0m\n\u001b[1;32m----> 3\u001b[1;33m \u001b[0mnext\u001b[0m\u001b[1;33m(\u001b[0m\u001b[0mg\u001b[0m\u001b[1;33m)\u001b[0m\u001b[1;33m\u001b[0m\u001b[0m\n\u001b[0m",
      "\u001b[1;31mStopIteration\u001b[0m: "
     ]
    }
   ],
   "source": [
    "#%%timeit\n",
    "g = (i*i for i in x) # this is a generator!\n",
    "next(g)"
   ]
  },
  {
   "cell_type": "code",
   "execution_count": 30,
   "metadata": {
    "collapsed": true
   },
   "outputs": [],
   "source": [
    "# list comprehension has built in overhead as compared to a for loop"
   ]
  },
  {
   "cell_type": "code",
   "execution_count": 31,
   "metadata": {
    "collapsed": false
   },
   "outputs": [
    {
     "name": "stdout",
     "output_type": "stream",
     "text": [
      "The slowest run took 6.95 times longer than the fastest. This could mean that an intermediate result is being cached.\n",
      "1000000 loops, best of 3: 367 ns per loop\n"
     ]
    }
   ],
   "source": [
    "%%timeit\n",
    "list(map(lambda i:i*i, x))"
   ]
  },
  {
   "cell_type": "code",
   "execution_count": 32,
   "metadata": {
    "collapsed": false
   },
   "outputs": [],
   "source": [
    "# exercise (page 77)\n",
    "values = [-4, 5, -1, -2, 10, 3, 12, -45, 13, 12, -53]\n",
    "# determine the postive values and the negative values"
   ]
  },
  {
   "cell_type": "code",
   "execution_count": 33,
   "metadata": {
    "collapsed": false
   },
   "outputs": [
    {
     "name": "stdout",
     "output_type": "stream",
     "text": [
      "1000000 loops, best of 3: 1.38 µs per loop\n"
     ]
    }
   ],
   "source": [
    "%%timeit\n",
    "positives = []\n",
    "negatives = []\n",
    "for term in values:\n",
    "  if term > 0:\n",
    "    positives.append(term)\n",
    "  else:\n",
    "    negatives.append(term)"
   ]
  },
  {
   "cell_type": "code",
   "execution_count": 34,
   "metadata": {
    "collapsed": false
   },
   "outputs": [
    {
     "name": "stdout",
     "output_type": "stream",
     "text": [
      "1000000 loops, best of 3: 1.42 µs per loop\n"
     ]
    }
   ],
   "source": [
    "%%timeit\n",
    "# moral: list comprehension! \n",
    "positives = []\n",
    "negatives = [i for i in values if i<0 or positives.append(i)] \n",
    "# each time the condition positives.append(i) is checked, the append function is called! \n",
    "# it always returns None, and bool(None) is false"
   ]
  },
  {
   "cell_type": "code",
   "execution_count": 35,
   "metadata": {
    "collapsed": false
   },
   "outputs": [
    {
     "data": {
      "text/plain": [
       "False"
      ]
     },
     "execution_count": 35,
     "metadata": {},
     "output_type": "execute_result"
    }
   ],
   "source": [
    "bool([].append(1))"
   ]
  },
  {
   "cell_type": "code",
   "execution_count": 36,
   "metadata": {
    "collapsed": false
   },
   "outputs": [
    {
     "data": {
      "text/plain": [
       "[16, 5, 1, 4, 10, 3, 12, 2025, 13, 12, 2809]"
      ]
     },
     "execution_count": 36,
     "metadata": {},
     "output_type": "execute_result"
    }
   ],
   "source": [
    "# return the square of the positive numbers\n",
    "[i if i>0 else i*i for i in values]"
   ]
  },
  {
   "cell_type": "code",
   "execution_count": 37,
   "metadata": {
    "collapsed": false
   },
   "outputs": [],
   "source": [
    "# moral: python is built as a natural language syntax; code is designed to be quite readable\n",
    "# the more readable the code, the more efficient the underlying C operations should be\n",
    "# the builtins are made so that the code reflects natural English grammar"
   ]
  },
  {
   "cell_type": "code",
   "execution_count": 38,
   "metadata": {
    "collapsed": true
   },
   "outputs": [],
   "source": [
    "# we can iterate list comprehension/filters\n",
    "# moral: use immutable objects for efficiency\n",
    "numbers = range(3,1000,13)"
   ]
  },
  {
   "cell_type": "code",
   "execution_count": 39,
   "metadata": {
    "collapsed": false
   },
   "outputs": [
    {
     "name": "stdout",
     "output_type": "stream",
     "text": [
      "10000 loops, best of 3: 17.9 µs per loop\n"
     ]
    }
   ],
   "source": [
    "%%timeit\n",
    "[i**.5 for i in [j*j for j in numbers]]"
   ]
  },
  {
   "cell_type": "code",
   "execution_count": 40,
   "metadata": {
    "collapsed": false
   },
   "outputs": [
    {
     "name": "stdout",
     "output_type": "stream",
     "text": [
      "10000 loops, best of 3: 17.9 µs per loop\n"
     ]
    }
   ],
   "source": [
    "%%timeit\n",
    "[i**.5 for i in (j*j for j in numbers)]"
   ]
  },
  {
   "cell_type": "code",
   "execution_count": 41,
   "metadata": {
    "collapsed": false
   },
   "outputs": [
    {
     "name": "stdout",
     "output_type": "stream",
     "text": [
      "100000 loops, best of 3: 19.9 µs per loop\n"
     ]
    }
   ],
   "source": [
    "%%timeit\n",
    "squared = (j*j for j in numbers) # generator; it's more readable this way\n",
    "[i**.5 for i in squared]"
   ]
  },
  {
   "cell_type": "code",
   "execution_count": 42,
   "metadata": {
    "collapsed": false
   },
   "outputs": [
    {
     "name": "stdout",
     "output_type": "stream",
     "text": [
      "100000 loops, best of 3: 5.04 µs per loop\n"
     ]
    }
   ],
   "source": [
    "%%timeit\n",
    "(i**.5 for i in [j*j for j in numbers])"
   ]
  },
  {
   "cell_type": "code",
   "execution_count": 43,
   "metadata": {
    "collapsed": false
   },
   "outputs": [
    {
     "name": "stdout",
     "output_type": "stream",
     "text": [
      "The slowest run took 4.74 times longer than the fastest. This could mean that an intermediate result is being cached.\n",
      "1000000 loops, best of 3: 1 µs per loop\n"
     ]
    }
   ],
   "source": [
    "%%timeit\n",
    "(i**.5 for i in (j*j for j in numbers))"
   ]
  },
  {
   "cell_type": "code",
   "execution_count": 44,
   "metadata": {
    "collapsed": false
   },
   "outputs": [
    {
     "name": "stdout",
     "output_type": "stream",
     "text": [
      "1000000 loops, best of 3: 784 ns per loop\n"
     ]
    }
   ],
   "source": [
    "%%timeit\n",
    "squared = (j*j for j in numbers)\n",
    "(i**.5 for i in squared)"
   ]
  },
  {
   "cell_type": "code",
   "execution_count": 45,
   "metadata": {
    "collapsed": false
   },
   "outputs": [],
   "source": [
    "# looping over dictionaries\n",
    "d = {'a':1,'b':2,'c':3}"
   ]
  },
  {
   "cell_type": "code",
   "execution_count": 46,
   "metadata": {
    "collapsed": false
   },
   "outputs": [
    {
     "name": "stdout",
     "output_type": "stream",
     "text": [
      "The slowest run took 9.82 times longer than the fastest. This could mean that an intermediate result is being cached.\n",
      "10000000 loops, best of 3: 111 ns per loop\n"
     ]
    }
   ],
   "source": [
    "%%timeit\n",
    "# loop over dictionary automatically loops over keys\n",
    "for key in d:\n",
    "  temp = key"
   ]
  },
  {
   "cell_type": "code",
   "execution_count": 47,
   "metadata": {
    "collapsed": false
   },
   "outputs": [
    {
     "name": "stdout",
     "output_type": "stream",
     "text": [
      "The slowest run took 5.13 times longer than the fastest. This could mean that an intermediate result is being cached.\n",
      "1000000 loops, best of 3: 213 ns per loop\n"
     ]
    }
   ],
   "source": [
    "%%timeit\n",
    "# moral: specifying the loop over d.keys() is slower, since we create a python object d.keys()!\n",
    "for key in d.keys():\n",
    "  temp = key"
   ]
  },
  {
   "cell_type": "code",
   "execution_count": 48,
   "metadata": {
    "collapsed": true
   },
   "outputs": [],
   "source": [
    "# exercise\n",
    "values = {'A':-4, 'B':10, 'C':-5, 'D':3}\n",
    "# use a loop to build a dictionary containing only the keys and values which are positive"
   ]
  },
  {
   "cell_type": "code",
   "execution_count": 49,
   "metadata": {
    "collapsed": false
   },
   "outputs": [
    {
     "data": {
      "text/plain": [
       "{'B': 10, 'D': 3}"
      ]
     },
     "execution_count": 49,
     "metadata": {},
     "output_type": "execute_result"
    }
   ],
   "source": [
    "{i:j for i,j in values.items() if j>0} # dictionary comprehension"
   ]
  },
  {
   "cell_type": "code",
   "execution_count": 52,
   "metadata": {
    "collapsed": false
   },
   "outputs": [],
   "source": [
    "# Python 3 dictionary initialization\n",
    "# dict((i,j) for i,j in values.items() if j>0)"
   ]
  },
  {
   "cell_type": "code",
   "execution_count": 53,
   "metadata": {
    "collapsed": true
   },
   "outputs": [],
   "source": [
    "# functions\n",
    "def add(arg0, arg1):\n",
    "  '''Add two numbers'''\n",
    "  return arg0 + arg1 "
   ]
  },
  {
   "cell_type": "code",
   "execution_count": 54,
   "metadata": {
    "collapsed": false
   },
   "outputs": [
    {
     "name": "stdout",
     "output_type": "stream",
     "text": [
      "Help on function add in module __main__:\n",
      "\n",
      "add(arg0, arg1)\n",
      "    Add two numbers\n",
      "\n"
     ]
    }
   ],
   "source": [
    "help(add)"
   ]
  },
  {
   "cell_type": "code",
   "execution_count": 55,
   "metadata": {
    "collapsed": false
   },
   "outputs": [
    {
     "data": {
      "text/plain": [
       "(5, 'hello world')"
      ]
     },
     "execution_count": 55,
     "metadata": {},
     "output_type": "execute_result"
    }
   ],
   "source": [
    "add(2,3), add('hello ','world')"
   ]
  },
  {
   "cell_type": "code",
   "execution_count": 56,
   "metadata": {
    "collapsed": true
   },
   "outputs": [],
   "source": [
    "# we'd say that this even has a permissivity bug, \n",
    "# because it doesnt match the intent of the function as noted in its __doc__\n",
    "# functions\n",
    "def add(arg0, arg1):\n",
    "  '''Add two numbers'''\n",
    "  return arg0 + arg1 + 0"
   ]
  },
  {
   "cell_type": "code",
   "execution_count": 57,
   "metadata": {
    "collapsed": false
   },
   "outputs": [
    {
     "ename": "TypeError",
     "evalue": "cannot concatenate 'str' and 'int' objects",
     "output_type": "error",
     "traceback": [
      "\u001b[1;31m\u001b[0m",
      "\u001b[1;31mTypeError\u001b[0mTraceback (most recent call last)",
      "\u001b[1;32m<ipython-input-57-a8b67f424e33>\u001b[0m in \u001b[0;36m<module>\u001b[1;34m()\u001b[0m\n\u001b[1;32m----> 1\u001b[1;33m \u001b[0madd\u001b[0m\u001b[1;33m(\u001b[0m\u001b[1;34m'hello '\u001b[0m\u001b[1;33m,\u001b[0m\u001b[1;34m'world'\u001b[0m\u001b[1;33m)\u001b[0m \u001b[1;31m# is no longer allowed\u001b[0m\u001b[1;33m\u001b[0m\u001b[0m\n\u001b[0m",
      "\u001b[1;32m<ipython-input-56-d37403b3924f>\u001b[0m in \u001b[0;36madd\u001b[1;34m(arg0, arg1)\u001b[0m\n\u001b[0;32m      4\u001b[0m \u001b[1;32mdef\u001b[0m \u001b[0madd\u001b[0m\u001b[1;33m(\u001b[0m\u001b[0marg0\u001b[0m\u001b[1;33m,\u001b[0m \u001b[0marg1\u001b[0m\u001b[1;33m)\u001b[0m\u001b[1;33m:\u001b[0m\u001b[1;33m\u001b[0m\u001b[0m\n\u001b[0;32m      5\u001b[0m   \u001b[1;34m'''Add two numbers'''\u001b[0m\u001b[1;33m\u001b[0m\u001b[0m\n\u001b[1;32m----> 6\u001b[1;33m   \u001b[1;32mreturn\u001b[0m \u001b[0marg0\u001b[0m \u001b[1;33m+\u001b[0m \u001b[0marg1\u001b[0m \u001b[1;33m+\u001b[0m \u001b[1;36m0\u001b[0m\u001b[1;33m\u001b[0m\u001b[0m\n\u001b[0m",
      "\u001b[1;31mTypeError\u001b[0m: cannot concatenate 'str' and 'int' objects"
     ]
    }
   ],
   "source": [
    "add('hello ','world') # is no longer allowed"
   ]
  },
  {
   "cell_type": "code",
   "execution_count": 58,
   "metadata": {
    "collapsed": true
   },
   "outputs": [],
   "source": [
    "# exercise (pg 86)\n",
    "# create a function called count_character that takes a string and a character,\n",
    "# returning the number of times the character appears in the string; \n",
    "# if no character is specified, count the length of the string"
   ]
  },
  {
   "cell_type": "code",
   "execution_count": 59,
   "metadata": {
    "collapsed": false
   },
   "outputs": [],
   "source": [
    "def count_character(string,character=''):\n",
    "  '''Count how many times character appears in string, \n",
    "  ignoring case of letters in string and also ignoring case of character\n",
    "  (if character is not specified, return the length of the string)'''\n",
    "  g = [i for i in string.lower() if i==character.lower()]\n",
    "  return (not bool(character))*len(string) + bool(character)*len(g)"
   ]
  },
  {
   "cell_type": "code",
   "execution_count": 60,
   "metadata": {
    "collapsed": false
   },
   "outputs": [
    {
     "data": {
      "text/plain": [
       "3"
      ]
     },
     "execution_count": 60,
     "metadata": {},
     "output_type": "execute_result"
    }
   ],
   "source": [
    "count_character('Php or Python?','p')"
   ]
  },
  {
   "cell_type": "code",
   "execution_count": 61,
   "metadata": {
    "collapsed": false
   },
   "outputs": [
    {
     "data": {
      "text/plain": [
       "14"
      ]
     },
     "execution_count": 61,
     "metadata": {},
     "output_type": "execute_result"
    }
   ],
   "source": [
    "count_character('Php or Python?')"
   ]
  },
  {
   "cell_type": "code",
   "execution_count": 62,
   "metadata": {
    "collapsed": false
   },
   "outputs": [
    {
     "data": {
      "text/plain": [
       "2"
      ]
     },
     "execution_count": 62,
     "metadata": {},
     "output_type": "execute_result"
    }
   ],
   "source": [
    "count_character('lweflakmsvpowkgwpromfwrmar','L')"
   ]
  },
  {
   "cell_type": "code",
   "execution_count": 63,
   "metadata": {
    "collapsed": false
   },
   "outputs": [
    {
     "name": "stdout",
     "output_type": "stream",
     "text": [
      "Help on function count_character in module __main__:\n",
      "\n",
      "count_character(string, character='')\n",
      "    Count how many times character appears in string, \n",
      "    ignoring case of letters in string and also ignoring case of character\n",
      "    (if character is not specified, return the length of the string)\n",
      "\n"
     ]
    }
   ],
   "source": [
    "help(count_character)"
   ]
  },
  {
   "cell_type": "code",
   "execution_count": 64,
   "metadata": {
    "collapsed": true
   },
   "outputs": [],
   "source": [
    "# alternative solution\n",
    "def count_character_alternative(string,character):\n",
    "  '''See count_character(string,character)'''\n",
    "  return len(string) if character is None else string.lower().count(character.lower())"
   ]
  },
  {
   "cell_type": "code",
   "execution_count": 65,
   "metadata": {
    "collapsed": false
   },
   "outputs": [
    {
     "data": {
      "text/plain": [
       "3"
      ]
     },
     "execution_count": 65,
     "metadata": {},
     "output_type": "execute_result"
    }
   ],
   "source": [
    "count_character_alternative('Php or python?','p')"
   ]
  },
  {
   "cell_type": "raw",
   "metadata": {},
   "source": [
    "count_character_alternative('Php or python?')"
   ]
  },
  {
   "cell_type": "code",
   "execution_count": 66,
   "metadata": {
    "collapsed": false
   },
   "outputs": [],
   "source": [
    "# moral: unit tests are exactly the tests you used to create the function!\n",
    "assert count_character(\"Php or python?\",'p') == 3\n",
    "assert count_character(\"Php or python?\") == 14"
   ]
  },
  {
   "cell_type": "code",
   "execution_count": 67,
   "metadata": {
    "collapsed": false
   },
   "outputs": [
    {
     "ename": "AssertionError",
     "evalue": "",
     "output_type": "error",
     "traceback": [
      "\u001b[1;31m\u001b[0m",
      "\u001b[1;31mAssertionError\u001b[0mTraceback (most recent call last)",
      "\u001b[1;32m<ipython-input-67-60de1ab9ccc5>\u001b[0m in \u001b[0;36m<module>\u001b[1;34m()\u001b[0m\n\u001b[0;32m      1\u001b[0m \u001b[1;31m# here is a failed unit test\u001b[0m\u001b[1;33m\u001b[0m\u001b[1;33m\u001b[0m\u001b[0m\n\u001b[1;32m----> 2\u001b[1;33m \u001b[1;32massert\u001b[0m \u001b[0mcount_character\u001b[0m\u001b[1;33m(\u001b[0m\u001b[1;34m\"Php or python?\"\u001b[0m\u001b[1;33m)\u001b[0m \u001b[1;33m==\u001b[0m \u001b[1;36m12\u001b[0m\u001b[1;33m\u001b[0m\u001b[0m\n\u001b[0m",
      "\u001b[1;31mAssertionError\u001b[0m: "
     ]
    }
   ],
   "source": [
    "# here is a failed unit test\n",
    "assert count_character(\"Php or python?\") == 12"
   ]
  },
  {
   "cell_type": "code",
   "execution_count": 68,
   "metadata": {
    "collapsed": true
   },
   "outputs": [],
   "source": [
    "# default initialization is flexible!\n",
    "def quad(x, a=1, b=2, c=3):\n",
    "    return a * x**2 + b * x + c"
   ]
  },
  {
   "cell_type": "code",
   "execution_count": 69,
   "metadata": {
    "collapsed": false
   },
   "outputs": [
    {
     "data": {
      "text/plain": [
       "(18, 25, 19)"
      ]
     },
     "execution_count": 69,
     "metadata": {},
     "output_type": "execute_result"
    }
   ],
   "source": [
    "quad(3), quad(3, b=5, c=1), quad(3, c=4)"
   ]
  },
  {
   "cell_type": "code",
   "execution_count": 70,
   "metadata": {
    "collapsed": false
   },
   "outputs": [
    {
     "data": {
      "text/plain": [
       "(24, 18)"
      ]
     },
     "execution_count": 70,
     "metadata": {},
     "output_type": "execute_result"
    }
   ],
   "source": [
    "# defaults can be respecified, and in any order!\n",
    "# this is because the default parameter keys and values form a dictionary!\n",
    "quad(3, b=4), quad(3, c=3, a=1)"
   ]
  },
  {
   "cell_type": "raw",
   "metadata": {},
   "source": [
    "### modules ###\n",
    "modules are just .py files! if we do something like 'import my_module', we are actually building a my_module object! so, if we define __call__(parameters) in my_module.py, we can even use my_module(parameters); similarly, if we define __init__, then this gets executed whenever we do 'import my_module'"
   ]
  },
  {
   "cell_type": "raw",
   "metadata": {},
   "source": [
    "##### packages #####\n",
    "packages are directories of several modules! if the directory contains __init__.py (required for Python 2, will use a default for Python 3), then this is called upon every import; the file __init__.py is usually empty"
   ]
  },
  {
   "cell_type": "raw",
   "metadata": {},
   "source": [
    "##### standard modules ######\n",
    "re, copy, datetime, math, cmath, decimal, fractions\n",
    "os, os.path, shutil, sqlite3, gzip, bz2, zipfile, tarfile\n",
    "csv, netrc, xml, htmllib, httplib, ftplib, poplib, socket\n",
    "cmd, pdb, profile, cProfile, timeit,\n",
    "collections, heapq, bisect, mmap, threading, Queue,\n",
    "multiprocessing, subprocess, pickle, cPickle, struct, urllib2, itertools"
   ]
  },
  {
   "cell_type": "raw",
   "metadata": {},
   "source": [
    "multiprocess is a fork of multiprocessing\n",
    "multiprocess lets you use multiprocessing from the interpreter\n",
    "\n",
    "import multiprocess\n",
    "pool = multiprocess.Pool(4)\n",
    "pool.map(lambda x:x*x, range(4))"
   ]
  },
  {
   "cell_type": "raw",
   "metadata": {},
   "source": [
    "global interpreter lock ensures that no memory location can be written to at the same time by the same thread\n",
    "within a process, this prevents threads from writing to the same memory location *on a write*\n",
    "multiprocessing and shared memory arrays work around this limitation"
   ]
  },
  {
   "cell_type": "code",
   "execution_count": 71,
   "metadata": {
    "collapsed": false
   },
   "outputs": [],
   "source": [
    "# object-oriented programming"
   ]
  },
  {
   "cell_type": "code",
   "execution_count": 75,
   "metadata": {
    "collapsed": false
   },
   "outputs": [
    {
     "name": "stdout",
     "output_type": "stream",
     "text": [
      "oops\n"
     ]
    }
   ],
   "source": [
    "# error catching\n",
    "try:\n",
    "    x =1\n",
    "    x + 's'\n",
    "except TypeError:\n",
    "    print('oops')"
   ]
  },
  {
   "cell_type": "raw",
   "metadata": {},
   "source": [
    "##### core libraries: NumPy, SciPy, and Pandas (both Pandas and SciPy are built on NumPy)\n",
    "\n",
    "NumPy gives us:\n",
    "fft, random, linalg, NDArray, multi-dimensional, array object (new C object!), UFunc, fast array, math operations\n",
    "\n",
    "What's different about NumPy's arrays? for every new NumPy array, you get two C objects: a C array and also a NumPy NDArray. this NDArray doesn't store data; it only stores metadata\n",
    "\n",
    "SciPy gives us:\n",
    "linalg, stats, interpolate, cluster, special, spatial, io, fftpack, odr, ndimage, sparse, integrate, signal, optimize\n",
    "\n",
    "Pandas gives us:\n",
    "dataframe, io, wrangling, transforming, time series"
   ]
  },
  {
   "cell_type": "raw",
   "metadata": {},
   "source": [
    "NDArray data structure (parent is object):\n",
    "    \n",
    "    dtype * <-- pointer to, say, float64 data type\n",
    "    ndim 2\n",
    "    shape 24 8\n",
    "    strides 24 8 <-- a float is 8 bytes, so it takes 8 bytes to get to next entry (in the same row); to go down a column, it takes 28 bytes\n",
    "    data * <-- pointer to the corresponding C array, for which all data has to be the same type\n",
    "    \n",
    "0 1 2 3 4 5 6 7 8 in C is viewed as\n",
    "\n",
    "0 1 2  <-- to get from, say, 1 to 4, you need to go 24 bytes over\n",
    "3 4 5\n",
    "6 7 8\n",
    "numpy arrays are fixed length, uniform data type, because it is really C\n",
    "\n",
    "hence, flipping the strides to 8 24 performs a transpose!\n",
    "slicing also just changes the shape and the strides, without manipulating data"
   ]
  },
  {
   "cell_type": "code",
   "execution_count": 77,
   "metadata": {
    "collapsed": false
   },
   "outputs": [
    {
     "data": {
      "text/plain": [
       "array([0, 1, 2, 3, 4, 5, 6, 7])"
      ]
     },
     "execution_count": 77,
     "metadata": {},
     "output_type": "execute_result"
    }
   ],
   "source": [
    "import numpy as np\n",
    "x = np.array([0,1,2,3,4,5,6,7]) ; x"
   ]
  },
  {
   "cell_type": "code",
   "execution_count": 83,
   "metadata": {
    "collapsed": false
   },
   "outputs": [
    {
     "data": {
      "text/plain": [
       "(1, (8L,))"
      ]
     },
     "execution_count": 83,
     "metadata": {},
     "output_type": "execute_result"
    }
   ],
   "source": [
    "x.ndim, x.shape # ndim is not actually stored; shape is stored"
   ]
  },
  {
   "cell_type": "code",
   "execution_count": 86,
   "metadata": {
    "collapsed": false
   },
   "outputs": [
    {
     "data": {
      "text/plain": [
       "(4L,)"
      ]
     },
     "execution_count": 86,
     "metadata": {},
     "output_type": "execute_result"
    }
   ],
   "source": [
    "x.strides"
   ]
  },
  {
   "cell_type": "code",
   "execution_count": 87,
   "metadata": {
    "collapsed": false
   },
   "outputs": [
    {
     "data": {
      "text/plain": [
       "array([[0, 1],\n",
       "       [2, 3],\n",
       "       [4, 5],\n",
       "       [6, 7]])"
      ]
     },
     "execution_count": 87,
     "metadata": {},
     "output_type": "execute_result"
    }
   ],
   "source": [
    "x.shape = (4,2) ; x"
   ]
  },
  {
   "cell_type": "code",
   "execution_count": 89,
   "metadata": {
    "collapsed": false
   },
   "outputs": [
    {
     "data": {
      "text/plain": [
       "array([[0, 1, 2, 3, 4, 5, 6, 7]])"
      ]
     },
     "execution_count": 89,
     "metadata": {},
     "output_type": "execute_result"
    }
   ],
   "source": [
    "x.shape = (1,8) ; x"
   ]
  },
  {
   "cell_type": "code",
   "execution_count": 100,
   "metadata": {
    "collapsed": false
   },
   "outputs": [
    {
     "data": {
      "text/plain": [
       "array([[0],\n",
       "       [1],\n",
       "       [2],\n",
       "       [3],\n",
       "       [4],\n",
       "       [5],\n",
       "       [6],\n",
       "       [7]])"
      ]
     },
     "execution_count": 100,
     "metadata": {},
     "output_type": "execute_result"
    }
   ],
   "source": [
    "x.T"
   ]
  },
  {
   "cell_type": "code",
   "execution_count": 98,
   "metadata": {
    "collapsed": false
   },
   "outputs": [
    {
     "data": {
      "text/plain": [
       "(1L, 8L)"
      ]
     },
     "execution_count": 98,
     "metadata": {},
     "output_type": "execute_result"
    }
   ],
   "source": [
    "x.shape"
   ]
  },
  {
   "cell_type": "code",
   "execution_count": 99,
   "metadata": {
    "collapsed": false
   },
   "outputs": [
    {
     "data": {
      "text/plain": [
       "array([[0],\n",
       "       [1],\n",
       "       [2],\n",
       "       [3],\n",
       "       [4],\n",
       "       [5],\n",
       "       [6],\n",
       "       [7]])"
      ]
     },
     "execution_count": 99,
     "metadata": {},
     "output_type": "execute_result"
    }
   ],
   "source": [
    "# contrast the transpose behavior to matlab: \n",
    "# transpose of a 1d array is stilla  1d array\n",
    "np.atleast_2d(x).T"
   ]
  },
  {
   "cell_type": "code",
   "execution_count": 101,
   "metadata": {
    "collapsed": false
   },
   "outputs": [
    {
     "data": {
      "text/plain": [
       "array([[  1,   2,  -1,  -8, -19, -34, -53, -76]])"
      ]
     },
     "execution_count": 101,
     "metadata": {},
     "output_type": "execute_result"
    }
   ],
   "source": [
    "3*x - 2*x**2 + 1"
   ]
  },
  {
   "cell_type": "code",
   "execution_count": 107,
   "metadata": {
    "collapsed": false
   },
   "outputs": [
    {
     "data": {
      "text/plain": [
       "array([[0, 1, 2, 3],\n",
       "       [4, 5, 6, 7]])"
      ]
     },
     "execution_count": 107,
     "metadata": {},
     "output_type": "execute_result"
    }
   ],
   "source": [
    "x.shape = (2,4) ; x"
   ]
  },
  {
   "cell_type": "code",
   "execution_count": 111,
   "metadata": {
    "collapsed": false
   },
   "outputs": [
    {
     "data": {
      "text/plain": [
       "array([[1, 5],\n",
       "       [2, 6]])"
      ]
     },
     "execution_count": 111,
     "metadata": {},
     "output_type": "execute_result"
    }
   ],
   "source": [
    "y = (x + 1).T[:2] ; y"
   ]
  },
  {
   "cell_type": "code",
   "execution_count": 112,
   "metadata": {
    "collapsed": false
   },
   "outputs": [
    {
     "data": {
      "text/plain": [
       "array([[ 8, 24],\n",
       "       [12, 28]])"
      ]
     },
     "execution_count": 112,
     "metadata": {},
     "output_type": "execute_result"
    }
   ],
   "source": [
    "z = (x *4).T[2:] ; z"
   ]
  },
  {
   "cell_type": "code",
   "execution_count": 114,
   "metadata": {
    "collapsed": false
   },
   "outputs": [
    {
     "data": {
      "text/plain": [
       "array([[  8, 120],\n",
       "       [ 24, 168]])"
      ]
     },
     "execution_count": 114,
     "metadata": {},
     "output_type": "execute_result"
    }
   ],
   "source": [
    "y * z # is element by element matrix multiplication"
   ]
  },
  {
   "cell_type": "code",
   "execution_count": 118,
   "metadata": {
    "collapsed": false
   },
   "outputs": [
    {
     "data": {
      "text/plain": [
       "array([[ 68, 164],\n",
       "       [ 88, 216]])"
      ]
     },
     "execution_count": 118,
     "metadata": {},
     "output_type": "execute_result"
    }
   ],
   "source": [
    "np.dot(y,z)"
   ]
  },
  {
   "cell_type": "code",
   "execution_count": 119,
   "metadata": {
    "collapsed": false
   },
   "outputs": [
    {
     "data": {
      "text/plain": [
       "matrix([[ 68, 164],\n",
       "        [ 88, 216]])"
      ]
     },
     "execution_count": 119,
     "metadata": {},
     "output_type": "execute_result"
    }
   ],
   "source": [
    "np.matrix(y) * np.matrix(z)"
   ]
  },
  {
   "cell_type": "code",
   "execution_count": 120,
   "metadata": {
    "collapsed": true
   },
   "outputs": [],
   "source": [
    "# moral: numpy array operations are performed element-wise"
   ]
  },
  {
   "cell_type": "code",
   "execution_count": 122,
   "metadata": {
    "collapsed": false
   },
   "outputs": [],
   "source": [
    "y = x[::2] # takes every other entry (i.e., every other row)"
   ]
  },
  {
   "cell_type": "code",
   "execution_count": 125,
   "metadata": {
    "collapsed": false
   },
   "outputs": [
    {
     "data": {
      "text/plain": [
       "array([0, 1, 2, 3])"
      ]
     },
     "execution_count": 125,
     "metadata": {},
     "output_type": "execute_result"
    }
   ],
   "source": [
    "z = y[0] ; z"
   ]
  },
  {
   "cell_type": "code",
   "execution_count": 127,
   "metadata": {
    "collapsed": false
   },
   "outputs": [
    {
     "data": {
      "text/plain": [
       "array([0, 2])"
      ]
     },
     "execution_count": 127,
     "metadata": {},
     "output_type": "execute_result"
    }
   ],
   "source": [
    "w = z[::2] ; w"
   ]
  },
  {
   "cell_type": "code",
   "execution_count": 128,
   "metadata": {
    "collapsed": true
   },
   "outputs": [],
   "source": [
    "w[0] = 999"
   ]
  },
  {
   "cell_type": "code",
   "execution_count": 130,
   "metadata": {
    "collapsed": false
   },
   "outputs": [
    {
     "data": {
      "text/plain": [
       "(array([[999,   1,   2,   3],\n",
       "        [  4,   5,   6,   7]]),\n",
       " array([[999,   1,   2,   3]]),\n",
       " array([999,   1,   2,   3]),\n",
       " array([999,   2]))"
      ]
     },
     "execution_count": 130,
     "metadata": {},
     "output_type": "execute_result"
    }
   ],
   "source": [
    "x, y, z, w # note that the underlying data was modified!\n",
    "# the pointer for the metadata of x, y, z, and w don't change"
   ]
  },
  {
   "cell_type": "code",
   "execution_count": 131,
   "metadata": {
    "collapsed": false
   },
   "outputs": [
    {
     "data": {
      "text/plain": [
       "(109360992L, 110145824L, 110146544L, 110146944L)"
      ]
     },
     "execution_count": 131,
     "metadata": {},
     "output_type": "execute_result"
    }
   ],
   "source": [
    "# even so, these are indeed different:\n",
    "id(x), id(y), id(z), id(w)"
   ]
  },
  {
   "cell_type": "code",
   "execution_count": 133,
   "metadata": {
    "collapsed": false
   },
   "outputs": [
    {
     "data": {
      "text/plain": [
       "array([[999,   1,   2,   3],\n",
       "       [  4,   5,   6,   7]])"
      ]
     },
     "execution_count": 133,
     "metadata": {},
     "output_type": "execute_result"
    }
   ],
   "source": [
    "# how do we know who is actually storing the data?\n",
    "w.base # returns x!"
   ]
  },
  {
   "cell_type": "code",
   "execution_count": 135,
   "metadata": {
    "collapsed": false
   },
   "outputs": [
    {
     "data": {
      "text/plain": [
       "True"
      ]
     },
     "execution_count": 135,
     "metadata": {},
     "output_type": "execute_result"
    }
   ],
   "source": [
    "z.base is x"
   ]
  },
  {
   "cell_type": "code",
   "execution_count": 136,
   "metadata": {
    "collapsed": false
   },
   "outputs": [
    {
     "data": {
      "text/plain": [
       "True"
      ]
     },
     "execution_count": 136,
     "metadata": {},
     "output_type": "execute_result"
    }
   ],
   "source": [
    "y.base is x"
   ]
  },
  {
   "cell_type": "code",
   "execution_count": 139,
   "metadata": {
    "collapsed": false
   },
   "outputs": [
    {
     "data": {
      "text/plain": [
       "True"
      ]
     },
     "execution_count": 139,
     "metadata": {},
     "output_type": "execute_result"
    }
   ],
   "source": [
    "x.base is None # x is its own base"
   ]
  },
  {
   "cell_type": "code",
   "execution_count": 140,
   "metadata": {
    "collapsed": false
   },
   "outputs": [
    {
     "data": {
      "text/plain": [
       "array([[999,   1,   2,   3],\n",
       "       [  4,   5,   6,   7]])"
      ]
     },
     "execution_count": 140,
     "metadata": {},
     "output_type": "execute_result"
    }
   ],
   "source": [
    "# woah... x is just a name reference\n",
    "del x\n",
    "y.base"
   ]
  },
  {
   "cell_type": "code",
   "execution_count": 141,
   "metadata": {
    "collapsed": true
   },
   "outputs": [],
   "source": [
    "# if we delete y, z, and w, then the underlying base gets garbage collected\n",
    "del w, y, z"
   ]
  },
  {
   "cell_type": "code",
   "execution_count": 151,
   "metadata": {
    "collapsed": false
   },
   "outputs": [
    {
     "name": "stdout",
     "output_type": "stream",
     "text": [
      "Warning: Cannot change to a different GUI toolkit: notebook. Using nbagg instead.\n"
     ]
    },
    {
     "data": {
      "application/javascript": [
       "/* Put everything inside the global mpl namespace */\n",
       "window.mpl = {};\n",
       "\n",
       "\n",
       "mpl.get_websocket_type = function() {\n",
       "    if (typeof(WebSocket) !== 'undefined') {\n",
       "        return WebSocket;\n",
       "    } else if (typeof(MozWebSocket) !== 'undefined') {\n",
       "        return MozWebSocket;\n",
       "    } else {\n",
       "        alert('Your browser does not have WebSocket support.' +\n",
       "              'Please try Chrome, Safari or Firefox ≥ 6. ' +\n",
       "              'Firefox 4 and 5 are also supported but you ' +\n",
       "              'have to enable WebSockets in about:config.');\n",
       "    };\n",
       "}\n",
       "\n",
       "mpl.figure = function(figure_id, websocket, ondownload, parent_element) {\n",
       "    this.id = figure_id;\n",
       "\n",
       "    this.ws = websocket;\n",
       "\n",
       "    this.supports_binary = (this.ws.binaryType != undefined);\n",
       "\n",
       "    if (!this.supports_binary) {\n",
       "        var warnings = document.getElementById(\"mpl-warnings\");\n",
       "        if (warnings) {\n",
       "            warnings.style.display = 'block';\n",
       "            warnings.textContent = (\n",
       "                \"This browser does not support binary websocket messages. \" +\n",
       "                    \"Performance may be slow.\");\n",
       "        }\n",
       "    }\n",
       "\n",
       "    this.imageObj = new Image();\n",
       "\n",
       "    this.context = undefined;\n",
       "    this.message = undefined;\n",
       "    this.canvas = undefined;\n",
       "    this.rubberband_canvas = undefined;\n",
       "    this.rubberband_context = undefined;\n",
       "    this.format_dropdown = undefined;\n",
       "\n",
       "    this.image_mode = 'full';\n",
       "\n",
       "    this.root = $('<div/>');\n",
       "    this._root_extra_style(this.root)\n",
       "    this.root.attr('style', 'display: inline-block');\n",
       "\n",
       "    $(parent_element).append(this.root);\n",
       "\n",
       "    this._init_header(this);\n",
       "    this._init_canvas(this);\n",
       "    this._init_toolbar(this);\n",
       "\n",
       "    var fig = this;\n",
       "\n",
       "    this.waiting = false;\n",
       "\n",
       "    this.ws.onopen =  function () {\n",
       "            fig.send_message(\"supports_binary\", {value: fig.supports_binary});\n",
       "            fig.send_message(\"send_image_mode\", {});\n",
       "            if (mpl.ratio != 1) {\n",
       "                fig.send_message(\"set_dpi_ratio\", {'dpi_ratio': mpl.ratio});\n",
       "            }\n",
       "            fig.send_message(\"refresh\", {});\n",
       "        }\n",
       "\n",
       "    this.imageObj.onload = function() {\n",
       "            if (fig.image_mode == 'full') {\n",
       "                // Full images could contain transparency (where diff images\n",
       "                // almost always do), so we need to clear the canvas so that\n",
       "                // there is no ghosting.\n",
       "                fig.context.clearRect(0, 0, fig.canvas.width, fig.canvas.height);\n",
       "            }\n",
       "            fig.context.drawImage(fig.imageObj, 0, 0);\n",
       "        };\n",
       "\n",
       "    this.imageObj.onunload = function() {\n",
       "        this.ws.close();\n",
       "    }\n",
       "\n",
       "    this.ws.onmessage = this._make_on_message_function(this);\n",
       "\n",
       "    this.ondownload = ondownload;\n",
       "}\n",
       "\n",
       "mpl.figure.prototype._init_header = function() {\n",
       "    var titlebar = $(\n",
       "        '<div class=\"ui-dialog-titlebar ui-widget-header ui-corner-all ' +\n",
       "        'ui-helper-clearfix\"/>');\n",
       "    var titletext = $(\n",
       "        '<div class=\"ui-dialog-title\" style=\"width: 100%; ' +\n",
       "        'text-align: center; padding: 3px;\"/>');\n",
       "    titlebar.append(titletext)\n",
       "    this.root.append(titlebar);\n",
       "    this.header = titletext[0];\n",
       "}\n",
       "\n",
       "\n",
       "\n",
       "mpl.figure.prototype._canvas_extra_style = function(canvas_div) {\n",
       "\n",
       "}\n",
       "\n",
       "\n",
       "mpl.figure.prototype._root_extra_style = function(canvas_div) {\n",
       "\n",
       "}\n",
       "\n",
       "mpl.figure.prototype._init_canvas = function() {\n",
       "    var fig = this;\n",
       "\n",
       "    var canvas_div = $('<div/>');\n",
       "\n",
       "    canvas_div.attr('style', 'position: relative; clear: both; outline: 0');\n",
       "\n",
       "    function canvas_keyboard_event(event) {\n",
       "        return fig.key_event(event, event['data']);\n",
       "    }\n",
       "\n",
       "    canvas_div.keydown('key_press', canvas_keyboard_event);\n",
       "    canvas_div.keyup('key_release', canvas_keyboard_event);\n",
       "    this.canvas_div = canvas_div\n",
       "    this._canvas_extra_style(canvas_div)\n",
       "    this.root.append(canvas_div);\n",
       "\n",
       "    var canvas = $('<canvas/>');\n",
       "    canvas.addClass('mpl-canvas');\n",
       "    canvas.attr('style', \"left: 0; top: 0; z-index: 0; outline: 0\")\n",
       "\n",
       "    this.canvas = canvas[0];\n",
       "    this.context = canvas[0].getContext(\"2d\");\n",
       "\n",
       "    var backingStore = this.context.backingStorePixelRatio ||\n",
       "\tthis.context.webkitBackingStorePixelRatio ||\n",
       "\tthis.context.mozBackingStorePixelRatio ||\n",
       "\tthis.context.msBackingStorePixelRatio ||\n",
       "\tthis.context.oBackingStorePixelRatio ||\n",
       "\tthis.context.backingStorePixelRatio || 1;\n",
       "\n",
       "    mpl.ratio = (window.devicePixelRatio || 1) / backingStore;\n",
       "\n",
       "    var rubberband = $('<canvas/>');\n",
       "    rubberband.attr('style', \"position: absolute; left: 0; top: 0; z-index: 1;\")\n",
       "\n",
       "    var pass_mouse_events = true;\n",
       "\n",
       "    canvas_div.resizable({\n",
       "        start: function(event, ui) {\n",
       "            pass_mouse_events = false;\n",
       "        },\n",
       "        resize: function(event, ui) {\n",
       "            fig.request_resize(ui.size.width, ui.size.height);\n",
       "        },\n",
       "        stop: function(event, ui) {\n",
       "            pass_mouse_events = true;\n",
       "            fig.request_resize(ui.size.width, ui.size.height);\n",
       "        },\n",
       "    });\n",
       "\n",
       "    function mouse_event_fn(event) {\n",
       "        if (pass_mouse_events)\n",
       "            return fig.mouse_event(event, event['data']);\n",
       "    }\n",
       "\n",
       "    rubberband.mousedown('button_press', mouse_event_fn);\n",
       "    rubberband.mouseup('button_release', mouse_event_fn);\n",
       "    // Throttle sequential mouse events to 1 every 20ms.\n",
       "    rubberband.mousemove('motion_notify', mouse_event_fn);\n",
       "\n",
       "    rubberband.mouseenter('figure_enter', mouse_event_fn);\n",
       "    rubberband.mouseleave('figure_leave', mouse_event_fn);\n",
       "\n",
       "    canvas_div.on(\"wheel\", function (event) {\n",
       "        event = event.originalEvent;\n",
       "        event['data'] = 'scroll'\n",
       "        if (event.deltaY < 0) {\n",
       "            event.step = 1;\n",
       "        } else {\n",
       "            event.step = -1;\n",
       "        }\n",
       "        mouse_event_fn(event);\n",
       "    });\n",
       "\n",
       "    canvas_div.append(canvas);\n",
       "    canvas_div.append(rubberband);\n",
       "\n",
       "    this.rubberband = rubberband;\n",
       "    this.rubberband_canvas = rubberband[0];\n",
       "    this.rubberband_context = rubberband[0].getContext(\"2d\");\n",
       "    this.rubberband_context.strokeStyle = \"#000000\";\n",
       "\n",
       "    this._resize_canvas = function(width, height) {\n",
       "        // Keep the size of the canvas, canvas container, and rubber band\n",
       "        // canvas in synch.\n",
       "        canvas_div.css('width', width)\n",
       "        canvas_div.css('height', height)\n",
       "\n",
       "        canvas.attr('width', width * mpl.ratio);\n",
       "        canvas.attr('height', height * mpl.ratio);\n",
       "        canvas.attr('style', 'width: ' + width + 'px; height: ' + height + 'px;');\n",
       "\n",
       "        rubberband.attr('width', width);\n",
       "        rubberband.attr('height', height);\n",
       "    }\n",
       "\n",
       "    // Set the figure to an initial 600x600px, this will subsequently be updated\n",
       "    // upon first draw.\n",
       "    this._resize_canvas(600, 600);\n",
       "\n",
       "    // Disable right mouse context menu.\n",
       "    $(this.rubberband_canvas).bind(\"contextmenu\",function(e){\n",
       "        return false;\n",
       "    });\n",
       "\n",
       "    function set_focus () {\n",
       "        canvas.focus();\n",
       "        canvas_div.focus();\n",
       "    }\n",
       "\n",
       "    window.setTimeout(set_focus, 100);\n",
       "}\n",
       "\n",
       "mpl.figure.prototype._init_toolbar = function() {\n",
       "    var fig = this;\n",
       "\n",
       "    var nav_element = $('<div/>')\n",
       "    nav_element.attr('style', 'width: 100%');\n",
       "    this.root.append(nav_element);\n",
       "\n",
       "    // Define a callback function for later on.\n",
       "    function toolbar_event(event) {\n",
       "        return fig.toolbar_button_onclick(event['data']);\n",
       "    }\n",
       "    function toolbar_mouse_event(event) {\n",
       "        return fig.toolbar_button_onmouseover(event['data']);\n",
       "    }\n",
       "\n",
       "    for(var toolbar_ind in mpl.toolbar_items) {\n",
       "        var name = mpl.toolbar_items[toolbar_ind][0];\n",
       "        var tooltip = mpl.toolbar_items[toolbar_ind][1];\n",
       "        var image = mpl.toolbar_items[toolbar_ind][2];\n",
       "        var method_name = mpl.toolbar_items[toolbar_ind][3];\n",
       "\n",
       "        if (!name) {\n",
       "            // put a spacer in here.\n",
       "            continue;\n",
       "        }\n",
       "        var button = $('<button/>');\n",
       "        button.addClass('ui-button ui-widget ui-state-default ui-corner-all ' +\n",
       "                        'ui-button-icon-only');\n",
       "        button.attr('role', 'button');\n",
       "        button.attr('aria-disabled', 'false');\n",
       "        button.click(method_name, toolbar_event);\n",
       "        button.mouseover(tooltip, toolbar_mouse_event);\n",
       "\n",
       "        var icon_img = $('<span/>');\n",
       "        icon_img.addClass('ui-button-icon-primary ui-icon');\n",
       "        icon_img.addClass(image);\n",
       "        icon_img.addClass('ui-corner-all');\n",
       "\n",
       "        var tooltip_span = $('<span/>');\n",
       "        tooltip_span.addClass('ui-button-text');\n",
       "        tooltip_span.html(tooltip);\n",
       "\n",
       "        button.append(icon_img);\n",
       "        button.append(tooltip_span);\n",
       "\n",
       "        nav_element.append(button);\n",
       "    }\n",
       "\n",
       "    var fmt_picker_span = $('<span/>');\n",
       "\n",
       "    var fmt_picker = $('<select/>');\n",
       "    fmt_picker.addClass('mpl-toolbar-option ui-widget ui-widget-content');\n",
       "    fmt_picker_span.append(fmt_picker);\n",
       "    nav_element.append(fmt_picker_span);\n",
       "    this.format_dropdown = fmt_picker[0];\n",
       "\n",
       "    for (var ind in mpl.extensions) {\n",
       "        var fmt = mpl.extensions[ind];\n",
       "        var option = $(\n",
       "            '<option/>', {selected: fmt === mpl.default_extension}).html(fmt);\n",
       "        fmt_picker.append(option)\n",
       "    }\n",
       "\n",
       "    // Add hover states to the ui-buttons\n",
       "    $( \".ui-button\" ).hover(\n",
       "        function() { $(this).addClass(\"ui-state-hover\");},\n",
       "        function() { $(this).removeClass(\"ui-state-hover\");}\n",
       "    );\n",
       "\n",
       "    var status_bar = $('<span class=\"mpl-message\"/>');\n",
       "    nav_element.append(status_bar);\n",
       "    this.message = status_bar[0];\n",
       "}\n",
       "\n",
       "mpl.figure.prototype.request_resize = function(x_pixels, y_pixels) {\n",
       "    // Request matplotlib to resize the figure. Matplotlib will then trigger a resize in the client,\n",
       "    // which will in turn request a refresh of the image.\n",
       "    this.send_message('resize', {'width': x_pixels, 'height': y_pixels});\n",
       "}\n",
       "\n",
       "mpl.figure.prototype.send_message = function(type, properties) {\n",
       "    properties['type'] = type;\n",
       "    properties['figure_id'] = this.id;\n",
       "    this.ws.send(JSON.stringify(properties));\n",
       "}\n",
       "\n",
       "mpl.figure.prototype.send_draw_message = function() {\n",
       "    if (!this.waiting) {\n",
       "        this.waiting = true;\n",
       "        this.ws.send(JSON.stringify({type: \"draw\", figure_id: this.id}));\n",
       "    }\n",
       "}\n",
       "\n",
       "\n",
       "mpl.figure.prototype.handle_save = function(fig, msg) {\n",
       "    var format_dropdown = fig.format_dropdown;\n",
       "    var format = format_dropdown.options[format_dropdown.selectedIndex].value;\n",
       "    fig.ondownload(fig, format);\n",
       "}\n",
       "\n",
       "\n",
       "mpl.figure.prototype.handle_resize = function(fig, msg) {\n",
       "    var size = msg['size'];\n",
       "    if (size[0] != fig.canvas.width || size[1] != fig.canvas.height) {\n",
       "        fig._resize_canvas(size[0], size[1]);\n",
       "        fig.send_message(\"refresh\", {});\n",
       "    };\n",
       "}\n",
       "\n",
       "mpl.figure.prototype.handle_rubberband = function(fig, msg) {\n",
       "    var x0 = msg['x0'] / mpl.ratio;\n",
       "    var y0 = (fig.canvas.height - msg['y0']) / mpl.ratio;\n",
       "    var x1 = msg['x1'] / mpl.ratio;\n",
       "    var y1 = (fig.canvas.height - msg['y1']) / mpl.ratio;\n",
       "    x0 = Math.floor(x0) + 0.5;\n",
       "    y0 = Math.floor(y0) + 0.5;\n",
       "    x1 = Math.floor(x1) + 0.5;\n",
       "    y1 = Math.floor(y1) + 0.5;\n",
       "    var min_x = Math.min(x0, x1);\n",
       "    var min_y = Math.min(y0, y1);\n",
       "    var width = Math.abs(x1 - x0);\n",
       "    var height = Math.abs(y1 - y0);\n",
       "\n",
       "    fig.rubberband_context.clearRect(\n",
       "        0, 0, fig.canvas.width, fig.canvas.height);\n",
       "\n",
       "    fig.rubberband_context.strokeRect(min_x, min_y, width, height);\n",
       "}\n",
       "\n",
       "mpl.figure.prototype.handle_figure_label = function(fig, msg) {\n",
       "    // Updates the figure title.\n",
       "    fig.header.textContent = msg['label'];\n",
       "}\n",
       "\n",
       "mpl.figure.prototype.handle_cursor = function(fig, msg) {\n",
       "    var cursor = msg['cursor'];\n",
       "    switch(cursor)\n",
       "    {\n",
       "    case 0:\n",
       "        cursor = 'pointer';\n",
       "        break;\n",
       "    case 1:\n",
       "        cursor = 'default';\n",
       "        break;\n",
       "    case 2:\n",
       "        cursor = 'crosshair';\n",
       "        break;\n",
       "    case 3:\n",
       "        cursor = 'move';\n",
       "        break;\n",
       "    }\n",
       "    fig.rubberband_canvas.style.cursor = cursor;\n",
       "}\n",
       "\n",
       "mpl.figure.prototype.handle_message = function(fig, msg) {\n",
       "    fig.message.textContent = msg['message'];\n",
       "}\n",
       "\n",
       "mpl.figure.prototype.handle_draw = function(fig, msg) {\n",
       "    // Request the server to send over a new figure.\n",
       "    fig.send_draw_message();\n",
       "}\n",
       "\n",
       "mpl.figure.prototype.handle_image_mode = function(fig, msg) {\n",
       "    fig.image_mode = msg['mode'];\n",
       "}\n",
       "\n",
       "mpl.figure.prototype.updated_canvas_event = function() {\n",
       "    // Called whenever the canvas gets updated.\n",
       "    this.send_message(\"ack\", {});\n",
       "}\n",
       "\n",
       "// A function to construct a web socket function for onmessage handling.\n",
       "// Called in the figure constructor.\n",
       "mpl.figure.prototype._make_on_message_function = function(fig) {\n",
       "    return function socket_on_message(evt) {\n",
       "        if (evt.data instanceof Blob) {\n",
       "            /* FIXME: We get \"Resource interpreted as Image but\n",
       "             * transferred with MIME type text/plain:\" errors on\n",
       "             * Chrome.  But how to set the MIME type?  It doesn't seem\n",
       "             * to be part of the websocket stream */\n",
       "            evt.data.type = \"image/png\";\n",
       "\n",
       "            /* Free the memory for the previous frames */\n",
       "            if (fig.imageObj.src) {\n",
       "                (window.URL || window.webkitURL).revokeObjectURL(\n",
       "                    fig.imageObj.src);\n",
       "            }\n",
       "\n",
       "            fig.imageObj.src = (window.URL || window.webkitURL).createObjectURL(\n",
       "                evt.data);\n",
       "            fig.updated_canvas_event();\n",
       "            fig.waiting = false;\n",
       "            return;\n",
       "        }\n",
       "        else if (typeof evt.data === 'string' && evt.data.slice(0, 21) == \"data:image/png;base64\") {\n",
       "            fig.imageObj.src = evt.data;\n",
       "            fig.updated_canvas_event();\n",
       "            fig.waiting = false;\n",
       "            return;\n",
       "        }\n",
       "\n",
       "        var msg = JSON.parse(evt.data);\n",
       "        var msg_type = msg['type'];\n",
       "\n",
       "        // Call the  \"handle_{type}\" callback, which takes\n",
       "        // the figure and JSON message as its only arguments.\n",
       "        try {\n",
       "            var callback = fig[\"handle_\" + msg_type];\n",
       "        } catch (e) {\n",
       "            console.log(\"No handler for the '\" + msg_type + \"' message type: \", msg);\n",
       "            return;\n",
       "        }\n",
       "\n",
       "        if (callback) {\n",
       "            try {\n",
       "                // console.log(\"Handling '\" + msg_type + \"' message: \", msg);\n",
       "                callback(fig, msg);\n",
       "            } catch (e) {\n",
       "                console.log(\"Exception inside the 'handler_\" + msg_type + \"' callback:\", e, e.stack, msg);\n",
       "            }\n",
       "        }\n",
       "    };\n",
       "}\n",
       "\n",
       "// from http://stackoverflow.com/questions/1114465/getting-mouse-location-in-canvas\n",
       "mpl.findpos = function(e) {\n",
       "    //this section is from http://www.quirksmode.org/js/events_properties.html\n",
       "    var targ;\n",
       "    if (!e)\n",
       "        e = window.event;\n",
       "    if (e.target)\n",
       "        targ = e.target;\n",
       "    else if (e.srcElement)\n",
       "        targ = e.srcElement;\n",
       "    if (targ.nodeType == 3) // defeat Safari bug\n",
       "        targ = targ.parentNode;\n",
       "\n",
       "    // jQuery normalizes the pageX and pageY\n",
       "    // pageX,Y are the mouse positions relative to the document\n",
       "    // offset() returns the position of the element relative to the document\n",
       "    var x = e.pageX - $(targ).offset().left;\n",
       "    var y = e.pageY - $(targ).offset().top;\n",
       "\n",
       "    return {\"x\": x, \"y\": y};\n",
       "};\n",
       "\n",
       "/*\n",
       " * return a copy of an object with only non-object keys\n",
       " * we need this to avoid circular references\n",
       " * http://stackoverflow.com/a/24161582/3208463\n",
       " */\n",
       "function simpleKeys (original) {\n",
       "  return Object.keys(original).reduce(function (obj, key) {\n",
       "    if (typeof original[key] !== 'object')\n",
       "        obj[key] = original[key]\n",
       "    return obj;\n",
       "  }, {});\n",
       "}\n",
       "\n",
       "mpl.figure.prototype.mouse_event = function(event, name) {\n",
       "    var canvas_pos = mpl.findpos(event)\n",
       "\n",
       "    if (name === 'button_press')\n",
       "    {\n",
       "        this.canvas.focus();\n",
       "        this.canvas_div.focus();\n",
       "    }\n",
       "\n",
       "    var x = canvas_pos.x * mpl.ratio;\n",
       "    var y = canvas_pos.y * mpl.ratio;\n",
       "\n",
       "    this.send_message(name, {x: x, y: y, button: event.button,\n",
       "                             step: event.step,\n",
       "                             guiEvent: simpleKeys(event)});\n",
       "\n",
       "    /* This prevents the web browser from automatically changing to\n",
       "     * the text insertion cursor when the button is pressed.  We want\n",
       "     * to control all of the cursor setting manually through the\n",
       "     * 'cursor' event from matplotlib */\n",
       "    event.preventDefault();\n",
       "    return false;\n",
       "}\n",
       "\n",
       "mpl.figure.prototype._key_event_extra = function(event, name) {\n",
       "    // Handle any extra behaviour associated with a key event\n",
       "}\n",
       "\n",
       "mpl.figure.prototype.key_event = function(event, name) {\n",
       "\n",
       "    // Prevent repeat events\n",
       "    if (name == 'key_press')\n",
       "    {\n",
       "        if (event.which === this._key)\n",
       "            return;\n",
       "        else\n",
       "            this._key = event.which;\n",
       "    }\n",
       "    if (name == 'key_release')\n",
       "        this._key = null;\n",
       "\n",
       "    var value = '';\n",
       "    if (event.ctrlKey && event.which != 17)\n",
       "        value += \"ctrl+\";\n",
       "    if (event.altKey && event.which != 18)\n",
       "        value += \"alt+\";\n",
       "    if (event.shiftKey && event.which != 16)\n",
       "        value += \"shift+\";\n",
       "\n",
       "    value += 'k';\n",
       "    value += event.which.toString();\n",
       "\n",
       "    this._key_event_extra(event, name);\n",
       "\n",
       "    this.send_message(name, {key: value,\n",
       "                             guiEvent: simpleKeys(event)});\n",
       "    return false;\n",
       "}\n",
       "\n",
       "mpl.figure.prototype.toolbar_button_onclick = function(name) {\n",
       "    if (name == 'download') {\n",
       "        this.handle_save(this, null);\n",
       "    } else {\n",
       "        this.send_message(\"toolbar_button\", {name: name});\n",
       "    }\n",
       "};\n",
       "\n",
       "mpl.figure.prototype.toolbar_button_onmouseover = function(tooltip) {\n",
       "    this.message.textContent = tooltip;\n",
       "};\n",
       "mpl.toolbar_items = [[\"Home\", \"Reset original view\", \"fa fa-home icon-home\", \"home\"], [\"Back\", \"Back to  previous view\", \"fa fa-arrow-left icon-arrow-left\", \"back\"], [\"Forward\", \"Forward to next view\", \"fa fa-arrow-right icon-arrow-right\", \"forward\"], [\"\", \"\", \"\", \"\"], [\"Pan\", \"Pan axes with left mouse, zoom with right\", \"fa fa-arrows icon-move\", \"pan\"], [\"Zoom\", \"Zoom to rectangle\", \"fa fa-square-o icon-check-empty\", \"zoom\"], [\"\", \"\", \"\", \"\"], [\"Download\", \"Download plot\", \"fa fa-floppy-o icon-save\", \"download\"]];\n",
       "\n",
       "mpl.extensions = [\"eps\", \"jpeg\", \"pdf\", \"png\", \"ps\", \"raw\", \"svg\", \"tif\"];\n",
       "\n",
       "mpl.default_extension = \"png\";var comm_websocket_adapter = function(comm) {\n",
       "    // Create a \"websocket\"-like object which calls the given IPython comm\n",
       "    // object with the appropriate methods. Currently this is a non binary\n",
       "    // socket, so there is still some room for performance tuning.\n",
       "    var ws = {};\n",
       "\n",
       "    ws.close = function() {\n",
       "        comm.close()\n",
       "    };\n",
       "    ws.send = function(m) {\n",
       "        //console.log('sending', m);\n",
       "        comm.send(m);\n",
       "    };\n",
       "    // Register the callback with on_msg.\n",
       "    comm.on_msg(function(msg) {\n",
       "        //console.log('receiving', msg['content']['data'], msg);\n",
       "        // Pass the mpl event to the overriden (by mpl) onmessage function.\n",
       "        ws.onmessage(msg['content']['data'])\n",
       "    });\n",
       "    return ws;\n",
       "}\n",
       "\n",
       "mpl.mpl_figure_comm = function(comm, msg) {\n",
       "    // This is the function which gets called when the mpl process\n",
       "    // starts-up an IPython Comm through the \"matplotlib\" channel.\n",
       "\n",
       "    var id = msg.content.data.id;\n",
       "    // Get hold of the div created by the display call when the Comm\n",
       "    // socket was opened in Python.\n",
       "    var element = $(\"#\" + id);\n",
       "    var ws_proxy = comm_websocket_adapter(comm)\n",
       "\n",
       "    function ondownload(figure, format) {\n",
       "        window.open(figure.imageObj.src);\n",
       "    }\n",
       "\n",
       "    var fig = new mpl.figure(id, ws_proxy,\n",
       "                           ondownload,\n",
       "                           element.get(0));\n",
       "\n",
       "    // Call onopen now - mpl needs it, as it is assuming we've passed it a real\n",
       "    // web socket which is closed, not our websocket->open comm proxy.\n",
       "    ws_proxy.onopen();\n",
       "\n",
       "    fig.parent_element = element.get(0);\n",
       "    fig.cell_info = mpl.find_output_cell(\"<div id='\" + id + \"'></div>\");\n",
       "    if (!fig.cell_info) {\n",
       "        console.error(\"Failed to find cell for figure\", id, fig);\n",
       "        return;\n",
       "    }\n",
       "\n",
       "    var output_index = fig.cell_info[2]\n",
       "    var cell = fig.cell_info[0];\n",
       "\n",
       "};\n",
       "\n",
       "mpl.figure.prototype.handle_close = function(fig, msg) {\n",
       "    var width = fig.canvas.width/mpl.ratio\n",
       "    fig.root.unbind('remove')\n",
       "\n",
       "    // Update the output cell to use the data from the current canvas.\n",
       "    fig.push_to_output();\n",
       "    var dataURL = fig.canvas.toDataURL();\n",
       "    // Re-enable the keyboard manager in IPython - without this line, in FF,\n",
       "    // the notebook keyboard shortcuts fail.\n",
       "    IPython.keyboard_manager.enable()\n",
       "    $(fig.parent_element).html('<img src=\"' + dataURL + '\" width=\"' + width + '\">');\n",
       "    fig.close_ws(fig, msg);\n",
       "}\n",
       "\n",
       "mpl.figure.prototype.close_ws = function(fig, msg){\n",
       "    fig.send_message('closing', msg);\n",
       "    // fig.ws.close()\n",
       "}\n",
       "\n",
       "mpl.figure.prototype.push_to_output = function(remove_interactive) {\n",
       "    // Turn the data on the canvas into data in the output cell.\n",
       "    var width = this.canvas.width/mpl.ratio\n",
       "    var dataURL = this.canvas.toDataURL();\n",
       "    this.cell_info[1]['text/html'] = '<img src=\"' + dataURL + '\" width=\"' + width + '\">';\n",
       "}\n",
       "\n",
       "mpl.figure.prototype.updated_canvas_event = function() {\n",
       "    // Tell IPython that the notebook contents must change.\n",
       "    IPython.notebook.set_dirty(true);\n",
       "    this.send_message(\"ack\", {});\n",
       "    var fig = this;\n",
       "    // Wait a second, then push the new image to the DOM so\n",
       "    // that it is saved nicely (might be nice to debounce this).\n",
       "    setTimeout(function () { fig.push_to_output() }, 1000);\n",
       "}\n",
       "\n",
       "mpl.figure.prototype._init_toolbar = function() {\n",
       "    var fig = this;\n",
       "\n",
       "    var nav_element = $('<div/>')\n",
       "    nav_element.attr('style', 'width: 100%');\n",
       "    this.root.append(nav_element);\n",
       "\n",
       "    // Define a callback function for later on.\n",
       "    function toolbar_event(event) {\n",
       "        return fig.toolbar_button_onclick(event['data']);\n",
       "    }\n",
       "    function toolbar_mouse_event(event) {\n",
       "        return fig.toolbar_button_onmouseover(event['data']);\n",
       "    }\n",
       "\n",
       "    for(var toolbar_ind in mpl.toolbar_items){\n",
       "        var name = mpl.toolbar_items[toolbar_ind][0];\n",
       "        var tooltip = mpl.toolbar_items[toolbar_ind][1];\n",
       "        var image = mpl.toolbar_items[toolbar_ind][2];\n",
       "        var method_name = mpl.toolbar_items[toolbar_ind][3];\n",
       "\n",
       "        if (!name) { continue; };\n",
       "\n",
       "        var button = $('<button class=\"btn btn-default\" href=\"#\" title=\"' + name + '\"><i class=\"fa ' + image + ' fa-lg\"></i></button>');\n",
       "        button.click(method_name, toolbar_event);\n",
       "        button.mouseover(tooltip, toolbar_mouse_event);\n",
       "        nav_element.append(button);\n",
       "    }\n",
       "\n",
       "    // Add the status bar.\n",
       "    var status_bar = $('<span class=\"mpl-message\" style=\"text-align:right; float: right;\"/>');\n",
       "    nav_element.append(status_bar);\n",
       "    this.message = status_bar[0];\n",
       "\n",
       "    // Add the close button to the window.\n",
       "    var buttongrp = $('<div class=\"btn-group inline pull-right\"></div>');\n",
       "    var button = $('<button class=\"btn btn-mini btn-primary\" href=\"#\" title=\"Stop Interaction\"><i class=\"fa fa-power-off icon-remove icon-large\"></i></button>');\n",
       "    button.click(function (evt) { fig.handle_close(fig, {}); } );\n",
       "    button.mouseover('Stop Interaction', toolbar_mouse_event);\n",
       "    buttongrp.append(button);\n",
       "    var titlebar = this.root.find($('.ui-dialog-titlebar'));\n",
       "    titlebar.prepend(buttongrp);\n",
       "}\n",
       "\n",
       "mpl.figure.prototype._root_extra_style = function(el){\n",
       "    var fig = this\n",
       "    el.on(\"remove\", function(){\n",
       "\tfig.close_ws(fig, {});\n",
       "    });\n",
       "}\n",
       "\n",
       "mpl.figure.prototype._canvas_extra_style = function(el){\n",
       "    // this is important to make the div 'focusable\n",
       "    el.attr('tabindex', 0)\n",
       "    // reach out to IPython and tell the keyboard manager to turn it's self\n",
       "    // off when our div gets focus\n",
       "\n",
       "    // location in version 3\n",
       "    if (IPython.notebook.keyboard_manager) {\n",
       "        IPython.notebook.keyboard_manager.register_events(el);\n",
       "    }\n",
       "    else {\n",
       "        // location in version 2\n",
       "        IPython.keyboard_manager.register_events(el);\n",
       "    }\n",
       "\n",
       "}\n",
       "\n",
       "mpl.figure.prototype._key_event_extra = function(event, name) {\n",
       "    var manager = IPython.notebook.keyboard_manager;\n",
       "    if (!manager)\n",
       "        manager = IPython.keyboard_manager;\n",
       "\n",
       "    // Check for shift+enter\n",
       "    if (event.shiftKey && event.which == 13) {\n",
       "        this.canvas_div.blur();\n",
       "        // select the cell after this one\n",
       "        var index = IPython.notebook.find_cell_index(this.cell_info[0]);\n",
       "        IPython.notebook.select(index + 1);\n",
       "    }\n",
       "}\n",
       "\n",
       "mpl.figure.prototype.handle_save = function(fig, msg) {\n",
       "    fig.ondownload(fig, null);\n",
       "}\n",
       "\n",
       "\n",
       "mpl.find_output_cell = function(html_output) {\n",
       "    // Return the cell and output element which can be found *uniquely* in the notebook.\n",
       "    // Note - this is a bit hacky, but it is done because the \"notebook_saving.Notebook\"\n",
       "    // IPython event is triggered only after the cells have been serialised, which for\n",
       "    // our purposes (turning an active figure into a static one), is too late.\n",
       "    var cells = IPython.notebook.get_cells();\n",
       "    var ncells = cells.length;\n",
       "    for (var i=0; i<ncells; i++) {\n",
       "        var cell = cells[i];\n",
       "        if (cell.cell_type === 'code'){\n",
       "            for (var j=0; j<cell.output_area.outputs.length; j++) {\n",
       "                var data = cell.output_area.outputs[j];\n",
       "                if (data.data) {\n",
       "                    // IPython >= 3 moved mimebundle to data attribute of output\n",
       "                    data = data.data;\n",
       "                }\n",
       "                if (data['text/html'] == html_output) {\n",
       "                    return [cell, data, j];\n",
       "                }\n",
       "            }\n",
       "        }\n",
       "    }\n",
       "}\n",
       "\n",
       "// Register the function which deals with the matplotlib target/channel.\n",
       "// The kernel may be null if the page has been refreshed.\n",
       "if (IPython.notebook.kernel != null) {\n",
       "    IPython.notebook.kernel.comm_manager.register_target('matplotlib', mpl.mpl_figure_comm);\n",
       "}\n"
      ],
      "text/plain": [
       "<IPython.core.display.Javascript object>"
      ]
     },
     "metadata": {},
     "output_type": "display_data"
    },
    {
     "data": {
      "text/html": [
       "<img src=\"data:image/png;base64,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\" width=\"640\">"
      ],
      "text/plain": [
       "<IPython.core.display.HTML object>"
      ]
     },
     "metadata": {},
     "output_type": "display_data"
    },
    {
     "data": {
      "application/javascript": [
       "/* Put everything inside the global mpl namespace */\n",
       "window.mpl = {};\n",
       "\n",
       "\n",
       "mpl.get_websocket_type = function() {\n",
       "    if (typeof(WebSocket) !== 'undefined') {\n",
       "        return WebSocket;\n",
       "    } else if (typeof(MozWebSocket) !== 'undefined') {\n",
       "        return MozWebSocket;\n",
       "    } else {\n",
       "        alert('Your browser does not have WebSocket support.' +\n",
       "              'Please try Chrome, Safari or Firefox ≥ 6. ' +\n",
       "              'Firefox 4 and 5 are also supported but you ' +\n",
       "              'have to enable WebSockets in about:config.');\n",
       "    };\n",
       "}\n",
       "\n",
       "mpl.figure = function(figure_id, websocket, ondownload, parent_element) {\n",
       "    this.id = figure_id;\n",
       "\n",
       "    this.ws = websocket;\n",
       "\n",
       "    this.supports_binary = (this.ws.binaryType != undefined);\n",
       "\n",
       "    if (!this.supports_binary) {\n",
       "        var warnings = document.getElementById(\"mpl-warnings\");\n",
       "        if (warnings) {\n",
       "            warnings.style.display = 'block';\n",
       "            warnings.textContent = (\n",
       "                \"This browser does not support binary websocket messages. \" +\n",
       "                    \"Performance may be slow.\");\n",
       "        }\n",
       "    }\n",
       "\n",
       "    this.imageObj = new Image();\n",
       "\n",
       "    this.context = undefined;\n",
       "    this.message = undefined;\n",
       "    this.canvas = undefined;\n",
       "    this.rubberband_canvas = undefined;\n",
       "    this.rubberband_context = undefined;\n",
       "    this.format_dropdown = undefined;\n",
       "\n",
       "    this.image_mode = 'full';\n",
       "\n",
       "    this.root = $('<div/>');\n",
       "    this._root_extra_style(this.root)\n",
       "    this.root.attr('style', 'display: inline-block');\n",
       "\n",
       "    $(parent_element).append(this.root);\n",
       "\n",
       "    this._init_header(this);\n",
       "    this._init_canvas(this);\n",
       "    this._init_toolbar(this);\n",
       "\n",
       "    var fig = this;\n",
       "\n",
       "    this.waiting = false;\n",
       "\n",
       "    this.ws.onopen =  function () {\n",
       "            fig.send_message(\"supports_binary\", {value: fig.supports_binary});\n",
       "            fig.send_message(\"send_image_mode\", {});\n",
       "            if (mpl.ratio != 1) {\n",
       "                fig.send_message(\"set_dpi_ratio\", {'dpi_ratio': mpl.ratio});\n",
       "            }\n",
       "            fig.send_message(\"refresh\", {});\n",
       "        }\n",
       "\n",
       "    this.imageObj.onload = function() {\n",
       "            if (fig.image_mode == 'full') {\n",
       "                // Full images could contain transparency (where diff images\n",
       "                // almost always do), so we need to clear the canvas so that\n",
       "                // there is no ghosting.\n",
       "                fig.context.clearRect(0, 0, fig.canvas.width, fig.canvas.height);\n",
       "            }\n",
       "            fig.context.drawImage(fig.imageObj, 0, 0);\n",
       "        };\n",
       "\n",
       "    this.imageObj.onunload = function() {\n",
       "        this.ws.close();\n",
       "    }\n",
       "\n",
       "    this.ws.onmessage = this._make_on_message_function(this);\n",
       "\n",
       "    this.ondownload = ondownload;\n",
       "}\n",
       "\n",
       "mpl.figure.prototype._init_header = function() {\n",
       "    var titlebar = $(\n",
       "        '<div class=\"ui-dialog-titlebar ui-widget-header ui-corner-all ' +\n",
       "        'ui-helper-clearfix\"/>');\n",
       "    var titletext = $(\n",
       "        '<div class=\"ui-dialog-title\" style=\"width: 100%; ' +\n",
       "        'text-align: center; padding: 3px;\"/>');\n",
       "    titlebar.append(titletext)\n",
       "    this.root.append(titlebar);\n",
       "    this.header = titletext[0];\n",
       "}\n",
       "\n",
       "\n",
       "\n",
       "mpl.figure.prototype._canvas_extra_style = function(canvas_div) {\n",
       "\n",
       "}\n",
       "\n",
       "\n",
       "mpl.figure.prototype._root_extra_style = function(canvas_div) {\n",
       "\n",
       "}\n",
       "\n",
       "mpl.figure.prototype._init_canvas = function() {\n",
       "    var fig = this;\n",
       "\n",
       "    var canvas_div = $('<div/>');\n",
       "\n",
       "    canvas_div.attr('style', 'position: relative; clear: both; outline: 0');\n",
       "\n",
       "    function canvas_keyboard_event(event) {\n",
       "        return fig.key_event(event, event['data']);\n",
       "    }\n",
       "\n",
       "    canvas_div.keydown('key_press', canvas_keyboard_event);\n",
       "    canvas_div.keyup('key_release', canvas_keyboard_event);\n",
       "    this.canvas_div = canvas_div\n",
       "    this._canvas_extra_style(canvas_div)\n",
       "    this.root.append(canvas_div);\n",
       "\n",
       "    var canvas = $('<canvas/>');\n",
       "    canvas.addClass('mpl-canvas');\n",
       "    canvas.attr('style', \"left: 0; top: 0; z-index: 0; outline: 0\")\n",
       "\n",
       "    this.canvas = canvas[0];\n",
       "    this.context = canvas[0].getContext(\"2d\");\n",
       "\n",
       "    var backingStore = this.context.backingStorePixelRatio ||\n",
       "\tthis.context.webkitBackingStorePixelRatio ||\n",
       "\tthis.context.mozBackingStorePixelRatio ||\n",
       "\tthis.context.msBackingStorePixelRatio ||\n",
       "\tthis.context.oBackingStorePixelRatio ||\n",
       "\tthis.context.backingStorePixelRatio || 1;\n",
       "\n",
       "    mpl.ratio = (window.devicePixelRatio || 1) / backingStore;\n",
       "\n",
       "    var rubberband = $('<canvas/>');\n",
       "    rubberband.attr('style', \"position: absolute; left: 0; top: 0; z-index: 1;\")\n",
       "\n",
       "    var pass_mouse_events = true;\n",
       "\n",
       "    canvas_div.resizable({\n",
       "        start: function(event, ui) {\n",
       "            pass_mouse_events = false;\n",
       "        },\n",
       "        resize: function(event, ui) {\n",
       "            fig.request_resize(ui.size.width, ui.size.height);\n",
       "        },\n",
       "        stop: function(event, ui) {\n",
       "            pass_mouse_events = true;\n",
       "            fig.request_resize(ui.size.width, ui.size.height);\n",
       "        },\n",
       "    });\n",
       "\n",
       "    function mouse_event_fn(event) {\n",
       "        if (pass_mouse_events)\n",
       "            return fig.mouse_event(event, event['data']);\n",
       "    }\n",
       "\n",
       "    rubberband.mousedown('button_press', mouse_event_fn);\n",
       "    rubberband.mouseup('button_release', mouse_event_fn);\n",
       "    // Throttle sequential mouse events to 1 every 20ms.\n",
       "    rubberband.mousemove('motion_notify', mouse_event_fn);\n",
       "\n",
       "    rubberband.mouseenter('figure_enter', mouse_event_fn);\n",
       "    rubberband.mouseleave('figure_leave', mouse_event_fn);\n",
       "\n",
       "    canvas_div.on(\"wheel\", function (event) {\n",
       "        event = event.originalEvent;\n",
       "        event['data'] = 'scroll'\n",
       "        if (event.deltaY < 0) {\n",
       "            event.step = 1;\n",
       "        } else {\n",
       "            event.step = -1;\n",
       "        }\n",
       "        mouse_event_fn(event);\n",
       "    });\n",
       "\n",
       "    canvas_div.append(canvas);\n",
       "    canvas_div.append(rubberband);\n",
       "\n",
       "    this.rubberband = rubberband;\n",
       "    this.rubberband_canvas = rubberband[0];\n",
       "    this.rubberband_context = rubberband[0].getContext(\"2d\");\n",
       "    this.rubberband_context.strokeStyle = \"#000000\";\n",
       "\n",
       "    this._resize_canvas = function(width, height) {\n",
       "        // Keep the size of the canvas, canvas container, and rubber band\n",
       "        // canvas in synch.\n",
       "        canvas_div.css('width', width)\n",
       "        canvas_div.css('height', height)\n",
       "\n",
       "        canvas.attr('width', width * mpl.ratio);\n",
       "        canvas.attr('height', height * mpl.ratio);\n",
       "        canvas.attr('style', 'width: ' + width + 'px; height: ' + height + 'px;');\n",
       "\n",
       "        rubberband.attr('width', width);\n",
       "        rubberband.attr('height', height);\n",
       "    }\n",
       "\n",
       "    // Set the figure to an initial 600x600px, this will subsequently be updated\n",
       "    // upon first draw.\n",
       "    this._resize_canvas(600, 600);\n",
       "\n",
       "    // Disable right mouse context menu.\n",
       "    $(this.rubberband_canvas).bind(\"contextmenu\",function(e){\n",
       "        return false;\n",
       "    });\n",
       "\n",
       "    function set_focus () {\n",
       "        canvas.focus();\n",
       "        canvas_div.focus();\n",
       "    }\n",
       "\n",
       "    window.setTimeout(set_focus, 100);\n",
       "}\n",
       "\n",
       "mpl.figure.prototype._init_toolbar = function() {\n",
       "    var fig = this;\n",
       "\n",
       "    var nav_element = $('<div/>')\n",
       "    nav_element.attr('style', 'width: 100%');\n",
       "    this.root.append(nav_element);\n",
       "\n",
       "    // Define a callback function for later on.\n",
       "    function toolbar_event(event) {\n",
       "        return fig.toolbar_button_onclick(event['data']);\n",
       "    }\n",
       "    function toolbar_mouse_event(event) {\n",
       "        return fig.toolbar_button_onmouseover(event['data']);\n",
       "    }\n",
       "\n",
       "    for(var toolbar_ind in mpl.toolbar_items) {\n",
       "        var name = mpl.toolbar_items[toolbar_ind][0];\n",
       "        var tooltip = mpl.toolbar_items[toolbar_ind][1];\n",
       "        var image = mpl.toolbar_items[toolbar_ind][2];\n",
       "        var method_name = mpl.toolbar_items[toolbar_ind][3];\n",
       "\n",
       "        if (!name) {\n",
       "            // put a spacer in here.\n",
       "            continue;\n",
       "        }\n",
       "        var button = $('<button/>');\n",
       "        button.addClass('ui-button ui-widget ui-state-default ui-corner-all ' +\n",
       "                        'ui-button-icon-only');\n",
       "        button.attr('role', 'button');\n",
       "        button.attr('aria-disabled', 'false');\n",
       "        button.click(method_name, toolbar_event);\n",
       "        button.mouseover(tooltip, toolbar_mouse_event);\n",
       "\n",
       "        var icon_img = $('<span/>');\n",
       "        icon_img.addClass('ui-button-icon-primary ui-icon');\n",
       "        icon_img.addClass(image);\n",
       "        icon_img.addClass('ui-corner-all');\n",
       "\n",
       "        var tooltip_span = $('<span/>');\n",
       "        tooltip_span.addClass('ui-button-text');\n",
       "        tooltip_span.html(tooltip);\n",
       "\n",
       "        button.append(icon_img);\n",
       "        button.append(tooltip_span);\n",
       "\n",
       "        nav_element.append(button);\n",
       "    }\n",
       "\n",
       "    var fmt_picker_span = $('<span/>');\n",
       "\n",
       "    var fmt_picker = $('<select/>');\n",
       "    fmt_picker.addClass('mpl-toolbar-option ui-widget ui-widget-content');\n",
       "    fmt_picker_span.append(fmt_picker);\n",
       "    nav_element.append(fmt_picker_span);\n",
       "    this.format_dropdown = fmt_picker[0];\n",
       "\n",
       "    for (var ind in mpl.extensions) {\n",
       "        var fmt = mpl.extensions[ind];\n",
       "        var option = $(\n",
       "            '<option/>', {selected: fmt === mpl.default_extension}).html(fmt);\n",
       "        fmt_picker.append(option)\n",
       "    }\n",
       "\n",
       "    // Add hover states to the ui-buttons\n",
       "    $( \".ui-button\" ).hover(\n",
       "        function() { $(this).addClass(\"ui-state-hover\");},\n",
       "        function() { $(this).removeClass(\"ui-state-hover\");}\n",
       "    );\n",
       "\n",
       "    var status_bar = $('<span class=\"mpl-message\"/>');\n",
       "    nav_element.append(status_bar);\n",
       "    this.message = status_bar[0];\n",
       "}\n",
       "\n",
       "mpl.figure.prototype.request_resize = function(x_pixels, y_pixels) {\n",
       "    // Request matplotlib to resize the figure. Matplotlib will then trigger a resize in the client,\n",
       "    // which will in turn request a refresh of the image.\n",
       "    this.send_message('resize', {'width': x_pixels, 'height': y_pixels});\n",
       "}\n",
       "\n",
       "mpl.figure.prototype.send_message = function(type, properties) {\n",
       "    properties['type'] = type;\n",
       "    properties['figure_id'] = this.id;\n",
       "    this.ws.send(JSON.stringify(properties));\n",
       "}\n",
       "\n",
       "mpl.figure.prototype.send_draw_message = function() {\n",
       "    if (!this.waiting) {\n",
       "        this.waiting = true;\n",
       "        this.ws.send(JSON.stringify({type: \"draw\", figure_id: this.id}));\n",
       "    }\n",
       "}\n",
       "\n",
       "\n",
       "mpl.figure.prototype.handle_save = function(fig, msg) {\n",
       "    var format_dropdown = fig.format_dropdown;\n",
       "    var format = format_dropdown.options[format_dropdown.selectedIndex].value;\n",
       "    fig.ondownload(fig, format);\n",
       "}\n",
       "\n",
       "\n",
       "mpl.figure.prototype.handle_resize = function(fig, msg) {\n",
       "    var size = msg['size'];\n",
       "    if (size[0] != fig.canvas.width || size[1] != fig.canvas.height) {\n",
       "        fig._resize_canvas(size[0], size[1]);\n",
       "        fig.send_message(\"refresh\", {});\n",
       "    };\n",
       "}\n",
       "\n",
       "mpl.figure.prototype.handle_rubberband = function(fig, msg) {\n",
       "    var x0 = msg['x0'] / mpl.ratio;\n",
       "    var y0 = (fig.canvas.height - msg['y0']) / mpl.ratio;\n",
       "    var x1 = msg['x1'] / mpl.ratio;\n",
       "    var y1 = (fig.canvas.height - msg['y1']) / mpl.ratio;\n",
       "    x0 = Math.floor(x0) + 0.5;\n",
       "    y0 = Math.floor(y0) + 0.5;\n",
       "    x1 = Math.floor(x1) + 0.5;\n",
       "    y1 = Math.floor(y1) + 0.5;\n",
       "    var min_x = Math.min(x0, x1);\n",
       "    var min_y = Math.min(y0, y1);\n",
       "    var width = Math.abs(x1 - x0);\n",
       "    var height = Math.abs(y1 - y0);\n",
       "\n",
       "    fig.rubberband_context.clearRect(\n",
       "        0, 0, fig.canvas.width, fig.canvas.height);\n",
       "\n",
       "    fig.rubberband_context.strokeRect(min_x, min_y, width, height);\n",
       "}\n",
       "\n",
       "mpl.figure.prototype.handle_figure_label = function(fig, msg) {\n",
       "    // Updates the figure title.\n",
       "    fig.header.textContent = msg['label'];\n",
       "}\n",
       "\n",
       "mpl.figure.prototype.handle_cursor = function(fig, msg) {\n",
       "    var cursor = msg['cursor'];\n",
       "    switch(cursor)\n",
       "    {\n",
       "    case 0:\n",
       "        cursor = 'pointer';\n",
       "        break;\n",
       "    case 1:\n",
       "        cursor = 'default';\n",
       "        break;\n",
       "    case 2:\n",
       "        cursor = 'crosshair';\n",
       "        break;\n",
       "    case 3:\n",
       "        cursor = 'move';\n",
       "        break;\n",
       "    }\n",
       "    fig.rubberband_canvas.style.cursor = cursor;\n",
       "}\n",
       "\n",
       "mpl.figure.prototype.handle_message = function(fig, msg) {\n",
       "    fig.message.textContent = msg['message'];\n",
       "}\n",
       "\n",
       "mpl.figure.prototype.handle_draw = function(fig, msg) {\n",
       "    // Request the server to send over a new figure.\n",
       "    fig.send_draw_message();\n",
       "}\n",
       "\n",
       "mpl.figure.prototype.handle_image_mode = function(fig, msg) {\n",
       "    fig.image_mode = msg['mode'];\n",
       "}\n",
       "\n",
       "mpl.figure.prototype.updated_canvas_event = function() {\n",
       "    // Called whenever the canvas gets updated.\n",
       "    this.send_message(\"ack\", {});\n",
       "}\n",
       "\n",
       "// A function to construct a web socket function for onmessage handling.\n",
       "// Called in the figure constructor.\n",
       "mpl.figure.prototype._make_on_message_function = function(fig) {\n",
       "    return function socket_on_message(evt) {\n",
       "        if (evt.data instanceof Blob) {\n",
       "            /* FIXME: We get \"Resource interpreted as Image but\n",
       "             * transferred with MIME type text/plain:\" errors on\n",
       "             * Chrome.  But how to set the MIME type?  It doesn't seem\n",
       "             * to be part of the websocket stream */\n",
       "            evt.data.type = \"image/png\";\n",
       "\n",
       "            /* Free the memory for the previous frames */\n",
       "            if (fig.imageObj.src) {\n",
       "                (window.URL || window.webkitURL).revokeObjectURL(\n",
       "                    fig.imageObj.src);\n",
       "            }\n",
       "\n",
       "            fig.imageObj.src = (window.URL || window.webkitURL).createObjectURL(\n",
       "                evt.data);\n",
       "            fig.updated_canvas_event();\n",
       "            fig.waiting = false;\n",
       "            return;\n",
       "        }\n",
       "        else if (typeof evt.data === 'string' && evt.data.slice(0, 21) == \"data:image/png;base64\") {\n",
       "            fig.imageObj.src = evt.data;\n",
       "            fig.updated_canvas_event();\n",
       "            fig.waiting = false;\n",
       "            return;\n",
       "        }\n",
       "\n",
       "        var msg = JSON.parse(evt.data);\n",
       "        var msg_type = msg['type'];\n",
       "\n",
       "        // Call the  \"handle_{type}\" callback, which takes\n",
       "        // the figure and JSON message as its only arguments.\n",
       "        try {\n",
       "            var callback = fig[\"handle_\" + msg_type];\n",
       "        } catch (e) {\n",
       "            console.log(\"No handler for the '\" + msg_type + \"' message type: \", msg);\n",
       "            return;\n",
       "        }\n",
       "\n",
       "        if (callback) {\n",
       "            try {\n",
       "                // console.log(\"Handling '\" + msg_type + \"' message: \", msg);\n",
       "                callback(fig, msg);\n",
       "            } catch (e) {\n",
       "                console.log(\"Exception inside the 'handler_\" + msg_type + \"' callback:\", e, e.stack, msg);\n",
       "            }\n",
       "        }\n",
       "    };\n",
       "}\n",
       "\n",
       "// from http://stackoverflow.com/questions/1114465/getting-mouse-location-in-canvas\n",
       "mpl.findpos = function(e) {\n",
       "    //this section is from http://www.quirksmode.org/js/events_properties.html\n",
       "    var targ;\n",
       "    if (!e)\n",
       "        e = window.event;\n",
       "    if (e.target)\n",
       "        targ = e.target;\n",
       "    else if (e.srcElement)\n",
       "        targ = e.srcElement;\n",
       "    if (targ.nodeType == 3) // defeat Safari bug\n",
       "        targ = targ.parentNode;\n",
       "\n",
       "    // jQuery normalizes the pageX and pageY\n",
       "    // pageX,Y are the mouse positions relative to the document\n",
       "    // offset() returns the position of the element relative to the document\n",
       "    var x = e.pageX - $(targ).offset().left;\n",
       "    var y = e.pageY - $(targ).offset().top;\n",
       "\n",
       "    return {\"x\": x, \"y\": y};\n",
       "};\n",
       "\n",
       "/*\n",
       " * return a copy of an object with only non-object keys\n",
       " * we need this to avoid circular references\n",
       " * http://stackoverflow.com/a/24161582/3208463\n",
       " */\n",
       "function simpleKeys (original) {\n",
       "  return Object.keys(original).reduce(function (obj, key) {\n",
       "    if (typeof original[key] !== 'object')\n",
       "        obj[key] = original[key]\n",
       "    return obj;\n",
       "  }, {});\n",
       "}\n",
       "\n",
       "mpl.figure.prototype.mouse_event = function(event, name) {\n",
       "    var canvas_pos = mpl.findpos(event)\n",
       "\n",
       "    if (name === 'button_press')\n",
       "    {\n",
       "        this.canvas.focus();\n",
       "        this.canvas_div.focus();\n",
       "    }\n",
       "\n",
       "    var x = canvas_pos.x * mpl.ratio;\n",
       "    var y = canvas_pos.y * mpl.ratio;\n",
       "\n",
       "    this.send_message(name, {x: x, y: y, button: event.button,\n",
       "                             step: event.step,\n",
       "                             guiEvent: simpleKeys(event)});\n",
       "\n",
       "    /* This prevents the web browser from automatically changing to\n",
       "     * the text insertion cursor when the button is pressed.  We want\n",
       "     * to control all of the cursor setting manually through the\n",
       "     * 'cursor' event from matplotlib */\n",
       "    event.preventDefault();\n",
       "    return false;\n",
       "}\n",
       "\n",
       "mpl.figure.prototype._key_event_extra = function(event, name) {\n",
       "    // Handle any extra behaviour associated with a key event\n",
       "}\n",
       "\n",
       "mpl.figure.prototype.key_event = function(event, name) {\n",
       "\n",
       "    // Prevent repeat events\n",
       "    if (name == 'key_press')\n",
       "    {\n",
       "        if (event.which === this._key)\n",
       "            return;\n",
       "        else\n",
       "            this._key = event.which;\n",
       "    }\n",
       "    if (name == 'key_release')\n",
       "        this._key = null;\n",
       "\n",
       "    var value = '';\n",
       "    if (event.ctrlKey && event.which != 17)\n",
       "        value += \"ctrl+\";\n",
       "    if (event.altKey && event.which != 18)\n",
       "        value += \"alt+\";\n",
       "    if (event.shiftKey && event.which != 16)\n",
       "        value += \"shift+\";\n",
       "\n",
       "    value += 'k';\n",
       "    value += event.which.toString();\n",
       "\n",
       "    this._key_event_extra(event, name);\n",
       "\n",
       "    this.send_message(name, {key: value,\n",
       "                             guiEvent: simpleKeys(event)});\n",
       "    return false;\n",
       "}\n",
       "\n",
       "mpl.figure.prototype.toolbar_button_onclick = function(name) {\n",
       "    if (name == 'download') {\n",
       "        this.handle_save(this, null);\n",
       "    } else {\n",
       "        this.send_message(\"toolbar_button\", {name: name});\n",
       "    }\n",
       "};\n",
       "\n",
       "mpl.figure.prototype.toolbar_button_onmouseover = function(tooltip) {\n",
       "    this.message.textContent = tooltip;\n",
       "};\n",
       "mpl.toolbar_items = [[\"Home\", \"Reset original view\", \"fa fa-home icon-home\", \"home\"], [\"Back\", \"Back to  previous view\", \"fa fa-arrow-left icon-arrow-left\", \"back\"], [\"Forward\", \"Forward to next view\", \"fa fa-arrow-right icon-arrow-right\", \"forward\"], [\"\", \"\", \"\", \"\"], [\"Pan\", \"Pan axes with left mouse, zoom with right\", \"fa fa-arrows icon-move\", \"pan\"], [\"Zoom\", \"Zoom to rectangle\", \"fa fa-square-o icon-check-empty\", \"zoom\"], [\"\", \"\", \"\", \"\"], [\"Download\", \"Download plot\", \"fa fa-floppy-o icon-save\", \"download\"]];\n",
       "\n",
       "mpl.extensions = [\"eps\", \"jpeg\", \"pdf\", \"png\", \"ps\", \"raw\", \"svg\", \"tif\"];\n",
       "\n",
       "mpl.default_extension = \"png\";var comm_websocket_adapter = function(comm) {\n",
       "    // Create a \"websocket\"-like object which calls the given IPython comm\n",
       "    // object with the appropriate methods. Currently this is a non binary\n",
       "    // socket, so there is still some room for performance tuning.\n",
       "    var ws = {};\n",
       "\n",
       "    ws.close = function() {\n",
       "        comm.close()\n",
       "    };\n",
       "    ws.send = function(m) {\n",
       "        //console.log('sending', m);\n",
       "        comm.send(m);\n",
       "    };\n",
       "    // Register the callback with on_msg.\n",
       "    comm.on_msg(function(msg) {\n",
       "        //console.log('receiving', msg['content']['data'], msg);\n",
       "        // Pass the mpl event to the overriden (by mpl) onmessage function.\n",
       "        ws.onmessage(msg['content']['data'])\n",
       "    });\n",
       "    return ws;\n",
       "}\n",
       "\n",
       "mpl.mpl_figure_comm = function(comm, msg) {\n",
       "    // This is the function which gets called when the mpl process\n",
       "    // starts-up an IPython Comm through the \"matplotlib\" channel.\n",
       "\n",
       "    var id = msg.content.data.id;\n",
       "    // Get hold of the div created by the display call when the Comm\n",
       "    // socket was opened in Python.\n",
       "    var element = $(\"#\" + id);\n",
       "    var ws_proxy = comm_websocket_adapter(comm)\n",
       "\n",
       "    function ondownload(figure, format) {\n",
       "        window.open(figure.imageObj.src);\n",
       "    }\n",
       "\n",
       "    var fig = new mpl.figure(id, ws_proxy,\n",
       "                           ondownload,\n",
       "                           element.get(0));\n",
       "\n",
       "    // Call onopen now - mpl needs it, as it is assuming we've passed it a real\n",
       "    // web socket which is closed, not our websocket->open comm proxy.\n",
       "    ws_proxy.onopen();\n",
       "\n",
       "    fig.parent_element = element.get(0);\n",
       "    fig.cell_info = mpl.find_output_cell(\"<div id='\" + id + \"'></div>\");\n",
       "    if (!fig.cell_info) {\n",
       "        console.error(\"Failed to find cell for figure\", id, fig);\n",
       "        return;\n",
       "    }\n",
       "\n",
       "    var output_index = fig.cell_info[2]\n",
       "    var cell = fig.cell_info[0];\n",
       "\n",
       "};\n",
       "\n",
       "mpl.figure.prototype.handle_close = function(fig, msg) {\n",
       "    var width = fig.canvas.width/mpl.ratio\n",
       "    fig.root.unbind('remove')\n",
       "\n",
       "    // Update the output cell to use the data from the current canvas.\n",
       "    fig.push_to_output();\n",
       "    var dataURL = fig.canvas.toDataURL();\n",
       "    // Re-enable the keyboard manager in IPython - without this line, in FF,\n",
       "    // the notebook keyboard shortcuts fail.\n",
       "    IPython.keyboard_manager.enable()\n",
       "    $(fig.parent_element).html('<img src=\"' + dataURL + '\" width=\"' + width + '\">');\n",
       "    fig.close_ws(fig, msg);\n",
       "}\n",
       "\n",
       "mpl.figure.prototype.close_ws = function(fig, msg){\n",
       "    fig.send_message('closing', msg);\n",
       "    // fig.ws.close()\n",
       "}\n",
       "\n",
       "mpl.figure.prototype.push_to_output = function(remove_interactive) {\n",
       "    // Turn the data on the canvas into data in the output cell.\n",
       "    var width = this.canvas.width/mpl.ratio\n",
       "    var dataURL = this.canvas.toDataURL();\n",
       "    this.cell_info[1]['text/html'] = '<img src=\"' + dataURL + '\" width=\"' + width + '\">';\n",
       "}\n",
       "\n",
       "mpl.figure.prototype.updated_canvas_event = function() {\n",
       "    // Tell IPython that the notebook contents must change.\n",
       "    IPython.notebook.set_dirty(true);\n",
       "    this.send_message(\"ack\", {});\n",
       "    var fig = this;\n",
       "    // Wait a second, then push the new image to the DOM so\n",
       "    // that it is saved nicely (might be nice to debounce this).\n",
       "    setTimeout(function () { fig.push_to_output() }, 1000);\n",
       "}\n",
       "\n",
       "mpl.figure.prototype._init_toolbar = function() {\n",
       "    var fig = this;\n",
       "\n",
       "    var nav_element = $('<div/>')\n",
       "    nav_element.attr('style', 'width: 100%');\n",
       "    this.root.append(nav_element);\n",
       "\n",
       "    // Define a callback function for later on.\n",
       "    function toolbar_event(event) {\n",
       "        return fig.toolbar_button_onclick(event['data']);\n",
       "    }\n",
       "    function toolbar_mouse_event(event) {\n",
       "        return fig.toolbar_button_onmouseover(event['data']);\n",
       "    }\n",
       "\n",
       "    for(var toolbar_ind in mpl.toolbar_items){\n",
       "        var name = mpl.toolbar_items[toolbar_ind][0];\n",
       "        var tooltip = mpl.toolbar_items[toolbar_ind][1];\n",
       "        var image = mpl.toolbar_items[toolbar_ind][2];\n",
       "        var method_name = mpl.toolbar_items[toolbar_ind][3];\n",
       "\n",
       "        if (!name) { continue; };\n",
       "\n",
       "        var button = $('<button class=\"btn btn-default\" href=\"#\" title=\"' + name + '\"><i class=\"fa ' + image + ' fa-lg\"></i></button>');\n",
       "        button.click(method_name, toolbar_event);\n",
       "        button.mouseover(tooltip, toolbar_mouse_event);\n",
       "        nav_element.append(button);\n",
       "    }\n",
       "\n",
       "    // Add the status bar.\n",
       "    var status_bar = $('<span class=\"mpl-message\" style=\"text-align:right; float: right;\"/>');\n",
       "    nav_element.append(status_bar);\n",
       "    this.message = status_bar[0];\n",
       "\n",
       "    // Add the close button to the window.\n",
       "    var buttongrp = $('<div class=\"btn-group inline pull-right\"></div>');\n",
       "    var button = $('<button class=\"btn btn-mini btn-primary\" href=\"#\" title=\"Stop Interaction\"><i class=\"fa fa-power-off icon-remove icon-large\"></i></button>');\n",
       "    button.click(function (evt) { fig.handle_close(fig, {}); } );\n",
       "    button.mouseover('Stop Interaction', toolbar_mouse_event);\n",
       "    buttongrp.append(button);\n",
       "    var titlebar = this.root.find($('.ui-dialog-titlebar'));\n",
       "    titlebar.prepend(buttongrp);\n",
       "}\n",
       "\n",
       "mpl.figure.prototype._root_extra_style = function(el){\n",
       "    var fig = this\n",
       "    el.on(\"remove\", function(){\n",
       "\tfig.close_ws(fig, {});\n",
       "    });\n",
       "}\n",
       "\n",
       "mpl.figure.prototype._canvas_extra_style = function(el){\n",
       "    // this is important to make the div 'focusable\n",
       "    el.attr('tabindex', 0)\n",
       "    // reach out to IPython and tell the keyboard manager to turn it's self\n",
       "    // off when our div gets focus\n",
       "\n",
       "    // location in version 3\n",
       "    if (IPython.notebook.keyboard_manager) {\n",
       "        IPython.notebook.keyboard_manager.register_events(el);\n",
       "    }\n",
       "    else {\n",
       "        // location in version 2\n",
       "        IPython.keyboard_manager.register_events(el);\n",
       "    }\n",
       "\n",
       "}\n",
       "\n",
       "mpl.figure.prototype._key_event_extra = function(event, name) {\n",
       "    var manager = IPython.notebook.keyboard_manager;\n",
       "    if (!manager)\n",
       "        manager = IPython.keyboard_manager;\n",
       "\n",
       "    // Check for shift+enter\n",
       "    if (event.shiftKey && event.which == 13) {\n",
       "        this.canvas_div.blur();\n",
       "        // select the cell after this one\n",
       "        var index = IPython.notebook.find_cell_index(this.cell_info[0]);\n",
       "        IPython.notebook.select(index + 1);\n",
       "    }\n",
       "}\n",
       "\n",
       "mpl.figure.prototype.handle_save = function(fig, msg) {\n",
       "    fig.ondownload(fig, null);\n",
       "}\n",
       "\n",
       "\n",
       "mpl.find_output_cell = function(html_output) {\n",
       "    // Return the cell and output element which can be found *uniquely* in the notebook.\n",
       "    // Note - this is a bit hacky, but it is done because the \"notebook_saving.Notebook\"\n",
       "    // IPython event is triggered only after the cells have been serialised, which for\n",
       "    // our purposes (turning an active figure into a static one), is too late.\n",
       "    var cells = IPython.notebook.get_cells();\n",
       "    var ncells = cells.length;\n",
       "    for (var i=0; i<ncells; i++) {\n",
       "        var cell = cells[i];\n",
       "        if (cell.cell_type === 'code'){\n",
       "            for (var j=0; j<cell.output_area.outputs.length; j++) {\n",
       "                var data = cell.output_area.outputs[j];\n",
       "                if (data.data) {\n",
       "                    // IPython >= 3 moved mimebundle to data attribute of output\n",
       "                    data = data.data;\n",
       "                }\n",
       "                if (data['text/html'] == html_output) {\n",
       "                    return [cell, data, j];\n",
       "                }\n",
       "            }\n",
       "        }\n",
       "    }\n",
       "}\n",
       "\n",
       "// Register the function which deals with the matplotlib target/channel.\n",
       "// The kernel may be null if the page has been refreshed.\n",
       "if (IPython.notebook.kernel != null) {\n",
       "    IPython.notebook.kernel.comm_manager.register_target('matplotlib', mpl.mpl_figure_comm);\n",
       "}\n"
      ],
      "text/plain": [
       "<IPython.core.display.Javascript object>"
      ]
     },
     "metadata": {},
     "output_type": "display_data"
    },
    {
     "data": {
      "text/html": [
       "<img src=\"data:image/png;base64,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\" width=\"640\">"
      ],
      "text/plain": [
       "<IPython.core.display.HTML object>"
      ]
     },
     "metadata": {},
     "output_type": "display_data"
    },
    {
     "data": {
      "text/plain": [
       "<matplotlib.text.Text at 0xa52c320>"
      ]
     },
     "execution_count": 151,
     "metadata": {},
     "output_type": "execute_result"
    }
   ],
   "source": [
    "%matplotlib notebook\n",
    "\n",
    "# and... matplotlib! this is also built on numpy\n",
    "import matplotlib.pyplot as plt\n",
    "import numpy as np\n",
    "t = np.linspace(0,2*np.pi,50)\n",
    "\n",
    "x = np.sin(t)\n",
    "y = np.cos(t)\n",
    "\n",
    "plt.figure() # this creates an instance of a figure\n",
    "plt.plot(x) # this calls plot(x) from the module itself\n",
    "# so plots in the last instance of figure\n",
    "# this recreates the behavior of matlab\n",
    "\n",
    "plt.figure() # creates a new instance of a figure\n",
    "plt.plot(y) # plots in the newest instance of a figure\n",
    "plt.title(\"Cosine\") # sets the title for the newest instance of a figure\n",
    "\n",
    "# to get around this, it is better to do\n",
    "# f1 = plt.figure(x)\n",
    "# f1.plot(x)\n",
    "# this way, you have a handle on the figures!"
   ]
  },
  {
   "cell_type": "code",
   "execution_count": 155,
   "metadata": {
    "collapsed": false
   },
   "outputs": [
    {
     "data": {
      "application/javascript": [
       "/* Put everything inside the global mpl namespace */\n",
       "window.mpl = {};\n",
       "\n",
       "\n",
       "mpl.get_websocket_type = function() {\n",
       "    if (typeof(WebSocket) !== 'undefined') {\n",
       "        return WebSocket;\n",
       "    } else if (typeof(MozWebSocket) !== 'undefined') {\n",
       "        return MozWebSocket;\n",
       "    } else {\n",
       "        alert('Your browser does not have WebSocket support.' +\n",
       "              'Please try Chrome, Safari or Firefox ≥ 6. ' +\n",
       "              'Firefox 4 and 5 are also supported but you ' +\n",
       "              'have to enable WebSockets in about:config.');\n",
       "    };\n",
       "}\n",
       "\n",
       "mpl.figure = function(figure_id, websocket, ondownload, parent_element) {\n",
       "    this.id = figure_id;\n",
       "\n",
       "    this.ws = websocket;\n",
       "\n",
       "    this.supports_binary = (this.ws.binaryType != undefined);\n",
       "\n",
       "    if (!this.supports_binary) {\n",
       "        var warnings = document.getElementById(\"mpl-warnings\");\n",
       "        if (warnings) {\n",
       "            warnings.style.display = 'block';\n",
       "            warnings.textContent = (\n",
       "                \"This browser does not support binary websocket messages. \" +\n",
       "                    \"Performance may be slow.\");\n",
       "        }\n",
       "    }\n",
       "\n",
       "    this.imageObj = new Image();\n",
       "\n",
       "    this.context = undefined;\n",
       "    this.message = undefined;\n",
       "    this.canvas = undefined;\n",
       "    this.rubberband_canvas = undefined;\n",
       "    this.rubberband_context = undefined;\n",
       "    this.format_dropdown = undefined;\n",
       "\n",
       "    this.image_mode = 'full';\n",
       "\n",
       "    this.root = $('<div/>');\n",
       "    this._root_extra_style(this.root)\n",
       "    this.root.attr('style', 'display: inline-block');\n",
       "\n",
       "    $(parent_element).append(this.root);\n",
       "\n",
       "    this._init_header(this);\n",
       "    this._init_canvas(this);\n",
       "    this._init_toolbar(this);\n",
       "\n",
       "    var fig = this;\n",
       "\n",
       "    this.waiting = false;\n",
       "\n",
       "    this.ws.onopen =  function () {\n",
       "            fig.send_message(\"supports_binary\", {value: fig.supports_binary});\n",
       "            fig.send_message(\"send_image_mode\", {});\n",
       "            if (mpl.ratio != 1) {\n",
       "                fig.send_message(\"set_dpi_ratio\", {'dpi_ratio': mpl.ratio});\n",
       "            }\n",
       "            fig.send_message(\"refresh\", {});\n",
       "        }\n",
       "\n",
       "    this.imageObj.onload = function() {\n",
       "            if (fig.image_mode == 'full') {\n",
       "                // Full images could contain transparency (where diff images\n",
       "                // almost always do), so we need to clear the canvas so that\n",
       "                // there is no ghosting.\n",
       "                fig.context.clearRect(0, 0, fig.canvas.width, fig.canvas.height);\n",
       "            }\n",
       "            fig.context.drawImage(fig.imageObj, 0, 0);\n",
       "        };\n",
       "\n",
       "    this.imageObj.onunload = function() {\n",
       "        this.ws.close();\n",
       "    }\n",
       "\n",
       "    this.ws.onmessage = this._make_on_message_function(this);\n",
       "\n",
       "    this.ondownload = ondownload;\n",
       "}\n",
       "\n",
       "mpl.figure.prototype._init_header = function() {\n",
       "    var titlebar = $(\n",
       "        '<div class=\"ui-dialog-titlebar ui-widget-header ui-corner-all ' +\n",
       "        'ui-helper-clearfix\"/>');\n",
       "    var titletext = $(\n",
       "        '<div class=\"ui-dialog-title\" style=\"width: 100%; ' +\n",
       "        'text-align: center; padding: 3px;\"/>');\n",
       "    titlebar.append(titletext)\n",
       "    this.root.append(titlebar);\n",
       "    this.header = titletext[0];\n",
       "}\n",
       "\n",
       "\n",
       "\n",
       "mpl.figure.prototype._canvas_extra_style = function(canvas_div) {\n",
       "\n",
       "}\n",
       "\n",
       "\n",
       "mpl.figure.prototype._root_extra_style = function(canvas_div) {\n",
       "\n",
       "}\n",
       "\n",
       "mpl.figure.prototype._init_canvas = function() {\n",
       "    var fig = this;\n",
       "\n",
       "    var canvas_div = $('<div/>');\n",
       "\n",
       "    canvas_div.attr('style', 'position: relative; clear: both; outline: 0');\n",
       "\n",
       "    function canvas_keyboard_event(event) {\n",
       "        return fig.key_event(event, event['data']);\n",
       "    }\n",
       "\n",
       "    canvas_div.keydown('key_press', canvas_keyboard_event);\n",
       "    canvas_div.keyup('key_release', canvas_keyboard_event);\n",
       "    this.canvas_div = canvas_div\n",
       "    this._canvas_extra_style(canvas_div)\n",
       "    this.root.append(canvas_div);\n",
       "\n",
       "    var canvas = $('<canvas/>');\n",
       "    canvas.addClass('mpl-canvas');\n",
       "    canvas.attr('style', \"left: 0; top: 0; z-index: 0; outline: 0\")\n",
       "\n",
       "    this.canvas = canvas[0];\n",
       "    this.context = canvas[0].getContext(\"2d\");\n",
       "\n",
       "    var backingStore = this.context.backingStorePixelRatio ||\n",
       "\tthis.context.webkitBackingStorePixelRatio ||\n",
       "\tthis.context.mozBackingStorePixelRatio ||\n",
       "\tthis.context.msBackingStorePixelRatio ||\n",
       "\tthis.context.oBackingStorePixelRatio ||\n",
       "\tthis.context.backingStorePixelRatio || 1;\n",
       "\n",
       "    mpl.ratio = (window.devicePixelRatio || 1) / backingStore;\n",
       "\n",
       "    var rubberband = $('<canvas/>');\n",
       "    rubberband.attr('style', \"position: absolute; left: 0; top: 0; z-index: 1;\")\n",
       "\n",
       "    var pass_mouse_events = true;\n",
       "\n",
       "    canvas_div.resizable({\n",
       "        start: function(event, ui) {\n",
       "            pass_mouse_events = false;\n",
       "        },\n",
       "        resize: function(event, ui) {\n",
       "            fig.request_resize(ui.size.width, ui.size.height);\n",
       "        },\n",
       "        stop: function(event, ui) {\n",
       "            pass_mouse_events = true;\n",
       "            fig.request_resize(ui.size.width, ui.size.height);\n",
       "        },\n",
       "    });\n",
       "\n",
       "    function mouse_event_fn(event) {\n",
       "        if (pass_mouse_events)\n",
       "            return fig.mouse_event(event, event['data']);\n",
       "    }\n",
       "\n",
       "    rubberband.mousedown('button_press', mouse_event_fn);\n",
       "    rubberband.mouseup('button_release', mouse_event_fn);\n",
       "    // Throttle sequential mouse events to 1 every 20ms.\n",
       "    rubberband.mousemove('motion_notify', mouse_event_fn);\n",
       "\n",
       "    rubberband.mouseenter('figure_enter', mouse_event_fn);\n",
       "    rubberband.mouseleave('figure_leave', mouse_event_fn);\n",
       "\n",
       "    canvas_div.on(\"wheel\", function (event) {\n",
       "        event = event.originalEvent;\n",
       "        event['data'] = 'scroll'\n",
       "        if (event.deltaY < 0) {\n",
       "            event.step = 1;\n",
       "        } else {\n",
       "            event.step = -1;\n",
       "        }\n",
       "        mouse_event_fn(event);\n",
       "    });\n",
       "\n",
       "    canvas_div.append(canvas);\n",
       "    canvas_div.append(rubberband);\n",
       "\n",
       "    this.rubberband = rubberband;\n",
       "    this.rubberband_canvas = rubberband[0];\n",
       "    this.rubberband_context = rubberband[0].getContext(\"2d\");\n",
       "    this.rubberband_context.strokeStyle = \"#000000\";\n",
       "\n",
       "    this._resize_canvas = function(width, height) {\n",
       "        // Keep the size of the canvas, canvas container, and rubber band\n",
       "        // canvas in synch.\n",
       "        canvas_div.css('width', width)\n",
       "        canvas_div.css('height', height)\n",
       "\n",
       "        canvas.attr('width', width * mpl.ratio);\n",
       "        canvas.attr('height', height * mpl.ratio);\n",
       "        canvas.attr('style', 'width: ' + width + 'px; height: ' + height + 'px;');\n",
       "\n",
       "        rubberband.attr('width', width);\n",
       "        rubberband.attr('height', height);\n",
       "    }\n",
       "\n",
       "    // Set the figure to an initial 600x600px, this will subsequently be updated\n",
       "    // upon first draw.\n",
       "    this._resize_canvas(600, 600);\n",
       "\n",
       "    // Disable right mouse context menu.\n",
       "    $(this.rubberband_canvas).bind(\"contextmenu\",function(e){\n",
       "        return false;\n",
       "    });\n",
       "\n",
       "    function set_focus () {\n",
       "        canvas.focus();\n",
       "        canvas_div.focus();\n",
       "    }\n",
       "\n",
       "    window.setTimeout(set_focus, 100);\n",
       "}\n",
       "\n",
       "mpl.figure.prototype._init_toolbar = function() {\n",
       "    var fig = this;\n",
       "\n",
       "    var nav_element = $('<div/>')\n",
       "    nav_element.attr('style', 'width: 100%');\n",
       "    this.root.append(nav_element);\n",
       "\n",
       "    // Define a callback function for later on.\n",
       "    function toolbar_event(event) {\n",
       "        return fig.toolbar_button_onclick(event['data']);\n",
       "    }\n",
       "    function toolbar_mouse_event(event) {\n",
       "        return fig.toolbar_button_onmouseover(event['data']);\n",
       "    }\n",
       "\n",
       "    for(var toolbar_ind in mpl.toolbar_items) {\n",
       "        var name = mpl.toolbar_items[toolbar_ind][0];\n",
       "        var tooltip = mpl.toolbar_items[toolbar_ind][1];\n",
       "        var image = mpl.toolbar_items[toolbar_ind][2];\n",
       "        var method_name = mpl.toolbar_items[toolbar_ind][3];\n",
       "\n",
       "        if (!name) {\n",
       "            // put a spacer in here.\n",
       "            continue;\n",
       "        }\n",
       "        var button = $('<button/>');\n",
       "        button.addClass('ui-button ui-widget ui-state-default ui-corner-all ' +\n",
       "                        'ui-button-icon-only');\n",
       "        button.attr('role', 'button');\n",
       "        button.attr('aria-disabled', 'false');\n",
       "        button.click(method_name, toolbar_event);\n",
       "        button.mouseover(tooltip, toolbar_mouse_event);\n",
       "\n",
       "        var icon_img = $('<span/>');\n",
       "        icon_img.addClass('ui-button-icon-primary ui-icon');\n",
       "        icon_img.addClass(image);\n",
       "        icon_img.addClass('ui-corner-all');\n",
       "\n",
       "        var tooltip_span = $('<span/>');\n",
       "        tooltip_span.addClass('ui-button-text');\n",
       "        tooltip_span.html(tooltip);\n",
       "\n",
       "        button.append(icon_img);\n",
       "        button.append(tooltip_span);\n",
       "\n",
       "        nav_element.append(button);\n",
       "    }\n",
       "\n",
       "    var fmt_picker_span = $('<span/>');\n",
       "\n",
       "    var fmt_picker = $('<select/>');\n",
       "    fmt_picker.addClass('mpl-toolbar-option ui-widget ui-widget-content');\n",
       "    fmt_picker_span.append(fmt_picker);\n",
       "    nav_element.append(fmt_picker_span);\n",
       "    this.format_dropdown = fmt_picker[0];\n",
       "\n",
       "    for (var ind in mpl.extensions) {\n",
       "        var fmt = mpl.extensions[ind];\n",
       "        var option = $(\n",
       "            '<option/>', {selected: fmt === mpl.default_extension}).html(fmt);\n",
       "        fmt_picker.append(option)\n",
       "    }\n",
       "\n",
       "    // Add hover states to the ui-buttons\n",
       "    $( \".ui-button\" ).hover(\n",
       "        function() { $(this).addClass(\"ui-state-hover\");},\n",
       "        function() { $(this).removeClass(\"ui-state-hover\");}\n",
       "    );\n",
       "\n",
       "    var status_bar = $('<span class=\"mpl-message\"/>');\n",
       "    nav_element.append(status_bar);\n",
       "    this.message = status_bar[0];\n",
       "}\n",
       "\n",
       "mpl.figure.prototype.request_resize = function(x_pixels, y_pixels) {\n",
       "    // Request matplotlib to resize the figure. Matplotlib will then trigger a resize in the client,\n",
       "    // which will in turn request a refresh of the image.\n",
       "    this.send_message('resize', {'width': x_pixels, 'height': y_pixels});\n",
       "}\n",
       "\n",
       "mpl.figure.prototype.send_message = function(type, properties) {\n",
       "    properties['type'] = type;\n",
       "    properties['figure_id'] = this.id;\n",
       "    this.ws.send(JSON.stringify(properties));\n",
       "}\n",
       "\n",
       "mpl.figure.prototype.send_draw_message = function() {\n",
       "    if (!this.waiting) {\n",
       "        this.waiting = true;\n",
       "        this.ws.send(JSON.stringify({type: \"draw\", figure_id: this.id}));\n",
       "    }\n",
       "}\n",
       "\n",
       "\n",
       "mpl.figure.prototype.handle_save = function(fig, msg) {\n",
       "    var format_dropdown = fig.format_dropdown;\n",
       "    var format = format_dropdown.options[format_dropdown.selectedIndex].value;\n",
       "    fig.ondownload(fig, format);\n",
       "}\n",
       "\n",
       "\n",
       "mpl.figure.prototype.handle_resize = function(fig, msg) {\n",
       "    var size = msg['size'];\n",
       "    if (size[0] != fig.canvas.width || size[1] != fig.canvas.height) {\n",
       "        fig._resize_canvas(size[0], size[1]);\n",
       "        fig.send_message(\"refresh\", {});\n",
       "    };\n",
       "}\n",
       "\n",
       "mpl.figure.prototype.handle_rubberband = function(fig, msg) {\n",
       "    var x0 = msg['x0'] / mpl.ratio;\n",
       "    var y0 = (fig.canvas.height - msg['y0']) / mpl.ratio;\n",
       "    var x1 = msg['x1'] / mpl.ratio;\n",
       "    var y1 = (fig.canvas.height - msg['y1']) / mpl.ratio;\n",
       "    x0 = Math.floor(x0) + 0.5;\n",
       "    y0 = Math.floor(y0) + 0.5;\n",
       "    x1 = Math.floor(x1) + 0.5;\n",
       "    y1 = Math.floor(y1) + 0.5;\n",
       "    var min_x = Math.min(x0, x1);\n",
       "    var min_y = Math.min(y0, y1);\n",
       "    var width = Math.abs(x1 - x0);\n",
       "    var height = Math.abs(y1 - y0);\n",
       "\n",
       "    fig.rubberband_context.clearRect(\n",
       "        0, 0, fig.canvas.width, fig.canvas.height);\n",
       "\n",
       "    fig.rubberband_context.strokeRect(min_x, min_y, width, height);\n",
       "}\n",
       "\n",
       "mpl.figure.prototype.handle_figure_label = function(fig, msg) {\n",
       "    // Updates the figure title.\n",
       "    fig.header.textContent = msg['label'];\n",
       "}\n",
       "\n",
       "mpl.figure.prototype.handle_cursor = function(fig, msg) {\n",
       "    var cursor = msg['cursor'];\n",
       "    switch(cursor)\n",
       "    {\n",
       "    case 0:\n",
       "        cursor = 'pointer';\n",
       "        break;\n",
       "    case 1:\n",
       "        cursor = 'default';\n",
       "        break;\n",
       "    case 2:\n",
       "        cursor = 'crosshair';\n",
       "        break;\n",
       "    case 3:\n",
       "        cursor = 'move';\n",
       "        break;\n",
       "    }\n",
       "    fig.rubberband_canvas.style.cursor = cursor;\n",
       "}\n",
       "\n",
       "mpl.figure.prototype.handle_message = function(fig, msg) {\n",
       "    fig.message.textContent = msg['message'];\n",
       "}\n",
       "\n",
       "mpl.figure.prototype.handle_draw = function(fig, msg) {\n",
       "    // Request the server to send over a new figure.\n",
       "    fig.send_draw_message();\n",
       "}\n",
       "\n",
       "mpl.figure.prototype.handle_image_mode = function(fig, msg) {\n",
       "    fig.image_mode = msg['mode'];\n",
       "}\n",
       "\n",
       "mpl.figure.prototype.updated_canvas_event = function() {\n",
       "    // Called whenever the canvas gets updated.\n",
       "    this.send_message(\"ack\", {});\n",
       "}\n",
       "\n",
       "// A function to construct a web socket function for onmessage handling.\n",
       "// Called in the figure constructor.\n",
       "mpl.figure.prototype._make_on_message_function = function(fig) {\n",
       "    return function socket_on_message(evt) {\n",
       "        if (evt.data instanceof Blob) {\n",
       "            /* FIXME: We get \"Resource interpreted as Image but\n",
       "             * transferred with MIME type text/plain:\" errors on\n",
       "             * Chrome.  But how to set the MIME type?  It doesn't seem\n",
       "             * to be part of the websocket stream */\n",
       "            evt.data.type = \"image/png\";\n",
       "\n",
       "            /* Free the memory for the previous frames */\n",
       "            if (fig.imageObj.src) {\n",
       "                (window.URL || window.webkitURL).revokeObjectURL(\n",
       "                    fig.imageObj.src);\n",
       "            }\n",
       "\n",
       "            fig.imageObj.src = (window.URL || window.webkitURL).createObjectURL(\n",
       "                evt.data);\n",
       "            fig.updated_canvas_event();\n",
       "            fig.waiting = false;\n",
       "            return;\n",
       "        }\n",
       "        else if (typeof evt.data === 'string' && evt.data.slice(0, 21) == \"data:image/png;base64\") {\n",
       "            fig.imageObj.src = evt.data;\n",
       "            fig.updated_canvas_event();\n",
       "            fig.waiting = false;\n",
       "            return;\n",
       "        }\n",
       "\n",
       "        var msg = JSON.parse(evt.data);\n",
       "        var msg_type = msg['type'];\n",
       "\n",
       "        // Call the  \"handle_{type}\" callback, which takes\n",
       "        // the figure and JSON message as its only arguments.\n",
       "        try {\n",
       "            var callback = fig[\"handle_\" + msg_type];\n",
       "        } catch (e) {\n",
       "            console.log(\"No handler for the '\" + msg_type + \"' message type: \", msg);\n",
       "            return;\n",
       "        }\n",
       "\n",
       "        if (callback) {\n",
       "            try {\n",
       "                // console.log(\"Handling '\" + msg_type + \"' message: \", msg);\n",
       "                callback(fig, msg);\n",
       "            } catch (e) {\n",
       "                console.log(\"Exception inside the 'handler_\" + msg_type + \"' callback:\", e, e.stack, msg);\n",
       "            }\n",
       "        }\n",
       "    };\n",
       "}\n",
       "\n",
       "// from http://stackoverflow.com/questions/1114465/getting-mouse-location-in-canvas\n",
       "mpl.findpos = function(e) {\n",
       "    //this section is from http://www.quirksmode.org/js/events_properties.html\n",
       "    var targ;\n",
       "    if (!e)\n",
       "        e = window.event;\n",
       "    if (e.target)\n",
       "        targ = e.target;\n",
       "    else if (e.srcElement)\n",
       "        targ = e.srcElement;\n",
       "    if (targ.nodeType == 3) // defeat Safari bug\n",
       "        targ = targ.parentNode;\n",
       "\n",
       "    // jQuery normalizes the pageX and pageY\n",
       "    // pageX,Y are the mouse positions relative to the document\n",
       "    // offset() returns the position of the element relative to the document\n",
       "    var x = e.pageX - $(targ).offset().left;\n",
       "    var y = e.pageY - $(targ).offset().top;\n",
       "\n",
       "    return {\"x\": x, \"y\": y};\n",
       "};\n",
       "\n",
       "/*\n",
       " * return a copy of an object with only non-object keys\n",
       " * we need this to avoid circular references\n",
       " * http://stackoverflow.com/a/24161582/3208463\n",
       " */\n",
       "function simpleKeys (original) {\n",
       "  return Object.keys(original).reduce(function (obj, key) {\n",
       "    if (typeof original[key] !== 'object')\n",
       "        obj[key] = original[key]\n",
       "    return obj;\n",
       "  }, {});\n",
       "}\n",
       "\n",
       "mpl.figure.prototype.mouse_event = function(event, name) {\n",
       "    var canvas_pos = mpl.findpos(event)\n",
       "\n",
       "    if (name === 'button_press')\n",
       "    {\n",
       "        this.canvas.focus();\n",
       "        this.canvas_div.focus();\n",
       "    }\n",
       "\n",
       "    var x = canvas_pos.x * mpl.ratio;\n",
       "    var y = canvas_pos.y * mpl.ratio;\n",
       "\n",
       "    this.send_message(name, {x: x, y: y, button: event.button,\n",
       "                             step: event.step,\n",
       "                             guiEvent: simpleKeys(event)});\n",
       "\n",
       "    /* This prevents the web browser from automatically changing to\n",
       "     * the text insertion cursor when the button is pressed.  We want\n",
       "     * to control all of the cursor setting manually through the\n",
       "     * 'cursor' event from matplotlib */\n",
       "    event.preventDefault();\n",
       "    return false;\n",
       "}\n",
       "\n",
       "mpl.figure.prototype._key_event_extra = function(event, name) {\n",
       "    // Handle any extra behaviour associated with a key event\n",
       "}\n",
       "\n",
       "mpl.figure.prototype.key_event = function(event, name) {\n",
       "\n",
       "    // Prevent repeat events\n",
       "    if (name == 'key_press')\n",
       "    {\n",
       "        if (event.which === this._key)\n",
       "            return;\n",
       "        else\n",
       "            this._key = event.which;\n",
       "    }\n",
       "    if (name == 'key_release')\n",
       "        this._key = null;\n",
       "\n",
       "    var value = '';\n",
       "    if (event.ctrlKey && event.which != 17)\n",
       "        value += \"ctrl+\";\n",
       "    if (event.altKey && event.which != 18)\n",
       "        value += \"alt+\";\n",
       "    if (event.shiftKey && event.which != 16)\n",
       "        value += \"shift+\";\n",
       "\n",
       "    value += 'k';\n",
       "    value += event.which.toString();\n",
       "\n",
       "    this._key_event_extra(event, name);\n",
       "\n",
       "    this.send_message(name, {key: value,\n",
       "                             guiEvent: simpleKeys(event)});\n",
       "    return false;\n",
       "}\n",
       "\n",
       "mpl.figure.prototype.toolbar_button_onclick = function(name) {\n",
       "    if (name == 'download') {\n",
       "        this.handle_save(this, null);\n",
       "    } else {\n",
       "        this.send_message(\"toolbar_button\", {name: name});\n",
       "    }\n",
       "};\n",
       "\n",
       "mpl.figure.prototype.toolbar_button_onmouseover = function(tooltip) {\n",
       "    this.message.textContent = tooltip;\n",
       "};\n",
       "mpl.toolbar_items = [[\"Home\", \"Reset original view\", \"fa fa-home icon-home\", \"home\"], [\"Back\", \"Back to  previous view\", \"fa fa-arrow-left icon-arrow-left\", \"back\"], [\"Forward\", \"Forward to next view\", \"fa fa-arrow-right icon-arrow-right\", \"forward\"], [\"\", \"\", \"\", \"\"], [\"Pan\", \"Pan axes with left mouse, zoom with right\", \"fa fa-arrows icon-move\", \"pan\"], [\"Zoom\", \"Zoom to rectangle\", \"fa fa-square-o icon-check-empty\", \"zoom\"], [\"\", \"\", \"\", \"\"], [\"Download\", \"Download plot\", \"fa fa-floppy-o icon-save\", \"download\"]];\n",
       "\n",
       "mpl.extensions = [\"eps\", \"jpeg\", \"pdf\", \"png\", \"ps\", \"raw\", \"svg\", \"tif\"];\n",
       "\n",
       "mpl.default_extension = \"png\";var comm_websocket_adapter = function(comm) {\n",
       "    // Create a \"websocket\"-like object which calls the given IPython comm\n",
       "    // object with the appropriate methods. Currently this is a non binary\n",
       "    // socket, so there is still some room for performance tuning.\n",
       "    var ws = {};\n",
       "\n",
       "    ws.close = function() {\n",
       "        comm.close()\n",
       "    };\n",
       "    ws.send = function(m) {\n",
       "        //console.log('sending', m);\n",
       "        comm.send(m);\n",
       "    };\n",
       "    // Register the callback with on_msg.\n",
       "    comm.on_msg(function(msg) {\n",
       "        //console.log('receiving', msg['content']['data'], msg);\n",
       "        // Pass the mpl event to the overriden (by mpl) onmessage function.\n",
       "        ws.onmessage(msg['content']['data'])\n",
       "    });\n",
       "    return ws;\n",
       "}\n",
       "\n",
       "mpl.mpl_figure_comm = function(comm, msg) {\n",
       "    // This is the function which gets called when the mpl process\n",
       "    // starts-up an IPython Comm through the \"matplotlib\" channel.\n",
       "\n",
       "    var id = msg.content.data.id;\n",
       "    // Get hold of the div created by the display call when the Comm\n",
       "    // socket was opened in Python.\n",
       "    var element = $(\"#\" + id);\n",
       "    var ws_proxy = comm_websocket_adapter(comm)\n",
       "\n",
       "    function ondownload(figure, format) {\n",
       "        window.open(figure.imageObj.src);\n",
       "    }\n",
       "\n",
       "    var fig = new mpl.figure(id, ws_proxy,\n",
       "                           ondownload,\n",
       "                           element.get(0));\n",
       "\n",
       "    // Call onopen now - mpl needs it, as it is assuming we've passed it a real\n",
       "    // web socket which is closed, not our websocket->open comm proxy.\n",
       "    ws_proxy.onopen();\n",
       "\n",
       "    fig.parent_element = element.get(0);\n",
       "    fig.cell_info = mpl.find_output_cell(\"<div id='\" + id + \"'></div>\");\n",
       "    if (!fig.cell_info) {\n",
       "        console.error(\"Failed to find cell for figure\", id, fig);\n",
       "        return;\n",
       "    }\n",
       "\n",
       "    var output_index = fig.cell_info[2]\n",
       "    var cell = fig.cell_info[0];\n",
       "\n",
       "};\n",
       "\n",
       "mpl.figure.prototype.handle_close = function(fig, msg) {\n",
       "    var width = fig.canvas.width/mpl.ratio\n",
       "    fig.root.unbind('remove')\n",
       "\n",
       "    // Update the output cell to use the data from the current canvas.\n",
       "    fig.push_to_output();\n",
       "    var dataURL = fig.canvas.toDataURL();\n",
       "    // Re-enable the keyboard manager in IPython - without this line, in FF,\n",
       "    // the notebook keyboard shortcuts fail.\n",
       "    IPython.keyboard_manager.enable()\n",
       "    $(fig.parent_element).html('<img src=\"' + dataURL + '\" width=\"' + width + '\">');\n",
       "    fig.close_ws(fig, msg);\n",
       "}\n",
       "\n",
       "mpl.figure.prototype.close_ws = function(fig, msg){\n",
       "    fig.send_message('closing', msg);\n",
       "    // fig.ws.close()\n",
       "}\n",
       "\n",
       "mpl.figure.prototype.push_to_output = function(remove_interactive) {\n",
       "    // Turn the data on the canvas into data in the output cell.\n",
       "    var width = this.canvas.width/mpl.ratio\n",
       "    var dataURL = this.canvas.toDataURL();\n",
       "    this.cell_info[1]['text/html'] = '<img src=\"' + dataURL + '\" width=\"' + width + '\">';\n",
       "}\n",
       "\n",
       "mpl.figure.prototype.updated_canvas_event = function() {\n",
       "    // Tell IPython that the notebook contents must change.\n",
       "    IPython.notebook.set_dirty(true);\n",
       "    this.send_message(\"ack\", {});\n",
       "    var fig = this;\n",
       "    // Wait a second, then push the new image to the DOM so\n",
       "    // that it is saved nicely (might be nice to debounce this).\n",
       "    setTimeout(function () { fig.push_to_output() }, 1000);\n",
       "}\n",
       "\n",
       "mpl.figure.prototype._init_toolbar = function() {\n",
       "    var fig = this;\n",
       "\n",
       "    var nav_element = $('<div/>')\n",
       "    nav_element.attr('style', 'width: 100%');\n",
       "    this.root.append(nav_element);\n",
       "\n",
       "    // Define a callback function for later on.\n",
       "    function toolbar_event(event) {\n",
       "        return fig.toolbar_button_onclick(event['data']);\n",
       "    }\n",
       "    function toolbar_mouse_event(event) {\n",
       "        return fig.toolbar_button_onmouseover(event['data']);\n",
       "    }\n",
       "\n",
       "    for(var toolbar_ind in mpl.toolbar_items){\n",
       "        var name = mpl.toolbar_items[toolbar_ind][0];\n",
       "        var tooltip = mpl.toolbar_items[toolbar_ind][1];\n",
       "        var image = mpl.toolbar_items[toolbar_ind][2];\n",
       "        var method_name = mpl.toolbar_items[toolbar_ind][3];\n",
       "\n",
       "        if (!name) { continue; };\n",
       "\n",
       "        var button = $('<button class=\"btn btn-default\" href=\"#\" title=\"' + name + '\"><i class=\"fa ' + image + ' fa-lg\"></i></button>');\n",
       "        button.click(method_name, toolbar_event);\n",
       "        button.mouseover(tooltip, toolbar_mouse_event);\n",
       "        nav_element.append(button);\n",
       "    }\n",
       "\n",
       "    // Add the status bar.\n",
       "    var status_bar = $('<span class=\"mpl-message\" style=\"text-align:right; float: right;\"/>');\n",
       "    nav_element.append(status_bar);\n",
       "    this.message = status_bar[0];\n",
       "\n",
       "    // Add the close button to the window.\n",
       "    var buttongrp = $('<div class=\"btn-group inline pull-right\"></div>');\n",
       "    var button = $('<button class=\"btn btn-mini btn-primary\" href=\"#\" title=\"Stop Interaction\"><i class=\"fa fa-power-off icon-remove icon-large\"></i></button>');\n",
       "    button.click(function (evt) { fig.handle_close(fig, {}); } );\n",
       "    button.mouseover('Stop Interaction', toolbar_mouse_event);\n",
       "    buttongrp.append(button);\n",
       "    var titlebar = this.root.find($('.ui-dialog-titlebar'));\n",
       "    titlebar.prepend(buttongrp);\n",
       "}\n",
       "\n",
       "mpl.figure.prototype._root_extra_style = function(el){\n",
       "    var fig = this\n",
       "    el.on(\"remove\", function(){\n",
       "\tfig.close_ws(fig, {});\n",
       "    });\n",
       "}\n",
       "\n",
       "mpl.figure.prototype._canvas_extra_style = function(el){\n",
       "    // this is important to make the div 'focusable\n",
       "    el.attr('tabindex', 0)\n",
       "    // reach out to IPython and tell the keyboard manager to turn it's self\n",
       "    // off when our div gets focus\n",
       "\n",
       "    // location in version 3\n",
       "    if (IPython.notebook.keyboard_manager) {\n",
       "        IPython.notebook.keyboard_manager.register_events(el);\n",
       "    }\n",
       "    else {\n",
       "        // location in version 2\n",
       "        IPython.keyboard_manager.register_events(el);\n",
       "    }\n",
       "\n",
       "}\n",
       "\n",
       "mpl.figure.prototype._key_event_extra = function(event, name) {\n",
       "    var manager = IPython.notebook.keyboard_manager;\n",
       "    if (!manager)\n",
       "        manager = IPython.keyboard_manager;\n",
       "\n",
       "    // Check for shift+enter\n",
       "    if (event.shiftKey && event.which == 13) {\n",
       "        this.canvas_div.blur();\n",
       "        // select the cell after this one\n",
       "        var index = IPython.notebook.find_cell_index(this.cell_info[0]);\n",
       "        IPython.notebook.select(index + 1);\n",
       "    }\n",
       "}\n",
       "\n",
       "mpl.figure.prototype.handle_save = function(fig, msg) {\n",
       "    fig.ondownload(fig, null);\n",
       "}\n",
       "\n",
       "\n",
       "mpl.find_output_cell = function(html_output) {\n",
       "    // Return the cell and output element which can be found *uniquely* in the notebook.\n",
       "    // Note - this is a bit hacky, but it is done because the \"notebook_saving.Notebook\"\n",
       "    // IPython event is triggered only after the cells have been serialised, which for\n",
       "    // our purposes (turning an active figure into a static one), is too late.\n",
       "    var cells = IPython.notebook.get_cells();\n",
       "    var ncells = cells.length;\n",
       "    for (var i=0; i<ncells; i++) {\n",
       "        var cell = cells[i];\n",
       "        if (cell.cell_type === 'code'){\n",
       "            for (var j=0; j<cell.output_area.outputs.length; j++) {\n",
       "                var data = cell.output_area.outputs[j];\n",
       "                if (data.data) {\n",
       "                    // IPython >= 3 moved mimebundle to data attribute of output\n",
       "                    data = data.data;\n",
       "                }\n",
       "                if (data['text/html'] == html_output) {\n",
       "                    return [cell, data, j];\n",
       "                }\n",
       "            }\n",
       "        }\n",
       "    }\n",
       "}\n",
       "\n",
       "// Register the function which deals with the matplotlib target/channel.\n",
       "// The kernel may be null if the page has been refreshed.\n",
       "if (IPython.notebook.kernel != null) {\n",
       "    IPython.notebook.kernel.comm_manager.register_target('matplotlib', mpl.mpl_figure_comm);\n",
       "}\n"
      ],
      "text/plain": [
       "<IPython.core.display.Javascript object>"
      ]
     },
     "metadata": {},
     "output_type": "display_data"
    },
    {
     "data": {
      "text/html": [
       "<img src=\"data:image/png;base64,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\" width=\"640\">"
      ],
      "text/plain": [
       "<IPython.core.display.HTML object>"
      ]
     },
     "metadata": {},
     "output_type": "display_data"
    },
    {
     "data": {
      "text/plain": [
       "[<matplotlib.lines.Line2D at 0xae19588>]"
      ]
     },
     "execution_count": 155,
     "metadata": {},
     "output_type": "execute_result"
    }
   ],
   "source": [
    "x = np.linspace(0,2*np.pi,50)\n",
    "y1 = np.sin(x)\n",
    "y2 = np.sin(2*x)\n",
    "\n",
    "plt.figure()\n",
    "plt.plot(x, y1, 'r-o')"
   ]
  }
 ],
 "metadata": {
  "kernelspec": {
   "display_name": "Python 2",
   "language": "python",
   "name": "python2"
  },
  "language_info": {
   "codemirror_mode": {
    "name": "ipython",
    "version": 2
   },
   "file_extension": ".py",
   "mimetype": "text/x-python",
   "name": "python",
   "nbconvert_exporter": "python",
   "pygments_lexer": "ipython2",
   "version": "2.7.13"
  }
 },
 "nbformat": 4,
 "nbformat_minor": 2
}
