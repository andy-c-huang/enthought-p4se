{
 "cells": [
  {
   "cell_type": "raw",
   "metadata": {
    "deletable": true,
    "editable": true
   },
   "source": [
    "Cython essecntially lets you use your python code as C++ code\n",
    "you only have to declare the types of the first instances of everything\n",
    "\n",
    "you may or may not declare the types of the returns\n",
    "compare def and cdef for function declarations\n",
    "\n",
    "# this is a python callable function\n",
    "def inc(int num, int offset):\n",
    "    return num + offset\n",
    "    \n",
    "# this is a C function call\n",
    "cdef int inc(int num, int offcet):\n",
    "    return num + offset\n",
    "    \n",
    "exposing the function to python is slower\n",
    "\n",
    "cpdef provides a middle ground: giving you the python interface which lets you call it from C\n",
    "why not use cpdef all the time? maybe you don't want to expose the function to python!\n",
    "\n",
    "Cython is a bit picky; it won't do type casting if your declared C functions require an input type\n",
    "lesson: the usual way around this is to cast *in Python* before you ship it off into the C function"
   ]
  },
  {
   "cell_type": "raw",
   "metadata": {
    "deletable": true,
    "editable": true
   },
   "source": [
    "using numpy with cython\n",
    "\n",
    "cimport cython\n",
    "cimport numpy as np\n",
    "ctypedef np.float64_t DOUBLE\n",
    "\n",
    "numpy.sum is vectorized C, so looping over a numpy array is fast!\n",
    "\n",
    "sum 0.0\n",
    "for i in range(0,n):\n",
    "  sum = sum + array[i]\n",
    "return sum\n",
    "\n",
    "will be a lot faster if this is performing all numpy operations!"
   ]
  },
  {
   "cell_type": "raw",
   "metadata": {
    "deletable": true,
    "editable": true
   },
   "source": [
    "cimport cython\n",
    "cython has a parallel range, prange\n",
    "it is way faster than a standard range!"
   ]
  },
  {
   "cell_type": "code",
   "execution_count": 41,
   "metadata": {
    "collapsed": false,
    "deletable": true,
    "editable": true
   },
   "outputs": [
    {
     "name": "stdout",
     "output_type": "stream",
     "text": [
      "Execution time: 0.138407522157\n"
     ]
    },
    {
     "data": {
      "image/png": "[encoded data removed]",
      "text/plain": [
       "<matplotlib.figure.Figure at 0x1392d048>"
      ]
     },
     "metadata": {},
     "output_type": "display_data"
    }
   ],
   "source": [
    "from __future__ import print_function\n",
    "import numpy as np\n",
    "\n",
    "def mandelbrot_escape(c, n):\n",
    "    \"\"\" Mandelbrot set escape time algorithm in real and complex components\n",
    "    \"\"\"\n",
    "    z = c\n",
    "    for i in range(n):\n",
    "        z = z*z + c\n",
    "        if abs(z) >= 2.0:\n",
    "           return i\n",
    "    return -1\n",
    "\n",
    "def generate_mandelbrot(xs, ys, n):\n",
    "    \"\"\" Generate a mandelbrot set \"\"\"\n",
    "    d = np.empty(shape=(len(ys), len(xs)))\n",
    "    for j in range(len(ys)):\n",
    "        for i in range(len(xs)):\n",
    "            z = xs[i] + ys[j]*1j\n",
    "            d[j,i] = mandelbrot_escape(z, n)\n",
    "    return d\n",
    "\n",
    "\n",
    "if __name__ == '__main__':\n",
    "    from timeit import default_timer as time\n",
    "    import matplotlib.pyplot as plt\n",
    "\n",
    "    x = np.linspace(-2, 1, 100)\n",
    "    y = np.linspace(-1.5, 1.5, 100)\n",
    "\n",
    "    t = time()\n",
    "    d = generate_mandelbrot(x, y, 100)\n",
    "    print('Execution time:', time() - t)\n",
    "\n",
    "    plt.imshow(d, extent=[-2,1,-1.5,1.5], cmap=plt.cm.gist_stern)\n",
    "    plt.show()"
   ]
  },
  {
   "cell_type": "raw",
   "metadata": {
    "deletable": true,
    "editable": true
   },
   "source": [
    "Enthought tool suite\n",
    "\n",
    "Traits\n",
    "  a runtime framework, has the \"Gang of Four design patters\"\n",
    "  if you're willing to work in the Traits\n",
    "  this lets you create a GUI automatically - it replaces int, float, etc with Traits int, Traits float, etc\n",
    "  since all types inherit from Traits, they all have widget interfaces!\n",
    "  follows the Model-View-Controller pattern\n",
    "\n",
    "Chaco\n",
    "  drawback of matplotlib is that the whole figure is redrawn each time\n",
    "  chaco has a low level interface that handles this issue, so a single figure can be redrawn at a time\n",
    "  it is written in traits, so, for example, if we want to create an oscilloscope, we can use Traits to turn the knobs!\n",
    "  \n",
    "Kiva\n",
    "  \n",
    "Mayavi\n",
    "  free python version of ParaView\n",
    "\n",
    "Enable\n",
    "\n",
    "Envisage"
   ]
  },
  {
   "cell_type": "code",
   "execution_count": 42,
   "metadata": {
    "collapsed": false,
    "deletable": true,
    "editable": true
   },
   "outputs": [
    {
     "name": "stdout",
     "output_type": "stream",
     "text": [
      "default rectangle width(1.0): 1.0\n",
      "default rectangle height(2.0): 2.0\n",
      "keyword intialized rectangle width(2.0): 2.0\n",
      "keyword initialized rectangle height(3.0): 3.0\n"
     ]
    }
   ],
   "source": [
    "#############################################################################\n",
    "# ex_rect_2.py\n",
    "#\n",
    "# 1. Specifying Default values\n",
    "#############################################################################\n",
    "\n",
    "# enthought imports\n",
    "from __future__ import print_function\n",
    "from traits.api import HasTraits, Float\n",
    "\n",
    "class Rectangle(HasTraits):\n",
    "    \"\"\" Simple rectangle class with type declarations for two traits.\n",
    "        Specify default values of 1.0 for the two traits.\n",
    "    \"\"\"\n",
    "\n",
    "    # Width of the rectangle\n",
    "    width = Float(1.0)\n",
    "\n",
    "    # Height of the rectangle\n",
    "    height = Float(2.0)\n",
    "\n",
    "\n",
    "#############################################################################\n",
    "# Demo Code\n",
    "#############################################################################\n",
    "\n",
    "rect = Rectangle()\n",
    "print('default rectangle width(1.0):', rect.width)\n",
    "print('default rectangle height(2.0):', rect.height)\n",
    "\n",
    "# Using keyword arguments to initialize traits.\n",
    "rect = Rectangle(width=2.0, height=3.0)\n",
    "print('keyword intialized rectangle width(2.0):', rect.width)\n",
    "print('keyword initialized rectangle height(3.0):', rect.height)"
   ]
  },
  {
   "cell_type": "code",
   "execution_count": 43,
   "metadata": {
    "collapsed": false,
    "deletable": true,
    "editable": true
   },
   "outputs": [],
   "source": [
    "# enaml is a fork of traits that uses XML-style layout, called atom"
   ]
  },
  {
   "cell_type": "raw",
   "metadata": {
    "deletable": true,
    "editable": true
   },
   "source": [
    "topic: chaco\n",
    "chaco is a plotting application toolkit\n",
    "you can build simple, static plots that look like matplotlib plots\n",
    "it also allows you to create interactive visualizations"
   ]
  },
  {
   "cell_type": "code",
   "execution_count": 59,
   "metadata": {
    "collapsed": false,
    "deletable": true,
    "editable": true
   },
   "outputs": [
    {
     "data": {
      "text/plain": [
       "True"
      ]
     },
     "execution_count": 59,
     "metadata": {},
     "output_type": "execute_result"
    }
   ],
   "source": [
    "from numpy import linspace, sin\n",
    "from chaco.api import ArrayPlotData, Plot\n",
    "from enable.component_editor import ComponentEditor\n",
    "from traits.api import HasTraits, Instance\n",
    "from traitsui.api import Item, View\n",
    "\n",
    "class LinePlot(HasTraits):\n",
    "\n",
    "    plot = Instance(Plot)\n",
    "\n",
    "    traits_view = View(\n",
    "            Item('plot', editor=ComponentEditor(),\n",
    "                 show_label=False),\n",
    "            width=500, height=500,\n",
    "            resizable=True,\n",
    "            title = \"Chaco Plot\")\n",
    "\n",
    "    def _plot_default(self):\n",
    "        # Create the data and the PlotData object\n",
    "        x = linspace(-14, 14, 100)\n",
    "        y = sin(x) * x**3\n",
    "        plotdata = ArrayPlotData(x = x, y = y)\n",
    "        # Create a Plot and associate it with the PlotData\n",
    "        plot = Plot(plotdata)\n",
    "        # Create a line plot in the Plot\n",
    "        plot.plot((\"x\", \"y\"), type=\"line\", color=\"blue\")\n",
    "        # Set the title\n",
    "        plot.title = \"sin(x) * x^3\"\n",
    "        # Assign it to our self.plot attribute\n",
    "        return plot\n",
    "\n",
    "demo = LinePlot()\n",
    "demo.configure_traits()"
   ]
  },
  {
   "cell_type": "raw",
   "metadata": {
    "deletable": true,
    "editable": true
   },
   "source": [
    "topic: mayavi"
   ]
  },
  {
   "cell_type": "code",
   "execution_count": 45,
   "metadata": {
    "collapsed": false,
    "deletable": true,
    "editable": true
   },
   "outputs": [
    {
     "data": {
      "text/plain": [
       "<mayavi.modules.surface.Surface at 0x1ffd5258>"
      ]
     },
     "execution_count": 45,
     "metadata": {},
     "output_type": "execute_result"
    }
   ],
   "source": [
    "import numpy as np\n",
    "y, x = np.meshgrid(np.linspace(-5,5,100), np.linspace(-5,5,100))\n",
    "r = x**2 + y**2\n",
    "z = np.sin(r)/r\n",
    "\n",
    "from mayavi import mlab\n",
    "mlab.surf(x,y,5*z)"
   ]
  },
  {
   "cell_type": "raw",
   "metadata": {
    "deletable": true,
    "editable": true
   },
   "source": [
    "topic module: multiprocessing\n",
    "Mike recommends using multiprocess, a fork of multiprocessing\n",
    "Mike wrote the dill module\n",
    "python didn't expect parallel computing when it was developed\n",
    "python has a GIL and each python execution stack is tied to a frame\n",
    "there was a module called pickle, which takes any object and coverts it to a string"
   ]
  },
  {
   "cell_type": "code",
   "execution_count": 60,
   "metadata": {
    "collapsed": false,
    "deletable": true,
    "editable": true
   },
   "outputs": [
    {
     "data": {
      "text/plain": [
       "'(lp0\\nI1\\naI2\\naI3\\naI4\\na.'"
      ]
     },
     "execution_count": 60,
     "metadata": {},
     "output_type": "execute_result"
    }
   ],
   "source": [
    "import pickle\n",
    "pickle.dumps([1,2,3,4]) # provides the unique string representation for the list"
   ]
  },
  {
   "cell_type": "code",
   "execution_count": 61,
   "metadata": {
    "collapsed": false,
    "deletable": true,
    "editable": true
   },
   "outputs": [
    {
     "data": {
      "text/plain": [
       "[1, 2, 3, 4]"
      ]
     },
     "execution_count": 61,
     "metadata": {},
     "output_type": "execute_result"
    }
   ],
   "source": [
    "pickle.loads('(lp0\\nI1\\naI2\\naI3\\naI4\\na.')"
   ]
  },
  {
   "cell_type": "raw",
   "metadata": {
    "deletable": true,
    "editable": true
   },
   "source": [
    "pickle thus allowed us to pass things between processes\n",
    "it is intended to store objects on disk, not pass objects across processes"
   ]
  },
  {
   "cell_type": "code",
   "execution_count": 62,
   "metadata": {
    "collapsed": false,
    "deletable": true,
    "editable": true
   },
   "outputs": [
    {
     "data": {
      "text/plain": [
       "\"cdill.dill\\n_create_function\\np0\\n(cdill.dill\\n_load_type\\np1\\n(S'CodeType'\\np2\\ntp3\\nRp4\\n(I1\\nI1\\nI1\\nI65603\\nS'|\\\\x00\\\\x00S'\\np5\\n(Ntp6\\n(t(S'x'\\np7\\ntp8\\nS'<ipython-input-62-a603e4bc5d57>'\\np9\\nS'<lambda>'\\np10\\nI1\\nS''\\np11\\n(t(ttp12\\nRp13\\nc__main__\\n__dict__\\ng10\\nNN(dp14\\ntp15\\nRp16\\n.\""
      ]
     },
     "execution_count": 62,
     "metadata": {},
     "output_type": "execute_result"
    }
   ],
   "source": [
    "pickle.dumps(lambda x:x) # doesn't work"
   ]
  },
  {
   "cell_type": "code",
   "execution_count": 63,
   "metadata": {
    "collapsed": false,
    "deletable": true,
    "editable": true
   },
   "outputs": [
    {
     "data": {
      "text/plain": [
       "'\\x80\\x02cdill.dill\\n_create_function\\nq\\x00(cdill.dill\\n_load_type\\nq\\x01U\\x08CodeTypeq\\x02\\x85q\\x03Rq\\x04(K\\x01K\\x01K\\x01JC\\x00\\x01\\x00U\\x04|\\x00\\x00Sq\\x05N\\x85q\\x06)U\\x01xq\\x07\\x85q\\x08U\\x1f<ipython-input-63-e3ad3bac896d>q\\tU\\x08<lambda>q\\nK\\x02U\\x00q\\x0b))tq\\x0cRq\\rc__builtin__\\n__main__\\nh\\nNN}q\\x0etq\\x0fRq\\x10.'"
      ]
     },
     "execution_count": 63,
     "metadata": {},
     "output_type": "execute_result"
    }
   ],
   "source": [
    "import dill\n",
    "dill.dumps(lambda x:x) # this actually lets you dump other things, too!"
   ]
  },
  {
   "cell_type": "code",
   "execution_count": 64,
   "metadata": {
    "collapsed": false,
    "deletable": true,
    "editable": true
   },
   "outputs": [
    {
     "data": {
      "text/plain": [
       "[0, 1, 4, 9]"
      ]
     },
     "execution_count": 64,
     "metadata": {},
     "output_type": "execute_result"
    }
   ],
   "source": [
    "import multiprocess # not multiprocessing, for the iPython\n",
    "p = multiprocess.Pool(4)\n",
    "p.map(lambda x:x*x, range(4)) # the default map is a blocking map"
   ]
  },
  {
   "cell_type": "code",
   "execution_count": 65,
   "metadata": {
    "collapsed": false,
    "deletable": true,
    "editable": true
   },
   "outputs": [
    {
     "data": {
      "text/plain": [
       "[0, 1, 4, 9]"
      ]
     },
     "execution_count": 65,
     "metadata": {},
     "output_type": "execute_result"
    }
   ],
   "source": [
    "p.imap_unordered(lambda x:x*x, range(4))\n",
    "list(_)"
   ]
  },
  {
   "cell_type": "code",
   "execution_count": 66,
   "metadata": {
    "collapsed": false,
    "deletable": true,
    "editable": true
   },
   "outputs": [
    {
     "data": {
      "text/plain": [
       "9"
      ]
     },
     "execution_count": 66,
     "metadata": {},
     "output_type": "execute_result"
    }
   ],
   "source": [
    "p.apply(lambda x:x*x, (3,))"
   ]
  },
  {
   "cell_type": "code",
   "execution_count": 67,
   "metadata": {
    "collapsed": true,
    "deletable": true,
    "editable": true
   },
   "outputs": [],
   "source": [
    "p.close()"
   ]
  },
  {
   "cell_type": "code",
   "execution_count": 68,
   "metadata": {
    "collapsed": true,
    "deletable": true,
    "editable": true
   },
   "outputs": [],
   "source": [
    "p.join()"
   ]
  },
  {
   "cell_type": "code",
   "execution_count": 69,
   "metadata": {
    "collapsed": false,
    "deletable": true,
    "editable": true
   },
   "outputs": [
    {
     "data": {
      "text/plain": [
       "'qwfqwrgqehqetn'"
      ]
     },
     "execution_count": 69,
     "metadata": {},
     "output_type": "execute_result"
    }
   ],
   "source": [
    "dill.loads(pickle.dumps('qwfqwrgqehqetn'))"
   ]
  },
  {
   "cell_type": "raw",
   "metadata": {
    "deletable": true,
    "editable": true
   },
   "source": [
    "look up these multiprocesing commands: \n",
    "Queue(), Pipe(), Event()\n",
    "can implenent a lock (so processes don't interfere readinga nd writing to the same file)\n",
    "shared memory arrays through Process(), so that multiple processors can populate the entries of a matrix, for example"
   ]
  },
  {
   "cell_type": "code",
   "execution_count": 70,
   "metadata": {
    "collapsed": false,
    "deletable": true,
    "editable": true
   },
   "outputs": [
    {
     "data": {
      "text/plain": [
       "[0, 1, 4, 9, 16, 25, 36, 49, 64, 81]"
      ]
     },
     "execution_count": 70,
     "metadata": {},
     "output_type": "execute_result"
    }
   ],
   "source": [
    "import multiprocess\n",
    "t = multiprocess.dummy.Pool(10) # thread parallel computing also available!\n",
    "t.map(lambda x:x*x, range(10))"
   ]
  },
  {
   "cell_type": "code",
   "execution_count": 71,
   "metadata": {
    "collapsed": true,
    "deletable": true,
    "editable": true
   },
   "outputs": [],
   "source": [
    "t.close() # this prevents the pool from starting new jobs\n",
    "t.join() # destroys the threads or processes that are active"
   ]
  },
  {
   "cell_type": "code",
   "execution_count": 72,
   "metadata": {
    "collapsed": true,
    "deletable": true,
    "editable": true
   },
   "outputs": [],
   "source": [
    "# t.terminate() is an emergency switch"
   ]
  },
  {
   "cell_type": "code",
   "execution_count": null,
   "metadata": {
    "collapsed": true,
    "deletable": true,
    "editable": true
   },
   "outputs": [],
   "source": []
  }
 ],
 "metadata": {
  "kernelspec": {
   "display_name": "Python 2",
   "language": "python",
   "name": "python2"
  },
  "language_info": {
   "codemirror_mode": {
    "name": "ipython",
    "version": 2
   },
   "file_extension": ".py",
   "mimetype": "text/x-python",
   "name": "python",
   "nbconvert_exporter": "python",
   "pygments_lexer": "ipython2",
   "version": "2.7.13"
  }
 },
 "nbformat": 4,
 "nbformat_minor": 2
}
