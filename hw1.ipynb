{
 "cells": [
  {
   "cell_type": "code",
   "execution_count": 93,
   "metadata": {
    "collapsed": true
   },
   "outputs": [],
   "source": [
    "\"\"\"\n",
    "Sort Words\n",
    "----------\n",
    "\n",
    "Given a (partial) sentence from a speech, print out\n",
    "a list of the words in the sentence in alphabetical order.\n",
    "Also print out just the first two words and the last\n",
    "two words in the sorted list.\n",
    "\n",
    "::\n",
    "\n",
    "    speech = '''Four score and seven years ago our fathers brought forth \n",
    "             on this continent a new nation, conceived in Liberty, and \n",
    "             dedicated to the proposition that all men are created equal.\n",
    "             '''\n",
    "\n",
    "\n",
    "Ignore case and punctuation.\n",
    "\n",
    "See :ref:`sort-words-solution`.\n",
    "\"\"\"\n",
    "\n",
    "speech = '''Four score and seven years ago our fathers brought forth \n",
    "         on this continent a new nation, conceived in Liberty, and \n",
    "         dedicated to the proposition that all men are created equal.\n",
    "         '''"
   ]
  },
  {
   "cell_type": "code",
   "execution_count": 110,
   "metadata": {
    "collapsed": false
   },
   "outputs": [
    {
     "data": {
      "text/plain": [
       "['a',\n",
       " 'ago',\n",
       " 'all',\n",
       " 'and',\n",
       " 'and',\n",
       " 'are',\n",
       " 'brought',\n",
       " 'conceived',\n",
       " 'continent',\n",
       " 'created',\n",
       " 'dedicated',\n",
       " 'equal.',\n",
       " 'fathers',\n",
       " 'forth',\n",
       " 'Four',\n",
       " 'in',\n",
       " 'Liberty~',\n",
       " 'men',\n",
       " 'nation~',\n",
       " 'new',\n",
       " 'on',\n",
       " 'our',\n",
       " 'proposition',\n",
       " 'score',\n",
       " 'seven',\n",
       " 'that',\n",
       " 'the',\n",
       " 'this',\n",
       " 'to',\n",
       " 'years']"
      ]
     },
     "execution_count": 110,
     "metadata": {},
     "output_type": "execute_result"
    }
   ],
   "source": [
    "import string as str\n",
    "punctuation = string.punctuation\n",
    "words = speech.translate(str.maketrans(','*len(punctuation),punctuation)).split()\n",
    "words.sort(key=str.lower)\n",
    "words"
   ]
  },
  {
   "cell_type": "code",
   "execution_count": 92,
   "metadata": {
    "collapsed": false
   },
   "outputs": [
    {
     "data": {
      "text/plain": [
       "['a',\n",
       " 'ago',\n",
       " 'all',\n",
       " 'and',\n",
       " 'and',\n",
       " 'are',\n",
       " 'brought',\n",
       " 'conceived',\n",
       " 'continent',\n",
       " 'created',\n",
       " 'dedicated',\n",
       " 'equal',\n",
       " 'fathers',\n",
       " 'forth',\n",
       " 'four',\n",
       " 'in',\n",
       " 'liberty',\n",
       " 'men',\n",
       " 'nation',\n",
       " 'new',\n",
       " 'on',\n",
       " 'our',\n",
       " 'proposition',\n",
       " 'score',\n",
       " 'seven',\n",
       " 'that',\n",
       " 'the',\n",
       " 'this',\n",
       " 'to',\n",
       " 'years']"
      ]
     },
     "execution_count": 92,
     "metadata": {},
     "output_type": "execute_result"
    }
   ],
   "source": [
    "#%%timeit\n",
    "answer1a = sorted(speech.replace('.','').replace(', ',' ').lower().split())\n",
    "answer1a"
   ]
  },
  {
   "cell_type": "code",
   "execution_count": 112,
   "metadata": {
    "collapsed": false
   },
   "outputs": [
    {
     "data": {
      "text/plain": [
       "['a', 'ago', 'to', 'years']"
      ]
     },
     "execution_count": 112,
     "metadata": {},
     "output_type": "execute_result"
    }
   ],
   "source": [
    "#%%timeit\n",
    "answer1b = answer1a[:2] + answer1a[-2:]\n",
    "answer1b"
   ]
  },
  {
   "cell_type": "code",
   "execution_count": 14,
   "metadata": {
    "collapsed": true
   },
   "outputs": [],
   "source": [
    "\"\"\"\n",
    "Vote String\n",
    "-----------\n",
    "You have the string below, which is a set of \"yes/no\" votes,\n",
    "where \"y\" or \"Y\" means yes and \"n\" or \"N\" means no. Determine \n",
    "the percentages of yes and no votes.\n",
    "\n",
    "::\n",
    "\n",
    "    votes = \"y y n N Y Y n n N y Y n Y\"\n",
    "\n",
    "See :ref:`vote-string-solution`.\n",
    "\"\"\"\n",
    "# Begin exercise\n",
    "\n",
    "votes = \"y y n N Y Y n n N y Y n Y\""
   ]
  },
  {
   "cell_type": "code",
   "execution_count": 91,
   "metadata": {
    "collapsed": false
   },
   "outputs": [
    {
     "name": "stdout",
     "output_type": "stream",
     "text": [
      "There are 53.85% yes and 46.15% no.\n"
     ]
    }
   ],
   "source": [
    "#%%timeit\n",
    "orderedVotes = sorted(votes.lower().split(' '))\n",
    "yesses = orderedVotes.count('y') \n",
    "noes = orderedVotes.count('n')\n",
    "total = yesses + noes\n",
    "yesPercentage = 100.0 * yesses/total\n",
    "noPercentage = 100 - yesPercentage\n",
    "print('There are {yes:2.2f}% yes and {no:2.2f}% no.'.format(yes=yesPercentage, no=noPercentage))"
   ]
  }
 ],
 "metadata": {
  "kernelspec": {
   "display_name": "Python 2",
   "language": "python",
   "name": "python2"
  },
  "language_info": {
   "codemirror_mode": {
    "name": "ipython",
    "version": 2
   },
   "file_extension": ".py",
   "mimetype": "text/x-python",
   "name": "python",
   "nbconvert_exporter": "python",
   "pygments_lexer": "ipython2",
   "version": "2.7.13"
  }
 },
 "nbformat": 4,
 "nbformat_minor": 2
}
