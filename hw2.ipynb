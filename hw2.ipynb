{
 "cells": [
  {
   "cell_type": "code",
   "execution_count": 240,
   "metadata": {
    "collapsed": true,
    "deletable": true,
    "editable": true
   },
   "outputs": [],
   "source": [
    "\"\"\"\n",
    "Roman Dictionary\n",
    "----------------\n",
    "\n",
    "Mark Antony keeps a list of the people he knows in several dictionaries\n",
    "based on their relationship to him::\n",
    "\n",
    "    friends = {'julius': '100 via apian', 'cleopatra': '000 pyramid parkway'}\n",
    "    romans = dict(brutus='234 via tratorium', cassius='111 aqueduct lane')\n",
    "    countrymen = dict([('plebius','786 via bunius'),\n",
    "                       ('plebia', '786 via bunius')])\n",
    "\n",
    "\n",
    "1. Print out the names for all of Antony's friends.\n",
    "2. Now all of their addresses.\n",
    "3. Now print them as \"pairs\".\n",
    "4. Hmmm.  Something unfortunate befell Julius.  Remove him from the\n",
    "   friends list.\n",
    "5. Antony needs to mail everyone for his second-triumvirate party.  Make\n",
    "   a single dictionary containing everyone.\n",
    "6. Antony's stopping over in Egypt and wants to swing by Cleopatra's\n",
    "   place while he is there. Get her address.\n",
    "7. The barbarian hordes have invaded and destroyed all of Rome.\n",
    "   Clear out everyone from the dictionary you created in step 5.\n",
    "\n",
    "See :ref:`roman-dictionary-solution`.\n",
    "\"\"\"\n",
    "\n",
    "friends = {'julius': '100 via apian', 'cleopatra': '000 pyramid parkway'}\n",
    "romans = dict(brutus='234 via tratorium', cassius='111 aqueduct lane')\n",
    "countrymen = dict([('plebius','786 via bunius'), ('plebia', '786 via bunius')])"
   ]
  },
  {
   "cell_type": "code",
   "execution_count": 241,
   "metadata": {
    "collapsed": false,
    "deletable": true,
    "editable": true
   },
   "outputs": [
    {
     "data": {
      "text/plain": [
       "['julius', 'cleopatra']"
      ]
     },
     "execution_count": 241,
     "metadata": {},
     "output_type": "execute_result"
    }
   ],
   "source": [
    "friends.keys()"
   ]
  },
  {
   "cell_type": "code",
   "execution_count": 242,
   "metadata": {
    "collapsed": false
   },
   "outputs": [
    {
     "data": {
      "text/plain": [
       "['100 via apian', '000 pyramid parkway']"
      ]
     },
     "execution_count": 242,
     "metadata": {},
     "output_type": "execute_result"
    }
   ],
   "source": [
    "friends.values()"
   ]
  },
  {
   "cell_type": "code",
   "execution_count": 243,
   "metadata": {
    "collapsed": false
   },
   "outputs": [
    {
     "data": {
      "text/plain": [
       "[('julius', '100 via apian'), ('cleopatra', '000 pyramid parkway')]"
      ]
     },
     "execution_count": 243,
     "metadata": {},
     "output_type": "execute_result"
    }
   ],
   "source": [
    "[(i,friends.get(i)) for i in friends.keys()]"
   ]
  },
  {
   "cell_type": "code",
   "execution_count": 244,
   "metadata": {
    "collapsed": false
   },
   "outputs": [
    {
     "data": {
      "text/plain": [
       "{'cleopatra': '000 pyramid parkway'}"
      ]
     },
     "execution_count": 244,
     "metadata": {},
     "output_type": "execute_result"
    }
   ],
   "source": [
    "#friends = {i:friends.get(i) for i in friends.keys() if i != 'julius'}\n",
    "del friends['julius'] # this is faster, but the key must exist\n",
    "friends"
   ]
  },
  {
   "cell_type": "code",
   "execution_count": 245,
   "metadata": {
    "collapsed": false
   },
   "outputs": [
    {
     "name": "stdout",
     "output_type": "stream",
     "text": [
      "{'plebia': '786 via bunius', 'cleopatra': '000 pyramid parkway', 'cassius': '111 aqueduct lane', 'brutus': '234 via tratorium', 'plebius': '786 via bunius'}\n"
     ]
    }
   ],
   "source": [
    "# mega_dictionary = friends # caution! modifying mega_dictionary would also modify friends\n",
    "mega_dictionary = friends.copy()\n",
    "mega_dictionary.update(romans)\n",
    "mega_dictionary.update(countrymen)\n",
    "print(mega_dictionary)"
   ]
  },
  {
   "cell_type": "code",
   "execution_count": 246,
   "metadata": {
    "collapsed": false
   },
   "outputs": [
    {
     "name": "stdout",
     "output_type": "stream",
     "text": [
      "{'plebia': '786 via bunius', 'cleopatra': '000 pyramid parkway', 'cassius': '111 aqueduct lane', 'brutus': '234 via tratorium', 'plebius': '786 via bunius'}\n"
     ]
    }
   ],
   "source": [
    "# this is slower, but one line\n",
    "everyone = dict(friends.items()+romans.items()+countrymen.items())\n",
    "print(everyone)"
   ]
  },
  {
   "cell_type": "code",
   "execution_count": 247,
   "metadata": {
    "collapsed": false
   },
   "outputs": [
    {
     "name": "stdout",
     "output_type": "stream",
     "text": [
      "{'plebia': '786 via bunius', 'cleopatra': '000 pyramid parkway', 'cassius': '111 aqueduct lane', 'brutus': '234 via tratorium', 'plebius': '786 via bunius'}\n"
     ]
    }
   ],
   "source": [
    "all = {}\n",
    "[all.update(d) for d in (friends, romans, countrymen)] \n",
    "# slick, since this list isn't really anything! \n",
    "# looping to \"populate\" the list calls update\n",
    "print(all)"
   ]
  },
  {
   "cell_type": "code",
   "execution_count": 248,
   "metadata": {
    "collapsed": false
   },
   "outputs": [
    {
     "data": {
      "text/plain": [
       "('000 pyramid parkway', '000 pyramid parkway')"
      ]
     },
     "execution_count": 248,
     "metadata": {},
     "output_type": "execute_result"
    }
   ],
   "source": [
    "mega_dictionary.get('cleopatra'), mega_dictionary['cleopatra']"
   ]
  },
  {
   "cell_type": "code",
   "execution_count": 249,
   "metadata": {
    "collapsed": false
   },
   "outputs": [
    {
     "data": {
      "text/plain": [
       "{}"
      ]
     },
     "execution_count": 249,
     "metadata": {},
     "output_type": "execute_result"
    }
   ],
   "source": [
    "mega_dictionary.clear() # this is not the same as mega_dictionary = {}, since this creates a new dictionary\n",
    "mega_dictionary\n",
    "# using clear is better, because the object is preserved"
   ]
  },
  {
   "cell_type": "code",
   "execution_count": 2,
   "metadata": {
    "collapsed": true,
    "deletable": true,
    "editable": true
   },
   "outputs": [],
   "source": [
    "\"\"\"\n",
    "Filter Words\n",
    "------------\n",
    "\n",
    "Print out only words that start with \"o\", ignoring case::\n",
    "\n",
    "    lyrics = '''My Bonnie lies over the ocean.\n",
    "                My Bonnie lies over the sea.\n",
    "                My Bonnie lies over the ocean.\n",
    "                Oh bring back my Bonnie to me.\n",
    "                '''\n",
    "\n",
    "Bonus points: print out words only once.\n",
    "\n",
    "See :ref:`filter-words-solution`.\n",
    "\"\"\"\n",
    "\n",
    "lyrics = '''My Bonnie lies over the ocean.\n",
    "            My Bonnie lies over the sea.\n",
    "            My Bonnie lies over the ocean.\n",
    "            Oh bring back my Bonnie to me.\n",
    "         '''"
   ]
  },
  {
   "cell_type": "code",
   "execution_count": 258,
   "metadata": {
    "collapsed": false,
    "deletable": true,
    "editable": true
   },
   "outputs": [
    {
     "name": "stdout",
     "output_type": "stream",
     "text": [
      "['over', 'ocean', 'over', 'over', 'ocean', 'Oh']\n",
      "over, Oh, ocean\n"
     ]
    }
   ],
   "source": [
    "list_o_words = [i for i in lyrics.replace('.','').split() if i[0]=='o' or i[0]=='O']\n",
    "print(list_o_words)\n",
    "\n",
    "# without duplicates\n",
    "set_o_words = set(i for i in lyrics.replace('.','').split() if i[0]=='o' or i[0]=='O')\n",
    "print(', '.join(set_o_words))"
   ]
  },
  {
   "cell_type": "code",
   "execution_count": 252,
   "metadata": {
    "collapsed": true,
    "deletable": true,
    "editable": true
   },
   "outputs": [],
   "source": [
    "\"\"\"\n",
    "Inventory\n",
    "---------\n",
    "\n",
    "Calculate and report the current inventory in a warehouse.\n",
    "\n",
    "Assume the warehouse is initially empty.\n",
    "\n",
    "The string, warehouse_log, is a stream of deliveries to\n",
    "and shipments from a warehouse.  Each line represents\n",
    "a single transaction for a part with the number of\n",
    "parts delivered or shipped.  It has the form::\n",
    "\n",
    "    part_id count\n",
    "\n",
    "If \"count\" is positive, then it is a delivery to the\n",
    "warehouse. If it is negative, it is a shipment from\n",
    "the warehouse.\n",
    "\n",
    "See :ref:`inventory-solution`.\n",
    "\"\"\"\n",
    "\n",
    "warehouse_log = \"\"\" frombicator      10\n",
    "                    whitzlegidget    5\n",
    "                    splatzleblock    12\n",
    "                    frombicator      -3\n",
    "                    frombicator      20\n",
    "                    foozalator       40\n",
    "                    whitzlegidget    -4\n",
    "                    splatzleblock    -8\n",
    "                \"\"\""
   ]
  },
  {
   "cell_type": "code",
   "execution_count": 262,
   "metadata": {
    "collapsed": false,
    "deletable": true,
    "editable": true
   },
   "outputs": [
    {
     "data": {
      "text/plain": [
       "{'foozalator': 40, 'frombicator': 27, 'splatzleblock': 4, 'whitzlegidget': 1}"
      ]
     },
     "execution_count": 262,
     "metadata": {},
     "output_type": "execute_result"
    }
   ],
   "source": [
    "# try to do it in two loops\n",
    "inventory = {}\n",
    "for entry in zip(warehouse_log.split()[0::2],warehouse_log.split()[1::2]):\n",
    "  #inventory.update({entry[0]:int(entry[1]) + inventory.get(entry[0],0)})\n",
    "  inventory[entry[0]] = (inventory[entry[0]] if entry[0] in inventory else 0) + int(entry[1])\n",
    "# recall that the get function is slow; doing if part in inventory is faster\n",
    "inventory"
   ]
  },
  {
   "cell_type": "code",
   "execution_count": 263,
   "metadata": {
    "collapsed": false,
    "deletable": true,
    "editable": true
   },
   "outputs": [
    {
     "data": {
      "text/plain": [
       "{'foozalator': '40', 'frombicator': 27, 'splatzleblock': 4, 'whitzlegidget': 1}"
      ]
     },
     "execution_count": 263,
     "metadata": {},
     "output_type": "execute_result"
    }
   ],
   "source": [
    "# clearer way\n",
    "\n",
    "parsed_log = zip(warehouse_log.split()[0::2],warehouse_log.split()[1::2])\n",
    "inventory_alt = dict()\n",
    "for entry in parsed_log:\n",
    "  if {entry[0]}.issubset(inventory_alt):\n",
    "    updated_number = int(entry[1]) + int(inventory_alt.get(entry[0]))\n",
    "    inventory_alt.update({entry[0]:updated_number})\n",
    "  else:\n",
    "    inventory_alt.update({entry[0]:entry[1]})\n",
    "inventory_alt"
   ]
  },
  {
   "cell_type": "code",
   "execution_count": 7,
   "metadata": {
    "collapsed": false,
    "deletable": true,
    "editable": true
   },
   "outputs": [
    {
     "data": {
      "text/plain": [
       "\"\\nPerson Class\\n------------\\n\\n1. Write a class that represents a person with first and last name that\\ncan be initialized like so::\\n\\n    p = Person('eric', 'jones')\\n\\nWrite a method that returns the person's full name.\\n\\nWrite a __repr__ method that prints out an official representation\\nof the person that would produce an identical object if evaluated::\\n\\n    Person('eric', 'jones')\\n\\nBonus:\\n~~~~~~\\n2. Make the full name a property. Store first and last name as attributes.\\n\\nFun:\\n~~~~~~\\n3. Extend this class in such as way that the code about Homer in the slides\\non OOP works: for that create the methods eat, take_nap, speak.\\n\\nSee :ref:`person-class-solution`.\\n\""
      ]
     },
     "execution_count": 7,
     "metadata": {},
     "output_type": "execute_result"
    }
   ],
   "source": [
    "\"\"\"\n",
    "Person Class\n",
    "------------\n",
    "\n",
    "1. Write a class that represents a person with first and last name that\n",
    "can be initialized like so::\n",
    "\n",
    "    p = Person('eric', 'jones')\n",
    "\n",
    "Write a method that returns the person's full name.\n",
    "\n",
    "Write a __repr__ method that prints out an official representation\n",
    "of the person that would produce an identical object if evaluated::\n",
    "\n",
    "    Person('eric', 'jones')\n",
    "\n",
    "Bonus:\n",
    "~~~~~~\n",
    "2. Make the full name a property. Store first and last name as attributes.\n",
    "\n",
    "Fun:\n",
    "~~~~~~\n",
    "3. Extend this class in such as way that the code about Homer in the slides\n",
    "on OOP works: for that create the methods eat, take_nap, speak.\n",
    "\n",
    "See :ref:`person-class-solution`.\n",
    "\"\"\""
   ]
  },
  {
   "cell_type": "code",
   "execution_count": 8,
   "metadata": {
    "collapsed": true,
    "deletable": true,
    "editable": true
   },
   "outputs": [],
   "source": [
    "class Person(object):\n",
    "    \n",
    "    def __init__(self,firstName, lastName):\n",
    "      self.firstName = firstName\n",
    "      self.lastName = lastName\n",
    "      return\n",
    "\n",
    "    def __repr__(self):\n",
    "      return 'Person({fn},{ln})'.format(fn=self.firstName,ln=self.lastName)\n",
    "\n",
    "    def getFullName(self):\n",
    "      return 'This person\\'s full name is: {fn} {ln}'.format(fn=self.firstName, ln=self.lastName)\n",
    "    \n",
    "    pass"
   ]
  },
  {
   "cell_type": "code",
   "execution_count": 9,
   "metadata": {
    "collapsed": false,
    "deletable": true,
    "editable": true
   },
   "outputs": [
    {
     "data": {
      "text/plain": [
       "Person(Albert,Einstein)"
      ]
     },
     "execution_count": 9,
     "metadata": {},
     "output_type": "execute_result"
    }
   ],
   "source": [
    "p = Person('Albert','Einstein')\n",
    "p"
   ]
  },
  {
   "cell_type": "code",
   "execution_count": 10,
   "metadata": {
    "collapsed": false,
    "deletable": true,
    "editable": true
   },
   "outputs": [
    {
     "data": {
      "text/plain": [
       "\"This person's full name is: Albert Einstein\""
      ]
     },
     "execution_count": 10,
     "metadata": {},
     "output_type": "execute_result"
    }
   ],
   "source": [
    "p.getFullName()"
   ]
  },
  {
   "cell_type": "code",
   "execution_count": 264,
   "metadata": {
    "collapsed": false,
    "deletable": true,
    "editable": true
   },
   "outputs": [],
   "source": [
    "class PersonNew(object):\n",
    "    \n",
    "    def __init__(self, firstName, lastName):\n",
    "      self.__firstName = firstName\n",
    "      self.__lastName = lastName\n",
    "      return\n",
    "\n",
    "    def __repr__(self):\n",
    "      return 'Person({fn},{ln})'.format(fn=self.__firstName,ln=self._lastName)\n",
    "\n",
    "    def getFullName(self):\n",
    "      return 'This person\\'s full name is: {fn} {ln}'.format(fn=self._get_firstName(), ln=self._get_lastName())\n",
    "    \n",
    "    def _set_firstName(self,fn):\n",
    "      raise ValueError('You\\'re not supposed to set the first name again!')\n",
    "    \n",
    "    def _get_firstName(self):\n",
    "      return self.__firstName\n",
    "\n",
    "    def _set_lastName(self,ln):\n",
    "      self.__lastName = ln\n",
    "      print('You\\'ve changed this person\\'s last name!')\n",
    "    \n",
    "    def _get_lastName(self):\n",
    "      return self.__lastName\n",
    "\n",
    "    firstName = property(_get_firstName, _set_firstName)\n",
    "    \n",
    "    lastName = property(_get_lastName, _set_lastName)\n",
    "\n",
    "    pass # indicates the end of a class, just as return indicates the end of a function"
   ]
  },
  {
   "cell_type": "code",
   "execution_count": 265,
   "metadata": {
    "collapsed": false,
    "deletable": true,
    "editable": true
   },
   "outputs": [
    {
     "data": {
      "text/plain": [
       "(\"This person's full name is: Nikolai Tesla\", 'Nikolai', 'Tesla')"
      ]
     },
     "execution_count": 265,
     "metadata": {},
     "output_type": "execute_result"
    }
   ],
   "source": [
    "p_new = PersonNew('Nikolai','Tesla')\n",
    "p_new.getFullName(), p_new._get_firstName(), p_new._get_lastName()"
   ]
  },
  {
   "cell_type": "code",
   "execution_count": 266,
   "metadata": {
    "collapsed": false,
    "deletable": true,
    "editable": true
   },
   "outputs": [
    {
     "data": {
      "text/plain": [
       "{'_PersonNew__firstName': 'Nikolai', '_PersonNew__lastName': 'Tesla'}"
      ]
     },
     "execution_count": 266,
     "metadata": {},
     "output_type": "execute_result"
    }
   ],
   "source": [
    "p_new.__dict__"
   ]
  },
  {
   "cell_type": "code",
   "execution_count": 267,
   "metadata": {
    "collapsed": false
   },
   "outputs": [
    {
     "ename": "ValueError",
     "evalue": "You're not supposed to set the first name again!",
     "output_type": "error",
     "traceback": [
      "\u001b[1;31m\u001b[0m",
      "\u001b[1;31mValueError\u001b[0mTraceback (most recent call last)",
      "\u001b[1;32m<ipython-input-267-eb4147ea21b6>\u001b[0m in \u001b[0;36m<module>\u001b[1;34m()\u001b[0m\n\u001b[1;32m----> 1\u001b[1;33m \u001b[0mp_new\u001b[0m\u001b[1;33m.\u001b[0m\u001b[0mfirstName\u001b[0m \u001b[1;33m=\u001b[0m \u001b[1;34m'Hijacked?'\u001b[0m\u001b[1;33m\u001b[0m\u001b[0m\n\u001b[0m",
      "\u001b[1;32m<ipython-input-264-af4f558cb5d7>\u001b[0m in \u001b[0;36m_set_firstName\u001b[1;34m(self, fn)\u001b[0m\n\u001b[0;32m     13\u001b[0m \u001b[1;33m\u001b[0m\u001b[0m\n\u001b[0;32m     14\u001b[0m     \u001b[1;32mdef\u001b[0m \u001b[0m_set_firstName\u001b[0m\u001b[1;33m(\u001b[0m\u001b[0mself\u001b[0m\u001b[1;33m,\u001b[0m\u001b[0mfn\u001b[0m\u001b[1;33m)\u001b[0m\u001b[1;33m:\u001b[0m\u001b[1;33m\u001b[0m\u001b[0m\n\u001b[1;32m---> 15\u001b[1;33m       \u001b[1;32mraise\u001b[0m \u001b[0mValueError\u001b[0m\u001b[1;33m(\u001b[0m\u001b[1;34m'You\\'re not supposed to set the first name again!'\u001b[0m\u001b[1;33m)\u001b[0m\u001b[1;33m\u001b[0m\u001b[0m\n\u001b[0m\u001b[0;32m     16\u001b[0m \u001b[1;33m\u001b[0m\u001b[0m\n\u001b[0;32m     17\u001b[0m     \u001b[1;32mdef\u001b[0m \u001b[0m_get_firstName\u001b[0m\u001b[1;33m(\u001b[0m\u001b[0mself\u001b[0m\u001b[1;33m)\u001b[0m\u001b[1;33m:\u001b[0m\u001b[1;33m\u001b[0m\u001b[0m\n",
      "\u001b[1;31mValueError\u001b[0m: You're not supposed to set the first name again!"
     ]
    }
   ],
   "source": [
    "p_new.firstName = 'Hijacked?'"
   ]
  },
  {
   "cell_type": "code",
   "execution_count": 268,
   "metadata": {
    "collapsed": false
   },
   "outputs": [
    {
     "data": {
      "text/plain": [
       "'Hmmm'"
      ]
     },
     "execution_count": 268,
     "metadata": {},
     "output_type": "execute_result"
    }
   ],
   "source": [
    "p_new._PersonNew__firstName = 'Hmmm' \n",
    "p_new._get_firstName()"
   ]
  },
  {
   "cell_type": "code",
   "execution_count": 269,
   "metadata": {
    "collapsed": false
   },
   "outputs": [
    {
     "data": {
      "text/plain": [
       "\"This person's full name is: Hmmm Tesla\""
      ]
     },
     "execution_count": 269,
     "metadata": {},
     "output_type": "execute_result"
    }
   ],
   "source": [
    "p_new.getFullName()"
   ]
  },
  {
   "cell_type": "code",
   "execution_count": 270,
   "metadata": {
    "collapsed": false
   },
   "outputs": [
    {
     "data": {
      "text/plain": [
       "['_PersonNew__firstName',\n",
       " '_PersonNew__lastName',\n",
       " '__class__',\n",
       " '__delattr__',\n",
       " '__dict__',\n",
       " '__doc__',\n",
       " '__format__',\n",
       " '__getattribute__',\n",
       " '__hash__',\n",
       " '__init__',\n",
       " '__module__',\n",
       " '__new__',\n",
       " '__reduce__',\n",
       " '__reduce_ex__',\n",
       " '__repr__',\n",
       " '__setattr__',\n",
       " '__sizeof__',\n",
       " '__str__',\n",
       " '__subclasshook__',\n",
       " '__weakref__',\n",
       " '_get_firstName',\n",
       " '_get_lastName',\n",
       " '_set_firstName',\n",
       " '_set_lastName',\n",
       " 'firstName',\n",
       " 'getFullName',\n",
       " 'lastName']"
      ]
     },
     "execution_count": 270,
     "metadata": {},
     "output_type": "execute_result"
    }
   ],
   "source": [
    "dir(p_new)"
   ]
  },
  {
   "cell_type": "code",
   "execution_count": 271,
   "metadata": {
    "collapsed": false
   },
   "outputs": [
    {
     "name": "stdout",
     "output_type": "stream",
     "text": [
      "You've changed this person's last name!\n"
     ]
    }
   ],
   "source": [
    "p_new.lastName = 'busted!'"
   ]
  },
  {
   "cell_type": "code",
   "execution_count": 272,
   "metadata": {
    "collapsed": false
   },
   "outputs": [
    {
     "data": {
      "text/plain": [
       "\"This person's full name is: Hmmm busted!\""
      ]
     },
     "execution_count": 272,
     "metadata": {},
     "output_type": "execute_result"
    }
   ],
   "source": [
    "p_new.getFullName()"
   ]
  },
  {
   "cell_type": "code",
   "execution_count": null,
   "metadata": {
    "collapsed": true
   },
   "outputs": [],
   "source": []
  }
 ],
 "metadata": {
  "kernelspec": {
   "display_name": "Python 2",
   "language": "python",
   "name": "python2"
  },
  "language_info": {
   "codemirror_mode": {
    "name": "ipython",
    "version": 2
   },
   "file_extension": ".py",
   "mimetype": "text/x-python",
   "name": "python",
   "nbconvert_exporter": "python",
   "pygments_lexer": "ipython2",
   "version": "2.7.13"
  }
 },
 "nbformat": 4,
 "nbformat_minor": 2
}
